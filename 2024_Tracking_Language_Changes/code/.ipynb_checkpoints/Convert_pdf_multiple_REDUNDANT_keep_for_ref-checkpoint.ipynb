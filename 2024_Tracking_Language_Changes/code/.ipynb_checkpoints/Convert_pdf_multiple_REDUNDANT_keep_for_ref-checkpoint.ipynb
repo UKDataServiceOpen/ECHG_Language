{
 "cells": [
  {
   "cell_type": "markdown",
   "id": "positive-implementation",
   "metadata": {},
   "source": [
    "# Converting .pdf files to text files"
   ]
  },
  {
   "cell_type": "markdown",
   "id": "removed-description",
   "metadata": {},
   "source": [
    "## Install and import necessary things\n",
    "\n",
    "Start off by installing the PyPDF2 module (if you don't already have it installed) and importing that module so that it can be used in this notebook. "
   ]
  },
  {
   "cell_type": "code",
   "execution_count": 2,
   "id": "eligible-lounge",
   "metadata": {},
   "outputs": [
    {
     "name": "stdout",
     "output_type": "stream",
     "text": [
      "Requirement already satisfied: PyPDF2 in c:\\python39\\lib\\site-packages (2.3.1)\n",
      "Requirement already satisfied: typing-extensions in c:\\python39\\lib\\site-packages (from PyPDF2) (4.2.0)\n"
     ]
    },
    {
     "name": "stderr",
     "output_type": "stream",
     "text": [
      "WARNING: Ignoring invalid distribution -ip (c:\\python39\\lib\\site-packages)\n",
      "WARNING: Ignoring invalid distribution -ip (c:\\python39\\lib\\site-packages)\n",
      "WARNING: Ignoring invalid distribution -ip (c:\\python39\\lib\\site-packages)\n",
      "WARNING: Ignoring invalid distribution -ip (c:\\python39\\lib\\site-packages)\n",
      "WARNING: Ignoring invalid distribution -ip (c:\\python39\\lib\\site-packages)\n",
      "WARNING: Ignoring invalid distribution -ip (c:\\python39\\lib\\site-packages)\n"
     ]
    }
   ],
   "source": [
    "# installing necessary pdf conversion package via pip\n",
    "!pip install PyPDF2             "
   ]
  },
  {
   "cell_type": "code",
   "execution_count": 26,
   "id": "stupid-opera",
   "metadata": {},
   "outputs": [],
   "source": [
    "# importing required modules (first for displaying screenshots, second for converting pdfs)\n",
    "import os                         # os is a module for navigating your machine (e.g., file directories).\n",
    "from IPython.display import HTML, display\n",
    "import PyPDF2 \n",
    "import csv\n",
    "import datetime\n",
    "date = datetime.date.today()"
   ]
  },
  {
   "cell_type": "markdown",
   "id": "domestic-charity",
   "metadata": {},
   "source": [
    "## Create and/or check the input .pdf\n"
   ]
  },
  {
   "cell_type": "code",
   "execution_count": 3,
   "id": "figured-washer",
   "metadata": {},
   "outputs": [
    {
     "data": {
      "text/plain": [
       "'C:\\\\Users\\\\mzyssjkc\\\\GitWork\\\\Person_Identy_First_Language\\\\code'"
      ]
     },
     "execution_count": 3,
     "metadata": {},
     "output_type": "execute_result"
    }
   ],
   "source": [
    "  os.getcwd()   # This is how to see our Current Working Directory or \n",
    "                # where the computer will interpret as \"where we are now\"# Create a downloads folder\n",
    "\n"
   ]
  },
  {
   "cell_type": "code",
   "execution_count": 11,
   "id": "threatened-duplicate",
   "metadata": {},
   "outputs": [
    {
     "data": {
      "text/plain": [
       "['.git',\n",
       " '.ipynb_checkpoints',\n",
       " 'code',\n",
       " 'downloads',\n",
       " 'images',\n",
       " 'input_pdfs',\n",
       " 'LICENSE',\n",
       " 'output_texts',\n",
       " 'README.md']"
      ]
     },
     "execution_count": 11,
     "metadata": {},
     "output_type": "execute_result"
    }
   ],
   "source": [
    "os.listdir(\"..\") # This is how to the contents of the folder that is one \"up\" from where we are now"
   ]
  },
  {
   "cell_type": "code",
   "execution_count": 9,
   "id": "divine-residence",
   "metadata": {},
   "outputs": [
    {
     "data": {
      "text/plain": [
       "['ESHG', 'Test']"
      ]
     },
     "execution_count": 9,
     "metadata": {},
     "output_type": "execute_result"
    }
   ],
   "source": [
    "os.listdir(\"..\\input_pdfs\") # This is how to see the contents of any folders shown in the last contents check\n",
    "                            # For example, 'input_pdfs' which is likely to contain things we want to import"
   ]
  },
  {
   "cell_type": "code",
   "execution_count": 48,
   "id": "traditional-theater",
   "metadata": {},
   "outputs": [],
   "source": [
    "# Pick one of the folders from 'input_pdfs' and assign it as the directory for importing files\n",
    "\n",
    "input_Test = '..\\input_pdfs\\Test'    # This folder already exists and we know that from the previous steps\n",
    "input_ESHG = '..\\input_pdfs\\ESHG'    # This folder already exists and we know that from the previous steps"
   ]
  },
  {
   "cell_type": "code",
   "execution_count": 49,
   "id": "answering-switzerland",
   "metadata": {},
   "outputs": [
    {
     "data": {
      "text/plain": [
       "['ESHG', 'Test']"
      ]
     },
     "execution_count": 49,
     "metadata": {},
     "output_type": "execute_result"
    }
   ],
   "source": [
    "os.listdir(\"..\\output_texts\")        # We also check the 'output_texts' folder so we can put the final results somewhere"
   ]
  },
  {
   "cell_type": "markdown",
   "id": "characteristic-madonna",
   "metadata": {},
   "source": [
    "## Create and/or check the output folder and file "
   ]
  },
  {
   "cell_type": "code",
   "execution_count": 50,
   "id": "manufactured-compact",
   "metadata": {},
   "outputs": [
    {
     "name": "stdout",
     "output_type": "stream",
     "text": [
      "Unable to create folder: already exists\n"
     ]
    }
   ],
   "source": [
    "# Create a downloads folder if the previous step found that the one we need does not yet exist\n",
    "# Skip this step if the folder you want already existis\n",
    "try:\n",
    "    os.mkdir(\"../output_texts/ESHG\")\n",
    "except:\n",
    "    print(\"Unable to create folder: already exists\")  # an extra check to make sure we are working in the right place\n",
    "    \n",
    "# os.listdir(\"..\\output_texts\")                       # optional extra check "
   ]
  },
  {
   "cell_type": "code",
   "execution_count": 51,
   "id": "cardiac-economy",
   "metadata": {},
   "outputs": [],
   "source": [
    "# Create a .csv file in the desired output folder and give it a suitable header row\n",
    "\n",
    "header_row = [\"pdf_name\", \"page\", \"text\"]                      # define variable names to put in the header row of the file\n",
    "outfile_test = \"../output_texts/Test/\" + str(date) + \".csv\"    # define a file for writing the results, \n",
    "outfile_ESHG = \"../output_texts/ESHG/\" + str(date) + \".csv\"    # define a file for writing the results, \n",
    "                                                               # The 1st part goes to the output folder identified earlier\n",
    "                                                               # followed by date (as a string) and then the .csv ending\n",
    "        \n",
    "with open(outfile_test, \"w\", newline=\"\") as f:            # open the file in \"write\" mode (and give it a shorter name 'f')\n",
    "    writer = csv.writer(f)                                # define a 'writer' object that allows us to write to the file\n",
    "    writer.writerow(header_row)                           # write the previously defined header_row to the file\n",
    "\n",
    "with open(outfile_ESHG, \"w\", newline=\"\") as f:            # open the file in \"write\" mode (and give it a shorter name 'f')\n",
    "    writer = csv.writer(f)                                # define a 'writer' object that allows us to write to the file\n",
    "    writer.writerow(header_row)                           # write the previously defined header_row to the file\n"
   ]
  },
  {
   "cell_type": "markdown",
   "id": "essential-harvest",
   "metadata": {},
   "source": [
    "## Define the function that does the importing, converting, and writing"
   ]
  },
  {
   "cell_type": "code",
   "execution_count": 55,
   "id": "ignored-broad",
   "metadata": {},
   "outputs": [],
   "source": [
    "# define a function that imports .pdfs, applies the PyPDF2 module to them, identifies the pages in them, gets the text\n",
    "# from each page and then writes the relevant data (file name, page number, text) to the specified .csv file\n",
    "\n",
    "def convert_pdfs(input_directory, output_csv):     # takes pre-defined input and output directory arguments\n",
    "    counter = 0                                          # a counter starting at zero ensures unique file names\n",
    "    for filename in os.listdir(input_directory):         # create a for loop that looks at each file\n",
    "        shortname = os.path.splitext(filename)[0]        # strip off the '.pdf' portion of the file name\n",
    "        current_pdf = shortname + str(counter)                  # define the easy-read name (shortname plus unique number)\n",
    "        current_pdf_name = current_pdf                          # copy the name to a new variable so we can refer to it again\n",
    "        counter = counter + 1                            # add 1 to the counter so numbers don't repeat\n",
    "        current_pdf = open(input_directory + \"\\\\\" + filename ,'rb')   # Imports a .pdf object for each numbered input files. \n",
    "        current_pdf = PyPDF2.PdfFileReader(current_pdf)                # overwrite the output with a converted pdf reader file\n",
    "        number_of_pages = current_pdf.numPages                  # save the number of pages in this .pdf reader file\n",
    "        while number_of_pages > 0:\n",
    "            page_object = str(current_pdf_name) + str(number_of_pages)\n",
    "            number_of_pages -= 1\n",
    "            page_object = current_pdf.getPage(number_of_pages)\n",
    "            output_text = (page_object.extractText())\n",
    "            obs = current_pdf_name, number_of_pages + 1, output_text\n",
    "            with open(output_csv, \"a+\", newline=\"\") as f:           # with the file open in \"write\" mode & w/ a short name (f)\n",
    "                writer = csv.writer(f)                 # define a 'writer' object that allows us to export information to a CSV\n",
    "                writer.writerow(obs)                            # define an observation (row)\n",
    "\n",
    "\n",
    "                \n",
    "                # it is writing out the total number of pages but only the text from the first. Test seemed to work ok?"
   ]
  },
  {
   "cell_type": "markdown",
   "id": "perfect-string",
   "metadata": {},
   "source": [
    "## Run the defined function"
   ]
  },
  {
   "cell_type": "code",
   "execution_count": 56,
   "id": "piano-particle",
   "metadata": {},
   "outputs": [
    {
     "ename": "UnicodeEncodeError",
     "evalue": "'charmap' codec can't encode character '\\u02c7' in position 6033: character maps to <undefined>",
     "output_type": "error",
     "traceback": [
      "\u001b[1;31m---------------------------------------------------------------------------\u001b[0m",
      "\u001b[1;31mUnicodeEncodeError\u001b[0m                        Traceback (most recent call last)",
      "\u001b[1;32m<ipython-input-56-09017cee7cbb>\u001b[0m in \u001b[0;36m<module>\u001b[1;34m\u001b[0m\n\u001b[0;32m      2\u001b[0m \u001b[1;33m\u001b[0m\u001b[0m\n\u001b[0;32m      3\u001b[0m \u001b[1;31m# convert_pdfs(input_Test, outfile_test)\u001b[0m\u001b[1;33m\u001b[0m\u001b[1;33m\u001b[0m\u001b[1;33m\u001b[0m\u001b[0m\n\u001b[1;32m----> 4\u001b[1;33m \u001b[0mconvert_pdfs\u001b[0m\u001b[1;33m(\u001b[0m\u001b[0minput_ESHG\u001b[0m\u001b[1;33m,\u001b[0m \u001b[0moutfile_ESHG\u001b[0m\u001b[1;33m)\u001b[0m\u001b[1;33m\u001b[0m\u001b[1;33m\u001b[0m\u001b[0m\n\u001b[0m",
      "\u001b[1;32m<ipython-input-55-9ed6181e50d3>\u001b[0m in \u001b[0;36mconvert_pdfs\u001b[1;34m(input_directory, output_csv)\u001b[0m\n\u001b[0;32m     20\u001b[0m             \u001b[1;32mwith\u001b[0m \u001b[0mopen\u001b[0m\u001b[1;33m(\u001b[0m\u001b[0moutput_csv\u001b[0m\u001b[1;33m,\u001b[0m \u001b[1;34m\"a+\"\u001b[0m\u001b[1;33m,\u001b[0m \u001b[0mnewline\u001b[0m\u001b[1;33m=\u001b[0m\u001b[1;34m\"\"\u001b[0m\u001b[1;33m)\u001b[0m \u001b[1;32mas\u001b[0m \u001b[0mf\u001b[0m\u001b[1;33m:\u001b[0m           \u001b[1;31m# with the file open in \"write\" mode & w/ a short name (f)\u001b[0m\u001b[1;33m\u001b[0m\u001b[1;33m\u001b[0m\u001b[0m\n\u001b[0;32m     21\u001b[0m                 \u001b[0mwriter\u001b[0m \u001b[1;33m=\u001b[0m \u001b[0mcsv\u001b[0m\u001b[1;33m.\u001b[0m\u001b[0mwriter\u001b[0m\u001b[1;33m(\u001b[0m\u001b[0mf\u001b[0m\u001b[1;33m)\u001b[0m                 \u001b[1;31m# define a 'writer' object that allows us to export information to a CSV\u001b[0m\u001b[1;33m\u001b[0m\u001b[1;33m\u001b[0m\u001b[0m\n\u001b[1;32m---> 22\u001b[1;33m                 \u001b[0mwriter\u001b[0m\u001b[1;33m.\u001b[0m\u001b[0mwriterow\u001b[0m\u001b[1;33m(\u001b[0m\u001b[0mobs\u001b[0m\u001b[1;33m)\u001b[0m                            \u001b[1;31m# define an observation (row)\u001b[0m\u001b[1;33m\u001b[0m\u001b[1;33m\u001b[0m\u001b[0m\n\u001b[0m\u001b[0;32m     23\u001b[0m \u001b[1;33m\u001b[0m\u001b[0m\n",
      "\u001b[1;32mc:\\python39\\lib\\encodings\\cp1252.py\u001b[0m in \u001b[0;36mencode\u001b[1;34m(self, input, final)\u001b[0m\n\u001b[0;32m     17\u001b[0m \u001b[1;32mclass\u001b[0m \u001b[0mIncrementalEncoder\u001b[0m\u001b[1;33m(\u001b[0m\u001b[0mcodecs\u001b[0m\u001b[1;33m.\u001b[0m\u001b[0mIncrementalEncoder\u001b[0m\u001b[1;33m)\u001b[0m\u001b[1;33m:\u001b[0m\u001b[1;33m\u001b[0m\u001b[1;33m\u001b[0m\u001b[0m\n\u001b[0;32m     18\u001b[0m     \u001b[1;32mdef\u001b[0m \u001b[0mencode\u001b[0m\u001b[1;33m(\u001b[0m\u001b[0mself\u001b[0m\u001b[1;33m,\u001b[0m \u001b[0minput\u001b[0m\u001b[1;33m,\u001b[0m \u001b[0mfinal\u001b[0m\u001b[1;33m=\u001b[0m\u001b[1;32mFalse\u001b[0m\u001b[1;33m)\u001b[0m\u001b[1;33m:\u001b[0m\u001b[1;33m\u001b[0m\u001b[1;33m\u001b[0m\u001b[0m\n\u001b[1;32m---> 19\u001b[1;33m         \u001b[1;32mreturn\u001b[0m \u001b[0mcodecs\u001b[0m\u001b[1;33m.\u001b[0m\u001b[0mcharmap_encode\u001b[0m\u001b[1;33m(\u001b[0m\u001b[0minput\u001b[0m\u001b[1;33m,\u001b[0m\u001b[0mself\u001b[0m\u001b[1;33m.\u001b[0m\u001b[0merrors\u001b[0m\u001b[1;33m,\u001b[0m\u001b[0mencoding_table\u001b[0m\u001b[1;33m)\u001b[0m\u001b[1;33m[\u001b[0m\u001b[1;36m0\u001b[0m\u001b[1;33m]\u001b[0m\u001b[1;33m\u001b[0m\u001b[1;33m\u001b[0m\u001b[0m\n\u001b[0m\u001b[0;32m     20\u001b[0m \u001b[1;33m\u001b[0m\u001b[0m\n\u001b[0;32m     21\u001b[0m \u001b[1;32mclass\u001b[0m \u001b[0mIncrementalDecoder\u001b[0m\u001b[1;33m(\u001b[0m\u001b[0mcodecs\u001b[0m\u001b[1;33m.\u001b[0m\u001b[0mIncrementalDecoder\u001b[0m\u001b[1;33m)\u001b[0m\u001b[1;33m:\u001b[0m\u001b[1;33m\u001b[0m\u001b[1;33m\u001b[0m\u001b[0m\n",
      "\u001b[1;31mUnicodeEncodeError\u001b[0m: 'charmap' codec can't encode character '\\u02c7' in position 6033: character maps to <undefined>"
     ]
    }
   ],
   "source": [
    "# The previous cell defines the function. This one actually runs it on the pre-defined directory\n",
    "\n",
    "# convert_pdfs(input_Test, outfile_test)               \n",
    "convert_pdfs(input_ESHG, outfile_ESHG)               "
   ]
  }
 ],
 "metadata": {
  "kernelspec": {
   "display_name": "Python 3",
   "language": "python",
   "name": "python3"
  },
  "language_info": {
   "codemirror_mode": {
    "name": "ipython",
    "version": 3
   },
   "file_extension": ".py",
   "mimetype": "text/x-python",
   "name": "python",
   "nbconvert_exporter": "python",
   "pygments_lexer": "ipython3",
   "version": "3.9.5"
  },
  "toc": {
   "base_numbering": 1,
   "nav_menu": {},
   "number_sections": true,
   "sideBar": true,
   "skip_h1_title": false,
   "title_cell": "Table of Contents",
   "title_sidebar": "Contents",
   "toc_cell": false,
   "toc_position": {},
   "toc_section_display": true,
   "toc_window_display": false
  }
 },
 "nbformat": 4,
 "nbformat_minor": 5
}
