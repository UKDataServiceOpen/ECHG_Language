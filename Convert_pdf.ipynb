{
 "cells": [
  {
   "cell_type": "markdown",
   "id": "positive-implementation",
   "metadata": {},
   "source": [
    "# Converting .pdf files to text files"
   ]
  },
  {
   "cell_type": "markdown",
   "id": "removed-description",
   "metadata": {},
   "source": [
    "## Install and import necessary things\n",
    "\n",
    "Start off by installing the PyPDF2 module (if you don't already have it installed) and importing that module so that it can be used in this notebook. "
   ]
  },
  {
   "cell_type": "code",
   "execution_count": 2,
   "id": "eligible-lounge",
   "metadata": {},
   "outputs": [
    {
     "name": "stdout",
     "output_type": "stream",
     "text": [
      "Requirement already satisfied: PyPDF2 in c:\\python39\\lib\\site-packages (2.3.1)\n",
      "Requirement already satisfied: typing-extensions in c:\\python39\\lib\\site-packages (from PyPDF2) (4.2.0)\n"
     ]
    },
    {
     "name": "stderr",
     "output_type": "stream",
     "text": [
      "WARNING: Ignoring invalid distribution -ip (c:\\python39\\lib\\site-packages)\n",
      "WARNING: Ignoring invalid distribution -ip (c:\\python39\\lib\\site-packages)\n",
      "WARNING: Ignoring invalid distribution -ip (c:\\python39\\lib\\site-packages)\n",
      "WARNING: Ignoring invalid distribution -ip (c:\\python39\\lib\\site-packages)\n",
      "WARNING: Ignoring invalid distribution -ip (c:\\python39\\lib\\site-packages)\n",
      "WARNING: Ignoring invalid distribution -ip (c:\\python39\\lib\\site-packages)\n"
     ]
    }
   ],
   "source": [
    "# installing necessary pdf conversion package via pip\n",
    "!pip install PyPDF2             "
   ]
  },
  {
   "cell_type": "code",
   "execution_count": 37,
   "id": "stupid-opera",
   "metadata": {},
   "outputs": [],
   "source": [
    "# importing required modules (first for displaying screenshots, second for converting pdfs)\n",
    "from IPython.display import HTML, display\n",
    "import PyPDF2 "
   ]
  },
  {
   "cell_type": "markdown",
   "id": "domestic-charity",
   "metadata": {},
   "source": [
    "## Create and/or check the input .pdf\n",
    "\n",
    "I first created 2 test files in word and then printed each of them off to .pdf. I specifically put a few key features into these files to test how the text would be converted, such as a heading, multiple blank lines between text, an image with a caption, multiple pages, and two column text. \n",
    "\n",
    "I then saved these new .pdfs (and screenshots of both) into the same location as my .ipynb so that I can \n",
    "* 1 - paste in the images to show how the .pdfs looked to begin with (see next cell) and\n",
    "* 2 - import the .pdfs so that PyPDF2 can convert them (see cell after next). "
   ]
  },
  {
   "cell_type": "code",
   "execution_count": 39,
   "id": "arctic-latino",
   "metadata": {},
   "outputs": [
    {
     "data": {
      "text/html": [
       "<table><tr><td><img src='Input_pdf_image_1.png'></td><td><img src='Input_pdf_image_2.png'></td></tr></table>"
      ],
      "text/plain": [
       "<IPython.core.display.HTML object>"
      ]
     },
     "metadata": {},
     "output_type": "display_data"
    }
   ],
   "source": [
    "display(HTML(\"<table><tr><td><img src='Input_pdf_image_1.png'></td><td><img src='Input_pdf_image_2.png'></td></tr></table>\"))"
   ]
  },
  {
   "cell_type": "code",
   "execution_count": 49,
   "id": "recreational-technician",
   "metadata": {},
   "outputs": [],
   "source": [
    "# creating .pdf file objects from existing .pdfs in the same folder as this .ipynb code\n",
    "# this ipmorts the .pdfs and creates accessible objects for the PyPDF2 module to work with\n",
    "pdfFileObj_1 = open('input_pdf_1.pdf', 'rb') \n",
    "pdfFileObj_2 = open('input_pdf_2.pdf', 'rb') "
   ]
  },
  {
   "cell_type": "markdown",
   "id": "united-sierra",
   "metadata": {},
   "source": [
    "## Convert and check the .pdf objects\n",
    "\n",
    "The first step is to create a PyPDF2 oject from the imported .pdf. This allows you to do things like:\n",
    "* check how many pages are in the original .pdf, \n",
    "* convert some or all of those pages to page objects, and\n",
    "* then extract the text from those page ojbects (optionally saving the text for later analysis). \n",
    "\n",
    "Of course, good coding etiquette suggests you should always close any opened files when you are done with them. "
   ]
  },
  {
   "cell_type": "code",
   "execution_count": 50,
   "id": "ordered-yugoslavia",
   "metadata": {},
   "outputs": [],
   "source": [
    "# creating .pdf reader objects, which the module will use for the actual conversion work\n",
    "pdfReader_1 = PyPDF2.PdfFileReader(pdfFileObj_1) \n",
    "pdfReader_2 = PyPDF2.PdfFileReader(pdfFileObj_2) "
   ]
  },
  {
   "cell_type": "code",
   "execution_count": 51,
   "id": "cosmetic-quarterly",
   "metadata": {},
   "outputs": [
    {
     "name": "stdout",
     "output_type": "stream",
     "text": [
      "1\n",
      "2\n"
     ]
    }
   ],
   "source": [
    "# printing number of pages in each .pdf file \n",
    "print(pdfReader_1.numPages) \n",
    "print(pdfReader_2.numPages) "
   ]
  },
  {
   "cell_type": "markdown",
   "id": "comparative-metallic",
   "metadata": {},
   "source": [
    "So far so good. We have the .pdfs imported, converted to module specific objects, and the module has correctly identified the number of pages in each. But really, we need to know how well the module can recognise the text within those objects cause I deliberately made that text a bit tricky. "
   ]
  },
  {
   "cell_type": "markdown",
   "id": "talented-ranch",
   "metadata": {},
   "source": [
    "## Get individual pages, extract text, save it as strings, etc. \n",
    "\n",
    "Now, we get down to the real work. We want to  \n",
    "* convert some or all of those pages to page objects, and\n",
    "* then extract the text from those page ojbects, \n",
    "* (optionally) save that text as string objects for later analysis, and \n",
    "* tidy up (good coding etiquette suggests you should always close any opened files when you are done with them) . \n"
   ]
  },
  {
   "cell_type": "code",
   "execution_count": 56,
   "id": "global-discrimination",
   "metadata": {},
   "outputs": [],
   "source": [
    "# creating page objects for each page\n",
    "# something to note here - the pages start counting from 0 so you get page 1 of our first test .pdf\n",
    "#                          by asking getPage to getPage(0). \n",
    "#                          In turn, when we want to get both pages from the second test .pdf, we ask for \n",
    "#                          getPage(0) and also getPage(1)\n",
    "pageObj_1_1 = pdfReader_1.getPage(0) \n",
    "pageObj_2_1 = pdfReader_2.getPage(0)\n",
    "pageObj_2_2 = pdfReader_2.getPage(1) "
   ]
  },
  {
   "cell_type": "code",
   "execution_count": 55,
   "id": "announced-bolivia",
   "metadata": {},
   "outputs": [
    {
     "name": "stdout",
     "output_type": "stream",
     "text": [
      " Input .pdf for testing \n",
      "Test text.  \n",
      "One.  \n",
      "Two.  \n",
      "Three.  \n",
      "Figure 1 - A plane with caption to test caption conversion. \n",
      "\n"
     ]
    }
   ],
   "source": [
    "# extracting text from page to print on screen\n",
    "print(pageObj_1_1.extractText()) "
   ]
  },
  {
   "cell_type": "code",
   "execution_count": 57,
   "id": "vertical-hughes",
   "metadata": {},
   "outputs": [
    {
     "name": "stdout",
     "output_type": "stream",
     "text": [
      "\"Neque porro quisquam est qui dolorem ipsum quia dolor sit amet, consectetur, adipisci \n",
      "\n",
      "velit...\" \n",
      "\n",
      "\"There is no one who loves pain itself, who seeks after it and wants to have it, simply because it is \n",
      "\n",
      "pain...\" \n",
      "\n",
      "What is Lorem Ipsum? \n",
      "\n",
      "Lorem Ipsum is simply dummy text of the \n",
      "\n",
      "printing  and  typesetting  industry.  Lorem \n",
      "\n",
      "Ipsum  has  been  the  industry's  standard \n",
      "\n",
      "dummy text ever since the 1500s, when an \n",
      "\n",
      "unknown printer took a galley of type and \n",
      "\n",
      "scrambled  it  to  make  a  type  specimen \n",
      "\n",
      "book.  It  has  survived  not  only  five \n",
      "\n",
      "centuries, but also the leap into electronic \n",
      "\n",
      "typesetting,  remaining  essentially \n",
      "\n",
      "unchanged.  It  was  popularised  in  the \n",
      "\n",
      "1960s  with  the  release of  Letraset  sheets \n",
      "\n",
      "containing  Lorem  Ipsum  passages,  and \n",
      "\n",
      "more  recently  with  desktop  publishing \n",
      "\n",
      "software  like  Aldus  PageMaker  including \n",
      "\n",
      "versions of Lorem Ipsum. \n",
      "\n",
      "Why do we use it? \n",
      "\n",
      "It  is  a  long  established  fact  that  a  reader \n",
      "\n",
      "will be distracted by the readable content \n",
      "\n",
      "of  a  page  when  looking  at  its  layout.  The \n",
      "\n",
      "point of using Lorem Ipsum is that it has a \n",
      "\n",
      "more-or-less normal distribution of letters, \n",
      "\n",
      "as opposed to using 'Content here, content \n",
      "\n",
      "here', making it look like readable English. \n",
      "\n",
      "Many  desktop  publishing  packages  and \n",
      "\n",
      "web page editors now use Lorem Ipsum as \n",
      "\n",
      "their default model text, and a search for \n",
      "\n",
      "'lorem ipsum' will uncover many web sites \n",
      "\n",
      "still in their infancy. Various versions have \n",
      "\n",
      "evolved  over  the  years,  sometimes  by \n",
      "\n",
      "accident, sometimes on purpose (injected \n",
      "\n",
      "humour and the like). \n",
      " Where does it come from? \n",
      "\n",
      "Contrary to popular belief, Lorem Ipsum is \n",
      "\n",
      "not  simply  random  text.  It  has  roots  in  a \n",
      "\n",
      "piece  of  classical  Latin  literature  from  45 \n",
      "\n",
      "BC, making it over 2000 years old. Richard \n",
      "\n",
      "McClintock, a Latin professor at Hampden-\n",
      "\n",
      "Sydney College  in Virginia,  looked  up  one \n",
      "\n",
      "of  the  more  obscure  Latin  words, \n",
      "\n",
      "consectetur, from a Lorem Ipsum passage, \n",
      "\n",
      "and going through the cites of the word in \n",
      "\n",
      "classical  literature,  discovered  the \n",
      "\n",
      "undoubtable source. Lorem Ipsum comes \n",
      "\n",
      "from  sections  1.10.32  and  1.10.33  of  \"de \n",
      "\n",
      "Finibus  Bonorum  et  Malorum\"  (The \n",
      "\n",
      "Extremes  of  Good  and  Evil)  by  Cicero, \n",
      "\n",
      "written in 45 BC. This book is a treatise on \n",
      "\n",
      "the  theory  of  ethics,  very  popular  during \n",
      "\n",
      "the  Renaissance.  The  first  line  of  Lorem \n",
      "\n",
      "Ipsum,  \"Lorem  ipsum  dolor  sit  amet..\", \n",
      "\n",
      "comes from a line in section 1.10.32. \n",
      "\n",
      "The standard chunk of Lorem Ipsum used \n",
      "\n",
      "since  the  1500s  is  reproduced  below  for \n",
      "\n",
      "those  interested.  Sections  1.10.32  and \n",
      "\n",
      "1.10.33  from  \"de  Finibus  Bonorum  et \n",
      "\n",
      "Malorum\" by Cicero are also reproduced in \n",
      "\n",
      "their exact original form, accompanied by \n",
      "\n",
      "English versions from the 1914 translation \n",
      "\n",
      "by H. Rackham. \n",
      "\n",
      "Where can I get some? \n",
      "\n",
      "There are many variations of passages of \n",
      "\n",
      "Lorem  Ipsum  available,  but  the  majority \n",
      "\n",
      "have suffered alteration in some form, by \n",
      "\n",
      "injected  humour,  or  randomised  words \n"
     ]
    }
   ],
   "source": [
    "# extracting text from page to print on screen\n",
    "print(pageObj_2_1.extractText()) "
   ]
  },
  {
   "cell_type": "code",
   "execution_count": 58,
   "id": "bigger-wedding",
   "metadata": {},
   "outputs": [
    {
     "name": "stdout",
     "output_type": "stream",
     "text": [
      "which don't look even slightly believable. If \n",
      "\n",
      "you are going to use  a passage  of  Lorem \n",
      "\n",
      "Ipsum,  you  need  to  be  sure  there  isn't \n",
      "\n",
      "anything  embarrassing  hidden  in  the \n",
      "\n",
      "middle  of  text.  All  the  Lorem  Ipsum \n",
      "\n",
      "generators on the Internet tend to repeat \n",
      "\n",
      "predefined  chunks  as  necessary,  making \n",
      "\n",
      "this the first true generator on the Internet. \n",
      "\n",
      "It uses a dictionary of over 200 Latin words, \n",
      "\n",
      "combined  with  a  handful  of  model \n",
      "\n",
      "sentence  structures,  to  generate  Lorem \n",
      "\n",
      "Ipsum  which  looks  reasonable.  The \n",
      "\n",
      "generated  Lorem  Ipsum  is  therefore \n",
      "\n",
      "always  free  from  repetition,  injected \n",
      "\n",
      "humour, or non-characteristic words etc. \n"
     ]
    }
   ],
   "source": [
    "# extracting text from page to print on screen\n",
    "print(pageObj_2_2.extractText()) "
   ]
  },
  {
   "cell_type": "markdown",
   "id": "danish-terrorism",
   "metadata": {},
   "source": [
    "So, good news. This .pdf conversion module has successfully recognised that input_pdf_2 was structured in two columns and it has converted the text appropriately (ish) with the text flowing properly from the end of one line in a column to the start of the next line *in the same column* rather than reading on to the equivalent line in the next column. \n",
    "\n",
    "It might be better if the lines were not cut short to replicate the actual number of words in each column as they appear in the text, but that is a step for later on. \n"
   ]
  },
  {
   "cell_type": "code",
   "execution_count": 60,
   "id": "specific-twenty",
   "metadata": {},
   "outputs": [
    {
     "data": {
      "text/plain": [
       "str"
      ]
     },
     "execution_count": 60,
     "metadata": {},
     "output_type": "execute_result"
    }
   ],
   "source": [
    "# extracting text from page to save for later use, in this case as a string object\n",
    "test_file_1 = (pageObj_1_1.extractText()) \n",
    "type(test_file_1)"
   ]
  },
  {
   "cell_type": "code",
   "execution_count": 16,
   "id": "reflected-filing",
   "metadata": {},
   "outputs": [],
   "source": [
    "# closing the pdf file object \n",
    "pdfFileObj.close() "
   ]
  },
  {
   "cell_type": "markdown",
   "id": "offshore-medicine",
   "metadata": {},
   "source": [
    "## Next steps\n",
    "\n",
    "This is a great first start, but it is not the whole project. Prior to this step, we need to create one or more scripts to webscrape the necessarry .pdf files from the medical journals - e.g. from https://www.nature.com/ejhg/volumes/30\n",
    "\n",
    "We would also need to ensure the scraped .pdf files have a consistent naming structure and are stored in an accessible place. This could easily be built into the webscraping script, but an extra step to check is never a bad thing. \n",
    "\n",
    "Then, we would need to embed the steps from this .ipynb into a loop that \n",
    "* imports a .pdf from the designated folder, \n",
    "* converts it to a pdfReader opbject, \n",
    "* counts the pages in that object, \n",
    "* creates page objects from each page, \n",
    "* extracts the text from each page, \n",
    "* appends that text to a saved string object with an appropriate name based off the original file name, \n",
    "* closes the pdfReader object and other other relevant objects, and \n",
    "* proceeds to the next .pdf. \n",
    "\n",
    "After that, we would then proceed to the actual text-mining steps (cleaning the text, stemming or lemmatising it, extracting the relevant person-first and identify-first language and any contexts that seem relevant, etc. )\n",
    "\n"
   ]
  }
 ],
 "metadata": {
  "kernelspec": {
   "display_name": "Python 3",
   "language": "python",
   "name": "python3"
  },
  "language_info": {
   "codemirror_mode": {
    "name": "ipython",
    "version": 3
   },
   "file_extension": ".py",
   "mimetype": "text/x-python",
   "name": "python",
   "nbconvert_exporter": "python",
   "pygments_lexer": "ipython3",
   "version": "3.9.5"
  },
  "toc": {
   "base_numbering": 1,
   "nav_menu": {},
   "number_sections": true,
   "sideBar": true,
   "skip_h1_title": false,
   "title_cell": "Table of Contents",
   "title_sidebar": "Contents",
   "toc_cell": false,
   "toc_position": {},
   "toc_section_display": true,
   "toc_window_display": false
  }
 },
 "nbformat": 4,
 "nbformat_minor": 5
}
