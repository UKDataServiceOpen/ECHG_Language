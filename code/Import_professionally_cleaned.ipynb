{
 "cells": [
  {
   "cell_type": "code",
   "execution_count": 2,
   "id": "cb763cb1",
   "metadata": {},
   "outputs": [
    {
     "name": "stdout",
     "output_type": "stream",
     "text": [
      "Collecting nltk\n",
      "  Downloading nltk-3.8.1-py3-none-any.whl (1.5 MB)\n",
      "                                              0.0/1.5 MB ? eta -:--:--\n",
      "     -------                                  0.3/1.5 MB 5.7 MB/s eta 0:00:01\n",
      "     -----------------                        0.7/1.5 MB 6.9 MB/s eta 0:00:01\n",
      "     ---------------------------              1.0/1.5 MB 7.3 MB/s eta 0:00:01\n",
      "     -------------------------------------    1.4/1.5 MB 7.6 MB/s eta 0:00:01\n",
      "     ---------------------------------------- 1.5/1.5 MB 7.4 MB/s eta 0:00:00\n",
      "Requirement already satisfied: click in c:\\users\\mzyssjkc\\appdata\\local\\programs\\python\\python311\\lib\\site-packages (from nltk) (8.1.3)\n",
      "Requirement already satisfied: joblib in c:\\users\\mzyssjkc\\appdata\\local\\programs\\python\\python311\\lib\\site-packages (from nltk) (1.2.0)\n",
      "Requirement already satisfied: regex>=2021.8.3 in c:\\users\\mzyssjkc\\appdata\\local\\programs\\python\\python311\\lib\\site-packages (from nltk) (2023.5.5)\n",
      "Requirement already satisfied: tqdm in c:\\users\\mzyssjkc\\appdata\\local\\programs\\python\\python311\\lib\\site-packages (from nltk) (4.64.1)\n",
      "Requirement already satisfied: colorama in c:\\users\\mzyssjkc\\appdata\\local\\programs\\python\\python311\\lib\\site-packages (from click->nltk) (0.4.6)\n",
      "Installing collected packages: nltk\n",
      "Successfully installed nltk-3.8.1\n"
     ]
    }
   ],
   "source": [
    "!pip install nltk"
   ]
  },
  {
   "cell_type": "code",
   "execution_count": 4,
   "id": "7cca672f",
   "metadata": {},
   "outputs": [],
   "source": [
    "import os                         # os is a module for navigating your machine (e.g., file directories).\n",
    "import nltk                       # nltk stands for natural language tool kit and is useful for text-mining. \n",
    "from nltk import word_tokenize    # and some of its key functions\n",
    "from nltk import sent_tokenize    \n",
    "import numpy as np\n",
    "import pandas as pd\n",
    "import csv                        # csv is for importing and working with csv files\n",
    "import statistics\n",
    "import datetime\n",
    "date = datetime.date.today()\n",
    "\n",
    "import re                         # things we need for RegEx corrections"
   ]
  },
  {
   "cell_type": "code",
   "execution_count": 5,
   "id": "981a2230",
   "metadata": {},
   "outputs": [
    {
     "data": {
      "text/plain": [
       "['ESHG2001.txt',\n",
       " 'ESHG2001abstractICHG.txt',\n",
       " 'ESHG2002Abstracts.txt',\n",
       " 'ESHG2012Abstracts.txt',\n",
       " 'ESHG2013Abstracts.txt',\n",
       " 'ESHG2014Abstracts.txt',\n",
       " 'ESHG2015Abstracts.txt',\n",
       " 'ESHG2016Abstracts.txt']"
      ]
     },
     "execution_count": 5,
     "metadata": {},
     "output_type": "execute_result"
    }
   ],
   "source": [
    "os.listdir(\"..\\\\processed_dataset_text\")  "
   ]
  },
  {
   "cell_type": "code",
   "execution_count": null,
   "id": "f930ed3a",
   "metadata": {},
   "outputs": [],
   "source": [
    "def match_strings_in_text(input, output, list_of_strings):\n",
    "    list_of_results = []\n",
    "    # Open the file in read only mode\n",
    "    for filename in os.listdir(input):\n",
    "        name = filename.replace(r'.txt', \"\")\n",
    "        line_number = 0\n",
    "        with open(input + \"\\\\\" + filename, \"r\", encoding='ISO-8859-1') as read_obj:\n",
    "            for line in read_obj:\n",
    "                line_number += 1\n",
    "                # For each line, check if line contains any string from the list of strings\n",
    "                for string_to_search in list_of_strings:\n",
    "                    if string_to_search in line:\n",
    "                    # If any string is found in line, then append that line along with line number in list\n",
    "                        list_of_results.append((name, string_to_search, line_number, line.rstrip()))\n",
    "    no_dups_results = list(set(list_of_results))\n",
    "    with open(output + \"\\\\select.csv\", \"w\", encoding='ISO-8859-1') as outfile:\n",
    "        write = csv.writer(outfile)\n",
    "        write.writerows(no_dups_results)\n",
    "\n"
   ]
  },
  {
   "cell_type": "code",
   "execution_count": null,
   "id": "8856c521",
   "metadata": {},
   "outputs": [],
   "source": [
    " match_strings_in_text('..\\\\for_analysis\\\\ESHG', \"..\\\\counts\\\\ESHG\", ['autis', 'Autis', 'ASD', 'Asperger', 'asperger',])"
   ]
  }
 ],
 "metadata": {
  "kernelspec": {
   "display_name": "Python 3 (ipykernel)",
   "language": "python",
   "name": "python3"
  },
  "language_info": {
   "codemirror_mode": {
    "name": "ipython",
    "version": 3
   },
   "file_extension": ".py",
   "mimetype": "text/x-python",
   "name": "python",
   "nbconvert_exporter": "python",
   "pygments_lexer": "ipython3",
   "version": "3.11.1"
  }
 },
 "nbformat": 4,
 "nbformat_minor": 5
}
