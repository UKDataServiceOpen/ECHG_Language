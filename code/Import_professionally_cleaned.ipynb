{
 "cells": [
  {
   "cell_type": "markdown",
   "id": "d71e8f5f",
   "metadata": {},
   "source": [
    "# Get ready\n",
    "\n",
    "First, download, import, prep packages and such. \n",
    "\n",
    "Then, check the file location and import the .csv files. Remove any with empty text fields. \n",
    "\n",
    "Save a data frame with all the texts and another with only those texts that mention the keywords of interest. "
   ]
  },
  {
   "cell_type": "code",
   "execution_count": 3,
   "id": "26078126",
   "metadata": {},
   "outputs": [],
   "source": [
    "%%capture\n",
    "\n",
    "# installing necessary pdf conversion packages via pip\n",
    "# the '%%capture' at the top of this cell suppresses the output (which is normally quite long and annoying looking). \n",
    "# You can remove or comment it out if you prefer to see the output. \n",
    "!pip install nltk\n",
    "!pip install autocorrect        \n",
    "!pip install pyspellchecker \n",
    "!pip install spacy -q\n",
    "!python -m spacy download en_core_web_lg -q\n"
   ]
  },
  {
   "cell_type": "code",
   "execution_count": 4,
   "id": "271c801d",
   "metadata": {},
   "outputs": [
    {
     "name": "stderr",
     "output_type": "stream",
     "text": [
      "[nltk_data] Downloading package punkt to\n",
      "[nltk_data]     C:\\Users\\mzyssjkc\\AppData\\Roaming\\nltk_data...\n",
      "[nltk_data]   Package punkt is already up-to-date!\n",
      "[nltk_data] Downloading package stopwords to\n",
      "[nltk_data]     C:\\Users\\mzyssjkc\\AppData\\Roaming\\nltk_data...\n",
      "[nltk_data]   Package stopwords is already up-to-date!\n",
      "[nltk_data] Downloading package averaged_perceptron_tagger to\n",
      "[nltk_data]     C:\\Users\\mzyssjkc\\AppData\\Roaming\\nltk_data...\n",
      "[nltk_data]   Package averaged_perceptron_tagger is already up-to-\n",
      "[nltk_data]       date!\n",
      "[nltk_data] Downloading package stopwords to\n",
      "[nltk_data]     C:\\Users\\mzyssjkc\\AppData\\Roaming\\nltk_data...\n",
      "[nltk_data]   Package stopwords is already up-to-date!\n",
      "[nltk_data] Downloading package punkt to\n",
      "[nltk_data]     C:\\Users\\mzyssjkc\\AppData\\Roaming\\nltk_data...\n",
      "[nltk_data]   Package punkt is already up-to-date!\n",
      "[nltk_data] Downloading package wordnet to\n",
      "[nltk_data]     C:\\Users\\mzyssjkc\\AppData\\Roaming\\nltk_data...\n",
      "[nltk_data]   Package wordnet is already up-to-date!\n",
      "[nltk_data] Downloading package webtext to\n",
      "[nltk_data]     C:\\Users\\mzyssjkc\\AppData\\Roaming\\nltk_data...\n",
      "[nltk_data]   Package webtext is already up-to-date!\n"
     ]
    }
   ],
   "source": [
    "import os                         # os is a module for navigating your machine (e.g., file directories).\n",
    "\n",
    "import nltk                       # nltk stands for natural language tool kit and is useful for text-mining. \n",
    "from nltk import word_tokenize    # and some of its key functions\n",
    "from nltk import sent_tokenize  \n",
    "tokenizer = nltk.tokenize.punkt.PunktSentenceTokenizer()\n",
    "nltk.download('punkt')\n",
    "nltk.download('stopwords')\n",
    "from nltk.corpus import stopwords\n",
    "stop_words = set(stopwords.words('english'))\n",
    "from nltk.corpus import wordnet                    # Finally, things we need for lemmatising!\n",
    "from nltk.stem import WordNetLemmatizer\n",
    "lemmatizer = WordNetLemmatizer() \n",
    "from nltk.stem.porter import PorterStemmer\n",
    "porter = PorterStemmer()\n",
    "nltk.download('averaged_perceptron_tagger')        # Like a POS-tagger...\n",
    "nltk.download('stopwords')\n",
    "nltk.download('punkt')\n",
    "nltk.download('wordnet')\n",
    "nltk.download('webtext')\n",
    "from nltk.corpus import webtext\n",
    "\n",
    "import pandas as pd\n",
    "pd.set_option('display.max_colwidth', 200)\n",
    "import numpy as np\n",
    "import statistics\n",
    "import datetime\n",
    "date = datetime.date.today()\n",
    "\n",
    "from autocorrect import Speller   # things we need for spell checking\n",
    "check = Speller(lang='en')\n",
    "import codecs\n",
    "import csv                        # csv is for importing and working with csv files\n",
    "\n",
    "from collections import Counter\n",
    "\n",
    "import statistics\n",
    "import re                         # things we need for RegEx corrections\n",
    "import matplotlib.pyplot as plt\n",
    "import string \n",
    "import spacy \n",
    "from spacy.matcher import Matcher \n",
    "from spacy.tokens import Span \n",
    "from spacy import displacy \n",
    "nlp = spacy.load('en_core_web_lg')\n",
    "nlp.max_length = 1500000 #or any large value, as long as you don't run out of RAM\n",
    "\n",
    "import math \n",
    "\n",
    "English_punctuation = \"-!\\\"#$%&()'*-–+,./:;<=>?@[\\]^_`{|}~''“”\"      # Things for removing punctuation, stopwords and empty strings\n",
    "table_punctuation = str.maketrans('','', English_punctuation)"
   ]
  },
  {
   "cell_type": "code",
   "execution_count": 5,
   "id": "f5f4a961",
   "metadata": {},
   "outputs": [
    {
     "name": "stdout",
     "output_type": "stream",
     "text": [
      "['ESHG2001abstractICHG.csv', 'ESHG2002Abstracts.csv', 'ESHG2003Abstracts.csv', 'ESHG2005Abstracts.csv', 'ESHG2006Abstracts.csv', 'ESHG2007Abstracts.csv', 'ESHG2008Abstracts.csv', 'ESHG2009Abstracts.csv', 'ESHG2010Abstracts.csv', 'ESHG2011Abstracts.csv', 'ESHG2012Abstracts.csv', 'ESHG2013Abstracts.csv', 'ESHG2014Abstracts.csv', 'ESHG2015Abstracts.csv', 'ESHG2016Abstractscleaned.csv']\n"
     ]
    }
   ],
   "source": [
    "print(os.listdir(\"..\\\\results\")  )\n",
    "\n",
    "files = []\n",
    "def import_results(input):\n",
    "    for f in os.listdir(input):\n",
    "        f = pd.read_csv(input + '\\\\'+ f)\n",
    "        files.append(f)\n",
    "    output = pd.concat(files)\n",
    "    return output"
   ]
  },
  {
   "cell_type": "code",
   "execution_count": 6,
   "id": "75b74ce9",
   "metadata": {},
   "outputs": [
    {
     "name": "stderr",
     "output_type": "stream",
     "text": [
      "C:\\Users\\mzyssjkc\\AppData\\Local\\Temp\\ipykernel_10756\\2209600900.py:6: DtypeWarning: Columns (5,6,7,8,9,10,11,12,13,14,15,16,17,18,19,20,21,22,23,24,25,26,27,28,29,30,31,32,33,34,35,36,37,38,39,40,41,42,43,44,45,46,47,48,49,50,51,52,53,54,55,56,57,58,59,60,61,62,63,64,65,66,67,68,69,70,71,72,73,74,75,76,77,78,81,82,83,84,85,86,87,88,89,90,91,92,93,94,95,96,97,98,99,100,101,102,103,104,105,106,107,108,109,110,111,112,113,114,115,116,117,118,119,120,121,122,123,124,125,126,127,128,129,130,131,132,133,134,135,136,137,138,139,140,141,143,144,145,146,147,148,149,150,151,152,153,154,155,156,157,158,159,161,162,164,165,166,167,168,169,170,171,172,173,174,175,176,177,178,179,180,181,182,183,184,185,186,187,188,189,190,191,192,193,194,195,196,197,198,199,200,201,202,203,204,205,206,207,208,209,210,211,212,213,214,215,216,217,218,219,220,221,222,223,224,225,226,227,228,229,230,231,232,233,234,235,236,237,238,239,240,241,242,243,244,245,246,247,248,249,250,251,252,253,254,255,256,257,258,259,260,261,262,263,264,265,266,267,268,269,270,271,272,273,274,275,276,277,278,279,280,281,282,284,285,286,287,288,289,290,291,292,293,294,295,296,297,299,300,301,302,303,304,305,306,307,308,309,310,311,312,313,314,315,316,317,318,319,320,321,322,323,324,325,326,327,328,330,331,332,333,334,335,336,337,338,340,341,343,344,346,348,350,351,352,353,354,355,357,359,360,362,363,364,365,366,367,368,369,370,371,372,373,374,375,376,377,378,379,380,381,382,383,384,385,386,387,388,389,390,391,392,393,394,395,396,397,398,399,400,401,402,403,404,405,406,407,408,409,410,411,412,413,414,415,416,417,418,419,420,421,422,423,424,425,426,427,428,429,430,431,432,433,434,435,436,437,438,440,441,442,443,444,445,446,447,448,449,450,451,452,453,454,455,456,457,458,459,460,461,462,463,464,465,466,467,468,469,470,471,472,473,474,475,476,477,478,479,480,481,482,483,484,485,486,487,488,489,490,491,492,493,494,495,496,497,498,499,500,501,502,503,504,506,507,508,509,510,511,512,513,514,515,516,517,518,519,520,521,522,523,524,525,526,527,528,529,530,531,532,533,534,535,536,537,538,539,540,541,542,543,544,545,546,547,548,549,550,551,552,553,554,555,556,557,558,559,560,561,562,563,564,565,566,567,568,569,570,571,572,573,574,575,576,577,578,579,580,581,582,583,584,585,586,587,588,589,590,591,592,593,594,595,596,597,599,600,601,603,604,606,607,608,609,610,611,612,613,614,615,616,617,618,619,620,621,622,623,624,625,626,627,628,629,630,631,632,633,634,635,636,637,638,639,640,641,642,643,644,645,646,648,649,650,651,652,653,654,655,656,657,658,659,660,661,663,664,665,667,668,669,670,671,672,673,674,675,676,677,678,679,680,681,682,683,686,687,688,689,690,691,692,693,694,695,696,697,698,699,700,701,702,703,704,705,706,707,708,709,710,711,712,713,714,715,716,717,718,719,720,721,722,723,724,725,726,727,728,729,730,731,732,733,734,735,736,737,738,739,740,741,743,744,745,746,747,748,749,750,751,753,754,755,756,757,758,759,760,761,762,763,764,765,766,767,768,769,770,771,772,773,774,775,776,777,778,779,780,781,782,783,784,785,786,787,788,789,790,791,792,793,794,795,796,797,798,799,801,802,803,804,805,806,807,808,809,810,811,812,813,814,815,816,817,818,819,820,821,822,823,824,825,826,827,828,829,830,831,832,833,834,835,836,837,838,839,840,841,842,843,844,845,846,847,848,849,850,851,852,853,854,855,856,857,858,859,860,861,862,863) have mixed types. Specify dtype option on import or set low_memory=False.\n",
      "  f = pd.read_csv(input + '\\\\'+ f)\n"
     ]
    },
    {
     "data": {
      "text/plain": [
       "27415"
      ]
     },
     "execution_count": 6,
     "metadata": {},
     "output_type": "execute_result"
    }
   ],
   "source": [
    "all_results = import_results(\"..\\\\results\")\n",
    "len(all_results)"
   ]
  },
  {
   "cell_type": "code",
   "execution_count": 7,
   "id": "6c7a5f10",
   "metadata": {},
   "outputs": [
    {
     "data": {
      "text/plain": [
       "26801"
      ]
     },
     "execution_count": 7,
     "metadata": {},
     "output_type": "execute_result"
    }
   ],
   "source": [
    "no_null_texts = all_results[~all_results['Text'].isnull()]\n",
    "len(no_null_texts)"
   ]
  },
  {
   "cell_type": "code",
   "execution_count": 8,
   "id": "c0c8e304",
   "metadata": {},
   "outputs": [
    {
     "data": {
      "text/plain": [
       "679"
      ]
     },
     "execution_count": 8,
     "metadata": {},
     "output_type": "execute_result"
    }
   ],
   "source": [
    "matched_texts = no_null_texts[no_null_texts['Text'].str.contains('autis|Autis|ASD|Asperger|asperger')]\n",
    "len(matched_texts)"
   ]
  },
  {
   "cell_type": "markdown",
   "id": "d35a4c1c",
   "metadata": {},
   "source": [
    "# Count word frequencies \n",
    "## Bag of words\n",
    "\n",
    "Proceed through the 'bag of words' steps for the data frames with all texts and then again for the data frame with only the texts that mention the keywords of interest. This approach finds word frequencies for all years together. "
   ]
  },
  {
   "cell_type": "code",
   "execution_count": 9,
   "id": "a16684bc",
   "metadata": {},
   "outputs": [],
   "source": [
    "def bag_of_words_analysis(input, how_many):\n",
    "    holding_string = \"\"\n",
    "    for text in input['Text']:\n",
    "        holding_string += text\n",
    "    holding_string = word_tokenize(holding_string)\n",
    "    holding_string = [word.lower() for word in holding_string]\n",
    "    holding_string = [w.translate(table_punctuation) for w in holding_string]\n",
    "    holding_string = (list(filter(lambda x: x, holding_string)))\n",
    "    holding_string = [token for token in holding_string if not token.isdigit()]\n",
    "    holding_string = [token for token in holding_string if token not in stop_words]\n",
    "    holding_string = [porter.stem(token) for token in holding_string]\n",
    "    list_for_count = []\n",
    "    for token in holding_string:\n",
    "        list_for_count.append(token)\n",
    "    counts = Counter(list_for_count)\n",
    "    return counts.most_common(how_many)"
   ]
  },
  {
   "cell_type": "code",
   "execution_count": 10,
   "id": "c6d9cc62",
   "metadata": {},
   "outputs": [
    {
     "data": {
      "text/plain": [
       "[('gene', 53612),\n",
       " ('patient', 45521),\n",
       " ('mutat', 45154),\n",
       " ('genet', 27974),\n",
       " ('studi', 25725),\n",
       " ('use', 21653),\n",
       " ('case', 20490),\n",
       " ('associ', 19149),\n",
       " ('analysi', 19034),\n",
       " ('famili', 18899),\n",
       " ('result', 18485),\n",
       " ('chromosom', 18432),\n",
       " ('diseas', 17707)]"
      ]
     },
     "execution_count": 10,
     "metadata": {},
     "output_type": "execute_result"
    }
   ],
   "source": [
    "bag_of_words_analysis(no_null_texts, 13)"
   ]
  },
  {
   "cell_type": "code",
   "execution_count": 11,
   "id": "1e3f528e",
   "metadata": {},
   "outputs": [
    {
     "data": {
      "text/plain": [
       "[('patient', 1499),\n",
       " ('gene', 1318),\n",
       " ('delet', 876),\n",
       " ('autism', 820),\n",
       " ('syndrom', 788),\n",
       " ('mutat', 738),\n",
       " ('disord', 728),\n",
       " ('none', 696),\n",
       " ('chromosom', 673),\n",
       " ('case', 646),\n",
       " ('genet', 634),\n",
       " ('asd', 628),\n",
       " ('studi', 606)]"
      ]
     },
     "execution_count": 11,
     "metadata": {},
     "output_type": "execute_result"
    }
   ],
   "source": [
    "bag_of_words_analysis(matched_texts, 13)"
   ]
  },
  {
   "cell_type": "markdown",
   "id": "1292c709",
   "metadata": {},
   "source": [
    "## Word Frequency by year"
   ]
  },
  {
   "cell_type": "code",
   "execution_count": 12,
   "id": "f75b28a5",
   "metadata": {},
   "outputs": [],
   "source": [
    "\n",
    "def track_word_over_time(input, target_word):\n",
    "    years = input['Year'].drop_duplicates()\n",
    "    target_counts = []\n",
    "    for year in years:\n",
    "        year_bag = \"\"\n",
    "        for text in no_null_texts['Text'][no_null_texts['Year']==year]:\n",
    "            year_bag += text\n",
    "        year_bag = word_tokenize(year_bag)\n",
    "        year_bag = [word.lower() for word in year_bag]\n",
    "        year_bag = [w.translate(table_punctuation) for w in year_bag]\n",
    "        year_bag = (list(filter(lambda x: x, year_bag)))\n",
    "        year_bag = [token for token in year_bag if not token.isdigit()]\n",
    "        year_bag = [token for token in year_bag if token not in stop_words]\n",
    "        year_bag = [porter.stem(token) for token in year_bag]\n",
    "        list_for_count = []\n",
    "        for token in year_bag:\n",
    "            list_for_count.append(token)\n",
    "        counts = Counter(list_for_count)\n",
    "        target_counts.append(counts[target_word])\n",
    "        \n",
    "    target_word_by_year = pd.DataFrame(list(zip(years, target_counts)), columns = ['Year', str(target_word)])\n",
    "    return target_word_by_year\n"
   ]
  },
  {
   "cell_type": "code",
   "execution_count": 14,
   "id": "53f0f63c",
   "metadata": {},
   "outputs": [
    {
     "ename": "NameError",
     "evalue": "name 'target_word_by_year' is not defined",
     "output_type": "error",
     "traceback": [
      "\u001b[1;31m---------------------------------------------------------------------------\u001b[0m",
      "\u001b[1;31mNameError\u001b[0m                                 Traceback (most recent call last)",
      "Cell \u001b[1;32mIn[14], line 1\u001b[0m\n\u001b[1;32m----> 1\u001b[0m \u001b[43mtarget_word_by_year\u001b[49m\n",
      "\u001b[1;31mNameError\u001b[0m: name 'target_word_by_year' is not defined"
     ]
    }
   ],
   "source": [
    "target_word_by_year"
   ]
  },
  {
   "cell_type": "code",
   "execution_count": 16,
   "id": "b48d1194",
   "metadata": {},
   "outputs": [
    {
     "name": "stdout",
     "output_type": "stream",
     "text": [
      "                                                                                                           Year  \\\n",
      "0                                                                                                          2001   \n",
      "1                                                                                                          2002   \n",
      "2                                                                                                          2003   \n",
      "3                                                                                                          2005   \n",
      "4                                                                                                          2006   \n",
      "5                                                                                                          2007   \n",
      "6                                                                                                          2008   \n",
      "7                                                                                                          2009   \n",
      "8                                                                                                          2010   \n",
      "9                                                                                                          2011   \n",
      "10                                                                                                         2012   \n",
      "11                                                                                                         2013   \n",
      "12                                                                                                         2012   \n",
      "13                                                                                                          NaN   \n",
      "14   either than mentioning a positive family history (46%). From all pati   ents that tested positive for FAP    \n",
      "15                                                                                                         2015   \n",
      "16                                                                                                         2016   \n",
      "\n",
      "    gene  \n",
      "0   4182  \n",
      "1   2036  \n",
      "2   1781  \n",
      "3   2793  \n",
      "4   2589  \n",
      "5   2979  \n",
      "6   3672  \n",
      "7   3492  \n",
      "8   3480  \n",
      "9   4206  \n",
      "10  6687  \n",
      "11  5170  \n",
      "12  1871  \n",
      "13     0  \n",
      "14     0  \n",
      "15  4293  \n",
      "16  4372  \n",
      "                                                                                                           Year  \\\n",
      "0                                                                                                          2001   \n",
      "1                                                                                                          2002   \n",
      "2                                                                                                          2003   \n",
      "3                                                                                                          2005   \n",
      "4                                                                                                          2006   \n",
      "5                                                                                                          2007   \n",
      "6                                                                                                          2008   \n",
      "7                                                                                                          2009   \n",
      "8                                                                                                          2010   \n",
      "9                                                                                                          2011   \n",
      "10                                                                                                         2012   \n",
      "11                                                                                                         2013   \n",
      "12                                                                                                         2012   \n",
      "13                                                                                                          NaN   \n",
      "14   either than mentioning a positive family history (46%). From all pati   ents that tested positive for FAP    \n",
      "15                                                                                                         2015   \n",
      "16                                                                                                         2016   \n",
      "\n",
      "    patient  \n",
      "0      2817  \n",
      "1      1803  \n",
      "2      1610  \n",
      "3      2636  \n",
      "4      2524  \n",
      "5      2487  \n",
      "6      3296  \n",
      "7      3017  \n",
      "8      2812  \n",
      "9      3602  \n",
      "10     5892  \n",
      "11     4348  \n",
      "12     1657  \n",
      "13        0  \n",
      "14        0  \n",
      "15     3469  \n",
      "16     3535  \n",
      "                                                                                                           Year  \\\n",
      "0                                                                                                          2001   \n",
      "1                                                                                                          2002   \n",
      "2                                                                                                          2003   \n",
      "3                                                                                                          2005   \n",
      "4                                                                                                          2006   \n",
      "5                                                                                                          2007   \n",
      "6                                                                                                          2008   \n",
      "7                                                                                                          2009   \n",
      "8                                                                                                          2010   \n",
      "9                                                                                                          2011   \n",
      "10                                                                                                         2012   \n",
      "11                                                                                                         2013   \n",
      "12                                                                                                         2012   \n",
      "13                                                                                                          NaN   \n",
      "14   either than mentioning a positive family history (46%). From all pati   ents that tested positive for FAP    \n",
      "15                                                                                                         2015   \n",
      "16                                                                                                         2016   \n",
      "\n",
      "    mutat  \n",
      "0    3264  \n",
      "1    2127  \n",
      "2    1665  \n",
      "3    2753  \n",
      "4    2780  \n",
      "5    2441  \n",
      "6    3138  \n",
      "7    2767  \n",
      "8    2594  \n",
      "9    3452  \n",
      "10   5512  \n",
      "11   4377  \n",
      "12   1449  \n",
      "13      0  \n",
      "14      0  \n",
      "15   3420  \n",
      "16   3403  \n"
     ]
    }
   ],
   "source": [
    "target_word_list = ['gene', 'patient', 'mutat']\n",
    "\n",
    "for word in target_word_list:\n",
    "    word  = track_word_over_time(no_null_texts, word)\n",
    "    print(word)\n",
    "\n"
   ]
  },
  {
   "cell_type": "code",
   "execution_count": null,
   "id": "9256560e",
   "metadata": {},
   "outputs": [],
   "source": [
    "to_plot = [target_word.set_index('Year') for target_word in target_word_list]\n",
    "to_plot[0].join(to_proh[1:])\n",
    "\n",
    "\n",
    "#combine = gene.set_index('Year').join(cancer.set_index('Year'), how='left')\n",
    "to_plot.plot()\n"
   ]
  },
  {
   "cell_type": "code",
   "execution_count": null,
   "id": "e912a2a0",
   "metadata": {},
   "outputs": [],
   "source": [
    "gene = track_word_over_time(no_null_texts, 'gene')\n",
    "plt.plot(x=gene['Year'], y=gene['Count'], linestyle = 'dotted')\n",
    "plt.show()"
   ]
  }
 ],
 "metadata": {
  "kernelspec": {
   "display_name": "Python 3 (ipykernel)",
   "language": "python",
   "name": "python3"
  },
  "language_info": {
   "codemirror_mode": {
    "name": "ipython",
    "version": 3
   },
   "file_extension": ".py",
   "mimetype": "text/x-python",
   "name": "python",
   "nbconvert_exporter": "python",
   "pygments_lexer": "ipython3",
   "version": "3.11.1"
  }
 },
 "nbformat": 4,
 "nbformat_minor": 5
}
