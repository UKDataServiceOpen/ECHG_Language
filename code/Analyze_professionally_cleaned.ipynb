{
 "cells": [
  {
   "cell_type": "markdown",
   "id": "d71e8f5f",
   "metadata": {},
   "source": [
    "# Get ready\n",
    "\n",
    "First, download, import, prep packages and such. \n",
    "\n",
    "Then, check the file location and import the .csv files. Remove any with empty text fields. \n",
    "\n",
    "Save a data frame with all the texts and another with only those texts that mention the keywords of interest. "
   ]
  },
  {
   "cell_type": "code",
   "execution_count": 1,
   "id": "26078126",
   "metadata": {},
   "outputs": [],
   "source": [
    "%%capture\n",
    "\n",
    "# installing necessary pdf conversion packages via pip\n",
    "# the '%%capture' at the top of this cell suppresses the output (which is normally quite long and annoying looking). \n",
    "# You can remove or comment it out if you prefer to see the output. \n",
    "!pip install nltk\n",
    "!pip install autocorrect        \n",
    "!pip install pyspellchecker \n",
    "!pip install spacy -q\n",
    "!python -m spacy download en_core_web_lg -q\n"
   ]
  },
  {
   "cell_type": "code",
   "execution_count": 11,
   "id": "271c801d",
   "metadata": {},
   "outputs": [
    {
     "name": "stderr",
     "output_type": "stream",
     "text": [
      "[nltk_data] Downloading package punkt to\n",
      "[nltk_data]     C:\\Users\\mzyssjkc\\AppData\\Roaming\\nltk_data...\n",
      "[nltk_data]   Package punkt is already up-to-date!\n",
      "[nltk_data] Downloading package stopwords to\n",
      "[nltk_data]     C:\\Users\\mzyssjkc\\AppData\\Roaming\\nltk_data...\n",
      "[nltk_data]   Package stopwords is already up-to-date!\n",
      "[nltk_data] Downloading package averaged_perceptron_tagger to\n",
      "[nltk_data]     C:\\Users\\mzyssjkc\\AppData\\Roaming\\nltk_data...\n",
      "[nltk_data]   Package averaged_perceptron_tagger is already up-to-\n",
      "[nltk_data]       date!\n",
      "[nltk_data] Downloading package stopwords to\n",
      "[nltk_data]     C:\\Users\\mzyssjkc\\AppData\\Roaming\\nltk_data...\n",
      "[nltk_data]   Package stopwords is already up-to-date!\n",
      "[nltk_data] Downloading package punkt to\n",
      "[nltk_data]     C:\\Users\\mzyssjkc\\AppData\\Roaming\\nltk_data...\n",
      "[nltk_data]   Package punkt is already up-to-date!\n",
      "[nltk_data] Downloading package wordnet to\n",
      "[nltk_data]     C:\\Users\\mzyssjkc\\AppData\\Roaming\\nltk_data...\n",
      "[nltk_data]   Package wordnet is already up-to-date!\n",
      "[nltk_data] Downloading package webtext to\n",
      "[nltk_data]     C:\\Users\\mzyssjkc\\AppData\\Roaming\\nltk_data...\n",
      "[nltk_data]   Package webtext is already up-to-date!\n"
     ]
    }
   ],
   "source": [
    "import os                         # os is a module for navigating your machine (e.g., file directories).\n",
    "\n",
    "import nltk                       # nltk stands for natural language tool kit and is useful for text-mining. \n",
    "from nltk import word_tokenize    # and some of its key functions\n",
    "from nltk import sent_tokenize  \n",
    "tokenizer = nltk.tokenize.punkt.PunktSentenceTokenizer()\n",
    "from nltk.tokenize import sent_tokenize\n",
    "nltk.download('punkt')\n",
    "nltk.download('stopwords')\n",
    "from nltk.corpus import stopwords\n",
    "stop_words = set(stopwords.words('english'))\n",
    "from nltk.corpus import wordnet                    # Finally, things we need for lemmatising!\n",
    "from nltk.stem import WordNetLemmatizer\n",
    "lemmatizer = WordNetLemmatizer() \n",
    "from nltk.stem.porter import PorterStemmer\n",
    "porter = PorterStemmer()\n",
    "nltk.download('averaged_perceptron_tagger')        # Like a POS-tagger...\n",
    "nltk.download('stopwords')\n",
    "nltk.download('punkt')\n",
    "nltk.download('wordnet')\n",
    "nltk.download('webtext')\n",
    "from nltk.corpus import webtext\n",
    "\n",
    "import pandas as pd\n",
    "pd.set_option('display.max_colwidth', 200)\n",
    "import numpy as np\n",
    "import statistics\n",
    "import datetime\n",
    "date = datetime.date.today()\n",
    "\n",
    "from autocorrect import Speller   # things we need for spell checking\n",
    "check = Speller(lang='en')\n",
    "import codecs\n",
    "import csv                        # csv is for importing and working with csv files\n",
    "\n",
    "from collections import Counter\n",
    "\n",
    "import statistics\n",
    "import re                         # things we need for RegEx corrections\n",
    "import matplotlib.pyplot as plt\n",
    "import string \n",
    "import spacy \n",
    "from spacy.matcher import Matcher \n",
    "from spacy.tokens import Span \n",
    "from spacy import displacy \n",
    "nlp = spacy.load('en_core_web_lg')\n",
    "nlp.max_length = 1500000 #or any large value, as long as you don't run out of RAM\n",
    "\n",
    "import math \n",
    "\n",
    "English_punctuation = \"-!\\\"#$%&()'*-–+,./:;<=>?@[\\]^_`{|}~''“”\"      # Things for removing punctuation, stopwords and empty strings\n",
    "table_punctuation = str.maketrans('','', English_punctuation)"
   ]
  },
  {
   "cell_type": "code",
   "execution_count": 5,
   "id": "f5f4a961",
   "metadata": {},
   "outputs": [
    {
     "name": "stdout",
     "output_type": "stream",
     "text": [
      "['ESHG2001abstractICHG.csv', 'ESHG2002Abstracts.csv', 'ESHG2003Abstracts.csv', 'ESHG2005Abstracts.csv', 'ESHG2006Abstracts.csv', 'ESHG2007Abstracts.csv', 'ESHG2008Abstracts.csv', 'ESHG2009Abstracts.csv', 'ESHG2010Abstracts.csv', 'ESHG2011Abstracts.csv', 'ESHG2012Abstracts.csv', 'ESHG2013Abstracts.csv', 'ESHG2014Abstracts.csv', 'ESHG2015Abstracts.csv', 'ESHG2016Abstractscleaned.csv']\n"
     ]
    }
   ],
   "source": [
    "print(os.listdir(\"..\\\\results\")  )\n",
    "\n",
    "files = []\n",
    "def import_results(input):\n",
    "    for f in os.listdir(input):\n",
    "        f = pd.read_csv(input + '\\\\'+ f,encoding='latin1')\n",
    "        files.append(f)\n",
    "    output = pd.concat(files)\n",
    "    return output"
   ]
  },
  {
   "cell_type": "code",
   "execution_count": 6,
   "id": "75b74ce9",
   "metadata": {},
   "outputs": [
    {
     "data": {
      "text/plain": [
       "27413"
      ]
     },
     "execution_count": 6,
     "metadata": {},
     "output_type": "execute_result"
    }
   ],
   "source": [
    "all_results = import_results(\"..\\\\results\")\n",
    "len(all_results)"
   ]
  },
  {
   "cell_type": "code",
   "execution_count": 7,
   "id": "6c7a5f10",
   "metadata": {},
   "outputs": [
    {
     "data": {
      "text/plain": [
       "26799"
      ]
     },
     "execution_count": 7,
     "metadata": {},
     "output_type": "execute_result"
    }
   ],
   "source": [
    "no_null_texts = all_results[~all_results['Text'].isnull()]\n",
    "len(no_null_texts)"
   ]
  },
  {
   "cell_type": "code",
   "execution_count": 35,
   "id": "c0c8e304",
   "metadata": {},
   "outputs": [
    {
     "data": {
      "text/plain": [
       "679"
      ]
     },
     "execution_count": 35,
     "metadata": {},
     "output_type": "execute_result"
    }
   ],
   "source": [
    "matched_texts = no_null_texts[no_null_texts['Text'].str.contains('autis|Autis|ASD|Asperger|asperger')]\n",
    "len(matched_texts)"
   ]
  },
  {
   "cell_type": "markdown",
   "id": "f5d89f25",
   "metadata": {},
   "source": [
    "# Sent tokenisation"
   ]
  },
  {
   "cell_type": "code",
   "execution_count": 36,
   "id": "cd8f55c9",
   "metadata": {},
   "outputs": [
    {
     "name": "stderr",
     "output_type": "stream",
     "text": [
      "C:\\Users\\mzyssjkc\\AppData\\Local\\Temp\\ipykernel_1168\\3272111604.py:2: SettingWithCopyWarning: \n",
      "A value is trying to be set on a copy of a slice from a DataFrame.\n",
      "Try using .loc[row_indexer,col_indexer] = value instead\n",
      "\n",
      "See the caveats in the documentation: https://pandas.pydata.org/pandas-docs/stable/user_guide/indexing.html#returning-a-view-versus-a-copy\n",
      "  matched_texts['Sentence'] = sentences\n"
     ]
    },
    {
     "data": {
      "text/html": [
       "<div>\n",
       "<style scoped>\n",
       "    .dataframe tbody tr th:only-of-type {\n",
       "        vertical-align: middle;\n",
       "    }\n",
       "\n",
       "    .dataframe tbody tr th {\n",
       "        vertical-align: top;\n",
       "    }\n",
       "\n",
       "    .dataframe thead th {\n",
       "        text-align: right;\n",
       "    }\n",
       "</style>\n",
       "<table border=\"1\" class=\"dataframe\">\n",
       "  <thead>\n",
       "    <tr style=\"text-align: right;\">\n",
       "      <th></th>\n",
       "      <th>Title</th>\n",
       "      <th>Session_Code</th>\n",
       "      <th>Text</th>\n",
       "      <th>Email</th>\n",
       "      <th>Authors_and_Affiliations</th>\n",
       "      <th>Year</th>\n",
       "      <th>Author</th>\n",
       "      <th>Affiliations</th>\n",
       "      <th>Sentence</th>\n",
       "    </tr>\n",
       "  </thead>\n",
       "  <tbody>\n",
       "    <tr>\n",
       "      <th>59</th>\n",
       "      <td>Genetic defects in sterol metabolism</td>\n",
       "      <td>S60.</td>\n",
       "      <td>Genetic defects in sterol metabolizing enzymes have recently emerged asimportant causes of dysmorphogenetic syndromes. They affect enzymesrequired for the removal of methyl groups at C4(NSHDL)  th...</td>\n",
       "      <td>Fabian.Moebius@uibk.ac.at</td>\n",
       "      <td>F. MoebiusInstitute for Biochemical Pharmacology  University of Innsbruck  Innsbruck AustriaFabian.M</td>\n",
       "      <td>2001</td>\n",
       "      <td>NaN</td>\n",
       "      <td>NaN</td>\n",
       "      <td>[Genetic defects in sterol metabolizing enzymes have recently emerged asimportant causes of dysmorphogenetic syndromes., They affect enzymesrequired for the removal of methyl groups at C4(NSHDL)  ...</td>\n",
       "    </tr>\n",
       "    <tr>\n",
       "      <th>150</th>\n",
       "      <td>Location of the first predisposing gene locus for Asperger syndrome on chromosome 1q21 22</td>\n",
       "      <td>C102.</td>\n",
       "      <td>Asperger syndrome (AS) was first described in 1944 by a Viennese physi cian Hans Asperger who reported a group of boys with autistic psychopa thy  whose clinical features resembled autism with som...</td>\n",
       "      <td>irma.jarvela@hus.fi</td>\n",
       "      <td>E. Jarvela1  T. Ylisaukko oja2  T. Nieminen3  E. Kempas1  M. Auranen1  L. Peltonen1 1National Public Health Institute  Helsinki  Finland  2National Public Health Insitute  Helsinki  Finland  3Uni...</td>\n",
       "      <td>2001</td>\n",
       "      <td>NaN</td>\n",
       "      <td>NaN</td>\n",
       "      <td>[Asperger syndrome (AS) was first described in 1944 by a Viennese physi cian Hans Asperger who reported a group of boys with autistic psychopa thy  whose clinical features resembled autism with so...</td>\n",
       "    </tr>\n",
       "    <tr>\n",
       "      <th>334</th>\n",
       "      <td>De novo der(5) identified as an interstitial insertion of chromosome 3 material by COBRA multi colour FISH</td>\n",
       "      <td>P0220.</td>\n",
       "      <td>bonn.deA 5 year old boy presented with ASD II  bilateral cleft palate  strabism  bilat eral optic nerve coloboma  sensorineural hearing loss  bilateral inguinalherniae  micropenis  seizures and a...</td>\n",
       "      <td>hengels@meb.uni</td>\n",
       "      <td>Engels1  M. KreiÃÂ§ Nachtsheim1  A. Ehrbrecht1  S. Zahn1  R. Schubert1  G. Schwanitz1  C. Ergang1  M. van der Burg2  D. Hansmann3  A. K. Raap2  H. J. Tanke2  J. Wiegant2 1Institute of Human Gene...</td>\n",
       "      <td>2001</td>\n",
       "      <td>NaN</td>\n",
       "      <td>NaN</td>\n",
       "      <td>[ bonn.deA 5 year old boy presented with ASD II  bilateral cleft palate  strabism  bilat eral optic nerve coloboma  sensorineural hearing loss  bilateral inguinalherniae  micropenis  seizures and ...</td>\n",
       "    </tr>\n",
       "    <tr>\n",
       "      <th>378</th>\n",
       "      <td>Duplication (4)(q31.1qter) in a newborn with suspi  cious clinical diagnosis of Nijmegen breakage syndrome</td>\n",
       "      <td>P0267.</td>\n",
       "      <td>Nijmegen breakage syndrome (NBS) is a rare autosomal recessive condi tion characterised by progressive microcephaly  early retardation ofgrowth  chromosomal instability  hypersensitivity to ionisi...</td>\n",
       "      <td>iveta.cernakova@hotmail.com</td>\n",
       "      <td>Cernakova1  M. Kvasnicova2  Z. Lovasova2  N. Badova3  E. Seemano  va4  K. Spackova5 1Lab. experimental medicine  Olomouc  Czech Republic  2Dept. Clin. Genetics  Banska Bystrica  Slovakia  3Dept. ...</td>\n",
       "      <td>2001</td>\n",
       "      <td>NaN</td>\n",
       "      <td>NaN</td>\n",
       "      <td>[Nijmegen breakage syndrome (NBS) is a rare autosomal recessive condi tion characterised by progressive microcephaly  early retardation ofgrowth  chromosomal instability  hypersensitivity to ionis...</td>\n",
       "    </tr>\n",
       "    <tr>\n",
       "      <th>385</th>\n",
       "      <td>A case of pure partial trisomy of 5q34 qter associated with asthma  allergies and hyper IgE.</td>\n",
       "      <td>P0277.</td>\n",
       "      <td>Unbalanced chromosomal anomalies can lend information on the positionof genes and on the understanding of pathologic mechanisms of commondiseases. Thus  one locus for asthma and allergic disease ...</td>\n",
       "      <td>suzanne.demczuk@muhc.mcgill.ca</td>\n",
       "      <td>Demczuk1  B. Dion1  P. Lepage2  B. R. Hadad3  T. Hudson2  V. M. Der Kaloustian4 1Montreal Children s Hospital Research Institute  Montreal  PQ Canada  2Genome Center  Montreal General Hospital  M...</td>\n",
       "      <td>2001</td>\n",
       "      <td>NaN</td>\n",
       "      <td>NaN</td>\n",
       "      <td>[ Unbalanced chromosomal anomalies can lend information on the positionof genes and on the understanding of pathologic mechanisms of commondiseases., Thus  one locus for asthma and allergic diseas...</td>\n",
       "    </tr>\n",
       "  </tbody>\n",
       "</table>\n",
       "</div>"
      ],
      "text/plain": [
       "                                                                                                          Title  \\\n",
       "59                                                                         Genetic defects in sterol metabolism   \n",
       "150                  Location of the first predisposing gene locus for Asperger syndrome on chromosome 1q21 22    \n",
       "334  De novo der(5) identified as an interstitial insertion of chromosome 3 material by COBRA multi colour FISH   \n",
       "378  Duplication (4)(q31.1qter) in a newborn with suspi  cious clinical diagnosis of Nijmegen breakage syndrome   \n",
       "385                A case of pure partial trisomy of 5q34 qter associated with asthma  allergies and hyper IgE.   \n",
       "\n",
       "    Session_Code  \\\n",
       "59          S60.   \n",
       "150        C102.   \n",
       "334       P0220.   \n",
       "378       P0267.   \n",
       "385       P0277.   \n",
       "\n",
       "                                                                                                                                                                                                        Text  \\\n",
       "59   Genetic defects in sterol metabolizing enzymes have recently emerged asimportant causes of dysmorphogenetic syndromes. They affect enzymesrequired for the removal of methyl groups at C4(NSHDL)  th...   \n",
       "150  Asperger syndrome (AS) was first described in 1944 by a Viennese physi cian Hans Asperger who reported a group of boys with autistic psychopa thy  whose clinical features resembled autism with som...   \n",
       "334   bonn.deA 5 year old boy presented with ASD II  bilateral cleft palate  strabism  bilat eral optic nerve coloboma  sensorineural hearing loss  bilateral inguinalherniae  micropenis  seizures and a...   \n",
       "378  Nijmegen breakage syndrome (NBS) is a rare autosomal recessive condi tion characterised by progressive microcephaly  early retardation ofgrowth  chromosomal instability  hypersensitivity to ionisi...   \n",
       "385   Unbalanced chromosomal anomalies can lend information on the positionof genes and on the understanding of pathologic mechanisms of commondiseases. Thus  one locus for asthma and allergic disease ...   \n",
       "\n",
       "                              Email  \\\n",
       "59        Fabian.Moebius@uibk.ac.at   \n",
       "150             irma.jarvela@hus.fi   \n",
       "334                 hengels@meb.uni   \n",
       "378     iveta.cernakova@hotmail.com   \n",
       "385  suzanne.demczuk@muhc.mcgill.ca   \n",
       "\n",
       "                                                                                                                                                                                    Authors_and_Affiliations  \\\n",
       "59                                                                                                      F. MoebiusInstitute for Biochemical Pharmacology  University of Innsbruck  Innsbruck AustriaFabian.M   \n",
       "150   E. Jarvela1  T. Ylisaukko oja2  T. Nieminen3  E. Kempas1  M. Auranen1  L. Peltonen1 1National Public Health Institute  Helsinki  Finland  2National Public Health Insitute  Helsinki  Finland  3Uni...   \n",
       "334   Engels1  M. KreiÃÂ§ Nachtsheim1  A. Ehrbrecht1  S. Zahn1  R. Schubert1  G. Schwanitz1  C. Ergang1  M. van der Burg2  D. Hansmann3  A. K. Raap2  H. J. Tanke2  J. Wiegant2 1Institute of Human Gene...   \n",
       "378   Cernakova1  M. Kvasnicova2  Z. Lovasova2  N. Badova3  E. Seemano  va4  K. Spackova5 1Lab. experimental medicine  Olomouc  Czech Republic  2Dept. Clin. Genetics  Banska Bystrica  Slovakia  3Dept. ...   \n",
       "385   Demczuk1  B. Dion1  P. Lepage2  B. R. Hadad3  T. Hudson2  V. M. Der Kaloustian4 1Montreal Children s Hospital Research Institute  Montreal  PQ Canada  2Genome Center  Montreal General Hospital  M...   \n",
       "\n",
       "     Year Author Affiliations  \\\n",
       "59   2001    NaN          NaN   \n",
       "150  2001    NaN          NaN   \n",
       "334  2001    NaN          NaN   \n",
       "378  2001    NaN          NaN   \n",
       "385  2001    NaN          NaN   \n",
       "\n",
       "                                                                                                                                                                                                    Sentence  \n",
       "59   [Genetic defects in sterol metabolizing enzymes have recently emerged asimportant causes of dysmorphogenetic syndromes., They affect enzymesrequired for the removal of methyl groups at C4(NSHDL)  ...  \n",
       "150  [Asperger syndrome (AS) was first described in 1944 by a Viennese physi cian Hans Asperger who reported a group of boys with autistic psychopa thy  whose clinical features resembled autism with so...  \n",
       "334  [ bonn.deA 5 year old boy presented with ASD II  bilateral cleft palate  strabism  bilat eral optic nerve coloboma  sensorineural hearing loss  bilateral inguinalherniae  micropenis  seizures and ...  \n",
       "378  [Nijmegen breakage syndrome (NBS) is a rare autosomal recessive condi tion characterised by progressive microcephaly  early retardation ofgrowth  chromosomal instability  hypersensitivity to ionis...  \n",
       "385  [ Unbalanced chromosomal anomalies can lend information on the positionof genes and on the understanding of pathologic mechanisms of commondiseases., Thus  one locus for asthma and allergic diseas...  "
      ]
     },
     "execution_count": 36,
     "metadata": {},
     "output_type": "execute_result"
    }
   ],
   "source": [
    "sentences  = [sent_tokenize(abstract) for abstract in matched_texts['Text'] ]\n",
    "matched_texts['Sentence'] = sentences\n",
    "matched_texts.head()"
   ]
  },
  {
   "cell_type": "code",
   "execution_count": 39,
   "id": "ffe48a3c",
   "metadata": {},
   "outputs": [
    {
     "data": {
      "text/plain": [
       "<bound method NDFrame.head of                                                                                                             Title  \\\n",
       "59                                                                           Genetic defects in sterol metabolism   \n",
       "59                                                                           Genetic defects in sterol metabolism   \n",
       "59                                                                           Genetic defects in sterol metabolism   \n",
       "59                                                                           Genetic defects in sterol metabolism   \n",
       "59                                                                           Genetic defects in sterol metabolism   \n",
       "...                                                                                                           ...   \n",
       "1956   Gene expression patterns in relapsed B cell acute lymphoblastic leukemia and potential therapeutic targets   \n",
       "1956   Gene expression patterns in relapsed B cell acute lymphoblastic leukemia and potential therapeutic targets   \n",
       "1956   Gene expression patterns in relapsed B cell acute lymphoblastic leukemia and potential therapeutic targets   \n",
       "1956   Gene expression patterns in relapsed B cell acute lymphoblastic leukemia and potential therapeutic targets   \n",
       "1956   Gene expression patterns in relapsed B cell acute lymphoblastic leukemia and potential therapeutic targets   \n",
       "\n",
       "     Session_Code  \\\n",
       "59           S60.   \n",
       "59           S60.   \n",
       "59           S60.   \n",
       "59           S60.   \n",
       "59           S60.   \n",
       "...           ...   \n",
       "1956      P12.008   \n",
       "1956      P12.008   \n",
       "1956      P12.008   \n",
       "1956      P12.008   \n",
       "1956      P12.008   \n",
       "\n",
       "                                                                                                                                                                                                         Text  \\\n",
       "59    Genetic defects in sterol metabolizing enzymes have recently emerged asimportant causes of dysmorphogenetic syndromes. They affect enzymesrequired for the removal of methyl groups at C4(NSHDL)  th...   \n",
       "59    Genetic defects in sterol metabolizing enzymes have recently emerged asimportant causes of dysmorphogenetic syndromes. They affect enzymesrequired for the removal of methyl groups at C4(NSHDL)  th...   \n",
       "59    Genetic defects in sterol metabolizing enzymes have recently emerged asimportant causes of dysmorphogenetic syndromes. They affect enzymesrequired for the removal of methyl groups at C4(NSHDL)  th...   \n",
       "59    Genetic defects in sterol metabolizing enzymes have recently emerged asimportant causes of dysmorphogenetic syndromes. They affect enzymesrequired for the removal of methyl groups at C4(NSHDL)  th...   \n",
       "59    Genetic defects in sterol metabolizing enzymes have recently emerged asimportant causes of dysmorphogenetic syndromes. They affect enzymesrequired for the removal of methyl groups at C4(NSHDL)  th...   \n",
       "...                                                                                                                                                                                                       ...   \n",
       "1956  Introduction: Relapsed acute lymphoblastic leukemia (ALL) ranks as the fourth most common childhood malignancy. To identify targets for new therapies, a through understanding of the genetic lesion...   \n",
       "1956  Introduction: Relapsed acute lymphoblastic leukemia (ALL) ranks as the fourth most common childhood malignancy. To identify targets for new therapies, a through understanding of the genetic lesion...   \n",
       "1956  Introduction: Relapsed acute lymphoblastic leukemia (ALL) ranks as the fourth most common childhood malignancy. To identify targets for new therapies, a through understanding of the genetic lesion...   \n",
       "1956  Introduction: Relapsed acute lymphoblastic leukemia (ALL) ranks as the fourth most common childhood malignancy. To identify targets for new therapies, a through understanding of the genetic lesion...   \n",
       "1956  Introduction: Relapsed acute lymphoblastic leukemia (ALL) ranks as the fourth most common childhood malignancy. To identify targets for new therapies, a through understanding of the genetic lesion...   \n",
       "\n",
       "                          Email  \\\n",
       "59    Fabian.Moebius@uibk.ac.at   \n",
       "59    Fabian.Moebius@uibk.ac.at   \n",
       "59    Fabian.Moebius@uibk.ac.at   \n",
       "59    Fabian.Moebius@uibk.ac.at   \n",
       "59    Fabian.Moebius@uibk.ac.at   \n",
       "...                         ...   \n",
       "1956                        NaN   \n",
       "1956                        NaN   \n",
       "1956                        NaN   \n",
       "1956                        NaN   \n",
       "1956                        NaN   \n",
       "\n",
       "                                                                                   Authors_and_Affiliations  \\\n",
       "59     F. MoebiusInstitute for Biochemical Pharmacology  University of Innsbruck  Innsbruck AustriaFabian.M   \n",
       "59     F. MoebiusInstitute for Biochemical Pharmacology  University of Innsbruck  Innsbruck AustriaFabian.M   \n",
       "59     F. MoebiusInstitute for Biochemical Pharmacology  University of Innsbruck  Innsbruck AustriaFabian.M   \n",
       "59     F. MoebiusInstitute for Biochemical Pharmacology  University of Innsbruck  Innsbruck AustriaFabian.M   \n",
       "59     F. MoebiusInstitute for Biochemical Pharmacology  University of Innsbruck  Innsbruck AustriaFabian.M   \n",
       "...                                                                                                     ...   \n",
       "1956                                                                                                    NaN   \n",
       "1956                                                                                                    NaN   \n",
       "1956                                                                                                    NaN   \n",
       "1956                                                                                                    NaN   \n",
       "1956                                                                                                    NaN   \n",
       "\n",
       "      Year  \\\n",
       "59    2001   \n",
       "59    2001   \n",
       "59    2001   \n",
       "59    2001   \n",
       "59    2001   \n",
       "...    ...   \n",
       "1956  2016   \n",
       "1956  2016   \n",
       "1956  2016   \n",
       "1956  2016   \n",
       "1956  2016   \n",
       "\n",
       "                                                                                                                                            Author  \\\n",
       "59                                                                                                                                             NaN   \n",
       "59                                                                                                                                             NaN   \n",
       "59                                                                                                                                             NaN   \n",
       "59                                                                                                                                             NaN   \n",
       "59                                                                                                                                             NaN   \n",
       "...                                                                                                                                            ...   \n",
       "1956  Y. Erbilgin1, B. Islek2, S. Firtina2, O. Hatirnaz Ng1, A. Inal3, P . Dogan3, T . Celkan4, Z.  Karakas5, N. Sarper6, M. Sayitoglu1, U. Ozbek1   \n",
       "1956  Y. Erbilgin1, B. Islek2, S. Firtina2, O. Hatirnaz Ng1, A. Inal3, P . Dogan3, T . Celkan4, Z.  Karakas5, N. Sarper6, M. Sayitoglu1, U. Ozbek1   \n",
       "1956  Y. Erbilgin1, B. Islek2, S. Firtina2, O. Hatirnaz Ng1, A. Inal3, P . Dogan3, T . Celkan4, Z.  Karakas5, N. Sarper6, M. Sayitoglu1, U. Ozbek1   \n",
       "1956  Y. Erbilgin1, B. Islek2, S. Firtina2, O. Hatirnaz Ng1, A. Inal3, P . Dogan3, T . Celkan4, Z.  Karakas5, N. Sarper6, M. Sayitoglu1, U. Ozbek1   \n",
       "1956  Y. Erbilgin1, B. Islek2, S. Firtina2, O. Hatirnaz Ng1, A. Inal3, P . Dogan3, T . Celkan4, Z.  Karakas5, N. Sarper6, M. Sayitoglu1, U. Ozbek1   \n",
       "\n",
       "                                                                                                                                                                                                 Affiliations  \\\n",
       "59                                                                                                                                                                                                        NaN   \n",
       "59                                                                                                                                                                                                        NaN   \n",
       "59                                                                                                                                                                                                        NaN   \n",
       "59                                                                                                                                                                                                        NaN   \n",
       "59                                                                                                                                                                                                        NaN   \n",
       "...                                                                                                                                                                                                       ...   \n",
       "1956  1Department of Genetics, Institute for Experimental Medicine, Istanbul University,  Istanbul, Turkey, 2Department of Genetics,Institute for Experimental Medicine, Istanbul  University, Istanbul, T...   \n",
       "1956  1Department of Genetics, Institute for Experimental Medicine, Istanbul University,  Istanbul, Turkey, 2Department of Genetics,Institute for Experimental Medicine, Istanbul  University, Istanbul, T...   \n",
       "1956  1Department of Genetics, Institute for Experimental Medicine, Istanbul University,  Istanbul, Turkey, 2Department of Genetics,Institute for Experimental Medicine, Istanbul  University, Istanbul, T...   \n",
       "1956  1Department of Genetics, Institute for Experimental Medicine, Istanbul University,  Istanbul, Turkey, 2Department of Genetics,Institute for Experimental Medicine, Istanbul  University, Istanbul, T...   \n",
       "1956  1Department of Genetics, Institute for Experimental Medicine, Istanbul University,  Istanbul, Turkey, 2Department of Genetics,Institute for Experimental Medicine, Istanbul  University, Istanbul, T...   \n",
       "\n",
       "                                                                                                                                                                                                     Sentence  \n",
       "59                                                                                     Genetic defects in sterol metabolizing enzymes have recently emerged asimportant causes of dysmorphogenetic syndromes.  \n",
       "59                                            They affect enzymesrequired for the removal of methyl groups at C4(NSHDL)  the shift of the double bond from C8 9to C7 8(3ÃÂ§ sterol D 8 D7isomerase/EBP  E.C.  \n",
       "59                                                                                                                      5.3.3.5) and the removal of the double bond at C7 8(D7 sterol reduc  tase/DHCR7  E.C.  \n",
       "59                                                                                                                                                                                                 1.3.1.21).  \n",
       "59    Missense and nonsense mutations in NSHDL on Xq28 cause X chromosomal dominant CHILD syndrome (congenitalhemidysplasia with ichthyosiform erythroderma and limb defects MIM308050)  a rare inborn dis...  \n",
       "...                                                                                                                                                                                                       ...  \n",
       "1956                                                                        Many of these pathways have been implica   ted in tumorgenesis previously and are attractive targets for intervention strategies.  \n",
       "1956                                                                                                     After the validation process, aberrant PMAIP1 and RASD1 ex   pression had been linked with relapsed.  \n",
       "1956                                                                                                                 PMAIP1 is related with ERK Signa ling and apoptosis, RASD1 is related with MAPK targets.  \n",
       "1956  However, further studies are required to understand the impact of RASD1 and PMAIP1 genes in drug resistance in B cell ALL.The study was supported by The Scientific and Technological Research Counc...  \n",
       "1956                           BAP Project Number: 11021), Istanbul Deve lopment Agency (ISTKA TR10/15/YNK/0093).ABSTRACTS ELECTRONIC POSTERS ESHG 2016 | BARCELONA, SPAIN | WWW.ESHG.ORG  459Back to index E  \n",
       "\n",
       "[8349 rows x 9 columns]>"
      ]
     },
     "execution_count": 39,
     "metadata": {},
     "output_type": "execute_result"
    }
   ],
   "source": [
    "matched_texts = matched_texts.explode('Sentence')\n",
    "matched_texts.head"
   ]
  },
  {
   "cell_type": "code",
   "execution_count": 10,
   "id": "cc97fdee",
   "metadata": {},
   "outputs": [
    {
     "ename": "NameError",
     "evalue": "name 'isolated_sent' is not defined",
     "output_type": "error",
     "traceback": [
      "\u001b[1;31m---------------------------------------------------------------------------\u001b[0m",
      "\u001b[1;31mNameError\u001b[0m                                 Traceback (most recent call last)",
      "Cell \u001b[1;32mIn[10], line 1\u001b[0m\n\u001b[1;32m----> 1\u001b[0m matched_sents \u001b[38;5;241m=\u001b[39m \u001b[43misolated_sent\u001b[49m[\u001b[38;5;241m~\u001b[39misolated_sent[\u001b[38;5;124m'\u001b[39m\u001b[38;5;124mtokenized_sents\u001b[39m\u001b[38;5;124m'\u001b[39m]\u001b[38;5;241m.\u001b[39mstr\u001b[38;5;241m.\u001b[39mcontains(\u001b[38;5;124m'\u001b[39m\u001b[38;5;124mautis|Autis|ASD|Asperger|asperger\u001b[39m\u001b[38;5;124m'\u001b[39m)]\n\u001b[0;32m      2\u001b[0m \u001b[38;5;28mlen\u001b[39m(matched_sents)\n",
      "\u001b[1;31mNameError\u001b[0m: name 'isolated_sent' is not defined"
     ]
    }
   ],
   "source": [
    "matched_sents = isolated_sent[~isolated_sent['tokenized_sents'].str.contains('autis|Autis|ASD|Asperger|asperger')]\n",
    "len(matched_sents)"
   ]
  },
  {
   "cell_type": "code",
   "execution_count": null,
   "id": "87d072ec",
   "metadata": {},
   "outputs": [],
   "source": [
    "matched_sents"
   ]
  },
  {
   "cell_type": "code",
   "execution_count": null,
   "id": "918896cc",
   "metadata": {},
   "outputs": [],
   "source": [
    "search for word count - mutation - show frequency decreasing over time, increase in variant? gene change? \n",
    "\n",
    "disease also to decrease and condition or disorder to increase"
   ]
  },
  {
   "cell_type": "code",
   "execution_count": null,
   "id": "f4b3b45b",
   "metadata": {},
   "outputs": [],
   "source": [
    "#for saving output\n",
    "os.makedirs('folder/subfolder', exist_ok=True)  \n",
    "df.to_csv('folder/subfolder/out.csv') "
   ]
  },
  {
   "cell_type": "code",
   "execution_count": null,
   "id": "64d739a6",
   "metadata": {},
   "outputs": [],
   "source": [
    "\n",
    "\n"
   ]
  }
 ],
 "metadata": {
  "kernelspec": {
   "display_name": "Python 3 (ipykernel)",
   "language": "python",
   "name": "python3"
  },
  "language_info": {
   "codemirror_mode": {
    "name": "ipython",
    "version": 3
   },
   "file_extension": ".py",
   "mimetype": "text/x-python",
   "name": "python",
   "nbconvert_exporter": "python",
   "pygments_lexer": "ipython3",
   "version": "3.11.1"
  }
 },
 "nbformat": 4,
 "nbformat_minor": 5
}
