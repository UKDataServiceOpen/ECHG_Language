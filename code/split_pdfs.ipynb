{
 "cells": [
  {
   "cell_type": "markdown",
   "id": "proper-husband",
   "metadata": {},
   "source": [
    "# Get started"
   ]
  },
  {
   "cell_type": "markdown",
   "id": "fantastic-valley",
   "metadata": {},
   "source": [
    "This, and all the other jupyter notebooks in this repository, start with installing and/or importing all the packages needed to perform the actions. "
   ]
  },
  {
   "cell_type": "code",
   "execution_count": 2,
   "id": "nuclear-shell",
   "metadata": {},
   "outputs": [],
   "source": [
    "import os\n",
    "from PyPDF2 import PdfFileReader, PdfFileWriter"
   ]
  },
  {
   "cell_type": "markdown",
   "id": "monthly-wheat",
   "metadata": {},
   "source": [
    "# Define the function"
   ]
  },
  {
   "cell_type": "markdown",
   "id": "monetary-laser",
   "metadata": {},
   "source": [
    "First, define a function that takes a .pdf filename and two page numbers and returns a smaller .pdf that only contains the pages between the provided page numbers. \n",
    "\n",
    "This code is adapted slightly from the original here -> https://gist.github.com/khanfarhan10/464d44086327369953327a7320716100\n"
   ]
  },
  {
   "cell_type": "code",
   "execution_count": 2,
   "id": "suburban-physics",
   "metadata": {},
   "outputs": [],
   "source": [
    "def pdf_split(fname, start, end=None):\n",
    "    print('pdf_split', fname, start, end)\n",
    "\n",
    "    inputpdf = PdfFileReader(open(fname, \"rb\"))\n",
    "    output = PdfFileWriter()\n",
    "\n",
    "    # turn 1,4 to 0,3\n",
    "    num_pages = inputpdf.numPages\n",
    "    if start:\n",
    "        start-=1\n",
    "    if not start:\n",
    "        start=0\n",
    "    if not end or end > num_pages:\n",
    "        end=num_pages\n",
    "\n",
    "    get_pages = list(range(start,end))\n",
    "    #print('get_pages', get_pages, 'of', num_pages)\n",
    "    # get_pages [0, 1, 2, 3]\n",
    "\n",
    "    for i in range(start,end):\n",
    "        if i < start:\n",
    "            continue\n",
    "        #output = PdfFileWriter()\n",
    "        output.addPage(inputpdf.getPage(i))\n",
    "\n",
    "    fname_no_pdf = row[0]\n",
    "    if row[0][:-4].lower() == '.pdf':\n",
    "        fname_no_pdf = row[0][:-4]\n",
    "    out_filename = f\"{outfolder + fname_no_pdf}\"\n",
    "    with open(out_filename, \"wb\") as outputStream:\n",
    "        output.write(outputStream)\n",
    "    print('saved', out_filename)"
   ]
  },
  {
   "cell_type": "markdown",
   "id": "regular-aging",
   "metadata": {},
   "source": [
    "# Run the code"
   ]
  },
  {
   "cell_type": "markdown",
   "id": "african-rough",
   "metadata": {},
   "source": [
    "## Test run"
   ]
  },
  {
   "cell_type": "markdown",
   "id": "wicked-pursuit",
   "metadata": {},
   "source": [
    "First off, we check the contents of the test folder. \n",
    "\n",
    "Then, we create a list of lists that holds the arguments needed to run the function. The start and end numbers have no real significance, they are just numbers used to test. Importantly, they are within the bounds of the .pdf which requires you to know how many pages are in it. \n",
    "\n",
    "Finally, a little for-loop runs the function on each item in the defined list of list. "
   ]
  },
  {
   "cell_type": "code",
   "execution_count": 4,
   "id": "victorian-timing",
   "metadata": {},
   "outputs": [
    {
     "ename": "NameError",
     "evalue": "name 'os' is not defined",
     "output_type": "error",
     "traceback": [
      "\u001b[1;31m---------------------------------------------------------------------------\u001b[0m",
      "\u001b[1;31mNameError\u001b[0m                                 Traceback (most recent call last)",
      "\u001b[1;32m<ipython-input-4-af7023cfcf77>\u001b[0m in \u001b[0;36m<module>\u001b[1;34m\u001b[0m\n\u001b[1;32m----> 1\u001b[1;33m \u001b[0mos\u001b[0m\u001b[1;33m.\u001b[0m\u001b[0mlistdir\u001b[0m\u001b[1;33m(\u001b[0m\u001b[1;34m\"..\\\\raw_pdfs\\\\Test\"\u001b[0m\u001b[1;33m)\u001b[0m \u001b[1;31m# This is how to see the contents of any folders shown in the last contents check\u001b[0m\u001b[1;33m\u001b[0m\u001b[1;33m\u001b[0m\u001b[0m\n\u001b[0m\u001b[0;32m      2\u001b[0m                             \u001b[1;31m# For example, 'input_pdfs' which is likely to contain things we want to import\u001b[0m\u001b[1;33m\u001b[0m\u001b[1;33m\u001b[0m\u001b[1;33m\u001b[0m\u001b[0m\n",
      "\u001b[1;31mNameError\u001b[0m: name 'os' is not defined"
     ]
    }
   ],
   "source": [
    "os.listdir(\"..\\\\raw_pdfs\\\\Test\") # This is how to see the contents of any folders shown in the last contents check\n",
    "                            # For example, 'input_pdfs' which is likely to contain things we want to import"
   ]
  },
  {
   "cell_type": "code",
   "execution_count": 3,
   "id": "annual-power",
   "metadata": {},
   "outputs": [],
   "source": [
    "to_split_test = [[\"input_pdf_1.pdf\", 0, 0],\n",
    " [\"input_pdf_2.pdf\", 1, 0],\n",
    " [\"input_pdf_3.pdf\", 2, 5]]"
   ]
  },
  {
   "cell_type": "code",
   "execution_count": 6,
   "id": "polar-research",
   "metadata": {},
   "outputs": [
    {
     "name": "stdout",
     "output_type": "stream",
     "text": [
      "pdf_split ..\\raw_pdfs\\Test\\input_pdf_1.pdf 0 0\n",
      "saved ..\\input_pdfs\\Test\\input_pdf_1.pdf\n",
      "pdf_split ..\\raw_pdfs\\Test\\input_pdf_2.pdf 1 0\n",
      "saved ..\\input_pdfs\\Test\\input_pdf_2.pdf\n",
      "pdf_split ..\\raw_pdfs\\Test\\input_pdf_3.pdf 2 5\n",
      "saved ..\\input_pdfs\\Test\\input_pdf_3.pdf\n"
     ]
    }
   ],
   "source": [
    "for row in to_split_test:\n",
    "    folder = \"..\\\\raw_pdfs\\\\Test\\\\\"\n",
    "    outfolder =  \"..\\\\input_pdfs\\\\Test\\\\\"\n",
    "    fname = folder + row[0]\n",
    "    pdf_split(fname, row[1], row[2])"
   ]
  },
  {
   "cell_type": "markdown",
   "id": "transparent-backup",
   "metadata": {},
   "source": [
    "The output of the for-loop suggests it all went well, but you may want to inspect the files to double check every thing went as you intended. "
   ]
  },
  {
   "cell_type": "markdown",
   "id": "crude-alarm",
   "metadata": {},
   "source": [
    "## Run on files of interest"
   ]
  },
  {
   "cell_type": "markdown",
   "id": "convertible-immune",
   "metadata": {},
   "source": [
    "Assuming there were no major problems, the process is repeated for the files of interest:\n",
    "\n",
    "* check the contents of the relevant folder,\n",
    "* define a list of lists to hold the function arguments, and\n",
    "* run the for-loop to apply the function to the defined list of list. \n",
    "\n",
    "\n",
    "As before, defining the start and end numbers is a bit of a manual process. I had to open the files, identify the first page that I wanted to keep and the last page that I wanted to keep (paying special attention to the actual .pdf page number rather than the page numbers within the document). \n",
    "\n",
    "I also strongly recommend a lot of manual checking to be sure it came out correctly. I had to edit the list a couple of time and re-run the code to get everythi\n",
    "\n"
   ]
  },
  {
   "cell_type": "code",
   "execution_count": 5,
   "id": "traditional-ability",
   "metadata": {},
   "outputs": [
    {
     "ename": "NameError",
     "evalue": "name 'os' is not defined",
     "output_type": "error",
     "traceback": [
      "\u001b[1;31m---------------------------------------------------------------------------\u001b[0m",
      "\u001b[1;31mNameError\u001b[0m                                 Traceback (most recent call last)",
      "\u001b[1;32m<ipython-input-5-d1bf7814963c>\u001b[0m in \u001b[0;36m<module>\u001b[1;34m\u001b[0m\n\u001b[1;32m----> 1\u001b[1;33m \u001b[0mos\u001b[0m\u001b[1;33m.\u001b[0m\u001b[0mlistdir\u001b[0m\u001b[1;33m(\u001b[0m\u001b[1;34m\"..\\\\..\\\\PIFL\\\\raw_pdfs\\\\ESHG\"\u001b[0m\u001b[1;33m)\u001b[0m \u001b[1;31m# This is how to see the contents of any folders shown in the last contents check\u001b[0m\u001b[1;33m\u001b[0m\u001b[1;33m\u001b[0m\u001b[0m\n\u001b[0m\u001b[0;32m      2\u001b[0m                             \u001b[1;31m# For example, 'input_pdfs' which is likely to contain things we want to import\u001b[0m\u001b[1;33m\u001b[0m\u001b[1;33m\u001b[0m\u001b[1;33m\u001b[0m\u001b[0m\n",
      "\u001b[1;31mNameError\u001b[0m: name 'os' is not defined"
     ]
    }
   ],
   "source": [
    "os.listdir(\"..\\\\..\\\\PIFL\\\\raw_pdfs\\\\ESHG\") # This is how to see the contents of any folders shown in the last contents check\n",
    "                            # For example, 'input_pdfs' which is likely to contain things we want to import"
   ]
  },
  {
   "cell_type": "code",
   "execution_count": null,
   "id": "greenhouse-meeting",
   "metadata": {},
   "outputs": [],
   "source": []
  },
  {
   "cell_type": "code",
   "execution_count": 12,
   "id": "given-namibia",
   "metadata": {},
   "outputs": [
    {
     "data": {
      "text/plain": [
       "['ESHG2001abstractICHG.pdf',\n",
       " 'ESHG2002Abstracts.pdf',\n",
       " 'ESHG2003Abstracts.pdf',\n",
       " 'ESHG2004Abstracts.pdf',\n",
       " 'ESHG2005Abstracts.pdf',\n",
       " 'ESHG2006Abstracts.pdf',\n",
       " 'ESHG2007Abstracts.pdf',\n",
       " 'ESHG2008Abstracts.pdf',\n",
       " 'ESHG2009Abstracts.pdf',\n",
       " 'ESHG2010Abstracts.pdf',\n",
       " 'ESHG2011Abstracts.pdf',\n",
       " 'ESHG2012Abstracts.pdf',\n",
       " 'ESHG2013Abstracts.pdf',\n",
       " 'ESHG2014Abstracts.pdf',\n",
       " 'ESHG2015Abstracts.pdf',\n",
       " 'ESHG2016Abstracts.pdf',\n",
       " 'ESHG2017 electronic posters.pdf',\n",
       " 'ESHG2017 oral presentations.pdf',\n",
       " 'ESHG2017 posters.pdf',\n",
       " 'ESHG2018 electronic posters.pdf',\n",
       " 'ESHG2018 EMPAG.pdf',\n",
       " 'ESHG2018 oral presentation.pdf',\n",
       " 'ESHG2018 posters.pdf',\n",
       " 'ESHG2019 oral presentation.pdf',\n",
       " 'ESHG2019 posters.pdf',\n",
       " 'ESHG2019 posters2.pdf',\n",
       " 'ESHG2020 eposters.pdf',\n",
       " 'ESHG2020 interactive eposter.pdf',\n",
       " 'ESHG2020 oral presentation.pdf',\n",
       " 'ESHG2021 eposters.pdf',\n",
       " 'ESHG2021 oral presentations.pdf']"
      ]
     },
     "execution_count": 12,
     "metadata": {},
     "output_type": "execute_result"
    }
   ],
   "source": [
    "os.listdir(\"..\\\\..\\\\PIFL\\\\raw_pdfs\\\\ESHG\") # This is how to see the contents of any folders shown in the last contents check\n",
    "                            # For example, 'input_pdfs' which is likely to contain things we want to import"
   ]
  },
  {
   "cell_type": "code",
   "execution_count": 13,
   "id": "curious-slovenia",
   "metadata": {},
   "outputs": [],
   "source": [
    "to_split = [[\"ESHG2001abstractICHG.pdf\", 64, 434],\n",
    " [\"ESHG2002Abstracts.pdf\", 54, 327],\n",
    " [\"ESHG2003Abstracts.pdf\", 44, 261],\n",
    " [\"ESHG2004Abstracts.pdf\", 58, 373],\n",
    " [\"ESHG2005Abstracts.pdf\", 55, 388],\n",
    " [\"ESHG2006Abstracts.pdf\", 74, 410],\n",
    " [\"ESHG2007Abstracts.pdf\", 5, 351],\n",
    " [\"ESHG2008Abstracts.pdf\", 5, 469],\n",
    " [\"ESHG2009Abstracts.pdf\", 6, 401],\n",
    " [\"ESHG2010Abstracts.pdf\", 6, 400],\n",
    " [\"ESHG2011Abstracts.pdf\", 5, 484],\n",
    " [\"ESHG2012Abstracts.pdf\", 6, 438],\n",
    " [\"ESHG2013Abstracts.pdf\", 6, 611],\n",
    " [\"ESHG2014Abstracts.pdf\", 6, 518],\n",
    " [\"ESHG2015Abstracts.pdf\", 6, 485],\n",
    " [\"ESHG2016Abstracts.pdf\", 6, 506]]"
   ]
  },
  {
   "cell_type": "code",
   "execution_count": 18,
   "id": "reasonable-seating",
   "metadata": {},
   "outputs": [
    {
     "name": "stdout",
     "output_type": "stream",
     "text": [
      "pdf_split ..\\raw_pdfs\\ESHG\\ESHG2001abstractICHG.pdf 64 434\n",
      "saved ..\\input_pdfs\\ESHG\\ESHG2001abstractICHG.pdf\n",
      "pdf_split ..\\raw_pdfs\\ESHG\\ESHG2002Abstracts.pdf 54 327\n",
      "saved ..\\input_pdfs\\ESHG\\ESHG2002Abstracts.pdf\n",
      "pdf_split ..\\raw_pdfs\\ESHG\\ESHG2003Abstracts.pdf 44 261\n"
     ]
    },
    {
     "name": "stderr",
     "output_type": "stream",
     "text": [
      "c:\\python39\\lib\\site-packages\\PyPDF2\\_reader.py:1317: PdfReadWarning: Xref table not zero-indexed. ID numbers for objects will be corrected.\n",
      "  warnings.warn(\n"
     ]
    },
    {
     "name": "stdout",
     "output_type": "stream",
     "text": [
      "saved ..\\input_pdfs\\ESHG\\ESHG2003Abstracts.pdf\n",
      "pdf_split ..\\raw_pdfs\\ESHG\\ESHG2004Abstracts.pdf 58 373\n",
      "saved ..\\input_pdfs\\ESHG\\ESHG2004Abstracts.pdf\n",
      "pdf_split ..\\raw_pdfs\\ESHG\\ESHG2005Abstracts.pdf 55 388\n",
      "saved ..\\input_pdfs\\ESHG\\ESHG2005Abstracts.pdf\n",
      "pdf_split ..\\raw_pdfs\\ESHG\\ESHG2006Abstracts.pdf 74 410\n",
      "saved ..\\input_pdfs\\ESHG\\ESHG2006Abstracts.pdf\n",
      "pdf_split ..\\raw_pdfs\\ESHG\\ESHG2007Abstracts.pdf 5 351\n",
      "saved ..\\input_pdfs\\ESHG\\ESHG2007Abstracts.pdf\n",
      "pdf_split ..\\raw_pdfs\\ESHG\\ESHG2008Abstracts.pdf 5 469\n",
      "saved ..\\input_pdfs\\ESHG\\ESHG2008Abstracts.pdf\n",
      "pdf_split ..\\raw_pdfs\\ESHG\\ESHG2009Abstracts.pdf 6 401\n",
      "saved ..\\input_pdfs\\ESHG\\ESHG2009Abstracts.pdf\n",
      "pdf_split ..\\raw_pdfs\\ESHG\\ESHG2010Abstracts.pdf 6 400\n",
      "saved ..\\input_pdfs\\ESHG\\ESHG2010Abstracts.pdf\n",
      "pdf_split ..\\raw_pdfs\\ESHG\\ESHG2011Abstracts.pdf 5 484\n",
      "saved ..\\input_pdfs\\ESHG\\ESHG2011Abstracts.pdf\n",
      "pdf_split ..\\raw_pdfs\\ESHG\\ESHG2012Abstracts.pdf 6 438\n",
      "saved ..\\input_pdfs\\ESHG\\ESHG2012Abstracts.pdf\n",
      "pdf_split ..\\raw_pdfs\\ESHG\\ESHG2013Abstracts.pdf 6 611\n",
      "saved ..\\input_pdfs\\ESHG\\ESHG2013Abstracts.pdf\n",
      "pdf_split ..\\raw_pdfs\\ESHG\\ESHG2014Abstracts.pdf 6 518\n",
      "saved ..\\input_pdfs\\ESHG\\ESHG2014Abstracts.pdf\n",
      "pdf_split ..\\raw_pdfs\\ESHG\\ESHG2015Abstracts.pdf 6 485\n",
      "saved ..\\input_pdfs\\ESHG\\ESHG2015Abstracts.pdf\n",
      "pdf_split ..\\raw_pdfs\\ESHG\\ESHG2016Abstracts.pdf 6 506\n",
      "saved ..\\input_pdfs\\ESHG\\ESHG2016Abstracts.pdf\n"
     ]
    }
   ],
   "source": [
    "for row in to_split:\n",
    "    folder = \"..\\\\raw_pdfs\\\\ESHG\\\\\"\n",
    "    outfolder =  \"..\\\\input_pdfs\\\\ESHG\\\\\"\n",
    "    fname = folder + row[0]\n",
    "    pdf_split(fname, row[1], row[2])"
   ]
  }
 ],
 "metadata": {
  "kernelspec": {
   "display_name": "Python 3",
   "language": "python",
   "name": "python3"
  },
  "language_info": {
   "codemirror_mode": {
    "name": "ipython",
    "version": 3
   },
   "file_extension": ".py",
   "mimetype": "text/x-python",
   "name": "python",
   "nbconvert_exporter": "python",
   "pygments_lexer": "ipython3",
   "version": "3.9.5"
  },
  "toc": {
   "base_numbering": 1,
   "nav_menu": {},
   "number_sections": true,
   "sideBar": true,
   "skip_h1_title": false,
   "title_cell": "Table of Contents",
   "title_sidebar": "Contents",
   "toc_cell": false,
   "toc_position": {},
   "toc_section_display": true,
   "toc_window_display": false
  }
 },
 "nbformat": 4,
 "nbformat_minor": 5
}
