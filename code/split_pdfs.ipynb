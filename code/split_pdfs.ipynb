{
 "cells": [
  {
   "cell_type": "markdown",
   "id": "operating-paste",
   "metadata": {},
   "source": [
    "# Get started"
   ]
  },
  {
   "cell_type": "code",
   "execution_count": 4,
   "id": "dominant-classroom",
   "metadata": {},
   "outputs": [],
   "source": [
    "import os\n",
    "from PyPDF2 import PdfFileReader, PdfFileWriter"
   ]
  },
  {
   "cell_type": "markdown",
   "id": "adjacent-employer",
   "metadata": {},
   "source": [
    "# Start with the Test folder"
   ]
  },
  {
   "cell_type": "code",
   "execution_count": 6,
   "id": "disabled-crime",
   "metadata": {},
   "outputs": [
    {
     "data": {
      "text/plain": [
       "['input_pdf_1.pdf', 'input_pdf_2.pdf', 'input_pdf_3.pdf']"
      ]
     },
     "execution_count": 6,
     "metadata": {},
     "output_type": "execute_result"
    }
   ],
   "source": [
    "os.listdir(\"..\\\\raw_pdfs\\\\Test\") # This is how to see the contents of any folders shown in the last contents check\n",
    "                            # For example, 'input_pdfs' which is likely to contain things we want to import"
   ]
  },
  {
   "cell_type": "code",
   "execution_count": 14,
   "id": "official-voluntary",
   "metadata": {},
   "outputs": [],
   "source": [
    "to_split_test = [[\"input_pdf_1.pdf\", 0, 0],\n",
    " [\"input_pdf_2.pdf\", 1, 0],\n",
    " [\"input_pdf_3.pdf\", 2, 5]]"
   ]
  },
  {
   "cell_type": "code",
   "execution_count": 15,
   "id": "creative-parameter",
   "metadata": {},
   "outputs": [
    {
     "name": "stdout",
     "output_type": "stream",
     "text": [
      "['input_pdf_1.pdf', 0, 0]\n",
      "input_pdf_1.pdf\n",
      "0\n",
      "0\n"
     ]
    }
   ],
   "source": [
    "print(to_split_test[0])\n",
    "print(to_split_test[0][0])\n",
    "print(to_split_test[0][1])\n",
    "print(to_split_test[0][2])"
   ]
  },
  {
   "cell_type": "code",
   "execution_count": 38,
   "id": "ready-killer",
   "metadata": {},
   "outputs": [],
   "source": [
    "def pdf_split(fname, start, end=None):\n",
    "    print('pdf_split', fname, start, end)\n",
    "\n",
    "    inputpdf = PdfFileReader(open(fname, \"rb\"))\n",
    "    output = PdfFileWriter()\n",
    "\n",
    "    # turn 1,4 to 0,3\n",
    "    num_pages = inputpdf.numPages\n",
    "    if start:\n",
    "        start-=1\n",
    "    if not start:\n",
    "        start=0\n",
    "    if not end or end > num_pages:\n",
    "        end=num_pages\n",
    "\n",
    "    get_pages = list(range(start,end))\n",
    "    #print('get_pages', get_pages, 'of', num_pages)\n",
    "    # get_pages [0, 1, 2, 3]\n",
    "\n",
    "    for i in range(start,end):\n",
    "        if i < start:\n",
    "            continue\n",
    "        #output = PdfFileWriter()\n",
    "        output.addPage(inputpdf.getPage(i))\n",
    "\n",
    "    fname_no_pdf = row[0]\n",
    "    if row[0][:-4].lower() == '.pdf':\n",
    "        fname_no_pdf = row[0][:-4]\n",
    "    out_filename = f\"{outfolder + fname_no_pdf}\"\n",
    "    with open(out_filename, \"wb\") as outputStream:\n",
    "        output.write(outputStream)\n",
    "    print('saved', out_filename)"
   ]
  },
  {
   "cell_type": "code",
   "execution_count": 39,
   "id": "solid-walker",
   "metadata": {},
   "outputs": [
    {
     "name": "stdout",
     "output_type": "stream",
     "text": [
      "pdf_split ..\\raw_pdfs\\Test\\input_pdf_1.pdf 0 0\n",
      "saved ..\\input_pdfs\\Test\\input_pdf_1.pdf\n",
      "pdf_split ..\\raw_pdfs\\Test\\input_pdf_2.pdf 1 0\n",
      "saved ..\\input_pdfs\\Test\\input_pdf_2.pdf\n",
      "pdf_split ..\\raw_pdfs\\Test\\input_pdf_3.pdf 2 5\n",
      "saved ..\\input_pdfs\\Test\\input_pdf_3.pdf\n"
     ]
    }
   ],
   "source": [
    "for row in to_split_test:\n",
    "    folder = \"..\\\\raw_pdfs\\\\Test\\\\\"\n",
    "    outfolder =  \"..\\\\input_pdfs\\\\Test\\\\\"\n",
    "    fname = folder + row[0]\n",
    "    pdf_split(fname, row[1], row[2])"
   ]
  },
  {
   "cell_type": "markdown",
   "id": "signal-rover",
   "metadata": {},
   "source": [
    "# Repeat with ESHG folder"
   ]
  },
  {
   "cell_type": "code",
   "execution_count": 6,
   "id": "original-eight",
   "metadata": {},
   "outputs": [
    {
     "data": {
      "text/plain": [
       "['input_pdf_1.pdf', 'input_pdf_2.pdf', 'input_pdf_3.pdf']"
      ]
     },
     "execution_count": 6,
     "metadata": {},
     "output_type": "execute_result"
    }
   ],
   "source": [
    "os.listdir(\"..\\\\raw_pdfs\\\\ESHG\") # This is how to see the contents of any folders shown in the last contents check\n",
    "                            # For example, 'input_pdfs' which is likely to contain things we want to import"
   ]
  },
  {
   "cell_type": "code",
   "execution_count": null,
   "id": "affected-services",
   "metadata": {},
   "outputs": [],
   "source": [
    "to_split = [[\"ESHG2001abstractICHG.pdf\", 64, 434],\n",
    " [\"ESHG2002Abstracts.pdf\", 54, 327],\n",
    " [\"ESHG2003Abstracts.pdf\", 44, 261],\n",
    " [\"ESHG2004Abstracts.pdf\", 58, 373],\n",
    " [\"ESHG2005Abstracts.pdf\", 55, 388],\n",
    " [\"ESHG2006Abstracts.pdf\", 74, 410],\n",
    " [\"ESHG2007Abstracts.pdf\", 5, 351],\n",
    " [\"ESHG2008Abstracts.pdf\", 5, 469],\n",
    " [\"ESHG2009Abstracts.pdf\", 6, 401],\n",
    " [\"ESHG2010Abstracts.pdf\", 6, 400],\n",
    " [\"ESHG2011Abstracts.pdf\", 5, 484],\n",
    " [\"ESHG2012Abstracts.pdf\", 6, 438],\n",
    " [\"ESHG2013Abstracts.pdf\", 6, 611],\n",
    " [\"ESHG2014Abstracts.pdf\", 6, 518],\n",
    " [\"ESHG2015Abstracts.pdf\", 6, 485],\n",
    " [\"ESHG2016Abstracts.pdf\", 6, 506]]"
   ]
  }
 ],
 "metadata": {
  "kernelspec": {
   "display_name": "Python 3",
   "language": "python",
   "name": "python3"
  },
  "language_info": {
   "codemirror_mode": {
    "name": "ipython",
    "version": 3
   },
   "file_extension": ".py",
   "mimetype": "text/x-python",
   "name": "python",
   "nbconvert_exporter": "python",
   "pygments_lexer": "ipython3",
   "version": "3.9.5"
  },
  "toc": {
   "base_numbering": 1,
   "nav_menu": {},
   "number_sections": true,
   "sideBar": true,
   "skip_h1_title": false,
   "title_cell": "Table of Contents",
   "title_sidebar": "Contents",
   "toc_cell": false,
   "toc_position": {},
   "toc_section_display": true,
   "toc_window_display": false
  }
 },
 "nbformat": 4,
 "nbformat_minor": 5
}
