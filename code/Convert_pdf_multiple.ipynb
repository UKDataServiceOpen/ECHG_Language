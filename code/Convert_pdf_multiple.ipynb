{
 "cells": [
  {
   "cell_type": "markdown",
   "id": "positive-implementation",
   "metadata": {},
   "source": [
    "# Converting .pdf files to text files"
   ]
  },
  {
   "cell_type": "markdown",
   "id": "removed-description",
   "metadata": {},
   "source": [
    "## Install and import necessary things\n",
    "\n",
    "Start off by installing the PyPDF2 module (if you don't already have it installed) and importing that module so that it can be used in this notebook. "
   ]
  },
  {
   "cell_type": "code",
   "execution_count": 1,
   "id": "eligible-lounge",
   "metadata": {},
   "outputs": [
    {
     "name": "stdout",
     "output_type": "stream",
     "text": [
      "Requirement already satisfied: PyPDF2 in c:\\python39\\lib\\site-packages (2.3.1)\n",
      "Requirement already satisfied: typing-extensions in c:\\python39\\lib\\site-packages (from PyPDF2) (4.2.0)\n"
     ]
    },
    {
     "name": "stderr",
     "output_type": "stream",
     "text": [
      "WARNING: Ignoring invalid distribution -ip (c:\\python39\\lib\\site-packages)\n",
      "WARNING: Ignoring invalid distribution -ip (c:\\python39\\lib\\site-packages)\n",
      "WARNING: Ignoring invalid distribution -ip (c:\\python39\\lib\\site-packages)\n",
      "WARNING: Ignoring invalid distribution -ip (c:\\python39\\lib\\site-packages)\n",
      "WARNING: Ignoring invalid distribution -ip (c:\\python39\\lib\\site-packages)\n",
      "WARNING: Ignoring invalid distribution -ip (c:\\python39\\lib\\site-packages)\n"
     ]
    },
    {
     "name": "stdout",
     "output_type": "stream",
     "text": [
      "Requirement already satisfied: pdfplumber in c:\\users\\mzyssjkc\\appdata\\roaming\\python\\python39\\site-packages (0.7.1)\n",
      "Requirement already satisfied: pdfminer.six==20220524 in c:\\python39\\lib\\site-packages (from pdfplumber) (20220524)\n",
      "Requirement already satisfied: Wand>=0.6.7 in c:\\python39\\lib\\site-packages (from pdfplumber) (0.6.7)\n",
      "Requirement already satisfied: Pillow>=9.1 in c:\\python39\\lib\\site-packages (from pdfplumber) (9.2.0)\n",
      "Requirement already satisfied: charset-normalizer>=2.0.0 in c:\\python39\\lib\\site-packages (from pdfminer.six==20220524->pdfplumber) (2.1.0)\n",
      "Requirement already satisfied: cryptography>=36.0.0 in c:\\python39\\lib\\site-packages (from pdfminer.six==20220524->pdfplumber) (37.0.4)\n",
      "Requirement already satisfied: cffi>=1.12 in c:\\python39\\lib\\site-packages (from cryptography>=36.0.0->pdfminer.six==20220524->pdfplumber) (1.14.4)\n",
      "Requirement already satisfied: pycparser in c:\\python39\\lib\\site-packages (from cffi>=1.12->cryptography>=36.0.0->pdfminer.six==20220524->pdfplumber) (2.20)\n"
     ]
    },
    {
     "name": "stderr",
     "output_type": "stream",
     "text": [
      "WARNING: Ignoring invalid distribution -ip (c:\\python39\\lib\\site-packages)\n",
      "WARNING: Ignoring invalid distribution -ip (c:\\python39\\lib\\site-packages)\n",
      "WARNING: Ignoring invalid distribution -ip (c:\\python39\\lib\\site-packages)\n",
      "WARNING: Ignoring invalid distribution -ip (c:\\python39\\lib\\site-packages)\n",
      "WARNING: Ignoring invalid distribution -ip (c:\\python39\\lib\\site-packages)\n",
      "WARNING: Ignoring invalid distribution -ip (c:\\python39\\lib\\site-packages)\n"
     ]
    }
   ],
   "source": [
    "# installing necessary pdf conversion package via pip\n",
    "!pip install PyPDF2\n",
    "!pip install pdfplumber"
   ]
  },
  {
   "cell_type": "code",
   "execution_count": 7,
   "id": "stupid-opera",
   "metadata": {},
   "outputs": [],
   "source": [
    "# importing required modules (first for displaying screenshots, second for converting pdfs)\n",
    "import os                         # os is a module for navigating your machine (e.g., file directories).\n",
    "from IPython.display import HTML, display\n",
    "import csv\n",
    "import datetime\n",
    "import pdfplumber\n",
    "import pandas as pd\n",
    "import regex\n",
    "\n",
    "date = datetime.date.today()"
   ]
  },
  {
   "cell_type": "markdown",
   "id": "essential-harvest",
   "metadata": {},
   "source": [
    "## Define the function that does the importing, converting, and writing"
   ]
  },
  {
   "cell_type": "code",
   "execution_count": 41,
   "id": "enhanced-seeking",
   "metadata": {},
   "outputs": [],
   "source": [
    "def convert_pdfs(input,output):\n",
    "    lines = []\n",
    "    for filename in os.listdir(input):\n",
    "        pdf_contents = \"\"\n",
    "        with pdfplumber.open(input + \"\\\\\" + filename) as pdf:\n",
    "            name = filename.replace(r'.pdf', \"\")\n",
    "            name = name.replace(r'ESHG', \"\")\n",
    "            pages = pdf.pages\n",
    "            for page in pdf.pages:\n",
    "                text = page.extract_text()\n",
    "                pdf_contents = pdf_contents + text\n",
    "            with open(output + \"\\\\\" + name + \".txt\", \"w\", newline='', encoding='utf-8') as f:\n",
    "                pdf_contents = \" \".join(pdf_contents.split())\n",
    "                f.write(pdf_contents)\n",
    "                f.close()\n",
    "                "
   ]
  },
  {
   "cell_type": "markdown",
   "id": "domestic-charity",
   "metadata": {},
   "source": [
    "## Create and run on Test folders\n"
   ]
  },
  {
   "cell_type": "code",
   "execution_count": 18,
   "id": "divine-residence",
   "metadata": {},
   "outputs": [
    {
     "data": {
      "text/plain": [
       "['input_pdf_1.pdf', 'input_pdf_2.pdf', 'input_pdf_3.pdf']"
      ]
     },
     "execution_count": 18,
     "metadata": {},
     "output_type": "execute_result"
    }
   ],
   "source": [
    "os.listdir(\"..\\input_pdfs\\Test\") # This is how to see the contents of any folders shown in the last contents check\n",
    "                            # For example, 'input_pdfs' which is likely to contain things we want to import"
   ]
  },
  {
   "cell_type": "code",
   "execution_count": 43,
   "id": "piano-particle",
   "metadata": {},
   "outputs": [],
   "source": [
    "convert_pdfs('..\\input_pdfs\\Test', '..\\output_texts\\Test')"
   ]
  },
  {
   "cell_type": "markdown",
   "id": "perfect-string",
   "metadata": {},
   "source": [
    "## Run the defined function"
   ]
  },
  {
   "cell_type": "code",
   "execution_count": 3,
   "id": "controlling-wrong",
   "metadata": {},
   "outputs": [
    {
     "data": {
      "text/plain": [
       "['input_pdf_1.pdf', 'input_pdf_2.pdf', 'input_pdf_3.pdf']"
      ]
     },
     "execution_count": 3,
     "metadata": {},
     "output_type": "execute_result"
    }
   ],
   "source": [
    "os.listdir(\"..\\input_pdfs\\ESHG\") # This is how to see the contents of any folders shown in the last contents check\n",
    "                            # For example, 'input_pdfs' which is likely to contain things we want to import"
   ]
  },
  {
   "cell_type": "code",
   "execution_count": 9,
   "id": "matched-generator",
   "metadata": {},
   "outputs": [],
   "source": [
    "convert_pdfs('..\\input_pdfs\\ESHG', '..\\output_texts\\ESHG')               "
   ]
  }
 ],
 "metadata": {
  "kernelspec": {
   "display_name": "Python 3",
   "language": "python",
   "name": "python3"
  },
  "language_info": {
   "codemirror_mode": {
    "name": "ipython",
    "version": 3
   },
   "file_extension": ".py",
   "mimetype": "text/x-python",
   "name": "python",
   "nbconvert_exporter": "python",
   "pygments_lexer": "ipython3",
   "version": "3.9.5"
  },
  "toc": {
   "base_numbering": 1,
   "nav_menu": {},
   "number_sections": true,
   "sideBar": true,
   "skip_h1_title": false,
   "title_cell": "Table of Contents",
   "title_sidebar": "Contents",
   "toc_cell": false,
   "toc_position": {},
   "toc_section_display": true,
   "toc_window_display": false
  }
 },
 "nbformat": 4,
 "nbformat_minor": 5
}
