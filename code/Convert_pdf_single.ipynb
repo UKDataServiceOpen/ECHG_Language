{
 "cells": [
  {
   "cell_type": "markdown",
   "id": "positive-implementation",
   "metadata": {},
   "source": [
    "# Converting .pdf files to text files"
   ]
  },
  {
   "cell_type": "markdown",
   "id": "removed-description",
   "metadata": {},
   "source": [
    "## Install and import necessary things\n",
    "\n",
    "Start off by installing the PyPDF2 module (if you don't already have it installed) and importing that module so that it can be used in this notebook. "
   ]
  },
  {
   "cell_type": "code",
   "execution_count": 4,
   "id": "eligible-lounge",
   "metadata": {},
   "outputs": [
    {
     "name": "stdout",
     "output_type": "stream",
     "text": [
      "Requirement already satisfied: PyPDF2 in c:\\python39\\lib\\site-packages (2.3.1)\n",
      "Requirement already satisfied: typing-extensions in c:\\python39\\lib\\site-packages (from PyPDF2) (4.2.0)\n"
     ]
    },
    {
     "name": "stderr",
     "output_type": "stream",
     "text": [
      "WARNING: Ignoring invalid distribution -ip (c:\\python39\\lib\\site-packages)\n",
      "WARNING: Ignoring invalid distribution -ip (c:\\python39\\lib\\site-packages)\n",
      "WARNING: Ignoring invalid distribution -ip (c:\\python39\\lib\\site-packages)\n",
      "WARNING: Ignoring invalid distribution -ip (c:\\python39\\lib\\site-packages)\n",
      "WARNING: Ignoring invalid distribution -ip (c:\\python39\\lib\\site-packages)\n",
      "WARNING: Ignoring invalid distribution -ip (c:\\python39\\lib\\site-packages)\n"
     ]
    }
   ],
   "source": [
    "# installing necessary pdf conversion package via pip\n",
    "!pip install PyPDF2             "
   ]
  },
  {
   "cell_type": "code",
   "execution_count": 5,
   "id": "stupid-opera",
   "metadata": {},
   "outputs": [],
   "source": [
    "# importing required modules (first for displaying screenshots, second for converting pdfs)\n",
    "import os\n",
    "from IPython.display import HTML, display\n",
    "import PyPDF2 \n",
    "import csv"
   ]
  },
  {
   "cell_type": "markdown",
   "id": "domestic-charity",
   "metadata": {},
   "source": [
    "## Create and/or check the input .pdf\n",
    "\n",
    "I first created 2 test files in word and then printed each of them off to .pdf. I specifically put a few key features into these files to test how the text would be converted, such as a heading, multiple blank lines between text, an image with a caption, multiple pages, and two column text. \n",
    "\n",
    "I then saved these new .pdfs (and screenshots of both) into the same location as my .ipynb so that I can \n",
    "* 1 - paste in the images to show how the .pdfs looked to begin with (see next cell) and\n",
    "* 2 - import the .pdfs so that PyPDF2 can convert them (see cell after next). "
   ]
  },
  {
   "cell_type": "code",
   "execution_count": 7,
   "id": "arctic-latino",
   "metadata": {},
   "outputs": [
    {
     "data": {
      "text/html": [
       "<table><tr><td><img src='..\\images\\Input_pdf_image_1.png'></td><td><img src='..\\images\\Input_pdf_image_2.png'></td></tr></table>"
      ],
      "text/plain": [
       "<IPython.core.display.HTML object>"
      ]
     },
     "metadata": {},
     "output_type": "display_data"
    }
   ],
   "source": [
    "display(HTML(\"<table><tr><td><img src='..\\images\\Input_pdf_image_1.png'></td><td><img src='..\\images\\Input_pdf_image_2.png'></td></tr></table>\"))"
   ]
  },
  {
   "cell_type": "code",
   "execution_count": 6,
   "id": "wooden-portland",
   "metadata": {},
   "outputs": [
    {
     "name": "stdout",
     "output_type": "stream",
     "text": [
      "<_io.BufferedReader name='..\\\\input_pdfs\\\\ESHG\\\\ESHG2001abstractICHG.pdf'>\n"
     ]
    }
   ],
   "source": [
    "# creating .pdf file objects from existing .pdfs in the same folder as this .ipynb code\n",
    "# this ipmorts the .pdfs and creates accessible objects for the PyPDF2 module to work with\n",
    "\n",
    "pdfFileObj_1 = open('..\\input_pdfs\\Test\\input_pdf_1.pdf', 'rb') \n",
    "pdfFileObj_2 = open('..\\input_pdfs\\Test\\input_pdf_2.pdf', 'rb') \n",
    "eshg = open('..\\input_pdfs\\ESHG\\ESHG2001abstractICHG.pdf', 'rb') \n",
    "\n",
    "print(eshg)"
   ]
  },
  {
   "cell_type": "markdown",
   "id": "united-sierra",
   "metadata": {},
   "source": [
    "## Convert and check the .pdf objects\n",
    "\n",
    "The first step is to create a PyPDF2 oject from the imported .pdf. This allows you to do things like:\n",
    "* check how many pages are in the original .pdf, \n",
    "* convert some or all of those pages to page objects, and\n",
    "* then extract the text from those page ojbects (optionally saving the text for later analysis). \n",
    "\n",
    "Of course, good coding etiquette suggests you should always close any opened files when you are done with them. "
   ]
  },
  {
   "cell_type": "code",
   "execution_count": 7,
   "id": "ordered-yugoslavia",
   "metadata": {},
   "outputs": [],
   "source": [
    "# creating .pdf reader objects, which the module will use for the actual conversion work\n",
    "pdfReader_1 = PyPDF2.PdfFileReader(pdfFileObj_1) \n",
    "pdfReader_2 = PyPDF2.PdfFileReader(pdfFileObj_2) \n",
    "eshg_reader = PyPDF2.PdfFileReader(eshg) "
   ]
  },
  {
   "cell_type": "code",
   "execution_count": null,
   "id": "olive-survey",
   "metadata": {},
   "outputs": [],
   "source": []
  },
  {
   "cell_type": "code",
   "execution_count": 9,
   "id": "cosmetic-quarterly",
   "metadata": {},
   "outputs": [
    {
     "name": "stdout",
     "output_type": "stream",
     "text": [
      "1\n",
      "2\n",
      "485\n"
     ]
    }
   ],
   "source": [
    "# printing number of pages in each .pdf file \n",
    "print(pdfReader_1.numPages) \n",
    "print(pdfReader_2.numPages) \n",
    "print(eshg_reader.numPages)"
   ]
  },
  {
   "cell_type": "markdown",
   "id": "comparative-metallic",
   "metadata": {},
   "source": [
    "So far so good. We have the .pdfs imported, converted to module specific objects, and the module has correctly identified the number of pages in each. But really, we need to know how well the module can recognise the text within those objects cause I deliberately made that text a bit tricky. "
   ]
  },
  {
   "cell_type": "markdown",
   "id": "talented-ranch",
   "metadata": {},
   "source": [
    "## Get individual pages, extract text, save it as strings, etc. \n",
    "\n",
    "Now, we get down to the real work. We want to  \n",
    "* convert some or all of those pages to page objects, and\n",
    "* then extract the text from those page ojbects, \n",
    "* (optionally) save that text as string objects for later analysis, and \n",
    "* tidy up (good coding etiquette suggests you should always close any opened files when you are done with them) . \n"
   ]
  },
  {
   "cell_type": "code",
   "execution_count": 8,
   "id": "global-discrimination",
   "metadata": {},
   "outputs": [],
   "source": [
    "# creating page objects for each page\n",
    "# something to note here - the pages start counting from 0 so you get page 1 of our first test .pdf\n",
    "#                          by asking getPage to getPage(0). \n",
    "#                          In turn, when we want to get both pages from the second test .pdf, we ask for \n",
    "#                          getPage(0) and also getPage(1)\n",
    "pageObj_1_1 = pdfReader_1.getPage(0) \n",
    "pageObj_2_1 = pdfReader_2.getPage(0)\n",
    "pageObj_2_2 = pdfReader_2.getPage(1) "
   ]
  },
  {
   "cell_type": "code",
   "execution_count": 12,
   "id": "applicable-resolution",
   "metadata": {},
   "outputs": [],
   "source": [
    "# creating page objects for each page\n",
    "# something to note here - the pages start counting from 0 so you get page 1 of our first test .pdf\n",
    "#                          by asking getPage to getPage(0). \n",
    "#                          In turn, when we want to get both pages from the second test .pdf, we ask for \n",
    "#                          getPage(0) and also getPage(1)\n",
    "eshg_reader_1_0 = eshg_reader.getPage(0) \n",
    "eshg_reader_1_1 = eshg_reader.getPage(1) \n"
   ]
  },
  {
   "cell_type": "code",
   "execution_count": 11,
   "id": "announced-bolivia",
   "metadata": {},
   "outputs": [
    {
     "name": "stdout",
     "output_type": "stream",
     "text": [
      "Lost your way mapping the genome? Let the \n",
      "Nature Publishing Group guide you to the latest advances.\n",
      "Natureis the perfect medium to give you the latest\n",
      "science news and results every week.  In Nature’s\n",
      "Articles and Letters sections you’ll find important orig-\n",
      "inal research such as the recent human genome project map and sequence.  \n",
      "With conceptual advances in areas such as genomics and post-genomics and\n",
      "developments in other disciplines which affect all areas of science,Natureis\n",
      "your essential resource.Renowned for quality, global coverage,\n",
      "Nature Geneticsassures you access to significant\n",
      "genetics research.  News and Views articles, Brief\n",
      "Communications, Letters and Reviews cover topics\n",
      "across the field, including the genetic basis of \n",
      "disease, genomic analysis, epigenetics and chromosome biology.  Available \n",
      "full-text online, with web specials such as the Microarray site,Nature Genetics\n",
      "is consistently cited more often than any other journal in the field.\n",
      "Nature Reviews Geneticsis one \n",
      "of a new series of innovative and\n",
      "authoritative review journals,\n",
      "launched in October 2000, complementing Nature Genetics.  With carefully com-\n",
      "missioned, independently peer-reviewed articles from leaders in the field, this\n",
      "review journal presents you with unrivalled quality, breadth and depth.\n",
      "\n",
      "www.nature.com\n",
      "Nature Publishing Group is pleased to sponsor \n",
      "the Internet Cafè at ICHG 2001\n",
      "\n",
      "www.nature.com\n",
      "\n",
      "Please visit stand 280 to pick up\n",
      "your discount formPlease visit stand 280 to pick up\n",
      "your discount form\n",
      "\n",
      "Special Discount Offers \n",
      "for ICHG 2001Special Discount Offers \n",
      "for ICHG 2001\n",
      "\n",
      "\n",
      "\n",
      "\n",
      "The Official Journal of the European Society of Human Genetics\n",
      "\n",
      "10TH \n",
      "INTERNATIONAL CONGRESS OF HUMAN GENETICS\n",
      "MAY 15 - 19, 2001, VIENNA, AUSTRIA\n",
      "PROGRAMME AND ABSTRACTSEuropean Journal of Human Genetics Volume 9 • Supplement 1 May 20019\n",
      "S1\n",
      "\n",
      "Volume 9\n",
      "•Supplement 1\n",
      "•May 2001\n"
     ]
    }
   ],
   "source": [
    "# extracting text from page to print on screen\n",
    "print(eshg_reader_1_0.extractText()) "
   ]
  },
  {
   "cell_type": "code",
   "execution_count": 13,
   "id": "vertical-hughes",
   "metadata": {},
   "outputs": [
    {
     "name": "stdout",
     "output_type": "stream",
     "text": [
      "www.agilent.com/chem/dna\n",
      "©2001, Agilent Technologies Inc. Ago-4220WW\n",
      "Resolver is a trademark of Rosetta Inpharmatics, Inc.Now you can design microarrays around experiments,\n",
      "rather than adapting research around microarrays.\n",
      "Agilent provides a complete system for fast, flexible\n",
      "gene expression analysis–probe design services, \n",
      "in-situ oligonucleotide and cDNA microarrays,\n",
      "reagents, protocols, automated scanner, and Rosetta\n",
      "Resolver\n",
      "tm\n",
      "expression data analysis system. So you\n",
      "can go where your research leads you.\n",
      "Dreams made real.A Flexible New Solution\n",
      "\n",
      "For gene expression analysis\n",
      " Demand greater BIOACTIVITY in your plasmid preparations\n",
      "Comparative Purification and In vivo Data\n",
      "   - Example of a high copy number plasmid purification\n",
      "\n",
      "\n",
      "1% Agarose GelPristineDNA\n",
      "      Double CsCl\n",
      "            1 kb ladder\n",
      "\n",
      "Features:\n",
      "1.  Fast, low endotoxin, high yield\n",
      "2.  Proprietary EndoSep\n",
      "TM \n",
      "Suspension/Lysis\n",
      "3.  Affinity binding fast flow column\n",
      "4.  NaOH cleanable (10x)\n",
      " Benefits:\n",
      "1.  Easy to use and affordable\n",
      "2.  Less contaminants that impair BIOACTIVITY\n",
      "3.  High level of supercoiled plasmid\n",
      "4.  Linearly scaleable for cGMP\n",
      "•  The name represents QUALITY\n",
      "•  Quality translates to functionality or BIOACTIVITY\n",
      "•  Highly bioactive plasmid DNA corresponds to EXPRESSIVE grade\n",
      "PristineDNATM \n",
      "Plasmid Purification Kit\n",
      "Go To PristineDNA TM\n",
      " on Website:  www.genespan.com\n",
      "\n",
      "\n",
      "Setting new standards in nucleic acid quality\n",
      "19310 North Creek Parkway, Suite 100 Bothell, WA 98011-8006  Tel: 425-482-3003   Fax: 425-482-3005\n",
      "e-mail:sales@genespan.com     - More DNA and RNA data at  www.genespan.com   Yield and Processing Time Comparison\n"
     ]
    }
   ],
   "source": [
    "# extracting text from page to print on screen\n",
    "print(eshg_reader_1_1.extractText()) "
   ]
  },
  {
   "cell_type": "code",
   "execution_count": 11,
   "id": "bigger-wedding",
   "metadata": {},
   "outputs": [
    {
     "name": "stdout",
     "output_type": "stream",
     "text": [
      "which don't look even slightly believable. If \n",
      "\n",
      "you are going to use  a passage  of  Lorem \n",
      "\n",
      "Ipsum,  you  need  to  be  sure  there  isn't \n",
      "\n",
      "anything  embarrassing  hidden  in  the \n",
      "\n",
      "middle  of  text.  All  the  Lorem  Ipsum \n",
      "\n",
      "generators on the Internet tend to repeat \n",
      "\n",
      "predefined  chunks  as  necessary,  making \n",
      "\n",
      "this the first true generator on the Internet. \n",
      "\n",
      "It uses a dictionary of over 200 Latin words, \n",
      "\n",
      "combined  with  a  handful  of  model \n",
      "\n",
      "sentence  structures,  to  generate  Lorem \n",
      "\n",
      "Ipsum  which  looks  reasonable.  The \n",
      "\n",
      "generated  Lorem  Ipsum  is  therefore \n",
      "\n",
      "always  free  from  repetition,  injected \n",
      "\n",
      "humour, or non-characteristic words etc. \n"
     ]
    }
   ],
   "source": [
    "# extracting text from page to print on screen\n",
    "print(pageObj_2_2.extractText()) "
   ]
  },
  {
   "cell_type": "markdown",
   "id": "danish-terrorism",
   "metadata": {},
   "source": [
    "So, good news. This .pdf conversion module has successfully recognised that input_pdf_2 was structured in two columns and it has converted the text appropriately (ish) with the text flowing properly from the end of one line in a column to the start of the next line *in the same column* rather than reading on to the equivalent line in the next column. \n",
    "\n",
    "It might be better if the lines were not cut short to replicate the actual number of words in each column as they appear in the text, but that is a step for later on. \n"
   ]
  },
  {
   "cell_type": "code",
   "execution_count": 12,
   "id": "specific-twenty",
   "metadata": {},
   "outputs": [
    {
     "data": {
      "text/plain": [
       "str"
      ]
     },
     "execution_count": 12,
     "metadata": {},
     "output_type": "execute_result"
    }
   ],
   "source": [
    "# extracting text from page to save for later use, in this case as a string object\n",
    "test_file_1 = (pageObj_1_1.extractText()) \n",
    "type(test_file_1)"
   ]
  }
 ],
 "metadata": {
  "kernelspec": {
   "display_name": "Python 3",
   "language": "python",
   "name": "python3"
  },
  "language_info": {
   "codemirror_mode": {
    "name": "ipython",
    "version": 3
   },
   "file_extension": ".py",
   "mimetype": "text/x-python",
   "name": "python",
   "nbconvert_exporter": "python",
   "pygments_lexer": "ipython3",
   "version": "3.9.5"
  },
  "toc": {
   "base_numbering": 1,
   "nav_menu": {},
   "number_sections": true,
   "sideBar": true,
   "skip_h1_title": false,
   "title_cell": "Table of Contents",
   "title_sidebar": "Contents",
   "toc_cell": false,
   "toc_position": {},
   "toc_section_display": true,
   "toc_window_display": false
  }
 },
 "nbformat": 4,
 "nbformat_minor": 5
}
