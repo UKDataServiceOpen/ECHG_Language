{
 "cells": [
  {
   "cell_type": "markdown",
   "id": "bbc3cf65",
   "metadata": {},
   "source": [
    "Set of words for tracking evolution over time:\n",
    " \n",
    "set 1\n",
    "mutation\n",
    "variant\n",
    "gene change\n",
    "gene alteration\n",
    " \n",
    "set 2\n",
    "disease\n",
    "disorder\n",
    "illness\n",
    "condition\n",
    "diagnosis\n",
    "syndrome\n",
    " \n",
    "set 3\n",
    "patient\n",
    "individual\n",
    "person\n",
    "proband\n",
    "subject\n",
    " \n",
    "set 5\n",
    "affected\n",
    "diagnosed\n",
    "suffering from\n",
    "impacted\n",
    " \n",
    "set 4\n",
    "normal\n",
    "typical\n",
    "wild type - ? in a gene context, don't think someone would refer to a person (not sure about this one)\n",
    "\n"
   ]
  }
 ],
 "metadata": {
  "kernelspec": {
   "display_name": "Python 3 (ipykernel)",
   "language": "python",
   "name": "python3"
  },
  "language_info": {
   "codemirror_mode": {
    "name": "ipython",
    "version": 3
   },
   "file_extension": ".py",
   "mimetype": "text/x-python",
   "name": "python",
   "nbconvert_exporter": "python",
   "pygments_lexer": "ipython3",
   "version": "3.11.1"
  }
 },
 "nbformat": 4,
 "nbformat_minor": 5
}
