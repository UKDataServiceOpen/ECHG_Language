{
 "cells": [
  {
   "cell_type": "markdown",
   "id": "d71e8f5f",
   "metadata": {},
   "source": [
    "# Get ready\n",
    "\n",
    "First, download, import, prep packages and such. \n",
    "\n",
    "Then, check the file location and import the .csv files. Remove any with empty text fields. \n",
    "\n",
    "Save a data frame with all the texts and another with only those texts that mention the keywords of interest. "
   ]
  },
  {
   "cell_type": "code",
   "execution_count": null,
   "id": "cb8e04ce",
   "metadata": {},
   "outputs": [],
   "source": [
    "no_null_texts.to_csv('..\\\\output\\\\all_abstracts_no_null_texts.csv')\n",
    "\n",
    "no_nans_matched_texts.to_csv('..\\\\output\\\\matched_abstracts_no_null_texts.csv')  # write out the matched texts df to a .csv too\n"
   ]
  },
  {
   "cell_type": "code",
   "execution_count": 2,
   "id": "26078126",
   "metadata": {},
   "outputs": [],
   "source": [
    "%%capture\n",
    "\n",
    "# installing necessary pdf conversion packages via pip\n",
    "# the '%%capture' at the top of this cell suppresses the output (which is normally quite long and annoying looking). \n",
    "# You can remove or comment it out if you prefer to see the output. \n",
    "!pip install nltk\n"
   ]
  },
  {
   "cell_type": "code",
   "execution_count": 3,
   "id": "271c801d",
   "metadata": {},
   "outputs": [],
   "source": [
    "%%capture\n",
    "\n",
    "import os                         # os is a module for navigating your machine (e.g., file directories).\n",
    "import nltk                       # nltk stands for natural language tool kit and is useful for text-mining. \n",
    "from nltk import word_tokenize    # and some of its key functions\n",
    "\n",
    "nltk.download('punkt')\n",
    "nltk.download('stopwords')\n",
    "from nltk.corpus import stopwords\n",
    "stop_words = set(stopwords.words('english'))\n",
    "from nltk.corpus import wordnet                    # Finally, things we need for lemmatising!\n",
    "from nltk.stem import WordNetLemmatizer\n",
    "lemmatizer = WordNetLemmatizer() \n",
    "from nltk.stem.porter import PorterStemmer\n",
    "porter = PorterStemmer()\n",
    "nltk.download('averaged_perceptron_tagger')        # Like a POS-tagger...\n",
    "nltk.download('wordnet')\n",
    "nltk.download('webtext')\n",
    "from nltk.corpus import webtext\n",
    "\n",
    "import pandas as pd\n",
    "pd.set_option('display.max_colwidth', 200)\n",
    "import numpy as np\n",
    "import statistics\n",
    "import datetime\n",
    "date = datetime.date.today()\n",
    "\n",
    "import codecs\n",
    "import csv                        # csv is for importing and working with csv files\n",
    "\n",
    "from collections import Counter\n",
    "\n",
    "import statistics\n",
    "import re                         # things we need for RegEx corrections\n",
    "import matplotlib.pyplot as plt\n",
    "import string \n",
    "\n",
    "import math \n",
    "\n",
    "English_punctuation = \"-!\\\"#$%&()'*-–+,./:;<=>?@[\\]^_`{|}~''“”\"      # Things for removing punctuation, stopwords and empty strings\n",
    "table_punctuation = str.maketrans('','', English_punctuation)"
   ]
  },
  {
   "cell_type": "code",
   "execution_count": 4,
   "id": "076b8611",
   "metadata": {},
   "outputs": [
    {
     "name": "stdout",
     "output_type": "stream",
     "text": [
      "['ESHG2001abstractICHG.csv', 'ESHG2002Abstracts.csv', 'ESHG2003Abstracts.csv', 'ESHG2004.csv', 'ESHG2005Abstracts.csv', 'ESHG2006Abstracts.csv', 'ESHG2007Abstracts.csv', 'ESHG2008Abstracts.csv', 'ESHG2009Abstracts.csv', 'ESHG2010Abstracts.csv', 'ESHG2011Abstracts.csv', 'ESHG2012Abstracts.csv', 'ESHG2013Abstracts.csv', 'ESHG2014Abstracts.csv', 'ESHG2015Abstracts.csv', 'ESHG2016Abstracts.csv', 'ESHG2017 electronic posters.csv', 'ESHG2017 oral presentation.csv', 'ESHG2018 electronic posters.csv', 'ESHG2018 oral presentation.csv', 'ESHG2019 electronic posters.csv', 'ESHG2019 oral presentation.csv', 'ESHG2020 electronic posters.csv', 'ESHG2020 oral presentation.csv', 'ESHG2021 electronic posters.csv', 'ESHG2021 oral presentation.csv']\n",
      "26\n"
     ]
    }
   ],
   "source": [
    "results_files = (os.listdir(\"..\\\\results\")  )\n",
    "print(results_files)\n",
    "print(len(results_files))"
   ]
  },
  {
   "cell_type": "code",
   "execution_count": 5,
   "id": "f5f4a961",
   "metadata": {},
   "outputs": [],
   "source": [
    "files = []\n",
    "def import_results(input):\n",
    "    for f in os.listdir(input):\n",
    "        f = pd.read_csv(input + '\\\\'+ f,encoding='latin1')\n",
    "        files.append(f)\n",
    "    output = pd.concat(files)\n",
    "    return output"
   ]
  },
  {
   "cell_type": "code",
   "execution_count": 6,
   "id": "75b74ce9",
   "metadata": {},
   "outputs": [
    {
     "data": {
      "text/plain": [
       "34630"
      ]
     },
     "execution_count": 6,
     "metadata": {},
     "output_type": "execute_result"
    }
   ],
   "source": [
    "all_results = import_results(\"..\\\\results\")\n",
    "#all_results = all_results.merge(year_04, on='Year')\n",
    "len(all_results)"
   ]
  },
  {
   "cell_type": "code",
   "execution_count": 7,
   "id": "be0be49a",
   "metadata": {},
   "outputs": [
    {
     "data": {
      "text/html": [
       "<div>\n",
       "<style scoped>\n",
       "    .dataframe tbody tr th:only-of-type {\n",
       "        vertical-align: middle;\n",
       "    }\n",
       "\n",
       "    .dataframe tbody tr th {\n",
       "        vertical-align: top;\n",
       "    }\n",
       "\n",
       "    .dataframe thead th {\n",
       "        text-align: right;\n",
       "    }\n",
       "</style>\n",
       "<table border=\"1\" class=\"dataframe\">\n",
       "  <thead>\n",
       "    <tr style=\"text-align: right;\">\n",
       "      <th></th>\n",
       "      <th>Year</th>\n",
       "      <th>Text</th>\n",
       "    </tr>\n",
       "  </thead>\n",
       "  <tbody>\n",
       "    <tr>\n",
       "      <th>0</th>\n",
       "      <td>2004</td>\n",
       "      <td>L01Multiple Sulfatase Defi ciency: Molecular defect and properties of the autosomal forms of epigenetic mosaicism can be caused by missing enzyme. retrotransposon activity. K. von Figura, M. Maria...</td>\n",
       "    </tr>\n",
       "    <tr>\n",
       "      <th>1</th>\n",
       "      <td>2004</td>\n",
       "      <td>L04Regional differences in genetic testing and counselling in Europe - An overview</td>\n",
       "    </tr>\n",
       "    <tr>\n",
       "      <th>2</th>\n",
       "      <td>2004</td>\n",
       "      <td>L02Biogenesis of mitochondria: Human diseases linked to S. Aymé protein transport, folding and degradation INSERM, Paris, France. W. Neupert</td>\n",
       "    </tr>\n",
       "    <tr>\n",
       "      <th>3</th>\n",
       "      <td>2004</td>\n",
       "      <td>L05Hereditary Breast/Ovarian Cancer risk: international energy present in oxidizable substrates is transduced into energy comparison of the acceptability of Preventive strategies stored in ATP. Mi...</td>\n",
       "    </tr>\n",
       "    <tr>\n",
       "      <th>4</th>\n",
       "      <td>2004</td>\n",
       "      <td>L06Variation in prenatal counselling in Europe: the example of highly motile within the cell. Quite a number of genes are involved Klinefelter in these processes which are closely linked to the in...</td>\n",
       "    </tr>\n",
       "    <tr>\n",
       "      <th>...</th>\n",
       "      <td>...</td>\n",
       "      <td>...</td>\n",
       "    </tr>\n",
       "    <tr>\n",
       "      <th>2200</th>\n",
       "      <td>2004</td>\n",
       "      <td>C7 A10 in the aetiology of cystinuria, we could not identify any  Affected children may have only one episode of illness or multiple  mutation in SL</td>\n",
       "    </tr>\n",
       "    <tr>\n",
       "      <th>2201</th>\n",
       "      <td>2004</td>\n",
       "      <td>C7 A10 in the two families. Nevertheless, there remains  recurrences. A common mutation (985A &gt;G) has been identiÜed  the possibility that other genes are involved in cystinuria. Further  among pa...</td>\n",
       "    </tr>\n",
       "    <tr>\n",
       "      <th>2202</th>\n",
       "      <td>2004</td>\n",
       "      <td>P0845Inactivation of the spasmolytic trefoil peptide (Tff2) leads  In this study, two unrelated MCAD patients, compound heterozygous  to increased expression of additional gastroprotective factors...</td>\n",
       "    </tr>\n",
       "    <tr>\n",
       "      <th>2203</th>\n",
       "      <td>2004</td>\n",
       "      <td>P0843MCDR1 Locus - Screening for candidate genes. functional disturbance in stomach and gut, Tff2-/- constructs do  N. Udar1, M. Chalukya1, R. Silva-Garcia1, J. Yeh1, P. Wong1,2, K. Small1  not di...</td>\n",
       "    </tr>\n",
       "    <tr>\n",
       "      <th>2204</th>\n",
       "      <td>2004</td>\n",
       "      <td>P0846RApidTRAP robot assisted TRAP assay non coding was carried out on more than 12 probands representing  J. P. Jakupciak1, W. Wang2  different families. Although the gene represents a good candi...</td>\n",
       "    </tr>\n",
       "  </tbody>\n",
       "</table>\n",
       "<p>2205 rows × 2 columns</p>\n",
       "</div>"
      ],
      "text/plain": [
       "      Year  \\\n",
       "0     2004   \n",
       "1     2004   \n",
       "2     2004   \n",
       "3     2004   \n",
       "4     2004   \n",
       "...    ...   \n",
       "2200  2004   \n",
       "2201  2004   \n",
       "2202  2004   \n",
       "2203  2004   \n",
       "2204  2004   \n",
       "\n",
       "                                                                                                                                                                                                         Text  \n",
       "0     L01Multiple Sulfatase Defi ciency: Molecular defect and properties of the autosomal forms of epigenetic mosaicism can be caused by missing enzyme. retrotransposon activity. K. von Figura, M. Maria...  \n",
       "1                                                                                                                         L04Regional differences in genetic testing and counselling in Europe - An overview   \n",
       "2                                                                L02Biogenesis of mitochondria: Human diseases linked to S. Aymé protein transport, folding and degradation INSERM, Paris, France. W. Neupert  \n",
       "3     L05Hereditary Breast/Ovarian Cancer risk: international energy present in oxidizable substrates is transduced into energy comparison of the acceptability of Preventive strategies stored in ATP. Mi...  \n",
       "4     L06Variation in prenatal counselling in Europe: the example of highly motile within the cell. Quite a number of genes are involved Klinefelter in these processes which are closely linked to the in...  \n",
       "...                                                                                                                                                                                                       ...  \n",
       "2200                                                     C7 A10 in the aetiology of cystinuria, we could not identify any  Affected children may have only one episode of illness or multiple  mutation in SL  \n",
       "2201  C7 A10 in the two families. Nevertheless, there remains  recurrences. A common mutation (985A >G) has been identiÜed  the possibility that other genes are involved in cystinuria. Further  among pa...  \n",
       "2202  P0845Inactivation of the spasmolytic trefoil peptide (Tff2) leads  In this study, two unrelated MCAD patients, compound heterozygous  to increased expression of additional gastroprotective factors...  \n",
       "2203  P0843MCDR1 Locus - Screening for candidate genes. functional disturbance in stomach and gut, Tff2-/- constructs do  N. Udar1, M. Chalukya1, R. Silva-Garcia1, J. Yeh1, P. Wong1,2, K. Small1  not di...  \n",
       "2204  P0846RApidTRAP robot assisted TRAP assay non coding was carried out on more than 12 probands representing  J. P. Jakupciak1, W. Wang2  different families. Although the gene represents a good candi...  \n",
       "\n",
       "[2205 rows x 2 columns]"
      ]
     },
     "execution_count": 7,
     "metadata": {},
     "output_type": "execute_result"
    }
   ],
   "source": [
    "year_04 = pd.read_csv('..\\\\results\\\\ESHG2004.csv')\n",
    "year_04 = year_04.iloc[:, [0,1]]\n",
    "year_04"
   ]
  },
  {
   "cell_type": "code",
   "execution_count": 8,
   "id": "395f48ea",
   "metadata": {},
   "outputs": [
    {
     "data": {
      "text/plain": [
       "36835"
      ]
     },
     "execution_count": 8,
     "metadata": {},
     "output_type": "execute_result"
    }
   ],
   "source": [
    "all_results = pd.concat([all_results, year_04])\n",
    "len(all_results)"
   ]
  },
  {
   "cell_type": "code",
   "execution_count": 9,
   "id": "b304d1b0",
   "metadata": {},
   "outputs": [],
   "source": [
    "all_counts_by_year = all_results['Year'].value_counts()\n",
    "all_counts_by_year = pd.DataFrame(all_counts_by_year)\n",
    "all_counts_by_year = all_counts_by_year.rename(columns={\"Year\": \"Counts\"})\n",
    "all_counts_by_year = all_counts_by_year.rename_axis('Year').reset_index()\n",
    "all_counts_by_year = all_counts_by_year.sort_values(by=['Year'])"
   ]
  },
  {
   "cell_type": "code",
   "execution_count": 10,
   "id": "6c7a5f10",
   "metadata": {},
   "outputs": [
    {
     "data": {
      "text/plain": [
       "36184"
      ]
     },
     "execution_count": 10,
     "metadata": {},
     "output_type": "execute_result"
    }
   ],
   "source": [
    "no_null_texts = all_results[~all_results['Text'].isnull()]\n",
    "len(no_null_texts)"
   ]
  },
  {
   "cell_type": "code",
   "execution_count": 11,
   "id": "d27593f5",
   "metadata": {},
   "outputs": [],
   "source": [
    "no_null_counts_by_year = no_null_texts['Year'].value_counts()\n",
    "no_null_counts_by_year = pd.DataFrame(no_null_counts_by_year)\n",
    "no_null_counts_by_year = no_null_counts_by_year.rename(columns={\"Year\": \"All\"})\n",
    "no_null_counts_by_year = no_null_counts_by_year.rename_axis('Year').reset_index()\n",
    "no_null_counts = no_null_counts_by_year.sort_values(by=['Year'])"
   ]
  },
  {
   "cell_type": "code",
   "execution_count": 12,
   "id": "c0c8e304",
   "metadata": {},
   "outputs": [
    {
     "data": {
      "text/plain": [
       "929"
      ]
     },
     "execution_count": 12,
     "metadata": {},
     "output_type": "execute_result"
    }
   ],
   "source": [
    "matched_texts = no_null_texts[no_null_texts['Text'].str.contains('autis|Autis|ASD|Asperger|asperger')]\n",
    "len(matched_texts)"
   ]
  },
  {
   "cell_type": "code",
   "execution_count": 1,
   "id": "039a408c",
   "metadata": {},
   "outputs": [
    {
     "ename": "NameError",
     "evalue": "name 'matched_texts' is not defined",
     "output_type": "error",
     "traceback": [
      "\u001b[1;31m---------------------------------------------------------------------------\u001b[0m",
      "\u001b[1;31mNameError\u001b[0m                                 Traceback (most recent call last)",
      "Cell \u001b[1;32mIn[1], line 1\u001b[0m\n\u001b[1;32m----> 1\u001b[0m matched_counts_by_year \u001b[38;5;241m=\u001b[39m \u001b[43mmatched_texts\u001b[49m[\u001b[38;5;124m'\u001b[39m\u001b[38;5;124mYear\u001b[39m\u001b[38;5;124m'\u001b[39m]\u001b[38;5;241m.\u001b[39mvalue_counts()\n\u001b[0;32m      2\u001b[0m matched_counts_by_year \u001b[38;5;241m=\u001b[39m pd\u001b[38;5;241m.\u001b[39mDataFrame(matched_counts_by_year)\n\u001b[0;32m      3\u001b[0m matched_counts_by_year \u001b[38;5;241m=\u001b[39m matched_counts_by_year\u001b[38;5;241m.\u001b[39mrename(columns\u001b[38;5;241m=\u001b[39m{\u001b[38;5;124m\"\u001b[39m\u001b[38;5;124mYear\u001b[39m\u001b[38;5;124m\"\u001b[39m: \u001b[38;5;124m\"\u001b[39m\u001b[38;5;124mMatches\u001b[39m\u001b[38;5;124m\"\u001b[39m})\n",
      "\u001b[1;31mNameError\u001b[0m: name 'matched_texts' is not defined"
     ]
    }
   ],
   "source": [
    "matched_counts_by_year = matched_texts['Year'].value_counts()\n",
    "matched_counts_by_year = pd.DataFrame(matched_counts_by_year)\n",
    "matched_counts_by_year = matched_counts_by_year.rename(columns={\"Year\": \"Matches\"})\n",
    "matched_counts_by_year = matched_counts_by_year.rename_axis('Year').reset_index()\n",
    "matched_counts_by_year = matched_counts_by_year.sort_values(by=['Year'])"
   ]
  },
  {
   "cell_type": "code",
   "execution_count": 13,
   "id": "85569dee",
   "metadata": {},
   "outputs": [
    {
     "data": {
      "image/png": "[encoded data removed]",
      "text/plain": [
       "<Figure size 640x480 with 1 Axes>"
      ]
     },
     "metadata": {},
     "output_type": "display_data"
    }
   ],
   "source": [
    "counts_year = no_null_counts_by_year.merge(matched_counts_by_year, on='Year', how='left')\n",
    "counts_year = counts_year.sort_values(by='Year')\n",
    "counts_year = counts_year.set_index('Year')\n",
    "counts_year.plot()\n",
    "plt.show()"
   ]
  },
  {
   "cell_type": "code",
   "execution_count": 14,
   "id": "95cf7e13",
   "metadata": {},
   "outputs": [
    {
     "name": "stdout",
     "output_type": "stream",
     "text": [
      "         All  Matches\n",
      "Year                 \n",
      "2001.0  2336       37\n",
      "2002.0  1266       19\n",
      "2003.0   996       16\n",
      "2004.0  2205       23\n",
      "2005.0  1520       25\n",
      "2006.0  1422       21\n",
      "2007.0  1541       23\n",
      "2008.0  1896       40\n",
      "2009.0  1704       26\n",
      "2010.0  1716       40\n",
      "2011.0  1967       55\n",
      "2012.0  1871       61\n",
      "2013.0  2373       86\n",
      "2014.0  2240       76\n",
      "2015.0  1951       63\n",
      "2016.0  2040       92\n",
      "2017.0   651       32\n",
      "2018.0   584       32\n",
      "2019.0  1437       56\n",
      "2020.0   693       30\n",
      "2021.0  1570       53\n"
     ]
    }
   ],
   "source": [
    "print(counts_year)"
   ]
  },
  {
   "cell_type": "markdown",
   "id": "d35a4c1c",
   "metadata": {},
   "source": [
    "# Count word frequencies \n",
    "## Bag of words\n",
    "\n",
    "Proceed through the 'bag of words' steps for the data frames with all texts and then again for the data frame with only the texts that mention the keywords of interest. This approach finds word frequencies for all years together. "
   ]
  },
  {
   "cell_type": "code",
   "execution_count": 15,
   "id": "a16684bc",
   "metadata": {},
   "outputs": [],
   "source": [
    "def bag_of_words_analysis(input, how_many):\n",
    "    holding_string = \"\"\n",
    "    for text in input['Text']:\n",
    "        holding_string += text\n",
    "    holding_string = word_tokenize(holding_string)\n",
    "    holding_string = [word.lower() for word in holding_string]\n",
    "    holding_string = [w.translate(table_punctuation) for w in holding_string]\n",
    "    holding_string = (list(filter(lambda x: x, holding_string)))\n",
    "    holding_string = [token for token in holding_string if not token.isdigit()]\n",
    "    holding_string = [token for token in holding_string if token not in stop_words]\n",
    "    holding_string = [porter.stem(token) for token in holding_string]\n",
    "    list_for_count = []\n",
    "    for token in holding_string:\n",
    "        list_for_count.append(token)\n",
    "    counts = Counter(list_for_count)\n",
    "    return counts.most_common(how_many)"
   ]
  },
  {
   "cell_type": "code",
   "execution_count": 18,
   "id": "c6d9cc62",
   "metadata": {},
   "outputs": [
    {
     "data": {
      "text/plain": [
       "[('gene', 67253),\n",
       " ('patient', 58161),\n",
       " ('mutat', 55352),\n",
       " ('none', 43264),\n",
       " ('genet', 41399),\n",
       " ('studi', 31669),\n",
       " ('use', 27697),\n",
       " ('case', 25964),\n",
       " ('result', 25136),\n",
       " ('associ', 24222),\n",
       " ('analysi', 24031),\n",
       " ('famili', 23560),\n",
       " ('diseas', 23473),\n",
       " ('chromosom', 22409),\n",
       " ('clinic', 22201)]"
      ]
     },
     "execution_count": 18,
     "metadata": {},
     "output_type": "execute_result"
    }
   ],
   "source": [
    "bag_of_words_analysis(no_null_texts, 15)"
   ]
  },
  {
   "cell_type": "code",
   "execution_count": 17,
   "id": "1e3f528e",
   "metadata": {},
   "outputs": [
    {
     "data": {
      "text/plain": [
       "[('none', 2273),\n",
       " ('patient', 2033),\n",
       " ('gene', 1887),\n",
       " ('genet', 1193),\n",
       " ('disord', 1072),\n",
       " ('autism', 1065),\n",
       " ('delet', 1062),\n",
       " ('syndrom', 1052),\n",
       " ('mutat', 962),\n",
       " ('case', 922),\n",
       " ('de', 891),\n",
       " ('clinic', 875),\n",
       " ('asd', 873),\n",
       " ('chromosom', 859),\n",
       " ('associ', 843)]"
      ]
     },
     "execution_count": 17,
     "metadata": {},
     "output_type": "execute_result"
    }
   ],
   "source": [
    "bag_of_words_analysis(matched_texts, 15)"
   ]
  },
  {
   "cell_type": "markdown",
   "id": "1292c709",
   "metadata": {},
   "source": [
    "### Word Frequency by year"
   ]
  },
  {
   "cell_type": "code",
   "execution_count": null,
   "id": "f75b28a5",
   "metadata": {},
   "outputs": [],
   "source": [
    "\n",
    "def track_word_over_time(input, target_word):\n",
    "    years = input['Year'].drop_duplicates()\n",
    "    target_counts = []\n",
    "    for year in years:\n",
    "        year_bag = \"\"\n",
    "        for text in input['Text'][input['Year']==year]:\n",
    "            year_bag += text\n",
    "        year_bag = word_tokenize(year_bag)\n",
    "        year_bag = [word.lower() for word in year_bag]\n",
    "        year_bag = [w.translate(table_punctuation) for w in year_bag]\n",
    "        year_bag = (list(filter(lambda x: x, year_bag)))\n",
    "        year_bag = [token for token in year_bag if not token.isdigit()]\n",
    "        year_bag = [token for token in year_bag if token not in stop_words]\n",
    "        year_bag = [porter.stem(token) for token in year_bag]\n",
    "        list_for_count = []\n",
    "        for token in year_bag:\n",
    "            list_for_count.append(token)\n",
    "        counts = Counter(list_for_count)\n",
    "        target_counts.append(counts[target_word])\n",
    "        \n",
    "    target_word_by_year = pd.DataFrame(list(zip(years, target_counts)), columns = ['Year', str(target_word)])\n",
    "    return target_word_by_year\n"
   ]
  },
  {
   "cell_type": "code",
   "execution_count": null,
   "id": "b48d1194",
   "metadata": {},
   "outputs": [],
   "source": [
    "ASD = track_word_over_time(no_null_texts, 'asd')\n",
    "autism = track_word_over_time(no_null_texts, 'autism')\n",
    "autistic = track_word_over_time(no_null_texts, 'autist')\n",
    "asperger = track_word_over_time(no_null_texts, 'asperger')\n",
    "\n",
    "target_words = ASD.merge(autism, on='Year').merge(asperger, on='Year').merge(autistic, on='Year')"
   ]
  },
  {
   "cell_type": "code",
   "execution_count": null,
   "id": "ca2a0008",
   "metadata": {},
   "outputs": [],
   "source": [
    "target_words = target_words.set_index('Year')\n",
    "target_words = target_words.sort_values(by=['Year'])\n",
    "target_words.plot.line()\n",
    "plt.show()"
   ]
  },
  {
   "cell_type": "code",
   "execution_count": null,
   "id": "ddc50968",
   "metadata": {},
   "outputs": [],
   "source": [
    "diseas = track_word_over_time(no_null_texts, 'diseas')\n",
    "disord = track_word_over_time(no_null_texts, 'disord')\n",
    "condition = track_word_over_time(no_null_texts, 'condit')\n",
    "syndrom = track_word_over_time(no_null_texts, 'syndrom')\n",
    "\n",
    "target_words_2 = diseas.merge(disord, on='Year').merge(syndrom, on='Year').merge(condition, on='Year')"
   ]
  },
  {
   "cell_type": "code",
   "execution_count": null,
   "id": "66d1113f",
   "metadata": {},
   "outputs": [],
   "source": [
    "target_words_2 = target_words_2.set_index('Year')\n",
    "target_words_2 = target_words_2.sort_values(by=['Year'])\n",
    "target_words_2.plot.line()\n",
    "plt.show()"
   ]
  },
  {
   "cell_type": "markdown",
   "id": "d68e741a",
   "metadata": {},
   "source": [
    "### Word frequency by session code\n"
   ]
  },
  {
   "cell_type": "code",
   "execution_count": null,
   "id": "6708467b",
   "metadata": {},
   "outputs": [],
   "source": [
    "\n"
   ]
  },
  {
   "cell_type": "code",
   "execution_count": null,
   "id": "0cb07bdf",
   "metadata": {},
   "outputs": [],
   "source": []
  },
  {
   "cell_type": "code",
   "execution_count": null,
   "id": "01707a5c",
   "metadata": {},
   "outputs": [],
   "source": []
  },
  {
   "cell_type": "code",
   "execution_count": null,
   "id": "e912a2a0",
   "metadata": {},
   "outputs": [],
   "source": []
  },
  {
   "cell_type": "code",
   "execution_count": null,
   "id": "9256560e",
   "metadata": {},
   "outputs": [],
   "source": []
  },
  {
   "cell_type": "code",
   "execution_count": null,
   "id": "dd52f4b0",
   "metadata": {},
   "outputs": [],
   "source": []
  },
  {
   "cell_type": "code",
   "execution_count": null,
   "id": "53f0f63c",
   "metadata": {},
   "outputs": [],
   "source": []
  }
 ],
 "metadata": {
  "kernelspec": {
   "display_name": "Python 3 (ipykernel)",
   "language": "python",
   "name": "python3"
  },
  "language_info": {
   "codemirror_mode": {
    "name": "ipython",
    "version": 3
   },
   "file_extension": ".py",
   "mimetype": "text/x-python",
   "name": "python",
   "nbconvert_exporter": "python",
   "pygments_lexer": "ipython3",
   "version": "3.11.1"
  }
 },
 "nbformat": 4,
 "nbformat_minor": 5
}
