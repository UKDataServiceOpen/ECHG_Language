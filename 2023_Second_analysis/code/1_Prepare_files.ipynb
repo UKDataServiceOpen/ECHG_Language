{
 "cells": [
  {
   "cell_type": "markdown",
   "id": "b46e5d4f",
   "metadata": {},
   "source": [
    "# Step 1 - Prepare\n",
    "\n",
    "Admittedly, quite a bit of work has already taken place. The .pdf files were sent off to a research support team that scraped the text out of them and stored the contents of those files in .csv files which have useful headers. Each .pdf file was processed to produce a single .csv file. This processing was not universally successful because the original .pdf files were not all encoded in the same format and most had a totally unique layout. In effect, this means that each .pdf to .csv process was not equally able to automatically capture and segment the text in the .pdf into .csv columns such as author, affiliation, session code, etc. This means that some of the .csv files have empty columns while other .csv files have contents written in the same columns. This also means that some of the rows are probably faulty. Obviously, a detailed manual inspection would correct some of these errors but total accuracy is not the point of this research effort. \n",
    "\n",
    "The file for 2004 was particularly tricky and needs separate attention because the output from the research support team was not structured in a way that matches the others very well. \n",
    "\n",
    "Nevertheless, we have all the files in a somewhat useful way that allows us to use natural language processing methods to investigate person-first and identity-first language. The next step is to import the various .csv files, consolidate them in one data frame, tidy up some of the erroneous rows and columns and then same the output in a new .csv. \n",
    "\n",
    "## Get ready\n",
    "\n",
    "All of my jupyter notebooks begin with some code cells focussed on downloading/importing necessary packages, loading useful short names, and so forth. \n",
    "\n",
    "I also like to check the relevant file locations before importing the .csv files to work on. "
   ]
  },
  {
   "cell_type": "code",
   "execution_count": 1,
   "id": "271c801d",
   "metadata": {},
   "outputs": [],
   "source": [
    "%%capture                         \n",
    "                                  # The above capture statement is optional. \n",
    "                                  # You can remove this to see the chatter normally produced during import steps. \n",
    "\n",
    "import os                         # os is a module for navigating your machine (e.g., file directories).\n",
    "\n",
    "import pandas as pd               # pandas is necessary for working with data frames - shortening it to pd just saves time. \n",
    "pd.set_option('display.max_colwidth', 200)   # some of the files are big so set a big column width. \n",
    "import numpy as np                # like pandas, numpy is useful and useful to have a short name for\n",
    "import statistics                 # gotsta have stats\n",
    "\n",
    "import csv                        # csv is for importing and working with csv files\n",
    "\n",
    "import re                         # things we need for RegEx corrections\n",
    "import string \n",
    "import math \n",
    "\n",
    "\n"
   ]
  },
  {
   "cell_type": "markdown",
   "id": "a88df952",
   "metadata": {},
   "source": [
    "## Import\n",
    "\n",
    "Having got all the packages we need and having checked the files, let's import them. This requires:\n",
    "* defining a function to import multiple files from a known location (better than one-by-one importing!)\n",
    "* checking the output of the mass-import for length and contents (since I suspect 2004 may not have worked correctly)\n",
    "* having found an error, investigating it a bit\n",
    "* correcting the error by removing problem rows, manually incorporating better rows, adding correct rows back in and checking"
   ]
  },
  {
   "cell_type": "code",
   "execution_count": 2,
   "id": "6da8258e",
   "metadata": {},
   "outputs": [
    {
     "name": "stdout",
     "output_type": "stream",
     "text": [
      "['EMPAG2018.csv', 'ESHG2001abstractICHG.csv', 'ESHG2002Abstracts.csv', 'ESHG2003Abstracts.csv', 'ESHG2004.csv', 'ESHG2005Abstracts.csv', 'ESHG2006Abstracts.csv', 'ESHG2007Abstracts.csv', 'ESHG2008Abstracts.csv', 'ESHG2009Abstracts.csv', 'ESHG2010Abstracts.csv', 'ESHG2011Abstracts.csv', 'ESHG2012Abstracts.csv', 'ESHG2013Abstracts.csv', 'ESHG2014Abstracts.csv', 'ESHG2015Abstracts.csv', 'ESHG2016Abstracts.csv', 'ESHG2017posters.csv', 'ESHG2017_electronic_posters.csv', 'ESHG2017_oral_presentation.csv', 'ESHG2018_electronic_posters.csv', 'ESHG2018_oral_presentation.csv', 'ESHG2018_posters.csv', 'ESHG2019_electronic_posters.csv', 'ESHG2019_oral_presentation.csv', 'ESHG2019_posters2.csv', 'ESHG2020_electronic_posters.csv', 'ESHG2020_eposters.csv', 'ESHG2020_interactive_eposter.csv', 'ESHG2020_oral_presentation.csv', 'ESHG2021_electronic_posters.csv', 'ESHG2021_eposters.csv', 'ESHG2021_oral_presentation.csv']\n"
     ]
    }
   ],
   "source": [
    "print(os.listdir(\"..\\\\results\")  )                                # check 'results' folder is not empty/has correct stuff"
   ]
  },
  {
   "cell_type": "code",
   "execution_count": 3,
   "id": "44c6ac09",
   "metadata": {},
   "outputs": [],
   "source": [
    "files = []                                                        # create empty list to hold names of files in 'results'\n",
    "def import_results(input):                                        # create a function import the contents of the\n",
    "    for f in os.listdir(input):                                   # folder named in the function input\n",
    "        f = pd.read_csv(input + '\\\\'+ f,encoding='latin1')        # by reading them in as csv files, one by one\n",
    "        files.append(f)                                           # appending the newly read csv file to a temporary list\n",
    "    output = pd.concat(files)                                     # then concatenating that temp list to the pre-defined list\n",
    "    return output                                                 # returning the output"
   ]
  },
  {
   "cell_type": "code",
   "execution_count": 5,
   "id": "75b74ce9",
   "metadata": {},
   "outputs": [
    {
     "data": {
      "text/plain": [
       "38879"
      ]
     },
     "execution_count": 5,
     "metadata": {},
     "output_type": "execute_result"
    }
   ],
   "source": [
    "all_results = import_results(\"..\\\\results\")      # run the newly defined function on the 'results' folder\n",
    "how_many_total = len(all_results)                # check the length \n",
    "how_many_total                                   # "
   ]
  },
  {
   "cell_type": "code",
   "execution_count": 6,
   "id": "10626120",
   "metadata": {},
   "outputs": [
    {
     "name": "stdout",
     "output_type": "stream",
     "text": [
      "0    2018.0\n",
      "0    2001.0\n",
      "0    2002.0\n",
      "0    2003.0\n",
      "0       NaN\n",
      "0    2005.0\n",
      "0    2006.0\n",
      "0    2007.0\n",
      "0    2008.0\n",
      "0    2009.0\n",
      "0    2010.0\n",
      "0    2011.0\n",
      "0    2012.0\n",
      "0    2013.0\n",
      "0    2014.0\n",
      "0    2015.0\n",
      "0    2016.0\n",
      "0    2017.0\n",
      "0    2019.0\n",
      "0    2020.0\n",
      "0    2021.0\n",
      "Name: Year, dtype: float64\n"
     ]
    }
   ],
   "source": [
    "print(all_results['Year'].drop_duplicates())     # quick check shows that 2004 (a known problem file) has not imported properly"
   ]
  },
  {
   "cell_type": "code",
   "execution_count": 7,
   "id": "9bc45084",
   "metadata": {},
   "outputs": [
    {
     "data": {
      "text/plain": [
       "2205"
      ]
     },
     "execution_count": 7,
     "metadata": {},
     "output_type": "execute_result"
    }
   ],
   "source": [
    "how_many_no_year = all_results['Year'].isna().sum() # Let's just count how many rows NaN instead of the year\n",
    "how_many_no_year"
   ]
  },
  {
   "cell_type": "code",
   "execution_count": 8,
   "id": "571d6639",
   "metadata": {},
   "outputs": [
    {
     "data": {
      "text/plain": [
       "36674"
      ]
     },
     "execution_count": 8,
     "metadata": {},
     "output_type": "execute_result"
    }
   ],
   "source": [
    "no_Nan_in_Year = all_results[~all_results['Year'].isnull()]          # remove the 'Year' = Nan rows\n",
    "how_many_without_Nan_year = len(no_Nan_in_Year)                      # check length again now that Nan rows are nemoved\n",
    "how_many_without_Nan_year"
   ]
  },
  {
   "cell_type": "code",
   "execution_count": 9,
   "id": "3f1c7cfe",
   "metadata": {},
   "outputs": [
    {
     "name": "stdout",
     "output_type": "stream",
     "text": [
      "36674\n",
      "36674\n"
     ]
    }
   ],
   "source": [
    "print (how_many_total - how_many_no_year )                   # print the total number minus the number that are missing a year\n",
    "print (how_many_without_Nan_year)                            # compare to the new total just to be sure"
   ]
  },
  {
   "cell_type": "code",
   "execution_count": 10,
   "id": "163269ee",
   "metadata": {},
   "outputs": [
    {
     "data": {
      "text/html": [
       "<div>\n",
       "<style scoped>\n",
       "    .dataframe tbody tr th:only-of-type {\n",
       "        vertical-align: middle;\n",
       "    }\n",
       "\n",
       "    .dataframe tbody tr th {\n",
       "        vertical-align: top;\n",
       "    }\n",
       "\n",
       "    .dataframe thead th {\n",
       "        text-align: right;\n",
       "    }\n",
       "</style>\n",
       "<table border=\"1\" class=\"dataframe\">\n",
       "  <thead>\n",
       "    <tr style=\"text-align: right;\">\n",
       "      <th></th>\n",
       "      <th>Year</th>\n",
       "      <th>Text</th>\n",
       "    </tr>\n",
       "  </thead>\n",
       "  <tbody>\n",
       "    <tr>\n",
       "      <th>0</th>\n",
       "      <td>2004</td>\n",
       "      <td>L01Multiple Sulfatase Defi ciency: Molecular defect and properties of the autosomal forms of epigenetic mosaicism can be caused by missing enzyme. retrotransposon activity. K. von Figura, M. Maria...</td>\n",
       "    </tr>\n",
       "    <tr>\n",
       "      <th>1</th>\n",
       "      <td>2004</td>\n",
       "      <td>L04Regional differences in genetic testing and counselling in Europe - An overview</td>\n",
       "    </tr>\n",
       "    <tr>\n",
       "      <th>2</th>\n",
       "      <td>2004</td>\n",
       "      <td>L02Biogenesis of mitochondria: Human diseases linked to S. Aymé protein transport, folding and degradation INSERM, Paris, France. W. Neupert</td>\n",
       "    </tr>\n",
       "    <tr>\n",
       "      <th>3</th>\n",
       "      <td>2004</td>\n",
       "      <td>L05Hereditary Breast/Ovarian Cancer risk: international energy present in oxidizable substrates is transduced into energy comparison of the acceptability of Preventive strategies stored in ATP. Mi...</td>\n",
       "    </tr>\n",
       "    <tr>\n",
       "      <th>4</th>\n",
       "      <td>2004</td>\n",
       "      <td>L06Variation in prenatal counselling in Europe: the example of highly motile within the cell. Quite a number of genes are involved Klinefelter in these processes which are closely linked to the in...</td>\n",
       "    </tr>\n",
       "    <tr>\n",
       "      <th>...</th>\n",
       "      <td>...</td>\n",
       "      <td>...</td>\n",
       "    </tr>\n",
       "    <tr>\n",
       "      <th>2200</th>\n",
       "      <td>2004</td>\n",
       "      <td>C7 A10 in the aetiology of cystinuria, we could not identify any  Affected children may have only one episode of illness or multiple  mutation in SL</td>\n",
       "    </tr>\n",
       "    <tr>\n",
       "      <th>2201</th>\n",
       "      <td>2004</td>\n",
       "      <td>C7 A10 in the two families. Nevertheless, there remains  recurrences. A common mutation (985A &gt;G) has been identiÜed  the possibility that other genes are involved in cystinuria. Further  among pa...</td>\n",
       "    </tr>\n",
       "    <tr>\n",
       "      <th>2202</th>\n",
       "      <td>2004</td>\n",
       "      <td>P0845Inactivation of the spasmolytic trefoil peptide (Tff2) leads  In this study, two unrelated MCAD patients, compound heterozygous  to increased expression of additional gastroprotective factors...</td>\n",
       "    </tr>\n",
       "    <tr>\n",
       "      <th>2203</th>\n",
       "      <td>2004</td>\n",
       "      <td>P0843MCDR1 Locus - Screening for candidate genes. functional disturbance in stomach and gut, Tff2-/- constructs do  N. Udar1, M. Chalukya1, R. Silva-Garcia1, J. Yeh1, P. Wong1,2, K. Small1  not di...</td>\n",
       "    </tr>\n",
       "    <tr>\n",
       "      <th>2204</th>\n",
       "      <td>2004</td>\n",
       "      <td>P0846RApidTRAP robot assisted TRAP assay non coding was carried out on more than 12 probands representing  J. P. Jakupciak1, W. Wang2  different families. Although the gene represents a good candi...</td>\n",
       "    </tr>\n",
       "  </tbody>\n",
       "</table>\n",
       "<p>2205 rows × 2 columns</p>\n",
       "</div>"
      ],
      "text/plain": [
       "      Year  \\\n",
       "0     2004   \n",
       "1     2004   \n",
       "2     2004   \n",
       "3     2004   \n",
       "4     2004   \n",
       "...    ...   \n",
       "2200  2004   \n",
       "2201  2004   \n",
       "2202  2004   \n",
       "2203  2004   \n",
       "2204  2004   \n",
       "\n",
       "                                                                                                                                                                                                         Text  \n",
       "0     L01Multiple Sulfatase Defi ciency: Molecular defect and properties of the autosomal forms of epigenetic mosaicism can be caused by missing enzyme. retrotransposon activity. K. von Figura, M. Maria...  \n",
       "1                                                                                                                         L04Regional differences in genetic testing and counselling in Europe - An overview   \n",
       "2                                                                L02Biogenesis of mitochondria: Human diseases linked to S. Aymé protein transport, folding and degradation INSERM, Paris, France. W. Neupert  \n",
       "3     L05Hereditary Breast/Ovarian Cancer risk: international energy present in oxidizable substrates is transduced into energy comparison of the acceptability of Preventive strategies stored in ATP. Mi...  \n",
       "4     L06Variation in prenatal counselling in Europe: the example of highly motile within the cell. Quite a number of genes are involved Klinefelter in these processes which are closely linked to the in...  \n",
       "...                                                                                                                                                                                                       ...  \n",
       "2200                                                     C7 A10 in the aetiology of cystinuria, we could not identify any  Affected children may have only one episode of illness or multiple  mutation in SL  \n",
       "2201  C7 A10 in the two families. Nevertheless, there remains  recurrences. A common mutation (985A >G) has been identiÜed  the possibility that other genes are involved in cystinuria. Further  among pa...  \n",
       "2202  P0845Inactivation of the spasmolytic trefoil peptide (Tff2) leads  In this study, two unrelated MCAD patients, compound heterozygous  to increased expression of additional gastroprotective factors...  \n",
       "2203  P0843MCDR1 Locus - Screening for candidate genes. functional disturbance in stomach and gut, Tff2-/- constructs do  N. Udar1, M. Chalukya1, R. Silva-Garcia1, J. Yeh1, P. Wong1,2, K. Small1  not di...  \n",
       "2204  P0846RApidTRAP robot assisted TRAP assay non coding was carried out on more than 12 probands representing  J. P. Jakupciak1, W. Wang2  different families. Although the gene represents a good candi...  \n",
       "\n",
       "[2205 rows x 2 columns]"
      ]
     },
     "execution_count": 10,
     "metadata": {},
     "output_type": "execute_result"
    }
   ],
   "source": [
    "year_04 = pd.read_csv('..\\\\results\\\\ESHG2004.csv')      # specifically read in year 2004 (it needed a bit of extra work)\n",
    "year_04 = year_04.iloc[:, [0,1]]                        # cut a two-column slice out of it with only the year and text\n",
    "year_04                                                 # check how it looks (which also shows us how many rows are in it!)"
   ]
  },
  {
   "cell_type": "code",
   "execution_count": 11,
   "id": "4d78328d",
   "metadata": {},
   "outputs": [],
   "source": [
    "all_results_corrected = pd.concat([no_Nan_in_Year, year_04])     # add those specially imported 2004 rows back into the output\n",
    "                                                                 # which had the weird no-year rows removed"
   ]
  },
  {
   "cell_type": "code",
   "execution_count": 12,
   "id": "4a7790cb",
   "metadata": {},
   "outputs": [
    {
     "name": "stdout",
     "output_type": "stream",
     "text": [
      "The numbers add up!\n"
     ]
    }
   ],
   "source": [
    "how_many_total_new = len(all_results_corrected)                  # check length again - are we back up to where we started?\n",
    "\n",
    "if how_many_total == how_many_total_new :                        # write a quick check to be sure the totals before and after\n",
    "    print('The numbers add up!')                                 # removing/replacing the 2004 rows are the same. "
   ]
  },
  {
   "cell_type": "markdown",
   "id": "a0560fad",
   "metadata": {},
   "source": [
    "## Remove rows that imported correctly for reasons unrelated to 2004. \n",
    "\n",
    "Having imported all the various .csv files and storing them in one data frame (even that tricksy 2004 .csv) I do a bit of clean up. Turning .pdf files to .csv is not a straightforward or fool proof process, so I want to remove any rows that have nothing in the 'Text' column and check the length again to see how many we have lost. Then I want to remove any columns that are entirely empty (which is probably the result of badly imported rows that are shifted over) and have a quick look at the remaining columns and what might be in them. "
   ]
  },
  {
   "cell_type": "code",
   "execution_count": 13,
   "id": "6c7a5f10",
   "metadata": {},
   "outputs": [
    {
     "name": "stdout",
     "output_type": "stream",
     "text": [
      "38228\n",
      "651\n"
     ]
    }
   ],
   "source": [
    "no_null_texts = all_results_corrected[~all_results_corrected['Text'].isnull()] \n",
    "                                                                    # remove any rows where the 'text' column is empty\n",
    "how_many_no_null_texts = len(no_null_texts)                         # check length again - still making sense?\n",
    "print (how_many_no_null_texts)\n",
    "print (how_many_total_new - how_many_no_null_texts)"
   ]
  },
  {
   "cell_type": "code",
   "execution_count": 14,
   "id": "3ddac587",
   "metadata": {},
   "outputs": [
    {
     "name": "stdout",
     "output_type": "stream",
     "text": [
      "38228\n"
     ]
    },
    {
     "data": {
      "text/html": [
       "<div>\n",
       "<style scoped>\n",
       "    .dataframe tbody tr th:only-of-type {\n",
       "        vertical-align: middle;\n",
       "    }\n",
       "\n",
       "    .dataframe tbody tr th {\n",
       "        vertical-align: top;\n",
       "    }\n",
       "\n",
       "    .dataframe thead th {\n",
       "        text-align: right;\n",
       "    }\n",
       "</style>\n",
       "<table border=\"1\" class=\"dataframe\">\n",
       "  <thead>\n",
       "    <tr style=\"text-align: right;\">\n",
       "      <th></th>\n",
       "      <th>Title</th>\n",
       "      <th>Session_Code</th>\n",
       "      <th>Author</th>\n",
       "      <th>Affiliations</th>\n",
       "      <th>Text</th>\n",
       "      <th>Year</th>\n",
       "      <th>Authors_and_Affiliations</th>\n",
       "      <th>Email</th>\n",
       "    </tr>\n",
       "  </thead>\n",
       "  <tbody>\n",
       "    <tr>\n",
       "      <th>0</th>\n",
       "      <td>.-(TenthousandEuros,orequivalentvalueinkind)peryearpercompanyareconsidered â\\x80\\x9cModestâ\\x80\\x9d. Contributions above EUR 10 000.- per year are considered â\\x80\\x9cSignificantâ\\x80\\x9d. Oral pr...</td>\n",
       "      <td>EUR10000</td>\n",
       "      <td>NaN</td>\n",
       "      <td>NaN</td>\n",
       "      <td>.-(TenthousandEuros,orequivalentvalueinkind)peryearpercompanyareconsidered â\\x80\\x9cModestâ\\x80\\x9d. Contributions above EUR 10 000.- per year are considered â\\x80\\x9cSignificantâ\\x80\\x9d. Oral pr...</td>\n",
       "      <td>2018.0</td>\n",
       "      <td>NaN</td>\n",
       "      <td>NaN</td>\n",
       "    </tr>\n",
       "    <tr>\n",
       "      <th>1</th>\n",
       "      <td>mentioned more than 60/169 reasons. The reasons could The ethics of clinical applications of germline genome becategorisedinto:(i)qualityoflifeofaffectedindividuals; modification:a systematic rev...</td>\n",
       "      <td>EBPL1.1</td>\n",
       "      <td>NaN</td>\n",
       "      <td>NaN</td>\n",
       "      <td>mentioned more than 60/169 reasons. The reasons could The ethics of clinical applications of germline genome becategorisedinto:(i)qualityoflifeofaffectedindividuals; modification:a systematic rev...</td>\n",
       "      <td>2018.0</td>\n",
       "      <td>NaN</td>\n",
       "      <td>NaN</td>\n",
       "    </tr>\n",
       "    <tr>\n",
       "      <th>2</th>\n",
       "      <td>implications.Asystematicoverviewofreasonsforbeingin Enablinginformed opinionsabout germline editingamong favouroragainstgermlinegenomemodificationismissing. the general public: a pilot study We s...</td>\n",
       "      <td>EBPL1.2</td>\n",
       "      <td>NaN</td>\n",
       "      <td>NaN</td>\n",
       "      <td>implications.Asystematicoverviewofreasonsforbeingin Enablinginformed opinionsabout germline editingamong favouroragainstgermlinegenomemodificationismissing. the general public: a pilot study We s...</td>\n",
       "      <td>2018.0</td>\n",
       "      <td>NaN</td>\n",
       "      <td>NaN</td>\n",
       "    </tr>\n",
       "    <tr>\n",
       "      <th>3</th>\n",
       "      <td>measurement this ratio flipped. The PRISM-IMPACT study: What are the hopes and Discussion/conclusion: Our pilot study demonstrates a expectations of families and health care professionals signifi...</td>\n",
       "      <td>EBPL1.4</td>\n",
       "      <td>NaN</td>\n",
       "      <td>NaN</td>\n",
       "      <td>measurement this ratio flipped. The PRISM-IMPACT study: What are the hopes and Discussion/conclusion: Our pilot study demonstrates a expectations of families and health care professionals signifi...</td>\n",
       "      <td>2018.0</td>\n",
       "      <td>NaN</td>\n",
       "      <td>NaN</td>\n",
       "    </tr>\n",
       "    <tr>\n",
       "      <th>4</th>\n",
       "      <td>Cancer Centre, Sydney Childrenâ\\x80\\x99s Hospital, Randwick, NSW, Informedconsentinahumangermlinegeneeditingstudy- Australia, 3Hereditary Cancer Centre, Prince of Wales ethical issues Hospital, S...</td>\n",
       "      <td>EBPL1.3</td>\n",
       "      <td>NaN</td>\n",
       "      <td>NaN</td>\n",
       "      <td>Cancer Centre, Sydney Childrenâ\\x80\\x99s Hospital, Randwick, NSW, Informedconsentinahumangermlinegeneeditingstudy- Australia, 3Hereditary Cancer Centre, Prince of Wales ethical issues Hospital, S...</td>\n",
       "      <td>2018.0</td>\n",
       "      <td>NaN</td>\n",
       "      <td>NaN</td>\n",
       "    </tr>\n",
       "    <tr>\n",
       "      <th>...</th>\n",
       "      <td>...</td>\n",
       "      <td>...</td>\n",
       "      <td>...</td>\n",
       "      <td>...</td>\n",
       "      <td>...</td>\n",
       "      <td>...</td>\n",
       "      <td>...</td>\n",
       "      <td>...</td>\n",
       "    </tr>\n",
       "    <tr>\n",
       "      <th>2200</th>\n",
       "      <td>NaN</td>\n",
       "      <td>NaN</td>\n",
       "      <td>NaN</td>\n",
       "      <td>NaN</td>\n",
       "      <td>C7 A10 in the aetiology of cystinuria, we could not identify any  Affected children may have only one episode of illness or multiple  mutation in SL</td>\n",
       "      <td>2004.0</td>\n",
       "      <td>NaN</td>\n",
       "      <td>NaN</td>\n",
       "    </tr>\n",
       "    <tr>\n",
       "      <th>2201</th>\n",
       "      <td>NaN</td>\n",
       "      <td>NaN</td>\n",
       "      <td>NaN</td>\n",
       "      <td>NaN</td>\n",
       "      <td>C7 A10 in the two families. Nevertheless, there remains  recurrences. A common mutation (985A &gt;G) has been identiÜed  the possibility that other genes are involved in cystinuria. Further  among pa...</td>\n",
       "      <td>2004.0</td>\n",
       "      <td>NaN</td>\n",
       "      <td>NaN</td>\n",
       "    </tr>\n",
       "    <tr>\n",
       "      <th>2202</th>\n",
       "      <td>NaN</td>\n",
       "      <td>NaN</td>\n",
       "      <td>NaN</td>\n",
       "      <td>NaN</td>\n",
       "      <td>P0845Inactivation of the spasmolytic trefoil peptide (Tff2) leads  In this study, two unrelated MCAD patients, compound heterozygous  to increased expression of additional gastroprotective factors...</td>\n",
       "      <td>2004.0</td>\n",
       "      <td>NaN</td>\n",
       "      <td>NaN</td>\n",
       "    </tr>\n",
       "    <tr>\n",
       "      <th>2203</th>\n",
       "      <td>NaN</td>\n",
       "      <td>NaN</td>\n",
       "      <td>NaN</td>\n",
       "      <td>NaN</td>\n",
       "      <td>P0843MCDR1 Locus - Screening for candidate genes. functional disturbance in stomach and gut, Tff2-/- constructs do  N. Udar1, M. Chalukya1, R. Silva-Garcia1, J. Yeh1, P. Wong1,2, K. Small1  not di...</td>\n",
       "      <td>2004.0</td>\n",
       "      <td>NaN</td>\n",
       "      <td>NaN</td>\n",
       "    </tr>\n",
       "    <tr>\n",
       "      <th>2204</th>\n",
       "      <td>NaN</td>\n",
       "      <td>NaN</td>\n",
       "      <td>NaN</td>\n",
       "      <td>NaN</td>\n",
       "      <td>P0846RApidTRAP robot assisted TRAP assay non coding was carried out on more than 12 probands representing  J. P. Jakupciak1, W. Wang2  different families. Although the gene represents a good candi...</td>\n",
       "      <td>2004.0</td>\n",
       "      <td>NaN</td>\n",
       "      <td>NaN</td>\n",
       "    </tr>\n",
       "  </tbody>\n",
       "</table>\n",
       "<p>38228 rows × 8 columns</p>\n",
       "</div>"
      ],
      "text/plain": [
       "                                                                                                                                                                                                        Title  \\\n",
       "0     .-(TenthousandEuros,orequivalentvalueinkind)peryearpercompanyareconsidered â\\x80\\x9cModestâ\\x80\\x9d. Contributions above EUR 10 000.- per year are considered â\\x80\\x9cSignificantâ\\x80\\x9d. Oral pr...   \n",
       "1      mentioned more than 60/169 reasons. The reasons could The ethics of clinical applications of germline genome becategorisedinto:(i)qualityoflifeofaffectedindividuals; modification:a systematic rev...   \n",
       "2      implications.Asystematicoverviewofreasonsforbeingin Enablinginformed opinionsabout germline editingamong favouroragainstgermlinegenomemodificationismissing. the general public: a pilot study We s...   \n",
       "3      measurement this ratio flipped. The PRISM-IMPACT study: What are the hopes and Discussion/conclusion: Our pilot study demonstrates a expectations of families and health care professionals signifi...   \n",
       "4      Cancer Centre, Sydney Childrenâ\\x80\\x99s Hospital, Randwick, NSW, Informedconsentinahumangermlinegeneeditingstudy- Australia, 3Hereditary Cancer Centre, Prince of Wales ethical issues Hospital, S...   \n",
       "...                                                                                                                                                                                                       ...   \n",
       "2200                                                                                                                                                                                                      NaN   \n",
       "2201                                                                                                                                                                                                      NaN   \n",
       "2202                                                                                                                                                                                                      NaN   \n",
       "2203                                                                                                                                                                                                      NaN   \n",
       "2204                                                                                                                                                                                                      NaN   \n",
       "\n",
       "     Session_Code Author Affiliations  \\\n",
       "0        EUR10000    NaN          NaN   \n",
       "1         EBPL1.1    NaN          NaN   \n",
       "2         EBPL1.2    NaN          NaN   \n",
       "3         EBPL1.4    NaN          NaN   \n",
       "4         EBPL1.3    NaN          NaN   \n",
       "...           ...    ...          ...   \n",
       "2200          NaN    NaN          NaN   \n",
       "2201          NaN    NaN          NaN   \n",
       "2202          NaN    NaN          NaN   \n",
       "2203          NaN    NaN          NaN   \n",
       "2204          NaN    NaN          NaN   \n",
       "\n",
       "                                                                                                                                                                                                         Text  \\\n",
       "0     .-(TenthousandEuros,orequivalentvalueinkind)peryearpercompanyareconsidered â\\x80\\x9cModestâ\\x80\\x9d. Contributions above EUR 10 000.- per year are considered â\\x80\\x9cSignificantâ\\x80\\x9d. Oral pr...   \n",
       "1      mentioned more than 60/169 reasons. The reasons could The ethics of clinical applications of germline genome becategorisedinto:(i)qualityoflifeofaffectedindividuals; modification:a systematic rev...   \n",
       "2      implications.Asystematicoverviewofreasonsforbeingin Enablinginformed opinionsabout germline editingamong favouroragainstgermlinegenomemodificationismissing. the general public: a pilot study We s...   \n",
       "3      measurement this ratio flipped. The PRISM-IMPACT study: What are the hopes and Discussion/conclusion: Our pilot study demonstrates a expectations of families and health care professionals signifi...   \n",
       "4      Cancer Centre, Sydney Childrenâ\\x80\\x99s Hospital, Randwick, NSW, Informedconsentinahumangermlinegeneeditingstudy- Australia, 3Hereditary Cancer Centre, Prince of Wales ethical issues Hospital, S...   \n",
       "...                                                                                                                                                                                                       ...   \n",
       "2200                                                     C7 A10 in the aetiology of cystinuria, we could not identify any  Affected children may have only one episode of illness or multiple  mutation in SL   \n",
       "2201  C7 A10 in the two families. Nevertheless, there remains  recurrences. A common mutation (985A >G) has been identiÜed  the possibility that other genes are involved in cystinuria. Further  among pa...   \n",
       "2202  P0845Inactivation of the spasmolytic trefoil peptide (Tff2) leads  In this study, two unrelated MCAD patients, compound heterozygous  to increased expression of additional gastroprotective factors...   \n",
       "2203  P0843MCDR1 Locus - Screening for candidate genes. functional disturbance in stomach and gut, Tff2-/- constructs do  N. Udar1, M. Chalukya1, R. Silva-Garcia1, J. Yeh1, P. Wong1,2, K. Small1  not di...   \n",
       "2204  P0846RApidTRAP robot assisted TRAP assay non coding was carried out on more than 12 probands representing  J. P. Jakupciak1, W. Wang2  different families. Although the gene represents a good candi...   \n",
       "\n",
       "        Year Authors_and_Affiliations Email  \n",
       "0     2018.0                      NaN   NaN  \n",
       "1     2018.0                      NaN   NaN  \n",
       "2     2018.0                      NaN   NaN  \n",
       "3     2018.0                      NaN   NaN  \n",
       "4     2018.0                      NaN   NaN  \n",
       "...      ...                      ...   ...  \n",
       "2200  2004.0                      NaN   NaN  \n",
       "2201  2004.0                      NaN   NaN  \n",
       "2202  2004.0                      NaN   NaN  \n",
       "2203  2004.0                      NaN   NaN  \n",
       "2204  2004.0                      NaN   NaN  \n",
       "\n",
       "[38228 rows x 8 columns]"
      ]
     },
     "execution_count": 14,
     "metadata": {},
     "output_type": "execute_result"
    }
   ],
   "source": [
    "no_null_texts = no_null_texts.dropna(axis=1, how=\"all\")   # remove all columns which contain only NaNs\n",
    "print(len(no_null_texts))                                 # just check the length has not changed\n",
    "no_null_texts                                             # have a nosy at which columns remain, what it is them, etc. "
   ]
  },
  {
   "cell_type": "markdown",
   "id": "f8d103a0",
   "metadata": {},
   "source": [
    "## Clean up the 'Text' column a little bit\n",
    "\n",
    "It was not obvious what text cleaning steps were most valuable in the first passes through the data. However, having run through later steps several times, I have concluded that this is the best place to insert a few steps relating to tidying up the texts. The first tidying step does basic things like removing multiple sequential whitespaces and inserting spaces when two sentences have been jammed together. \n",
    "\n",
    "Following that, the second tiyding step cleans up some problems with the keywords of interest, some of which were only noted in very late stages of processing but which are perhaps useful to correct early on. This second tidying step also consolidates on a small number of ways that the keywords of interest are often used. For example, this would turn 'Asperger's syndrome', 'Asperger syndrome disorder', 'autistic spectrum disorder' and 'autism spectrum disorder' into 'ASD'.   "
   ]
  },
  {
   "cell_type": "code",
   "execution_count": 15,
   "id": "2d56d4c8",
   "metadata": {},
   "outputs": [],
   "source": [
    "def remove_spacing_errors (input):\n",
    "    no_extra_spaces = re.sub(r'(\\s)(\\s+)', r'\\1', input)                        # turn 2+ sequential whitespaces into 1\n",
    "    no_run_ons1 = re.sub(r'([a-z][.|?|;])([A-Z])', r'\\1 \\2', no_extra_spaces)   # removes run-ons (e.g. \"word.New sentence \")\n",
    "    no_run_ons2 = re.sub(r'([A-Z][.|?|;])([A-Z])', r'\\1 \\2', no_run_ons1)       # removes run-ons (e.g. \"ACRONYM.New sentence \")\n",
    "    space1 = re.sub(r'([a-z]+)(disorder|disability|spectrum|disease)', r'\\1 \\2', no_run_ons2) # adds a space in select run-ons\n",
    "    space2 = re.sub(r'(spec) (trum)', r'\\1\\2', space1)                          # removes a space between 'spec' and 'trum'\n",
    "    space3 = re.sub(r'(psychopa) (thy)', r'\\1\\2', space2)                          # removes a space between 'spec' and 'trum'\n",
    "\n",
    "    return(space3)"
   ]
  },
  {
   "cell_type": "code",
   "execution_count": 16,
   "id": "c9e357be",
   "metadata": {},
   "outputs": [
    {
     "data": {
      "text/plain": [
       "\"word. New sentence extra spaces test. ACRONYM. New sentence Asperger's disorder s disorder Autistic disability autism spectrum autism disease spectrum \""
      ]
     },
     "execution_count": 16,
     "metadata": {},
     "output_type": "execute_result"
    }
   ],
   "source": [
    " # Optional cell code block to test or understand what the remove_spacing_errors function does\n",
    "    \n",
    "spacing_error_test = \"word.New sentence   extra spaces    test. \\\n",
    "            ACRONYM.New sentence    \\\n",
    "            Asperger'sdisorder sdisorder Autisticdisability autismspectrum \\\n",
    "            autismdisease spec trum \"\n",
    "\n",
    "remove_spacing_errors(spacing_error_test)"
   ]
  },
  {
   "cell_type": "code",
   "execution_count": 17,
   "id": "43395654",
   "metadata": {},
   "outputs": [],
   "source": [
    "no_run_ons = [remove_spacing_errors(abstract) for abstract in no_null_texts['Text'] ] \n",
    "                                             # create list of texts without extra spaces/run-on erors \n",
    "                                             # this is to improve sentence tokenisation later \n",
    "no_null_texts['Text'] = no_run_ons           # Overwrite the 'Text' column with the new no extra space/run-on abstract list"
   ]
  },
  {
   "cell_type": "code",
   "execution_count": 23,
   "id": "aa834092",
   "metadata": {},
   "outputs": [],
   "source": [
    "def tidy_up_terminology (input):\n",
    "    no_apost = re.sub(r'([Aa]sperger)(\\'?)(s?)', r'asperger', input)   # Standardises case and apostrophe in '[Aa]sperger's'\n",
    "    lower1 = re.sub(r'[Ss]pectrums|[Ss]pectra|[Ss]pectrum', r'spectrum', no_apost) # lowercases / removes plurals for spectrum\n",
    "    lower2 = re.sub(r'[Ss]yndromes|[Ss]yndrome', r'syndrome', lower1)              # lowercases / removes plurals for syndrome\n",
    "    lower3 = re.sub(r'[Dd]isorders|Disorder', r'disorder', lower2)                 # lowercases / removes plurals for disorder\n",
    "    lower4 = re.sub(r'[Dd]iseases|Disease', r'disease', lower3)                    # lowercases / removes plurals for disease\n",
    "    lower5 = re.sub(r'[Aa]utis', r'autis', lower4)                                  # lowercases 'Autism' and 'Autistic'\n",
    "    plur = re.sub(r'ASD([\\'*?])(s?)', r'ASD', lower5)                            # removes plural for more than one ASD\n",
    "    aut0 = re.sub(r'(asperger )(autis)', r'\\2', plur)                  # removes '[Aa]sperger' from '[Aa]sperger' autis'\n",
    "    aut1 = re.sub(r'(autistic )(psychopathy)', r'autism', aut0)           # standardises 'autistic psychopathy' to 'autism'\n",
    "    stan0 = re.sub(r'(autism|autistic|asperger) syndrome', r'autism', aut1 )       # turns select 'syndrome' to 'spectrum'\n",
    "    stan1 = re.sub(r'(autism|autistic|asperger) spectrum', r'autism', stan0)       # turns select 'spectrum' to 'autism'\n",
    "    stan2 = re.sub(r'(autism|autistic|asperger) disease', r'autism', stan1)        # turns select 'disease' to 'autism'\n",
    "    stan3 = re.sub(r'(autism|autistic|asperger) disability', r'autism', stan2)     # turns select 'disability' to 'autism'\n",
    "    stan4 = re.sub(r'(autism|autistic|asperger) disorder', r'autism', stan3)       # turns select 'disorder' to 'autism'\n",
    "    stan5 = re.sub(r'(autism|autistic|asperger) \\(ASD\\)', r'autism', stan4)     # turns select former abbreviations to 'autism'\n",
    "    stan6 = re.sub(r'(autism|autistic|asperger) \\(AS\\)', r'autism', stan5)      # turns select former abbreviations to 'autism'\n",
    "    stan7 = re.sub(r'(AS)([^\\w])', r'ASD\\2 ', stan6)                  # standardises 'AS.' to 'ASD.' \n",
    "    stan8 = re.sub(r'AS ', r'ASD ', stan7)                              # standardises 'AS ' to 'ASD ' - note trailing space\n",
    "\n",
    "    return(stan8)"
   ]
  },
  {
   "cell_type": "code",
   "execution_count": 24,
   "id": "f59b747c",
   "metadata": {},
   "outputs": [
    {
     "data": {
      "text/plain": [
       "'1 asperger asperger autism            2 spectrum syndrome syndrome            3 disorder disorder disease disease ASDs ASD            4 autism autism           5 autism            6 autism            7 autism  autism           8 autism autism            9 autism            10 autism            11 autism            12 autism            13 autism           14 autism            15 ASD.  ASD!  ASQ '"
      ]
     },
     "execution_count": 24,
     "metadata": {},
     "output_type": "execute_result"
    }
   ],
   "source": [
    " # Optional cell code block to test or understand what the tidy_up_terminology function does\n",
    "    \n",
    "tidy_test = \"1 Aspergers Asperger's Asperger Spectrum \\\n",
    "            2 Spectra Syndrome Syndrome \\\n",
    "            3 Disorders disorders Diseases disease ASDs ASD's \\\n",
    "            4 asperger's autism autistic psychopathy\\\n",
    "            5 autistic syndrome \\\n",
    "            6 autism disease \\\n",
    "            7 autistic disability  autism spectrum (AS)\\\n",
    "            8 asperger disability autistic disease \\\n",
    "            9 autism spectrum disorder (ASD) \\\n",
    "            10 autism spectrum (ASD) \\\n",
    "            11 autistic spectrum disease (ASD) \\\n",
    "            12 autism (ASD) \\\n",
    "            13 Asperger syndrome (AS)\\\n",
    "            14 autistic spectrum \\\n",
    "            15 AS. AS! ASQ \"\n",
    "\n",
    "tidy_up_terminology(tidy_test)"
   ]
  },
  {
   "cell_type": "code",
   "execution_count": 25,
   "id": "97f4b0a3",
   "metadata": {},
   "outputs": [],
   "source": [
    "tidy_text = [tidy_up_terminology(abstract) for abstract in no_null_texts['Text'] ] \n",
    "                                             # create abstract list that has the terminology tidied and standardised\n",
    "                                             # this is to improve pattern recognition later\n",
    "no_null_texts['Text'] = tidy_text            # Over-write the 'Text' column with the tidied/standardised version"
   ]
  },
  {
   "cell_type": "code",
   "execution_count": 26,
   "id": "b020a4c9",
   "metadata": {},
   "outputs": [],
   "source": [
    "backup = no_null_texts         # A backup may be useful at this step if you want to adjust/test the tidy functions more"
   ]
  },
  {
   "cell_type": "code",
   "execution_count": 27,
   "id": "e4d31104",
   "metadata": {},
   "outputs": [],
   "source": [
    "no_null_texts = backup          # If you need the backup, re-run this step. "
   ]
  },
  {
   "cell_type": "markdown",
   "id": "3bce6eab",
   "metadata": {},
   "source": [
    "## Save the consolidated output as .csv\n",
    "\n",
    "Having imported, consolidated, tidied and checked everything, I want to save the output in a new .csv file. It is important to use a good name for the file, because bad file names are the bane of my existance. \n",
    "\n",
    "For simplicity sake, I will also create a new data frame containing only those rows for which the 'Text' column contains one of the keywords of interest, check its length and save it as a new .csv file with a good name. "
   ]
  },
  {
   "cell_type": "code",
   "execution_count": 28,
   "id": "fc1cdfc3",
   "metadata": {},
   "outputs": [
    {
     "data": {
      "text/plain": [
       "pandas.core.frame.DataFrame"
      ]
     },
     "execution_count": 28,
     "metadata": {},
     "output_type": "execute_result"
    }
   ],
   "source": [
    "type(no_null_texts)                          # Let's just double check what kind of a thing 'no_null_texts' is\n",
    "                                             # This lets us know what kind of write-out-to-csv function we need."
   ]
  },
  {
   "cell_type": "code",
   "execution_count": 29,
   "id": "cc35185c",
   "metadata": {},
   "outputs": [
    {
     "data": {
      "text/html": [
       "<div>\n",
       "<style scoped>\n",
       "    .dataframe tbody tr th:only-of-type {\n",
       "        vertical-align: middle;\n",
       "    }\n",
       "\n",
       "    .dataframe tbody tr th {\n",
       "        vertical-align: top;\n",
       "    }\n",
       "\n",
       "    .dataframe thead th {\n",
       "        text-align: right;\n",
       "    }\n",
       "</style>\n",
       "<table border=\"1\" class=\"dataframe\">\n",
       "  <thead>\n",
       "    <tr style=\"text-align: right;\">\n",
       "      <th></th>\n",
       "      <th>Title</th>\n",
       "      <th>Session_Code</th>\n",
       "      <th>Author</th>\n",
       "      <th>Affiliations</th>\n",
       "      <th>Text</th>\n",
       "      <th>Year</th>\n",
       "      <th>Authors_and_Affiliations</th>\n",
       "      <th>Email</th>\n",
       "    </tr>\n",
       "  </thead>\n",
       "  <tbody>\n",
       "    <tr>\n",
       "      <th>0</th>\n",
       "      <td>.-(TenthousandEuros,orequivalentvalueinkind)peryearpercompanyareconsidered â\\x80\\x9cModestâ\\x80\\x9d. Contributions above EUR 10 000.- per year are considered â\\x80\\x9cSignificantâ\\x80\\x9d. Oral pr...</td>\n",
       "      <td>EUR10000</td>\n",
       "      <td>NaN</td>\n",
       "      <td>NaN</td>\n",
       "      <td>.-(TenthousandEuros,orequivalentvalueinkind)peryearpercompanyareconsidered â\\x80\\x9cModestâ\\x80\\x9d. Contributions above EUR 10 000.- per year are considered â\\x80\\x9cSignificantâ\\x80\\x9d. Oral pr...</td>\n",
       "      <td>2018.0</td>\n",
       "      <td>NaN</td>\n",
       "      <td>NaN</td>\n",
       "    </tr>\n",
       "    <tr>\n",
       "      <th>1</th>\n",
       "      <td>mentioned more than 60/169 reasons. The reasons could The ethics of clinical applications of germline genome becategorisedinto:(i)qualityoflifeofaffectedindividuals; modification:a systematic rev...</td>\n",
       "      <td>EBPL1.1</td>\n",
       "      <td>NaN</td>\n",
       "      <td>NaN</td>\n",
       "      <td>mentioned more than 60/169 reasons. The reasons could The ethics of clinical applications of germline genome becategorisedinto:(i)qualityoflifeofaffectedindividuals; modification:a systematic rev...</td>\n",
       "      <td>2018.0</td>\n",
       "      <td>NaN</td>\n",
       "      <td>NaN</td>\n",
       "    </tr>\n",
       "    <tr>\n",
       "      <th>2</th>\n",
       "      <td>implications.Asystematicoverviewofreasonsforbeingin Enablinginformed opinionsabout germline editingamong favouroragainstgermlinegenomemodificationismissing. the general public: a pilot study We s...</td>\n",
       "      <td>EBPL1.2</td>\n",
       "      <td>NaN</td>\n",
       "      <td>NaN</td>\n",
       "      <td>implications. Asystematicoverviewofreasonsforbeingin Enablinginformed opinionsabout germline editingamong favouroragainstgermlinegenomemodificationismissing. the general public: a pilot study We ...</td>\n",
       "      <td>2018.0</td>\n",
       "      <td>NaN</td>\n",
       "      <td>NaN</td>\n",
       "    </tr>\n",
       "    <tr>\n",
       "      <th>3</th>\n",
       "      <td>measurement this ratio flipped. The PRISM-IMPACT study: What are the hopes and Discussion/conclusion: Our pilot study demonstrates a expectations of families and health care professionals signifi...</td>\n",
       "      <td>EBPL1.4</td>\n",
       "      <td>NaN</td>\n",
       "      <td>NaN</td>\n",
       "      <td>measurement this ratio flipped. The PRISM-IMPACT study: What are the hopes and Discussion/conclusion: Our pilot study demonstrates a expectations of families and health care professionals signifi...</td>\n",
       "      <td>2018.0</td>\n",
       "      <td>NaN</td>\n",
       "      <td>NaN</td>\n",
       "    </tr>\n",
       "    <tr>\n",
       "      <th>4</th>\n",
       "      <td>Cancer Centre, Sydney Childrenâ\\x80\\x99s Hospital, Randwick, NSW, Informedconsentinahumangermlinegeneeditingstudy- Australia, 3Hereditary Cancer Centre, Prince of Wales ethical issues Hospital, S...</td>\n",
       "      <td>EBPL1.3</td>\n",
       "      <td>NaN</td>\n",
       "      <td>NaN</td>\n",
       "      <td>Cancer Centre, Sydney Childrenâ\\x80\\x99s Hospital, Randwick, NSW, Informedconsentinahumangermlinegeneeditingstudy- Australia, 3Hereditary Cancer Centre, Prince of Wales ethical issues Hospital, S...</td>\n",
       "      <td>2018.0</td>\n",
       "      <td>NaN</td>\n",
       "      <td>NaN</td>\n",
       "    </tr>\n",
       "    <tr>\n",
       "      <th>...</th>\n",
       "      <td>...</td>\n",
       "      <td>...</td>\n",
       "      <td>...</td>\n",
       "      <td>...</td>\n",
       "      <td>...</td>\n",
       "      <td>...</td>\n",
       "      <td>...</td>\n",
       "      <td>...</td>\n",
       "    </tr>\n",
       "    <tr>\n",
       "      <th>2200</th>\n",
       "      <td>NaN</td>\n",
       "      <td>NaN</td>\n",
       "      <td>NaN</td>\n",
       "      <td>NaN</td>\n",
       "      <td>C7 A10 in the aetiology of cystinuria, we could not identify any Affected children may have only one episode of illness or multiple mutation in SL</td>\n",
       "      <td>2004.0</td>\n",
       "      <td>NaN</td>\n",
       "      <td>NaN</td>\n",
       "    </tr>\n",
       "    <tr>\n",
       "      <th>2201</th>\n",
       "      <td>NaN</td>\n",
       "      <td>NaN</td>\n",
       "      <td>NaN</td>\n",
       "      <td>NaN</td>\n",
       "      <td>C7 A10 in the two families. Nevertheless, there remains recurrences. A common mutation (985A &gt;G) has been identiÜed the possibility that other genes are involved in cystinuria. Further among patie...</td>\n",
       "      <td>2004.0</td>\n",
       "      <td>NaN</td>\n",
       "      <td>NaN</td>\n",
       "    </tr>\n",
       "    <tr>\n",
       "      <th>2202</th>\n",
       "      <td>NaN</td>\n",
       "      <td>NaN</td>\n",
       "      <td>NaN</td>\n",
       "      <td>NaN</td>\n",
       "      <td>P0845Inactivation of the spasmolytic trefoil peptide (Tff2) leads In this study, two unrelated MCAD patients, compound heterozygous to increased expression of additional gastroprotective factors f...</td>\n",
       "      <td>2004.0</td>\n",
       "      <td>NaN</td>\n",
       "      <td>NaN</td>\n",
       "    </tr>\n",
       "    <tr>\n",
       "      <th>2203</th>\n",
       "      <td>NaN</td>\n",
       "      <td>NaN</td>\n",
       "      <td>NaN</td>\n",
       "      <td>NaN</td>\n",
       "      <td>P0843MCDR1 Locus - Screening for candidate genes. functional disturbance in stomach and gut, Tff2-/- constructs do N. Udar1, M. Chalukya1, R. Silva-Garcia1, J. Yeh1, P. Wong1,2, K. Small1 not disp...</td>\n",
       "      <td>2004.0</td>\n",
       "      <td>NaN</td>\n",
       "      <td>NaN</td>\n",
       "    </tr>\n",
       "    <tr>\n",
       "      <th>2204</th>\n",
       "      <td>NaN</td>\n",
       "      <td>NaN</td>\n",
       "      <td>NaN</td>\n",
       "      <td>NaN</td>\n",
       "      <td>P0846RApidTRAP robot assisted TRAP assay non coding was carried out on more than 12 probands representing J. P. Jakupciak1, W. Wang2 different families. Although the gene represents a good candida...</td>\n",
       "      <td>2004.0</td>\n",
       "      <td>NaN</td>\n",
       "      <td>NaN</td>\n",
       "    </tr>\n",
       "  </tbody>\n",
       "</table>\n",
       "<p>38228 rows × 8 columns</p>\n",
       "</div>"
      ],
      "text/plain": [
       "                                                                                                                                                                                                        Title  \\\n",
       "0     .-(TenthousandEuros,orequivalentvalueinkind)peryearpercompanyareconsidered â\\x80\\x9cModestâ\\x80\\x9d. Contributions above EUR 10 000.- per year are considered â\\x80\\x9cSignificantâ\\x80\\x9d. Oral pr...   \n",
       "1      mentioned more than 60/169 reasons. The reasons could The ethics of clinical applications of germline genome becategorisedinto:(i)qualityoflifeofaffectedindividuals; modification:a systematic rev...   \n",
       "2      implications.Asystematicoverviewofreasonsforbeingin Enablinginformed opinionsabout germline editingamong favouroragainstgermlinegenomemodificationismissing. the general public: a pilot study We s...   \n",
       "3      measurement this ratio flipped. The PRISM-IMPACT study: What are the hopes and Discussion/conclusion: Our pilot study demonstrates a expectations of families and health care professionals signifi...   \n",
       "4      Cancer Centre, Sydney Childrenâ\\x80\\x99s Hospital, Randwick, NSW, Informedconsentinahumangermlinegeneeditingstudy- Australia, 3Hereditary Cancer Centre, Prince of Wales ethical issues Hospital, S...   \n",
       "...                                                                                                                                                                                                       ...   \n",
       "2200                                                                                                                                                                                                      NaN   \n",
       "2201                                                                                                                                                                                                      NaN   \n",
       "2202                                                                                                                                                                                                      NaN   \n",
       "2203                                                                                                                                                                                                      NaN   \n",
       "2204                                                                                                                                                                                                      NaN   \n",
       "\n",
       "     Session_Code Author Affiliations  \\\n",
       "0        EUR10000    NaN          NaN   \n",
       "1         EBPL1.1    NaN          NaN   \n",
       "2         EBPL1.2    NaN          NaN   \n",
       "3         EBPL1.4    NaN          NaN   \n",
       "4         EBPL1.3    NaN          NaN   \n",
       "...           ...    ...          ...   \n",
       "2200          NaN    NaN          NaN   \n",
       "2201          NaN    NaN          NaN   \n",
       "2202          NaN    NaN          NaN   \n",
       "2203          NaN    NaN          NaN   \n",
       "2204          NaN    NaN          NaN   \n",
       "\n",
       "                                                                                                                                                                                                         Text  \\\n",
       "0     .-(TenthousandEuros,orequivalentvalueinkind)peryearpercompanyareconsidered â\\x80\\x9cModestâ\\x80\\x9d. Contributions above EUR 10 000.- per year are considered â\\x80\\x9cSignificantâ\\x80\\x9d. Oral pr...   \n",
       "1      mentioned more than 60/169 reasons. The reasons could The ethics of clinical applications of germline genome becategorisedinto:(i)qualityoflifeofaffectedindividuals; modification:a systematic rev...   \n",
       "2      implications. Asystematicoverviewofreasonsforbeingin Enablinginformed opinionsabout germline editingamong favouroragainstgermlinegenomemodificationismissing. the general public: a pilot study We ...   \n",
       "3      measurement this ratio flipped. The PRISM-IMPACT study: What are the hopes and Discussion/conclusion: Our pilot study demonstrates a expectations of families and health care professionals signifi...   \n",
       "4      Cancer Centre, Sydney Childrenâ\\x80\\x99s Hospital, Randwick, NSW, Informedconsentinahumangermlinegeneeditingstudy- Australia, 3Hereditary Cancer Centre, Prince of Wales ethical issues Hospital, S...   \n",
       "...                                                                                                                                                                                                       ...   \n",
       "2200                                                       C7 A10 in the aetiology of cystinuria, we could not identify any Affected children may have only one episode of illness or multiple mutation in SL   \n",
       "2201  C7 A10 in the two families. Nevertheless, there remains recurrences. A common mutation (985A >G) has been identiÜed the possibility that other genes are involved in cystinuria. Further among patie...   \n",
       "2202  P0845Inactivation of the spasmolytic trefoil peptide (Tff2) leads In this study, two unrelated MCAD patients, compound heterozygous to increased expression of additional gastroprotective factors f...   \n",
       "2203  P0843MCDR1 Locus - Screening for candidate genes. functional disturbance in stomach and gut, Tff2-/- constructs do N. Udar1, M. Chalukya1, R. Silva-Garcia1, J. Yeh1, P. Wong1,2, K. Small1 not disp...   \n",
       "2204  P0846RApidTRAP robot assisted TRAP assay non coding was carried out on more than 12 probands representing J. P. Jakupciak1, W. Wang2 different families. Although the gene represents a good candida...   \n",
       "\n",
       "        Year Authors_and_Affiliations Email  \n",
       "0     2018.0                      NaN   NaN  \n",
       "1     2018.0                      NaN   NaN  \n",
       "2     2018.0                      NaN   NaN  \n",
       "3     2018.0                      NaN   NaN  \n",
       "4     2018.0                      NaN   NaN  \n",
       "...      ...                      ...   ...  \n",
       "2200  2004.0                      NaN   NaN  \n",
       "2201  2004.0                      NaN   NaN  \n",
       "2202  2004.0                      NaN   NaN  \n",
       "2203  2004.0                      NaN   NaN  \n",
       "2204  2004.0                      NaN   NaN  \n",
       "\n",
       "[38228 rows x 8 columns]"
      ]
     },
     "execution_count": 29,
     "metadata": {},
     "output_type": "execute_result"
    }
   ],
   "source": [
    "no_null_texts\n"
   ]
  },
  {
   "cell_type": "code",
   "execution_count": null,
   "id": "0f7147dc",
   "metadata": {},
   "outputs": [],
   "source": [
    "no_null_texts.to_csv('..\\\\output\\\\all_abstracts_no_null_texts.csv')  # write out the data frame to a .csv, with a useful name\n",
    "                                                                     # which clarifies this is ALL abstracts with non-null texts"
   ]
  },
  {
   "cell_type": "code",
   "execution_count": null,
   "id": "c0c8e304",
   "metadata": {},
   "outputs": [],
   "source": [
    "no_nans_matched_texts = no_null_texts[no_null_texts['Text'].str.contains('[Aa]utis|ASD|AS|[Aa]sperger')]\n",
    "                                                         # keep only rows where text contains one or more original keywords\n",
    "len(no_nans_matched_texts)                               # check the length"
   ]
  },
  {
   "cell_type": "code",
   "execution_count": null,
   "id": "1fb3edd9",
   "metadata": {},
   "outputs": [],
   "source": [
    "no_nans_matched_texts.to_csv('..\\\\output\\\\matched_abstracts_no_null_texts.csv')  # write out the matched texts df to a .csv too\n",
    "                                                                                 # again, with a clear and useful name"
   ]
  },
  {
   "cell_type": "markdown",
   "id": "12f0ce19",
   "metadata": {},
   "source": [
    "## Manually check the saved .csv files\n",
    "\n",
    "You may want to go and check that the two files you have created here have been created and saved correctly. You may even want to open them up and have a nosy through them to see what they look like. \n",
    "\n",
    "The next notebook picks up where this leaves off, by importing those files and working with them to produce some stats that help explore the research question. "
   ]
  }
 ],
 "metadata": {
  "kernelspec": {
   "display_name": "Python 3 (ipykernel)",
   "language": "python",
   "name": "python3"
  },
  "language_info": {
   "codemirror_mode": {
    "name": "ipython",
    "version": 3
   },
   "file_extension": ".py",
   "mimetype": "text/x-python",
   "name": "python",
   "nbconvert_exporter": "python",
   "pygments_lexer": "ipython3",
   "version": "3.11.1"
  }
 },
 "nbformat": 4,
 "nbformat_minor": 5
}
