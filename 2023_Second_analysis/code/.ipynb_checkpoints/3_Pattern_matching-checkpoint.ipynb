{
 "cells": [
  {
   "cell_type": "markdown",
   "id": "d71e8f5f",
   "metadata": {},
   "source": [
    "# Pattern matching\n",
    "\n",
    "\n",
    "We will start in the same way as the last notebook started  - by downloading/importing the packages needed and importing the .csv file(s) needed. In this case, we only need the .csv file that has the matched abstracts as we are specifically looking at person-first and identity-first patterns that are \"about\" autism (or ASD, Asperger's syndrome, etc.). \n",
    "\n",
    "We could use the same basic approach to look at person-first and identity-first language for other conditions for which there are good noun and adjective forms of the words (diabetes? obesity? cancer? something else?). Doing that would mean using the .csv file with all of the abstracts or potentially creating and entirely new file of abstracts matched to another condition of interest. However, that lies outside the scope of this research, so I will not address it further here. \n",
    "\n",
    "## Get ready \n",
    "\n",
    "As always, we start with code that:\n",
    "* loads up and nicknames some useful packages, \n",
    "* checks file locations,\n",
    "* imports files, and \n",
    "* checks them. \n"
   ]
  },
  {
   "cell_type": "code",
   "execution_count": 1,
   "id": "271c801d",
   "metadata": {},
   "outputs": [],
   "source": [
    "%%capture\n",
    "\n",
    "!pip install nltk\n",
    "!pip install spacy -q\n",
    "!python -m spacy download en_core_web_lg -q\n",
    "\n",
    "import os                         # os is a module for navigating your machine (e.g., file directories).\n",
    "import nltk                       # nltk stands for natural language tool kit and is useful for text-mining. \n",
    "from nltk import word_tokenize    # and some of its key functions\n",
    "from nltk import sent_tokenize  \n",
    "tokenizer = nltk.tokenize.punkt.PunktSentenceTokenizer()\n",
    "from nltk.tokenize import sent_tokenize\n",
    "nltk.download('punkt')\n",
    "from nltk.corpus import wordnet                    # Finally, things we need for lemmatising!\n",
    "from nltk.stem import WordNetLemmatizer\n",
    "lemmatizer = WordNetLemmatizer() \n",
    "from nltk.stem.porter import PorterStemmer\n",
    "porter = PorterStemmer()\n",
    "nltk.download('averaged_perceptron_tagger')        # Like a POS-tagger...\n",
    "nltk.download('wordnet')\n",
    "nltk.download('webtext')\n",
    "from nltk.corpus import webtext\n",
    "\n",
    "import pandas as pd\n",
    "pd.set_option('display.max_colwidth', 200)\n",
    "import numpy as np\n",
    "import statistics\n",
    "\n",
    "import csv                        # csv is for importing and working with csv files\n",
    "\n",
    "from collections import Counter\n",
    "\n",
    "import statistics\n",
    "import re                         # things we need for RegEx corrections\n",
    "import string \n",
    "import spacy \n",
    "from spacy.matcher import Matcher \n",
    "from spacy.tokens import Span \n",
    "from spacy import displacy \n",
    "nlp = spacy.load('en_core_web_lg')\n",
    "nlp.max_length = 1500000 #or any large value, as long as you don't run out of RAM\n",
    "\n",
    "import math\n",
    "import matplotlib.pyplot as plt\n",
    "print(os.listdir(\"..\\\\output\")  )    \n",
    "\n",
    "# the '%%capture' at the top of this cell suppresses the output (which is normally quite long and annoying looking). \n",
    "# You can remove or comment it out if you prefer to see the output."
   ]
  },
  {
   "cell_type": "markdown",
   "id": "8e4e4ea5",
   "metadata": {},
   "source": [
    "## Import\n",
    "\n",
    "Having checked the contents of the output folder and seen the files we expected to see, we can now import the specific file of interest for this step of the analysis."
   ]
  },
  {
   "cell_type": "code",
   "execution_count": 108,
   "id": "75b74ce9",
   "metadata": {},
   "outputs": [
    {
     "data": {
      "text/plain": [
       "3794"
      ]
     },
     "execution_count": 108,
     "metadata": {},
     "output_type": "execute_result"
    }
   ],
   "source": [
    "matched_texts = pd.read_csv('..\\\\output\\\\matched_abstracts_no_null_texts.csv')    # one for just those that match the keyword\n",
    "len(matched_texts)                                                                # check the length "
   ]
  },
  {
   "cell_type": "markdown",
   "id": "f5d89f25",
   "metadata": {},
   "source": [
    "## Cleaning phase\n",
    "\n",
    "Cleaning begins by turning any instances of extra whitespaces (two or more in a row) into a single whitespace. Then, identifying any run-on sentences (where a lowercase letter, a full stop, and an uppercase letter are clustered without a whitespace) and inserting a whitespace between the full stop and the uppercase letter. Both of these steps will improve the sentence tokenisation that happens next. \n",
    "\n",
    "Then, we proceed to sentence tokenising the text. Like word tokens, sentence tokens become the unit for analysisis. As a trivial example, sentence tokenisation would turn a short text such as \n",
    "\n",
    "\n",
    "''' The cat named Cat is one of five cats. Honestly, I wonder why I have so many cats.\n",
    "''' \n",
    "\n",
    "into a list of sentence tokens like\n",
    "\n",
    "''' [[The cat named Cat is one of five cats.]\n",
    "\n",
    "[Honestly, I wonder why I have so many cats.]]\n",
    "\n",
    "''' \n",
    "\n",
    "An important difference is that the punctuation within the sentences that contributes to its structured and meaning (e.g. the comma and the full stops) are retained. This punctuation, like the capitalisation at the start of the sentences or for the poper nouns, is also retained as it helps the sentence-tokenisation process identify the words within the sentence correctly for their parts of speech (e.g. which of the words are nouns, verbs, etc. ). \n",
    "\n",
    "\n",
    "\n",
    "The sentence tokens are then put on individual rows, filtered to retain only those that contain one or more of the keywords of interest, and then filtered to ensure that there are no empty rows or duplicates. "
   ]
  },
  {
   "cell_type": "code",
   "execution_count": 109,
   "id": "d6cfa42e",
   "metadata": {},
   "outputs": [],
   "source": [
    "def remove_errors (input):\n",
    "    no_extra_spaces = re.sub(r'(\\s)(\\s+)', r'\\1', input)               # turn 2+ sequential whitespaces into 1\n",
    "    no_run_ons1 = re.sub(r'([a-z].)([A-Z])', r'\\1 \\2', no_extra_spaces) # identifies run-ons (e.g. \"word.New sentence \")\n",
    "    no_run_ons2 = re.sub(r'([A-Z].)([A-Z])', r'\\1. \\2', no_run_ons1) # identifies run-ons (e.g. \"word.New sentence \")\n",
    "\n",
    "    return(no_run_ons2)"
   ]
  },
  {
   "cell_type": "code",
   "execution_count": 110,
   "id": "d2edc6ca",
   "metadata": {},
   "outputs": [],
   "source": [
    "no_run_ons = [remove_errors(abstract) for abstract in matched_texts['Text'] ] \n",
    "                                             # create abstract list without extra spaces/run-ons \n",
    "                                             # this is to improve sentence tokenisation later \n",
    "matched_texts['Sentence'] = no_run_ons       # copy the no extra space/run-on abstract list back into df as a new column"
   ]
  },
  {
   "cell_type": "code",
   "execution_count": 111,
   "id": "17421e4d",
   "metadata": {},
   "outputs": [
    {
     "name": "stdout",
     "output_type": "stream",
     "text": [
      "How many sentences in total: 122020\n"
     ]
    }
   ],
   "source": [
    "sentences  = [sent_tokenize(abstract) for abstract in matched_texts['Sentence'] ] # create tokenised list of cleaner abstracts\n",
    "matched_texts['Sentence'] = sentences                                   # copy that list back into df as a new column\n",
    "sentence_per_row = matched_texts.explode('Sentence')                    # explode column in new df with 1 row/sentence token\n",
    "print(\"How many sentences in total: \" + str(len(sentence_per_row)))     # check the length of new df\n"
   ]
  },
  {
   "cell_type": "code",
   "execution_count": 112,
   "id": "cda04814",
   "metadata": {},
   "outputs": [
    {
     "name": "stdout",
     "output_type": "stream",
     "text": [
      "                                                                                                                                                                                                         Text  \\\n",
      "0     Despite the availability of most of the human genome sequence  the accu rate identification of genes on the DNA sequence remains to be continu ously improved and updated. This procedure relies on ...   \n",
      "0     Despite the availability of most of the human genome sequence  the accu rate identification of genes on the DNA sequence remains to be continu ously improved and updated. This procedure relies on ...   \n",
      "0     Despite the availability of most of the human genome sequence  the accu rate identification of genes on the DNA sequence remains to be continu ously improved and updated. This procedure relies on ...   \n",
      "0     Despite the availability of most of the human genome sequence  the accu rate identification of genes on the DNA sequence remains to be continu ously improved and updated. This procedure relies on ...   \n",
      "0     Despite the availability of most of the human genome sequence  the accu rate identification of genes on the DNA sequence remains to be continu ously improved and updated. This procedure relies on ...   \n",
      "...                                                                                                                                                                                                       ...   \n",
      "3793  P0842Medium-chain acyl-CoA dehydrogenase deÜciency the localisation of further genes encoding amino acid transporter  B. Z. Yang  subunits within these regions is conceivable. One candidate is ASC...   \n",
      "3793  P0842Medium-chain acyl-CoA dehydrogenase deÜciency the localisation of further genes encoding amino acid transporter  B. Z. Yang  subunits within these regions is conceivable. One candidate is ASC...   \n",
      "3793  P0842Medium-chain acyl-CoA dehydrogenase deÜciency the localisation of further genes encoding amino acid transporter  B. Z. Yang  subunits within these regions is conceivable. One candidate is ASC...   \n",
      "3793  P0842Medium-chain acyl-CoA dehydrogenase deÜciency the localisation of further genes encoding amino acid transporter  B. Z. Yang  subunits within these regions is conceivable. One candidate is ASC...   \n",
      "3793  P0842Medium-chain acyl-CoA dehydrogenase deÜciency the localisation of further genes encoding amino acid transporter  B. Z. Yang  subunits within these regions is conceivable. One candidate is ASC...   \n",
      "\n",
      "                                                                                                                                 Sentence  \n",
      "0                         Despite the availability of most of the human genome sequence the accu rate identification of genes on the  DN.  \n",
      "0                                                                            A sequence remains to be continu ously improved and updated.  \n",
      "0          This procedure relies on the combined useof a variety of tools including similarity searches and exon/gene predictionprograms.  \n",
      "0     Similarity searches rely on a set of sequence data that has been increas ing very substantially and rapidly during the past months.  \n",
      "0                                                                                                                 These includehuman cD .  \n",
      "...                                                                                                                                   ...  \n",
      "3793          P0842Medium-chain acyl- Co. A dehydrogenase deÜciency the localisation of further genes encoding amino acid transporter  B.  \n",
      "3793                                                                                Z. Yang subunits within these regions is conceivable.  \n",
      "3793                                                                                                                One candidate is  AS.  \n",
      "3793                                                                  C- Baylor  University  Medical  Center, Dallas, TX, United  States.  \n",
      "3793                                                                                                                                1 (SL  \n",
      "\n",
      "[122020 rows x 2 columns]\n"
     ]
    }
   ],
   "source": [
    "print(sentence_per_row[['Text','Sentence']])                            # have a look. The selected rows should have \n",
    "                                                                        # 'Text' the same, but 'Sentence' different "
   ]
  },
  {
   "cell_type": "code",
   "execution_count": 113,
   "id": "3795c76e",
   "metadata": {},
   "outputs": [
    {
     "name": "stdout",
     "output_type": "stream",
     "text": [
      "How many matching sentences: 7242\n"
     ]
    }
   ],
   "source": [
    "matched_sentences = sentence_per_row[sentence_per_row['Sentence'].str.contains('[Aa]utis|ASD|AS|[Aa]sperger')]\n",
    "                                                     # create a new data frame with only the sentences that contain keywords\n",
    "print(\"How many matching sentences: \" + str(len(matched_sentences)))            # check the length"
   ]
  },
  {
   "cell_type": "code",
   "execution_count": 114,
   "id": "ef8cdb17",
   "metadata": {},
   "outputs": [
    {
     "name": "stdout",
     "output_type": "stream",
     "text": [
      "Now how many matching sentences: 6941\n"
     ]
    }
   ],
   "source": [
    "matched_sentences = matched_sentences[~matched_sentences['Sentence'].isnull()]  # remove any rows with empty 'Sentence' column\n",
    "matched_sentences = matched_sentences.drop_duplicates()                         # drop any duplicates\n",
    "print(\"Now how many matching sentences: \" + str(len(matched_sentences)))        # check length of remaining data frame"
   ]
  },
  {
   "cell_type": "markdown",
   "id": "847a9ab3",
   "metadata": {},
   "source": [
    "In working with the matching sentences, it became clear there were several common errors, variations on how things were written and other annoying minor differences in the texts that made the manual checking more time-consuming than it needed to be.\n",
    "\n",
    "Further, the minor differences meant that the counting steps later on were counting \"child with ASD\" separately from \"child with autism\" when perhaps the more interesting distinction there is whether \"child with autism/ASD\" is more or less common than \"patient with autism/ASD\" or \"proband with autism/ASD\" or any other common person-nouns. \n",
    "\n",
    "Thus, this tidy_up_terminology function corrects several importing errors, spelling and style differences, and consolidates on terminology. "
   ]
  },
  {
   "cell_type": "code",
   "execution_count": 119,
   "id": "8e6a85b6",
   "metadata": {},
   "outputs": [],
   "source": [
    "def tidy_up_terminology (input):\n",
    "    space1 = re.sub(r'([A-Z]).(A-Z)', r'\\1. \\2', input)                 # removes multiple white spaces between words\n",
    "    space2 = re.sub(r'([a-z])(disorder|disability|spectrum)', r'\\1 \\2', space1) # adds a space in select run-ons\n",
    "    space3 = re.sub(r'([a-z])(disorder|spectrum)', r'\\1 \\2', space2)    # a second go at adding a space in select run-ons      \n",
    "    space4 = re.sub(r'(spec) (trum)', r'\\1\\2', space3)                  # removes a space between 'spec' and 'trum'\n",
    "    no_apost = re.sub(r'([Aa]sperger[\\S*?]s)', r'asperger', space4)     # lowercases, removes ' and S from '[Aa]sperger's' \n",
    "    lower1 = re.sub(r'Autis', r'autis', no_apost)                       # lowercases 'Autism' and 'Autistic'\n",
    "    lower2 = re.sub(r'[Aa]spergers|[Aa]sperger', r'asperger', lower1)   # lowercases/removes S from '[Aa]spergers' & '[Aa]sperger'\n",
    "    lower3 = re.sub(r'[Ss]pectrums|[Ss]pectra', r'spectrum', lower2)    # lowercases and removes various plurals for spectrum\n",
    "    lower4 = re.sub(r'[Ss]yndromes|[Ss]yndrome', r'syndrome', lower3)   # lowercases and removes plurals for syndrome\n",
    "    lower5 = re.sub(r'[Dd]isorders|Disorder', r'disorder', lower4)      # lowercases and removes plurals for disorder\n",
    "    lower6 = re.sub(r'[Dd]iseases|Disease', r'disease', lower5)         # lowercases and removes plurals for disease\n",
    "    plur = re.sub(r'ASDs', r'ASD', lower6)                              # removes plural from instances of more than one ASD\n",
    "    stan0 = re.sub(r'(autism|autistic|asperger) syndrome', r'autism spectrum', plur ) # turns select 'syndrome' to 'spectrum'\n",
    "    stan1 = re.sub(r'spectrum disease', r'spectrum disorder', stan0 )   # turns select 'disease' to 'disorder'\n",
    "    stan2 = re.sub(r'(autism|autistic|asperger) spectrum disorder \\(ASD\\)', r'ASD', stan1) # abbreviates various ASD definitions\n",
    "    stan3 = re.sub(r'(autism|autistic|asperger) spectrum disorder', r'ASD', stan2) # abbreviates various options to ASD\n",
    "    stan4 = re.sub(r'(autism|autistic|asperger) spectrum \\(AS\\)', r'ASD', stan3)  # standardises more options to ASD\n",
    "    stan5 = re.sub(r'(autism|autistic|asperger) spectrum', r'ASD', stan4)         # standardises more options to ASD\n",
    "    stan6 = re.sub(r'AS ', r'ASD ', stan5)                              # standardises 'AS ' to 'ASD ' - note trailing space\n",
    "    stan7 = re.sub(r'(autism|autistic|asperger) disorder)', r'ASD', stan6) # abbreviates various ASD definitions\n",
    "    aut0 = re.sub(r'asperger autism', r'autism', stan7)                  # standardises 'asperger autism' to 'autism'\n",
    "    ID1 = re.sub(r'[Ii]ntellectual [Dd]isability \\(ID\\)', r'ID', aut0)\n",
    "    ID2 = re.sub(r'[Ii]ntellectual [Dd]isability', r'ID', ID1)\n",
    "\n",
    "    return(ID2)"
   ]
  },
  {
   "cell_type": "code",
   "execution_count": 8,
   "id": "b515f08e",
   "metadata": {},
   "outputs": [],
   "source": [
    "### old version  - keep until final tidy? \n",
    "\n",
    "def tidy_up_terminology (input):                         \n",
    "    space1 = re.sub(r'([A-Z]).(A-Z)', r'\\1. \\2', input)                         # removes multiple white spaces between words\n",
    "    space2 = re.sub(r'([a-z])(disorder|disability|spectrum)', r'\\1 \\2', space1) # adds a spac \n",
    "    space3 = re.sub(r'([a-z])(disorder|spectrum)', r'\\1 \\2', space2)         \n",
    "    space4 = re.sub(r'(spec) (trum)', r'\\1\\2', space3)               \n",
    "    no_apost = re.sub(r'([Aa]sperger[\\S*?]s)', r'asperger', space4)  \n",
    "    lower1 = re.sub(r'Autis', r'autis', no_apost)\n",
    "    lower2 = re.sub(r'[Aa]spergers|[Aa]sperger', r'asperger', lower1)\n",
    "    lower3 = re.sub(r'[Ss]pectrums|[Ss]pectra', r'spectrum', lower2)\n",
    "    lower4 = re.sub(r'[Ss]yndromes|[Ss]yndrome', r'syndrome', lower3)\n",
    "    lower5 = re.sub(r'[Dd]isorders|Disorder', r'disorder', lower4)\n",
    "    lower6 = re.sub(r'[Dd]iseases|Disease', r'disease', lower5)\n",
    "    plur1 = re.sub(r'ASDs', r'autism', lower6)    \n",
    "    AS0 = re.sub(r'(autism|asperger) (syndrome|spectrum) \\(AS\\)', r'autism', plur1)\n",
    "    AS1 = re.sub(r'(autism|asperger) (syndrome|spectrum)', r'autism', AS0)\n",
    "    AS2 = re.sub(r'asperger autism', r'autism', AS1)\n",
    "    AS3 = re.sub(r'AS ', r'autism ', AS2)\n",
    "    ASD0 = re.sub(r'autism spectrum disorder \\(ASD\\)', r'autism', AS3)   \n",
    "    ASD1 = re.sub(r'autism spectrum disorder', r'autism', ASD0)   \n",
    "    ASD2 = re.sub(r'(autistic|autism|asperger) disorder', r'autism', ASD1)\n",
    "    ASD3 = re.sub(r'(autistic|autism|asperger) spectrum disorder', r'autism', ASD2)\n",
    "    ASD4 = re.sub(r'(autistic|autism|asperger) spectrum', r'autism', ASD3)\n",
    "    ASD5 = re.sub(r'(autism|autistic) disease', r'autism', ASD4)\n",
    "    ASD6 = re.sub(r'ASD', r'autism', ASD5)\n",
    "    ID1 = re.sub(r'[Ii]ntellectual [Dd]isability \\(ID\\)', r'ID', ASD6)\n",
    "    ID2 = re.sub(r'[Ii]ntellectual [Dd]isability', r'ID', ID1)\n",
    "    ID3 = re.sub(r'(ID and )(autism|ASD)', r'autism', ID2)\n",
    "    ID4 = re.sub(r'(ID, )(autism|ASD)', r'autism', ID3)\n",
    "\n",
    "    return(ID4)"
   ]
  },
  {
   "cell_type": "code",
   "execution_count": 120,
   "id": "5c95f250",
   "metadata": {},
   "outputs": [
    {
     "data": {
      "text/plain": [
       "'ASD ID and autism ID, ASD            ASD ASD ASD            ASD ASD            ID ID           ASD ASD  ASD ASD ID, and autism '"
      ]
     },
     "execution_count": 120,
     "metadata": {},
     "output_type": "execute_result"
    }
   ],
   "source": [
    " # Optional cell code block to test or understand what the tidy_up_terminology function does\n",
    "    \n",
    "tidy_test = \"Autism spectrum intellectual disability and autism ID, ASD \\\n",
    "            Autisticspectrum autisticspectrumdisorder ASD \\\n",
    "            Asperger's syndrome asperger's syndrome \\\n",
    "            intellectual disability Intellectual Disability (ID)\\\n",
    "            aspergers syndrome autism spectrum  ASDs ASD ID, and autism \"\n",
    "\n",
    "tidy_up_terminology(tidy_test)"
   ]
  },
  {
   "cell_type": "code",
   "execution_count": 121,
   "id": "d1708235",
   "metadata": {},
   "outputs": [],
   "source": [
    "tidy_text = [tidy_up_terminology(sentence) for sentence in matched_sentences['Sentence'] ] \n",
    "                                             # create abstract list without extra spaces/run-ons \n",
    "                                             # this is to improve sentence tokenisation later \n",
    "matched_sentences['Sentence'] = tidy_text    # copy the no extra space/run-on abstract list back into df as a new column"
   ]
  },
  {
   "cell_type": "code",
   "execution_count": 122,
   "id": "d0fa94a6",
   "metadata": {},
   "outputs": [],
   "source": [
    "backup = matched_sentences                    # A backup is useful at this step because the next may not go the way you expect"
   ]
  },
  {
   "cell_type": "code",
   "execution_count": 123,
   "id": "08dd0c43",
   "metadata": {},
   "outputs": [],
   "source": [
    "matched_sentences = backup                    # If you need the backup, re-run this step. "
   ]
  },
  {
   "cell_type": "markdown",
   "id": "49f0de07",
   "metadata": {},
   "source": [
    "## Extraction\n",
    "\n",
    "Following the cleaning phase, we move on to the extraction phase. This has two parts, first for the person-first extraction and then for the identity-first extraction. \n",
    "\n",
    "The results of both extractions are saved in their own column to make it easy to read and also to allow for a single sentence-token to contain both kinds of patterns. \n",
    "\n",
    "### Person-first pattern"
   ]
  },
  {
   "cell_type": "code",
   "execution_count": 124,
   "id": "64d739a6",
   "metadata": {},
   "outputs": [],
   "source": [
    "pattern_1 = [{\"POS\": \"NOUN\"},                                        # define the person-first pattern - start with a noun\n",
    "             {'DEP':'amod', 'OP':\"?\"},                               # followed by an optional modifier\n",
    "             {\"TEXT\": {\"REGEX\": \"(with|by|from)\"}},                  # followed by some words that set up the p-f pattern\n",
    "             {'DEP':'amod', 'OP':\"?\"},                               # then space for up to three optional modifiers\n",
    "             {'DEP':'amod', 'OP':\"?\"},\n",
    "             {'DEP':'amod', 'OP':\"?\"},\n",
    "             {\"TEXT\": {\"REGEX\": \"(^[Aa]utis|^[Aa]sperger|^ASD|^AS$)\"}}] # finally, the keywords (original format, just in case)\n",
    "\n",
    "# Matcher class object \n",
    "matcher = Matcher(nlp.vocab)                                         # define a matcher class object\n",
    "matcher.add(\"matching_1\", [pattern_1])                               # add my three person-first patterns to it\n"
   ]
  },
  {
   "cell_type": "code",
   "execution_count": 125,
   "id": "87d072ec",
   "metadata": {},
   "outputs": [],
   "source": [
    "def find_pattern_match(input):                                               # define a function that applies the person-first\n",
    "    thingy = nlp(input)                                                      # matcher class object to strings\n",
    "    match = matcher(thingy)                                                  # and returns any matches to the pattern(s)\n",
    "    if match == []:\n",
    "        out_value = ''\n",
    "    else:\n",
    "        hold_multi_spans = []\n",
    "        for match_id, start, end in match:\n",
    "                string_id = nlp.vocab.strings[match_id]  # Get string representation\n",
    "                span = thingy[start:end]  # The matched span\n",
    "                hold_multi_spans.append(span)\n",
    "        out_value = hold_multi_spans\n",
    "    return out_value"
   ]
  },
  {
   "cell_type": "code",
   "execution_count": 127,
   "id": "2ffd7373",
   "metadata": {},
   "outputs": [
    {
     "data": {
      "text/plain": [
       "6941"
      ]
     },
     "execution_count": 127,
     "metadata": {},
     "output_type": "execute_result"
    }
   ],
   "source": [
    "matched_sentences['Person-first'] = matched_sentences.apply(lambda row: find_pattern_match(row.Sentence), axis = 1)\n",
    "                                                                        # apply the newly defined person-first matcher function\n",
    "                                                                        # and store the returned output in a new column\n",
    "len(matched_sentences)                                                  # double check length remains same"
   ]
  },
  {
   "cell_type": "markdown",
   "id": "936cc982",
   "metadata": {},
   "source": [
    "### Identity-first pattern"
   ]
  },
  {
   "cell_type": "code",
   "execution_count": 128,
   "id": "dc18f3c5",
   "metadata": {},
   "outputs": [],
   "source": [
    "pattern_a = [{'DEP':'amod', 'OP':\"?\"},                                 # same for identity-first patterns,\n",
    "             {'DEP':'amod', 'OP':\"?\"},                                 # starting with two optional modifiers\n",
    "             {\"TEXT\": {\"REGEX\": \"(^[Aa]utis|^[Aa]sperger|^ASD|^AS$)\"}}, # the keywords (original format, just in case)\n",
    "             {'DEP':'amod', 'OP':\"?\"},                                 # then upt to three more optional modifiers\n",
    "             {'DEP':'amod', 'OP':\"?\"},\n",
    "             {'DEP':'amod', 'OP':\"?\"},\n",
    "             {\"POS\": \"NOUN\"}]                                          # and then a noun\n",
    "\n",
    "# Matcher class object                                         \n",
    "matcher = Matcher(nlp.vocab) \n",
    "matcher.add(\"matching_2\", [pattern_a])            # this overwrites the matcher object to identity-first"
   ]
  },
  {
   "cell_type": "code",
   "execution_count": 129,
   "id": "7f00defd",
   "metadata": {},
   "outputs": [
    {
     "data": {
      "text/plain": [
       "6941"
      ]
     },
     "execution_count": 129,
     "metadata": {},
     "output_type": "execute_result"
    }
   ],
   "source": [
    "matched_sentences['Identity-first'] = matched_sentences.apply(lambda row: find_pattern_match(row.Sentence), axis = 1)\n",
    "                                                                        # apply the newly overwritten matcher function\n",
    "                                                                        # and store the returned output in a new column\n",
    "len(matched_sentences)                                                  # check the length - why not?"
   ]
  },
  {
   "cell_type": "markdown",
   "id": "406db79a",
   "metadata": {},
   "source": [
    "### Consolidation\n",
    "\n",
    "Following the cleaning and extraction phases, the last phase is consolidation. This phase further refines the data by removing all the rows that do not contain a match for one or both of the patterns. For example, there would be a row for \"The child was tested for autism.\" because it contains a keyword of interest. However, this sentence would be eliminated in the consolidation phase as the keyword does not fit into either the person-first or identity-first patterns. \n",
    "\n",
    "Further, this phase goes on to lemmatise the extracted patterns so that they can be counted more easily. This phase also lowercases all occurrences of \"Autistic\", \"Autism\", and \"Asperger's\" as well as removing the apostrophe, the 's' and any non-white characters that might intrude between the 'r' and the 's' of \"Asperger's\". This phase also removes any square brackets, quotes and extra commas introduced by the lemmatisation process. \n",
    "\n",
    "This phase ends by writing out the consolidated data frame to a .csv for manual inspection. I could not find a feasible way of identifying whether or not the nouns matched in the extraction phase are person-nouns or not. As the list is not a totally unreasonable length (in the hundreds) I found it workable to \n",
    "* open in excel, \n",
    "* save the file under another name (e.g. pattern_matches_reviewed), \n",
    "* order the entire data set alphabetically by 'Person-first', \n",
    "* scan through the ordered results check whether each result in the 'Person-first' column is about a person, \n",
    "* removing entire rows if the 'Person-first' match is not about a person (checking the 'Sentence' or 'Text' column if needed)\n",
    "* re-order the entire data set alphabetically by 'Identity-first', \n",
    "* scan through the ordered results check whether each result in the 'Identity-first' column is about a person, \n",
    "* removing entire rows if the 'Identity-first' match is not about a person, \n",
    "* save file again. \n",
    "\n",
    "For example, 'association with autism' matches the person-first pattern but is not about a person, so this row was removed. Many more rows were removed in the 'Identity-first' matches as things like 'autistic behaviours' and 'autism testing' were removed for not being about people. \n",
    "\n",
    "NOTE: There were several instances of \"ASD dataset\" which are not easy to determine if they are about people or not. Do they mean dataset composed from blood tests taken as part of ASD testing? If so, each row in the data set would be a blood test with the possibility that more than one test comes from the same person. Or do they mean a pool of case records, each of which represents a single person? The former would not be \"about people\" but the second would. I did not remove these rows as we cannot be certain. Leaving them out would also have been a valid option, as long as the choice was clear. \n",
    "\n",
    "Coincidentally, during this manual checking part of the consolidation phase I learned that, in the context of human genetics research \"proband\" is a person-noun. "
   ]
  },
  {
   "cell_type": "code",
   "execution_count": 130,
   "id": "b2d91446",
   "metadata": {},
   "outputs": [
    {
     "data": {
      "text/plain": [
       "1409"
      ]
     },
     "execution_count": 130,
     "metadata": {},
     "output_type": "execute_result"
    }
   ],
   "source": [
    "matched_patterns = matched_sentences[(matched_sentences['Person-first'] != '') | (matched_sentences['Identity-first'] != '')]\n",
    "                                                     # keep only rows w/ non-null 'Person-first' and/or 'Identity-first' columns\n",
    "len(matched_patterns)                                # check length"
   ]
  },
  {
   "cell_type": "code",
   "execution_count": 131,
   "id": "58536fd7",
   "metadata": {},
   "outputs": [
    {
     "data": {
      "text/plain": [
       "1410"
      ]
     },
     "execution_count": 131,
     "metadata": {},
     "output_type": "execute_result"
    }
   ],
   "source": [
    "matched_patterns = matched_patterns.explode('Person-first')    # explode 'Person-first' column to create 1 row per match\n",
    "                                                               # if there were two matches within the same sentence\n",
    "len(matched_patterns)                                          # check the length"
   ]
  },
  {
   "cell_type": "code",
   "execution_count": 132,
   "id": "80451426",
   "metadata": {},
   "outputs": [
    {
     "data": {
      "text/plain": [
       "1473"
      ]
     },
     "execution_count": 132,
     "metadata": {},
     "output_type": "execute_result"
    }
   ],
   "source": [
    "matched_patterns = matched_patterns.explode('Identity-first')  # Do the same for 'Identity-first' column\n",
    "len(matched_patterns)                                          # check the length"
   ]
  },
  {
   "cell_type": "code",
   "execution_count": 133,
   "id": "4ba5db63",
   "metadata": {},
   "outputs": [
    {
     "data": {
      "text/html": [
       "<div>\n",
       "<style scoped>\n",
       "    .dataframe tbody tr th:only-of-type {\n",
       "        vertical-align: middle;\n",
       "    }\n",
       "\n",
       "    .dataframe tbody tr th {\n",
       "        vertical-align: top;\n",
       "    }\n",
       "\n",
       "    .dataframe thead th {\n",
       "        text-align: right;\n",
       "    }\n",
       "</style>\n",
       "<table border=\"1\" class=\"dataframe\">\n",
       "  <thead>\n",
       "    <tr style=\"text-align: right;\">\n",
       "      <th></th>\n",
       "      <th>Unnamed: 0</th>\n",
       "      <th>Title</th>\n",
       "      <th>Session_Code</th>\n",
       "      <th>Authors_and_Affiliations</th>\n",
       "      <th>Text</th>\n",
       "      <th>Year</th>\n",
       "      <th>Email</th>\n",
       "      <th>Author</th>\n",
       "      <th>Affiliations</th>\n",
       "      <th>Sentence</th>\n",
       "      <th>Person-first</th>\n",
       "      <th>Identity-first</th>\n",
       "    </tr>\n",
       "  </thead>\n",
       "  <tbody>\n",
       "    <tr>\n",
       "      <th>8</th>\n",
       "      <td>150</td>\n",
       "      <td>Location of the first predisposing gene locus for Asperger syndrome on chromosome 1q21 22</td>\n",
       "      <td>C102.</td>\n",
       "      <td>E. Jarvela1  T. Ylisaukko oja2  T. Nieminen3  E. Kempas1  M. Auranen1  L. Peltonen1 1National Public Health Institute  Helsinki  Finland  2National Public Health Insitute  Helsinki  Finland  3Uni...</td>\n",
       "      <td>Asperger syndrome (AS) was first described in 1944 by a Viennese physi cian Hans Asperger who reported a group of boys with autistic psychopa thy  whose clinical features resembled autism with som...</td>\n",
       "      <td>2001.0</td>\n",
       "      <td>irma.jarvela@hus.fi</td>\n",
       "      <td>NaN</td>\n",
       "      <td>NaN</td>\n",
       "      <td>ASD was first described in 1944 by a  Viennese physi cian  Hans  asperger who reported a group of boys with autistic psychopa thy whose clinical features resembled autism with some modifications.</td>\n",
       "      <td>(boys, with, autistic)</td>\n",
       "      <td>(autistic, psychopa)</td>\n",
       "    </tr>\n",
       "    <tr>\n",
       "      <th>8</th>\n",
       "      <td>150</td>\n",
       "      <td>Location of the first predisposing gene locus for Asperger syndrome on chromosome 1q21 22</td>\n",
       "      <td>C102.</td>\n",
       "      <td>E. Jarvela1  T. Ylisaukko oja2  T. Nieminen3  E. Kempas1  M. Auranen1  L. Peltonen1 1National Public Health Institute  Helsinki  Finland  2National Public Health Insitute  Helsinki  Finland  3Uni...</td>\n",
       "      <td>Asperger syndrome (AS) was first described in 1944 by a Viennese physi cian Hans Asperger who reported a group of boys with autistic psychopa thy  whose clinical features resembled autism with som...</td>\n",
       "      <td>2001.0</td>\n",
       "      <td>irma.jarvela@hus.fi</td>\n",
       "      <td>NaN</td>\n",
       "      <td>NaN</td>\n",
       "      <td>We report the analysis of13 candidate gene loci associated with autism and schizophrenia in 17Finnish  ASD families with autosomal dominant mode of inheritance.</td>\n",
       "      <td></td>\n",
       "      <td>(ASD, families)</td>\n",
       "    </tr>\n",
       "    <tr>\n",
       "      <th>8</th>\n",
       "      <td>150</td>\n",
       "      <td>Location of the first predisposing gene locus for Asperger syndrome on chromosome 1q21 22</td>\n",
       "      <td>C102.</td>\n",
       "      <td>E. Jarvela1  T. Ylisaukko oja2  T. Nieminen3  E. Kempas1  M. Auranen1  L. Peltonen1 1National Public Health Institute  Helsinki  Finland  2National Public Health Insitute  Helsinki  Finland  3Uni...</td>\n",
       "      <td>Asperger syndrome (AS) was first described in 1944 by a Viennese physi cian Hans Asperger who reported a group of boys with autistic psychopa thy  whose clinical features resembled autism with som...</td>\n",
       "      <td>2001.0</td>\n",
       "      <td>irma.jarvela@hus.fi</td>\n",
       "      <td>NaN</td>\n",
       "      <td>NaN</td>\n",
       "      <td>Linkageto the previously reported predisposing loci for autism could not be repli cated with  Finnish  ASD families.</td>\n",
       "      <td></td>\n",
       "      <td>(ASD, families)</td>\n",
       "    </tr>\n",
       "    <tr>\n",
       "      <th>21</th>\n",
       "      <td>400</td>\n",
       "      <td>Prader Willi and Angelman Syndromes in Chilean Patients. Clinical and Molecular Diagnosis.</td>\n",
       "      <td>P0295.</td>\n",
       "      <td>Curotto   L. Santa Mar a  A. Alliende  F. Cort s INTA University of Chile  SANTIAGO  C</td>\n",
       "      <td>Prader Willi (PWS) and Angelman AS) syndromes are multigenic disorderscharacterized by developmental and neurobehavioral abnormalities. Dif ferent underlying genetic defects cause loss of expressi...</td>\n",
       "      <td>2001.0</td>\n",
       "      <td>malliend@uec.inta.uchile.cl</td>\n",
       "      <td>NaN</td>\n",
       "      <td>NaN</td>\n",
       "      <td>Sand  ASD patients have a deletion in 15q11 q13 whereas uniparental disomy( UP.</td>\n",
       "      <td></td>\n",
       "      <td>(ASD, patients)</td>\n",
       "    </tr>\n",
       "    <tr>\n",
       "      <th>21</th>\n",
       "      <td>400</td>\n",
       "      <td>Prader Willi and Angelman Syndromes in Chilean Patients. Clinical and Molecular Diagnosis.</td>\n",
       "      <td>P0295.</td>\n",
       "      <td>Curotto   L. Santa Mar a  A. Alliende  F. Cort s INTA University of Chile  SANTIAGO  C</td>\n",
       "      <td>Prader Willi (PWS) and Angelman AS) syndromes are multigenic disorderscharacterized by developmental and neurobehavioral abnormalities. Dif ferent underlying genetic defects cause loss of expressi...</td>\n",
       "      <td>2001.0</td>\n",
       "      <td>malliend@uec.inta.uchile.cl</td>\n",
       "      <td>NaN</td>\n",
       "      <td>NaN</td>\n",
       "      <td>ASD patients were evaluated with the consensus cri teria.</td>\n",
       "      <td></td>\n",
       "      <td>(ASD, patients)</td>\n",
       "    </tr>\n",
       "    <tr>\n",
       "      <th>...</th>\n",
       "      <td>...</td>\n",
       "      <td>...</td>\n",
       "      <td>...</td>\n",
       "      <td>...</td>\n",
       "      <td>...</td>\n",
       "      <td>...</td>\n",
       "      <td>...</td>\n",
       "      <td>...</td>\n",
       "      <td>...</td>\n",
       "      <td>...</td>\n",
       "      <td>...</td>\n",
       "      <td>...</td>\n",
       "    </tr>\n",
       "    <tr>\n",
       "      <th>3748</th>\n",
       "      <td>675</td>\n",
       "      <td>NaN</td>\n",
       "      <td>NaN</td>\n",
       "      <td>NaN</td>\n",
       "      <td>P0280Two cases of Cri Du Chat syndrome in the same family  Spatial association of oppositely imprinted regions in late S-phase  without a familial translocation or inversion. but not at other stag...</td>\n",
       "      <td>2004.0</td>\n",
       "      <td>NaN</td>\n",
       "      <td>NaN</td>\n",
       "      <td>NaN</td>\n",
       "      <td>S/ASD locus but no ribosomal genes, the  AR.</td>\n",
       "      <td></td>\n",
       "      <td>(ASD, locus)</td>\n",
       "    </tr>\n",
       "    <tr>\n",
       "      <th>3765</th>\n",
       "      <td>1100</td>\n",
       "      <td>NaN</td>\n",
       "      <td>NaN</td>\n",
       "      <td>NaN</td>\n",
       "      <td>P0473DNA-polymorphisms of NAT2 and MnSOD and  and carcinomas through a signiÜcant increase of somatic G &gt; T  predisposition to breast cancer. transversion in the APC and KRAS genes. In particular,...</td>\n",
       "      <td>2004.0</td>\n",
       "      <td>NaN</td>\n",
       "      <td>NaN</td>\n",
       "      <td>NaN</td>\n",
       "      <td>ASD genes.</td>\n",
       "      <td></td>\n",
       "      <td>(ASD, genes)</td>\n",
       "    </tr>\n",
       "    <tr>\n",
       "      <th>3776</th>\n",
       "      <td>1710</td>\n",
       "      <td>NaN</td>\n",
       "      <td>NaN</td>\n",
       "      <td>NaN</td>\n",
       "      <td>P0697How to prepare stable reference materials for genetic  establish that treatment of cultured human dermal Übroblasts with  testing several recombinant Übrillin-1 fragments induces up-regulatio...</td>\n",
       "      <td>2004.0</td>\n",
       "      <td>NaN</td>\n",
       "      <td>NaN</td>\n",
       "      <td>NaN</td>\n",
       "      <td>N-ASD neuroblastoma cell lines  A number of genetic  CR.</td>\n",
       "      <td></td>\n",
       "      <td>(ASD, neuroblastoma)</td>\n",
       "    </tr>\n",
       "    <tr>\n",
       "      <th>3783</th>\n",
       "      <td>1932</td>\n",
       "      <td>NaN</td>\n",
       "      <td>NaN</td>\n",
       "      <td>NaN</td>\n",
       "      <td>P0760Cellular mislocalization of mutant ALADIN causes triple  neuromuscular disorder characterised by distal muscular weakness  A syndrome and atrophies, gait abnormalities and sensory deÜcit resu...</td>\n",
       "      <td>2004.0</td>\n",
       "      <td>NaN</td>\n",
       "      <td>NaN</td>\n",
       "      <td>NaN</td>\n",
       "      <td>ASD gene encoding a novel  WD-repeat protein  GJ.</td>\n",
       "      <td></td>\n",
       "      <td>(ASD, gene)</td>\n",
       "    </tr>\n",
       "    <tr>\n",
       "      <th>3791</th>\n",
       "      <td>2157</td>\n",
       "      <td>NaN</td>\n",
       "      <td>NaN</td>\n",
       "      <td>NaN</td>\n",
       "      <td>P0835Presence of elevated lactate, lactate/pyruvate ratio and  Analysis of the patientsÓclinical and molecular data demonstrated that  acylcarnitine proÜle in patients with autism. all Üve patient...</td>\n",
       "      <td>2004.0</td>\n",
       "      <td>NaN</td>\n",
       "      <td>NaN</td>\n",
       "      <td>NaN</td>\n",
       "      <td>P0835Presence of elevated lactate, lactate/pyruvate ratio and  Analysis of the patientsÓclinical and molecular data demonstrated that acylcarnitine proÜle in patients with autism.</td>\n",
       "      <td>(patients, with, autism)</td>\n",
       "      <td></td>\n",
       "    </tr>\n",
       "  </tbody>\n",
       "</table>\n",
       "<p>1473 rows × 12 columns</p>\n",
       "</div>"
      ],
      "text/plain": [
       "      Unnamed: 0  \\\n",
       "8            150   \n",
       "8            150   \n",
       "8            150   \n",
       "21           400   \n",
       "21           400   \n",
       "...          ...   \n",
       "3748         675   \n",
       "3765        1100   \n",
       "3776        1710   \n",
       "3783        1932   \n",
       "3791        2157   \n",
       "\n",
       "                                                                                           Title  \\\n",
       "8     Location of the first predisposing gene locus for Asperger syndrome on chromosome 1q21 22    \n",
       "8     Location of the first predisposing gene locus for Asperger syndrome on chromosome 1q21 22    \n",
       "8     Location of the first predisposing gene locus for Asperger syndrome on chromosome 1q21 22    \n",
       "21    Prader Willi and Angelman Syndromes in Chilean Patients. Clinical and Molecular Diagnosis.   \n",
       "21    Prader Willi and Angelman Syndromes in Chilean Patients. Clinical and Molecular Diagnosis.   \n",
       "...                                                                                          ...   \n",
       "3748                                                                                         NaN   \n",
       "3765                                                                                         NaN   \n",
       "3776                                                                                         NaN   \n",
       "3783                                                                                         NaN   \n",
       "3791                                                                                         NaN   \n",
       "\n",
       "     Session_Code  \\\n",
       "8           C102.   \n",
       "8           C102.   \n",
       "8           C102.   \n",
       "21         P0295.   \n",
       "21         P0295.   \n",
       "...           ...   \n",
       "3748          NaN   \n",
       "3765          NaN   \n",
       "3776          NaN   \n",
       "3783          NaN   \n",
       "3791          NaN   \n",
       "\n",
       "                                                                                                                                                                                     Authors_and_Affiliations  \\\n",
       "8      E. Jarvela1  T. Ylisaukko oja2  T. Nieminen3  E. Kempas1  M. Auranen1  L. Peltonen1 1National Public Health Institute  Helsinki  Finland  2National Public Health Insitute  Helsinki  Finland  3Uni...   \n",
       "8      E. Jarvela1  T. Ylisaukko oja2  T. Nieminen3  E. Kempas1  M. Auranen1  L. Peltonen1 1National Public Health Institute  Helsinki  Finland  2National Public Health Insitute  Helsinki  Finland  3Uni...   \n",
       "8      E. Jarvela1  T. Ylisaukko oja2  T. Nieminen3  E. Kempas1  M. Auranen1  L. Peltonen1 1National Public Health Institute  Helsinki  Finland  2National Public Health Insitute  Helsinki  Finland  3Uni...   \n",
       "21                                                                                                                     Curotto   L. Santa Mar a  A. Alliende  F. Cort s INTA University of Chile  SANTIAGO  C   \n",
       "21                                                                                                                     Curotto   L. Santa Mar a  A. Alliende  F. Cort s INTA University of Chile  SANTIAGO  C   \n",
       "...                                                                                                                                                                                                       ...   \n",
       "3748                                                                                                                                                                                                      NaN   \n",
       "3765                                                                                                                                                                                                      NaN   \n",
       "3776                                                                                                                                                                                                      NaN   \n",
       "3783                                                                                                                                                                                                      NaN   \n",
       "3791                                                                                                                                                                                                      NaN   \n",
       "\n",
       "                                                                                                                                                                                                         Text  \\\n",
       "8     Asperger syndrome (AS) was first described in 1944 by a Viennese physi cian Hans Asperger who reported a group of boys with autistic psychopa thy  whose clinical features resembled autism with som...   \n",
       "8     Asperger syndrome (AS) was first described in 1944 by a Viennese physi cian Hans Asperger who reported a group of boys with autistic psychopa thy  whose clinical features resembled autism with som...   \n",
       "8     Asperger syndrome (AS) was first described in 1944 by a Viennese physi cian Hans Asperger who reported a group of boys with autistic psychopa thy  whose clinical features resembled autism with som...   \n",
       "21    Prader Willi (PWS) and Angelman AS) syndromes are multigenic disorderscharacterized by developmental and neurobehavioral abnormalities. Dif ferent underlying genetic defects cause loss of expressi...   \n",
       "21    Prader Willi (PWS) and Angelman AS) syndromes are multigenic disorderscharacterized by developmental and neurobehavioral abnormalities. Dif ferent underlying genetic defects cause loss of expressi...   \n",
       "...                                                                                                                                                                                                       ...   \n",
       "3748  P0280Two cases of Cri Du Chat syndrome in the same family  Spatial association of oppositely imprinted regions in late S-phase  without a familial translocation or inversion. but not at other stag...   \n",
       "3765  P0473DNA-polymorphisms of NAT2 and MnSOD and  and carcinomas through a signiÜcant increase of somatic G > T  predisposition to breast cancer. transversion in the APC and KRAS genes. In particular,...   \n",
       "3776  P0697How to prepare stable reference materials for genetic  establish that treatment of cultured human dermal Übroblasts with  testing several recombinant Übrillin-1 fragments induces up-regulatio...   \n",
       "3783  P0760Cellular mislocalization of mutant ALADIN causes triple  neuromuscular disorder characterised by distal muscular weakness  A syndrome and atrophies, gait abnormalities and sensory deÜcit resu...   \n",
       "3791  P0835Presence of elevated lactate, lactate/pyruvate ratio and  Analysis of the patientsÓclinical and molecular data demonstrated that  acylcarnitine proÜle in patients with autism. all Üve patient...   \n",
       "\n",
       "        Year                        Email Author Affiliations  \\\n",
       "8     2001.0          irma.jarvela@hus.fi    NaN          NaN   \n",
       "8     2001.0          irma.jarvela@hus.fi    NaN          NaN   \n",
       "8     2001.0          irma.jarvela@hus.fi    NaN          NaN   \n",
       "21    2001.0  malliend@uec.inta.uchile.cl    NaN          NaN   \n",
       "21    2001.0  malliend@uec.inta.uchile.cl    NaN          NaN   \n",
       "...      ...                          ...    ...          ...   \n",
       "3748  2004.0                          NaN    NaN          NaN   \n",
       "3765  2004.0                          NaN    NaN          NaN   \n",
       "3776  2004.0                          NaN    NaN          NaN   \n",
       "3783  2004.0                          NaN    NaN          NaN   \n",
       "3791  2004.0                          NaN    NaN          NaN   \n",
       "\n",
       "                                                                                                                                                                                                 Sentence  \\\n",
       "8     ASD was first described in 1944 by a  Viennese physi cian  Hans  asperger who reported a group of boys with autistic psychopa thy whose clinical features resembled autism with some modifications.   \n",
       "8                                        We report the analysis of13 candidate gene loci associated with autism and schizophrenia in 17Finnish  ASD families with autosomal dominant mode of inheritance.   \n",
       "8                                                                                    Linkageto the previously reported predisposing loci for autism could not be repli cated with  Finnish  ASD families.   \n",
       "21                                                                                                                        Sand  ASD patients have a deletion in 15q11 q13 whereas uniparental disomy( UP.   \n",
       "21                                                                                                                                              ASD patients were evaluated with the consensus cri teria.   \n",
       "...                                                                                                                                                                                                   ...   \n",
       "3748                                                                                                                                                         S/ASD locus but no ribosomal genes, the  AR.   \n",
       "3765                                                                                                                                                                                           ASD genes.   \n",
       "3776                                                                                                                                             N-ASD neuroblastoma cell lines  A number of genetic  CR.   \n",
       "3783                                                                                                                                                    ASD gene encoding a novel  WD-repeat protein  GJ.   \n",
       "3791                  P0835Presence of elevated lactate, lactate/pyruvate ratio and  Analysis of the patientsÓclinical and molecular data demonstrated that acylcarnitine proÜle in patients with autism.   \n",
       "\n",
       "                  Person-first        Identity-first  \n",
       "8       (boys, with, autistic)  (autistic, psychopa)  \n",
       "8                                    (ASD, families)  \n",
       "8                                    (ASD, families)  \n",
       "21                                   (ASD, patients)  \n",
       "21                                   (ASD, patients)  \n",
       "...                        ...                   ...  \n",
       "3748                                    (ASD, locus)  \n",
       "3765                                    (ASD, genes)  \n",
       "3776                            (ASD, neuroblastoma)  \n",
       "3783                                     (ASD, gene)  \n",
       "3791  (patients, with, autism)                        \n",
       "\n",
       "[1473 rows x 12 columns]"
      ]
     },
     "execution_count": 133,
     "metadata": {},
     "output_type": "execute_result"
    }
   ],
   "source": [
    "matched_patterns                                               # have a look at them"
   ]
  },
  {
   "cell_type": "code",
   "execution_count": 134,
   "id": "d9e44521",
   "metadata": {},
   "outputs": [],
   "source": [
    "Lem = WordNetLemmatizer()                         # Define a short way to call the WordNetLemmatizer\n",
    "\n",
    "def consolidate_matched_patterns (input):         # \n",
    "    final_lemma_list = []\n",
    "    temp_lemma_list = []\n",
    "    for phrase in input:                       # start for loop looking at each pattern in the person-first pattern column\n",
    "        phrase_as_string = str(phrase)                               # hold the current pattern\n",
    "        words_in_phrase = phrase_as_string.split() # split the current pattern into words\n",
    "        for word in words_in_phrase :                            # for each word in the split up words\n",
    "            lemma = Lem.lemmatize(word)             # turn that word into a lemma\n",
    "            temp_lemma_list.append(lemma)                # append that lemma to a temporary list\n",
    "        string_lem = str(temp_lemma_list)              # turn that temporary list into a string\n",
    "        stripped_lem = re.sub(r\"\\[|\\]|\\'|\\,\",'', string_lem)  # remove  square brackets, commas and '' marks from the string\n",
    "        final_lemma_list.append(stripped_lem)        # append the string version of the list to the output list\n",
    "        temp_lemma_list = []                               # ensure the temp variable is empty\n",
    "\n",
    "    return(final_lemma_list)\n"
   ]
  },
  {
   "cell_type": "code",
   "execution_count": 135,
   "id": "90b670fe",
   "metadata": {},
   "outputs": [],
   "source": [
    "person_lemma_list = consolidate_matched_patterns(matched_patterns['Person-first'])\n",
    "identity_lemma_list = consolidate_matched_patterns(matched_patterns['Identity-first'])"
   ]
  },
  {
   "cell_type": "code",
   "execution_count": 136,
   "id": "ad90adb0",
   "metadata": {},
   "outputs": [
    {
     "data": {
      "text/html": [
       "<div>\n",
       "<style scoped>\n",
       "    .dataframe tbody tr th:only-of-type {\n",
       "        vertical-align: middle;\n",
       "    }\n",
       "\n",
       "    .dataframe tbody tr th {\n",
       "        vertical-align: top;\n",
       "    }\n",
       "\n",
       "    .dataframe thead th {\n",
       "        text-align: right;\n",
       "    }\n",
       "</style>\n",
       "<table border=\"1\" class=\"dataframe\">\n",
       "  <thead>\n",
       "    <tr style=\"text-align: right;\">\n",
       "      <th></th>\n",
       "      <th>Unnamed: 0</th>\n",
       "      <th>Title</th>\n",
       "      <th>Session_Code</th>\n",
       "      <th>Authors_and_Affiliations</th>\n",
       "      <th>Text</th>\n",
       "      <th>Year</th>\n",
       "      <th>Email</th>\n",
       "      <th>Author</th>\n",
       "      <th>Affiliations</th>\n",
       "      <th>Sentence</th>\n",
       "      <th>Person-first</th>\n",
       "      <th>Identity-first</th>\n",
       "    </tr>\n",
       "  </thead>\n",
       "  <tbody>\n",
       "    <tr>\n",
       "      <th>8</th>\n",
       "      <td>150</td>\n",
       "      <td>Location of the first predisposing gene locus for Asperger syndrome on chromosome 1q21 22</td>\n",
       "      <td>C102.</td>\n",
       "      <td>E. Jarvela1  T. Ylisaukko oja2  T. Nieminen3  E. Kempas1  M. Auranen1  L. Peltonen1 1National Public Health Institute  Helsinki  Finland  2National Public Health Insitute  Helsinki  Finland  3Uni...</td>\n",
       "      <td>Asperger syndrome (AS) was first described in 1944 by a Viennese physi cian Hans Asperger who reported a group of boys with autistic psychopa thy  whose clinical features resembled autism with som...</td>\n",
       "      <td>2001.0</td>\n",
       "      <td>irma.jarvela@hus.fi</td>\n",
       "      <td>NaN</td>\n",
       "      <td>NaN</td>\n",
       "      <td>ASD was first described in 1944 by a  Viennese physi cian  Hans  asperger who reported a group of boys with autistic psychopa thy whose clinical features resembled autism with some modifications.</td>\n",
       "      <td>boy with autistic</td>\n",
       "      <td>autistic psychopa</td>\n",
       "    </tr>\n",
       "    <tr>\n",
       "      <th>8</th>\n",
       "      <td>150</td>\n",
       "      <td>Location of the first predisposing gene locus for Asperger syndrome on chromosome 1q21 22</td>\n",
       "      <td>C102.</td>\n",
       "      <td>E. Jarvela1  T. Ylisaukko oja2  T. Nieminen3  E. Kempas1  M. Auranen1  L. Peltonen1 1National Public Health Institute  Helsinki  Finland  2National Public Health Insitute  Helsinki  Finland  3Uni...</td>\n",
       "      <td>Asperger syndrome (AS) was first described in 1944 by a Viennese physi cian Hans Asperger who reported a group of boys with autistic psychopa thy  whose clinical features resembled autism with som...</td>\n",
       "      <td>2001.0</td>\n",
       "      <td>irma.jarvela@hus.fi</td>\n",
       "      <td>NaN</td>\n",
       "      <td>NaN</td>\n",
       "      <td>We report the analysis of13 candidate gene loci associated with autism and schizophrenia in 17Finnish  ASD families with autosomal dominant mode of inheritance.</td>\n",
       "      <td></td>\n",
       "      <td>ASD family</td>\n",
       "    </tr>\n",
       "    <tr>\n",
       "      <th>8</th>\n",
       "      <td>150</td>\n",
       "      <td>Location of the first predisposing gene locus for Asperger syndrome on chromosome 1q21 22</td>\n",
       "      <td>C102.</td>\n",
       "      <td>E. Jarvela1  T. Ylisaukko oja2  T. Nieminen3  E. Kempas1  M. Auranen1  L. Peltonen1 1National Public Health Institute  Helsinki  Finland  2National Public Health Insitute  Helsinki  Finland  3Uni...</td>\n",
       "      <td>Asperger syndrome (AS) was first described in 1944 by a Viennese physi cian Hans Asperger who reported a group of boys with autistic psychopa thy  whose clinical features resembled autism with som...</td>\n",
       "      <td>2001.0</td>\n",
       "      <td>irma.jarvela@hus.fi</td>\n",
       "      <td>NaN</td>\n",
       "      <td>NaN</td>\n",
       "      <td>Linkageto the previously reported predisposing loci for autism could not be repli cated with  Finnish  ASD families.</td>\n",
       "      <td></td>\n",
       "      <td>ASD family</td>\n",
       "    </tr>\n",
       "    <tr>\n",
       "      <th>21</th>\n",
       "      <td>400</td>\n",
       "      <td>Prader Willi and Angelman Syndromes in Chilean Patients. Clinical and Molecular Diagnosis.</td>\n",
       "      <td>P0295.</td>\n",
       "      <td>Curotto   L. Santa Mar a  A. Alliende  F. Cort s INTA University of Chile  SANTIAGO  C</td>\n",
       "      <td>Prader Willi (PWS) and Angelman AS) syndromes are multigenic disorderscharacterized by developmental and neurobehavioral abnormalities. Dif ferent underlying genetic defects cause loss of expressi...</td>\n",
       "      <td>2001.0</td>\n",
       "      <td>malliend@uec.inta.uchile.cl</td>\n",
       "      <td>NaN</td>\n",
       "      <td>NaN</td>\n",
       "      <td>Sand  ASD patients have a deletion in 15q11 q13 whereas uniparental disomy( UP.</td>\n",
       "      <td></td>\n",
       "      <td>ASD patient</td>\n",
       "    </tr>\n",
       "    <tr>\n",
       "      <th>21</th>\n",
       "      <td>400</td>\n",
       "      <td>Prader Willi and Angelman Syndromes in Chilean Patients. Clinical and Molecular Diagnosis.</td>\n",
       "      <td>P0295.</td>\n",
       "      <td>Curotto   L. Santa Mar a  A. Alliende  F. Cort s INTA University of Chile  SANTIAGO  C</td>\n",
       "      <td>Prader Willi (PWS) and Angelman AS) syndromes are multigenic disorderscharacterized by developmental and neurobehavioral abnormalities. Dif ferent underlying genetic defects cause loss of expressi...</td>\n",
       "      <td>2001.0</td>\n",
       "      <td>malliend@uec.inta.uchile.cl</td>\n",
       "      <td>NaN</td>\n",
       "      <td>NaN</td>\n",
       "      <td>ASD patients were evaluated with the consensus cri teria.</td>\n",
       "      <td></td>\n",
       "      <td>ASD patient</td>\n",
       "    </tr>\n",
       "    <tr>\n",
       "      <th>...</th>\n",
       "      <td>...</td>\n",
       "      <td>...</td>\n",
       "      <td>...</td>\n",
       "      <td>...</td>\n",
       "      <td>...</td>\n",
       "      <td>...</td>\n",
       "      <td>...</td>\n",
       "      <td>...</td>\n",
       "      <td>...</td>\n",
       "      <td>...</td>\n",
       "      <td>...</td>\n",
       "      <td>...</td>\n",
       "    </tr>\n",
       "    <tr>\n",
       "      <th>3748</th>\n",
       "      <td>675</td>\n",
       "      <td>NaN</td>\n",
       "      <td>NaN</td>\n",
       "      <td>NaN</td>\n",
       "      <td>P0280Two cases of Cri Du Chat syndrome in the same family  Spatial association of oppositely imprinted regions in late S-phase  without a familial translocation or inversion. but not at other stag...</td>\n",
       "      <td>2004.0</td>\n",
       "      <td>NaN</td>\n",
       "      <td>NaN</td>\n",
       "      <td>NaN</td>\n",
       "      <td>S/ASD locus but no ribosomal genes, the  AR.</td>\n",
       "      <td></td>\n",
       "      <td>ASD locus</td>\n",
       "    </tr>\n",
       "    <tr>\n",
       "      <th>3765</th>\n",
       "      <td>1100</td>\n",
       "      <td>NaN</td>\n",
       "      <td>NaN</td>\n",
       "      <td>NaN</td>\n",
       "      <td>P0473DNA-polymorphisms of NAT2 and MnSOD and  and carcinomas through a signiÜcant increase of somatic G &gt; T  predisposition to breast cancer. transversion in the APC and KRAS genes. In particular,...</td>\n",
       "      <td>2004.0</td>\n",
       "      <td>NaN</td>\n",
       "      <td>NaN</td>\n",
       "      <td>NaN</td>\n",
       "      <td>ASD genes.</td>\n",
       "      <td></td>\n",
       "      <td>ASD gene</td>\n",
       "    </tr>\n",
       "    <tr>\n",
       "      <th>3776</th>\n",
       "      <td>1710</td>\n",
       "      <td>NaN</td>\n",
       "      <td>NaN</td>\n",
       "      <td>NaN</td>\n",
       "      <td>P0697How to prepare stable reference materials for genetic  establish that treatment of cultured human dermal Übroblasts with  testing several recombinant Übrillin-1 fragments induces up-regulatio...</td>\n",
       "      <td>2004.0</td>\n",
       "      <td>NaN</td>\n",
       "      <td>NaN</td>\n",
       "      <td>NaN</td>\n",
       "      <td>N-ASD neuroblastoma cell lines  A number of genetic  CR.</td>\n",
       "      <td></td>\n",
       "      <td>ASD neuroblastoma</td>\n",
       "    </tr>\n",
       "    <tr>\n",
       "      <th>3783</th>\n",
       "      <td>1932</td>\n",
       "      <td>NaN</td>\n",
       "      <td>NaN</td>\n",
       "      <td>NaN</td>\n",
       "      <td>P0760Cellular mislocalization of mutant ALADIN causes triple  neuromuscular disorder characterised by distal muscular weakness  A syndrome and atrophies, gait abnormalities and sensory deÜcit resu...</td>\n",
       "      <td>2004.0</td>\n",
       "      <td>NaN</td>\n",
       "      <td>NaN</td>\n",
       "      <td>NaN</td>\n",
       "      <td>ASD gene encoding a novel  WD-repeat protein  GJ.</td>\n",
       "      <td></td>\n",
       "      <td>ASD gene</td>\n",
       "    </tr>\n",
       "    <tr>\n",
       "      <th>3791</th>\n",
       "      <td>2157</td>\n",
       "      <td>NaN</td>\n",
       "      <td>NaN</td>\n",
       "      <td>NaN</td>\n",
       "      <td>P0835Presence of elevated lactate, lactate/pyruvate ratio and  Analysis of the patientsÓclinical and molecular data demonstrated that  acylcarnitine proÜle in patients with autism. all Üve patient...</td>\n",
       "      <td>2004.0</td>\n",
       "      <td>NaN</td>\n",
       "      <td>NaN</td>\n",
       "      <td>NaN</td>\n",
       "      <td>P0835Presence of elevated lactate, lactate/pyruvate ratio and  Analysis of the patientsÓclinical and molecular data demonstrated that acylcarnitine proÜle in patients with autism.</td>\n",
       "      <td>patient with autism</td>\n",
       "      <td></td>\n",
       "    </tr>\n",
       "  </tbody>\n",
       "</table>\n",
       "<p>1468 rows × 12 columns</p>\n",
       "</div>"
      ],
      "text/plain": [
       "      Unnamed: 0  \\\n",
       "8            150   \n",
       "8            150   \n",
       "8            150   \n",
       "21           400   \n",
       "21           400   \n",
       "...          ...   \n",
       "3748         675   \n",
       "3765        1100   \n",
       "3776        1710   \n",
       "3783        1932   \n",
       "3791        2157   \n",
       "\n",
       "                                                                                           Title  \\\n",
       "8     Location of the first predisposing gene locus for Asperger syndrome on chromosome 1q21 22    \n",
       "8     Location of the first predisposing gene locus for Asperger syndrome on chromosome 1q21 22    \n",
       "8     Location of the first predisposing gene locus for Asperger syndrome on chromosome 1q21 22    \n",
       "21    Prader Willi and Angelman Syndromes in Chilean Patients. Clinical and Molecular Diagnosis.   \n",
       "21    Prader Willi and Angelman Syndromes in Chilean Patients. Clinical and Molecular Diagnosis.   \n",
       "...                                                                                          ...   \n",
       "3748                                                                                         NaN   \n",
       "3765                                                                                         NaN   \n",
       "3776                                                                                         NaN   \n",
       "3783                                                                                         NaN   \n",
       "3791                                                                                         NaN   \n",
       "\n",
       "     Session_Code  \\\n",
       "8           C102.   \n",
       "8           C102.   \n",
       "8           C102.   \n",
       "21         P0295.   \n",
       "21         P0295.   \n",
       "...           ...   \n",
       "3748          NaN   \n",
       "3765          NaN   \n",
       "3776          NaN   \n",
       "3783          NaN   \n",
       "3791          NaN   \n",
       "\n",
       "                                                                                                                                                                                     Authors_and_Affiliations  \\\n",
       "8      E. Jarvela1  T. Ylisaukko oja2  T. Nieminen3  E. Kempas1  M. Auranen1  L. Peltonen1 1National Public Health Institute  Helsinki  Finland  2National Public Health Insitute  Helsinki  Finland  3Uni...   \n",
       "8      E. Jarvela1  T. Ylisaukko oja2  T. Nieminen3  E. Kempas1  M. Auranen1  L. Peltonen1 1National Public Health Institute  Helsinki  Finland  2National Public Health Insitute  Helsinki  Finland  3Uni...   \n",
       "8      E. Jarvela1  T. Ylisaukko oja2  T. Nieminen3  E. Kempas1  M. Auranen1  L. Peltonen1 1National Public Health Institute  Helsinki  Finland  2National Public Health Insitute  Helsinki  Finland  3Uni...   \n",
       "21                                                                                                                     Curotto   L. Santa Mar a  A. Alliende  F. Cort s INTA University of Chile  SANTIAGO  C   \n",
       "21                                                                                                                     Curotto   L. Santa Mar a  A. Alliende  F. Cort s INTA University of Chile  SANTIAGO  C   \n",
       "...                                                                                                                                                                                                       ...   \n",
       "3748                                                                                                                                                                                                      NaN   \n",
       "3765                                                                                                                                                                                                      NaN   \n",
       "3776                                                                                                                                                                                                      NaN   \n",
       "3783                                                                                                                                                                                                      NaN   \n",
       "3791                                                                                                                                                                                                      NaN   \n",
       "\n",
       "                                                                                                                                                                                                         Text  \\\n",
       "8     Asperger syndrome (AS) was first described in 1944 by a Viennese physi cian Hans Asperger who reported a group of boys with autistic psychopa thy  whose clinical features resembled autism with som...   \n",
       "8     Asperger syndrome (AS) was first described in 1944 by a Viennese physi cian Hans Asperger who reported a group of boys with autistic psychopa thy  whose clinical features resembled autism with som...   \n",
       "8     Asperger syndrome (AS) was first described in 1944 by a Viennese physi cian Hans Asperger who reported a group of boys with autistic psychopa thy  whose clinical features resembled autism with som...   \n",
       "21    Prader Willi (PWS) and Angelman AS) syndromes are multigenic disorderscharacterized by developmental and neurobehavioral abnormalities. Dif ferent underlying genetic defects cause loss of expressi...   \n",
       "21    Prader Willi (PWS) and Angelman AS) syndromes are multigenic disorderscharacterized by developmental and neurobehavioral abnormalities. Dif ferent underlying genetic defects cause loss of expressi...   \n",
       "...                                                                                                                                                                                                       ...   \n",
       "3748  P0280Two cases of Cri Du Chat syndrome in the same family  Spatial association of oppositely imprinted regions in late S-phase  without a familial translocation or inversion. but not at other stag...   \n",
       "3765  P0473DNA-polymorphisms of NAT2 and MnSOD and  and carcinomas through a signiÜcant increase of somatic G > T  predisposition to breast cancer. transversion in the APC and KRAS genes. In particular,...   \n",
       "3776  P0697How to prepare stable reference materials for genetic  establish that treatment of cultured human dermal Übroblasts with  testing several recombinant Übrillin-1 fragments induces up-regulatio...   \n",
       "3783  P0760Cellular mislocalization of mutant ALADIN causes triple  neuromuscular disorder characterised by distal muscular weakness  A syndrome and atrophies, gait abnormalities and sensory deÜcit resu...   \n",
       "3791  P0835Presence of elevated lactate, lactate/pyruvate ratio and  Analysis of the patientsÓclinical and molecular data demonstrated that  acylcarnitine proÜle in patients with autism. all Üve patient...   \n",
       "\n",
       "        Year                        Email Author Affiliations  \\\n",
       "8     2001.0          irma.jarvela@hus.fi    NaN          NaN   \n",
       "8     2001.0          irma.jarvela@hus.fi    NaN          NaN   \n",
       "8     2001.0          irma.jarvela@hus.fi    NaN          NaN   \n",
       "21    2001.0  malliend@uec.inta.uchile.cl    NaN          NaN   \n",
       "21    2001.0  malliend@uec.inta.uchile.cl    NaN          NaN   \n",
       "...      ...                          ...    ...          ...   \n",
       "3748  2004.0                          NaN    NaN          NaN   \n",
       "3765  2004.0                          NaN    NaN          NaN   \n",
       "3776  2004.0                          NaN    NaN          NaN   \n",
       "3783  2004.0                          NaN    NaN          NaN   \n",
       "3791  2004.0                          NaN    NaN          NaN   \n",
       "\n",
       "                                                                                                                                                                                                 Sentence  \\\n",
       "8     ASD was first described in 1944 by a  Viennese physi cian  Hans  asperger who reported a group of boys with autistic psychopa thy whose clinical features resembled autism with some modifications.   \n",
       "8                                        We report the analysis of13 candidate gene loci associated with autism and schizophrenia in 17Finnish  ASD families with autosomal dominant mode of inheritance.   \n",
       "8                                                                                    Linkageto the previously reported predisposing loci for autism could not be repli cated with  Finnish  ASD families.   \n",
       "21                                                                                                                        Sand  ASD patients have a deletion in 15q11 q13 whereas uniparental disomy( UP.   \n",
       "21                                                                                                                                              ASD patients were evaluated with the consensus cri teria.   \n",
       "...                                                                                                                                                                                                   ...   \n",
       "3748                                                                                                                                                         S/ASD locus but no ribosomal genes, the  AR.   \n",
       "3765                                                                                                                                                                                           ASD genes.   \n",
       "3776                                                                                                                                             N-ASD neuroblastoma cell lines  A number of genetic  CR.   \n",
       "3783                                                                                                                                                    ASD gene encoding a novel  WD-repeat protein  GJ.   \n",
       "3791                  P0835Presence of elevated lactate, lactate/pyruvate ratio and  Analysis of the patientsÓclinical and molecular data demonstrated that acylcarnitine proÜle in patients with autism.   \n",
       "\n",
       "             Person-first     Identity-first  \n",
       "8       boy with autistic  autistic psychopa  \n",
       "8                                 ASD family  \n",
       "8                                 ASD family  \n",
       "21                               ASD patient  \n",
       "21                               ASD patient  \n",
       "...                   ...                ...  \n",
       "3748                               ASD locus  \n",
       "3765                                ASD gene  \n",
       "3776                       ASD neuroblastoma  \n",
       "3783                                ASD gene  \n",
       "3791  patient with autism                     \n",
       "\n",
       "[1468 rows x 12 columns]"
      ]
     },
     "execution_count": 136,
     "metadata": {},
     "output_type": "execute_result"
    }
   ],
   "source": [
    "matched_patterns['Person-first'] = person_lemma_list    # copy the person-first output to new column in data frame \n",
    "matched_patterns['Identity-first'] = identity_lemma_list  # copy the identity-first output to new column in data frame \n",
    "matched_patterns = matched_patterns.drop_duplicates()                         # drop any duplicates\n",
    "matched_patterns                                                   # have a look at the data frame with its new columns"
   ]
  },
  {
   "cell_type": "code",
   "execution_count": 137,
   "id": "20ac2138",
   "metadata": {},
   "outputs": [],
   "source": [
    "matched_patterns.to_csv('..\\\\output\\\\pattern_matches_to_review.csv')        \n",
    "                                                            # Write the data frame to a .csv for manual processing in excel"
   ]
  },
  {
   "cell_type": "markdown",
   "id": "9897ba53",
   "metadata": {},
   "source": [
    "At this point, I open the file in Excel (for example), removed the brackets, quotation marks and commas in the Person-first lemmatised and Identity-first lemmatised columns, then sort by each of one of these columns. I then scan through the results, removing any rows that are obviously not about people (e.g. \"autistic testing\") and checking the 'Text' column on any that are unclear 'autistic quartets'). I then sort by the other column and repeat the step of reviewing and deleting non-person rows. Save under \"pattern_matches_reviewed.csv\" for the next step. "
   ]
  },
  {
   "cell_type": "markdown",
   "id": "35d2281a",
   "metadata": {},
   "source": [
    "## Chart person-first or identity-first by year"
   ]
  },
  {
   "cell_type": "code",
   "execution_count": 32,
   "id": "388d8be8",
   "metadata": {},
   "outputs": [
    {
     "data": {
      "text/html": [
       "<div>\n",
       "<style scoped>\n",
       "    .dataframe tbody tr th:only-of-type {\n",
       "        vertical-align: middle;\n",
       "    }\n",
       "\n",
       "    .dataframe tbody tr th {\n",
       "        vertical-align: top;\n",
       "    }\n",
       "\n",
       "    .dataframe thead th {\n",
       "        text-align: right;\n",
       "    }\n",
       "</style>\n",
       "<table border=\"1\" class=\"dataframe\">\n",
       "  <thead>\n",
       "    <tr style=\"text-align: right;\">\n",
       "      <th></th>\n",
       "      <th>Unnamed: 0.1</th>\n",
       "      <th>Unnamed: 0</th>\n",
       "      <th>Title</th>\n",
       "      <th>Session_Code</th>\n",
       "      <th>Authors_and_Affiliations</th>\n",
       "      <th>Text</th>\n",
       "      <th>Year</th>\n",
       "      <th>Email</th>\n",
       "      <th>Author</th>\n",
       "      <th>Affiliations</th>\n",
       "      <th>Sentence</th>\n",
       "      <th>Person-first</th>\n",
       "      <th>Identity-first</th>\n",
       "    </tr>\n",
       "  </thead>\n",
       "  <tbody>\n",
       "    <tr>\n",
       "      <th>0</th>\n",
       "      <td>3791</td>\n",
       "      <td>2157</td>\n",
       "      <td>Presence of elevated lactate, lactate/pyruvate ratio and  Analysis of the patientsÓclinical and molecular data demonstrated that  acylcarnitine proÜle in patients with autism. all Üve patients wit...</td>\n",
       "      <td>P0835</td>\n",
       "      <td>S. E. Carlo1, N. Arciniegas1, J. Acevedo2, N. Ramirez3, A. Reis1, A. S. Cornier1</td>\n",
       "      <td>No association between the onset of pulmonary  symptoms and genotype was observed. Finally, the presence of  1Ponce School of Medicine, Ponce, PR, United States, 2University of Puerto  W32X, the ...</td>\n",
       "      <td>2004</td>\n",
       "      <td>NaN</td>\n",
       "      <td>S. E. Carlo1, N. Arciniegas1, J. Acevedo2, N. Ramirez3, A. Reis1, A. S. Cornier1</td>\n",
       "      <td>NaN</td>\n",
       "      <td>P0835Presence of elevated lactate, lactate/pyruvate ratio and  Analysis of the patientsÓclinical and molecular data demonstrated that acylcarnitine proÜle in patients with autism.</td>\n",
       "      <td>patient with autism</td>\n",
       "      <td>NaN</td>\n",
       "    </tr>\n",
       "    <tr>\n",
       "      <th>1</th>\n",
       "      <td>3738</td>\n",
       "      <td>409</td>\n",
       "      <td>S424 , at Xq23-24 in one family with  cryptogenic epilepsy</td>\n",
       "      <td>NaN</td>\n",
       "      <td>NaN</td>\n",
       "      <td>. affected male members presented with non-speciÜc MR and  Objective: practically healthy boy at 10 years stopped in psychomotor  verbal disability. We report three generations of single family wi...</td>\n",
       "      <td>2004</td>\n",
       "      <td>NaN</td>\n",
       "      <td>NaN</td>\n",
       "      <td>NaN</td>\n",
       "      <td>T reduce in size, cortex is 1p and monosomy 12q was found in autistic brother.</td>\n",
       "      <td>NaN</td>\n",
       "      <td>autistic brother</td>\n",
       "    </tr>\n",
       "    <tr>\n",
       "      <th>2</th>\n",
       "      <td>3733</td>\n",
       "      <td>376</td>\n",
       "      <td>The Results of Cytogenetic Analysis in 150 Autistic Patients BOF syndrome consists of branchial defect, dysmorphic face</td>\n",
       "      <td>P0100</td>\n",
       "      <td>M. Havlovicov\\x861, D. Novotn\\x861, E. Koc\\x86rek1, M. Hrdlicka2, Z. Sedl\\x86cek1   1Institute of Biology and Medical Genetics, 2nd Medical Faculty, University Hospital Motol, Prague, Czech Republ...</td>\n",
       "      <td>M. Havlovicov\\x861, D. Novotn\\x861, E. Koc\\x86rek1, M. Hrdlicka2, Z. Sedl\\x86cek1  (dolichocephaly, sparse hair, high forehead, malar hypoplasia, small  1Institute of Biology and Medical Genetics,...</td>\n",
       "      <td>2004</td>\n",
       "      <td>NaN</td>\n",
       "      <td>M. Havlovicov\\x861, D. Novotn\\x861, E. Koc\\x86rek1, M. Hrdlicka2, Z. Sedl\\x86cek1</td>\n",
       "      <td>1Institute of Biology and Medical Genetics, 2nd Medical Faculty, University Hospital Motol, Prague, Czech Republic, 2Department of Child PsychiatryULB, Brussels, Belgium, 9Hopital Erasme, Bruss...</td>\n",
       "      <td>Patient 1 presented with pseudocleft, right branchial mass and  We performed a detailed genetic analysis of 150 autistic patients an unilateral pyelo-ureteral junction stenosis.</td>\n",
       "      <td>NaN</td>\n",
       "      <td>autistic patient</td>\n",
       "    </tr>\n",
       "    <tr>\n",
       "      <th>3</th>\n",
       "      <td>3718</td>\n",
       "      <td>257</td>\n",
       "      <td>Synostosis of metacarpals IV and V: a diagnostic  be affected by segmental UPD. Further analyses on SRS candidate  challenge genes will be focused on this area.</td>\n",
       "      <td>P0021</td>\n",
       "      <td>E. Prott1, G. Gillessen-Kaesbach1, F. Majewski2, P. Meinecke3  1Institut f\\x9er Humangenetik, Essen, Germany, 2Institut f\\x9er Humangenetik, D\\x9es- seldorf, Germany, 3Medizinische Genetik, Hambur...</td>\n",
       "      <td>Metacarpal synostosis (MS) IV-V may represent one anomaly among Clinical genetics 86 others in several malformation syndromes, e.g. Apert syndrome, TAR  methylation analysis to uncover the change...</td>\n",
       "      <td>2004</td>\n",
       "      <td>NaN</td>\n",
       "      <td>E. Prott1, G. Gillessen-Kaesbach1, F. Majewski2, P. Meinecke3  1Institut f\\x9er Humangenetik, Essen, Germany, 2Institut f\\x9er Humangenetik, D\\x9es- seldorf, Germany, 3Medizinische Genetik, Hambur...</td>\n",
       "      <td>1Institut f\\x9er Humangenetik, Essen, Germany, 2Institut f\\x9er Humangenetik, D\\x9es- seldorf, Germany, 3Medizinische Genetik, Hamburg, Germany.</td>\n",
       "      <td>Out of 10 autism suspected patients 1 showed inheritance of index cases show the characteristic  MS .</td>\n",
       "      <td>NaN</td>\n",
       "      <td>autism suspected patient</td>\n",
       "    </tr>\n",
       "    <tr>\n",
       "      <th>4</th>\n",
       "      <td>3711</td>\n",
       "      <td>187</td>\n",
       "      <td>Loss of desmoplakin isoform I causes severe  in neurons may be involved in the pathogenesis in a subset of  arrhythmogenic left and right ventricular cardiomyopathy,  individuals with autism. The ...</td>\n",
       "      <td>C54</td>\n",
       "      <td>1, B. Wollnik2</td>\n",
       "      <td>Loss of desmoplakin isoform I causes severe  in neurons may be involved in the pathogenesis in a subset of  arrhythmogenic left and right ventricular cardiomyopathy,  individuals with autism. The ...</td>\n",
       "      <td>2004</td>\n",
       "      <td>NaN</td>\n",
       "      <td>E. E. Norgett1, A. Uz\\x9emc\\x9e2, O. Uyguner2, A. Dindar3, H. Kayserili2, K. Nisli3, E.  RNAi-mediated gene knock-down. Dupont4, N. Severs4, M. Yuksel-Apak2, D. P. Kelsell</td>\n",
       "      <td>1Institute of Cell and Molecular Science, Barts and The London School</td>\n",
       "      <td>C54Loss of desmoplakin isoform  I causes severe in neurons may be involved in the pathogenesis in a subset of arrhythmogenic left and right ventricular cardiomyopathy, individuals with autism.</td>\n",
       "      <td>individual with autism</td>\n",
       "      <td>NaN</td>\n",
       "    </tr>\n",
       "  </tbody>\n",
       "</table>\n",
       "</div>"
      ],
      "text/plain": [
       "   Unnamed: 0.1  Unnamed: 0  \\\n",
       "0          3791        2157   \n",
       "1          3738         409   \n",
       "2          3733         376   \n",
       "3          3718         257   \n",
       "4          3711         187   \n",
       "\n",
       "                                                                                                                                                                                                     Title  \\\n",
       "0  Presence of elevated lactate, lactate/pyruvate ratio and  Analysis of the patientsÓclinical and molecular data demonstrated that  acylcarnitine proÜle in patients with autism. all Üve patients wit...   \n",
       "1                                                                                                                                               S424 , at Xq23-24 in one family with  cryptogenic epilepsy   \n",
       "2                                                                                The Results of Cytogenetic Analysis in 150 Autistic Patients BOF syndrome consists of branchial defect, dysmorphic face     \n",
       "3                                        Synostosis of metacarpals IV and V: a diagnostic  be affected by segmental UPD. Further analyses on SRS candidate  challenge genes will be focused on this area.    \n",
       "4  Loss of desmoplakin isoform I causes severe  in neurons may be involved in the pathogenesis in a subset of  arrhythmogenic left and right ventricular cardiomyopathy,  individuals with autism. The ...   \n",
       "\n",
       "  Session_Code  \\\n",
       "0        P0835   \n",
       "1          NaN   \n",
       "2        P0100   \n",
       "3        P0021   \n",
       "4          C54   \n",
       "\n",
       "                                                                                                                                                                                  Authors_and_Affiliations  \\\n",
       "0                                                                                                                         S. E. Carlo1, N. Arciniegas1, J. Acevedo2, N. Ramirez3, A. Reis1, A. S. Cornier1   \n",
       "1                                                                                                                                                                                                      NaN   \n",
       "2  M. Havlovicov\\x861, D. Novotn\\x861, E. Koc\\x86rek1, M. Hrdlicka2, Z. Sedl\\x86cek1   1Institute of Biology and Medical Genetics, 2nd Medical Faculty, University Hospital Motol, Prague, Czech Republ...   \n",
       "3  E. Prott1, G. Gillessen-Kaesbach1, F. Majewski2, P. Meinecke3  1Institut f\\x9er Humangenetik, Essen, Germany, 2Institut f\\x9er Humangenetik, D\\x9es- seldorf, Germany, 3Medizinische Genetik, Hambur...   \n",
       "4                                                                                                                                                                                         1, B. Wollnik2     \n",
       "\n",
       "                                                                                                                                                                                                      Text  \\\n",
       "0   No association between the onset of pulmonary  symptoms and genotype was observed. Finally, the presence of  1Ponce School of Medicine, Ponce, PR, United States, 2University of Puerto  W32X, the ...   \n",
       "1  . affected male members presented with non-speciÜc MR and  Objective: practically healthy boy at 10 years stopped in psychomotor  verbal disability. We report three generations of single family wi...   \n",
       "2  M. Havlovicov\\x861, D. Novotn\\x861, E. Koc\\x86rek1, M. Hrdlicka2, Z. Sedl\\x86cek1  (dolichocephaly, sparse hair, high forehead, malar hypoplasia, small  1Institute of Biology and Medical Genetics,...   \n",
       "3   Metacarpal synostosis (MS) IV-V may represent one anomaly among Clinical genetics 86 others in several malformation syndromes, e.g. Apert syndrome, TAR  methylation analysis to uncover the change...   \n",
       "4  Loss of desmoplakin isoform I causes severe  in neurons may be involved in the pathogenesis in a subset of  arrhythmogenic left and right ventricular cardiomyopathy,  individuals with autism. The ...   \n",
       "\n",
       "   Year Email  \\\n",
       "0  2004   NaN   \n",
       "1  2004   NaN   \n",
       "2  2004   NaN   \n",
       "3  2004   NaN   \n",
       "4  2004   NaN   \n",
       "\n",
       "                                                                                                                                                                                                    Author  \\\n",
       "0                                                                                                                         S. E. Carlo1, N. Arciniegas1, J. Acevedo2, N. Ramirez3, A. Reis1, A. S. Cornier1   \n",
       "1                                                                                                                                                                                                      NaN   \n",
       "2                                                                                                                       M. Havlovicov\\x861, D. Novotn\\x861, E. Koc\\x86rek1, M. Hrdlicka2, Z. Sedl\\x86cek1    \n",
       "3  E. Prott1, G. Gillessen-Kaesbach1, F. Majewski2, P. Meinecke3  1Institut f\\x9er Humangenetik, Essen, Germany, 2Institut f\\x9er Humangenetik, D\\x9es- seldorf, Germany, 3Medizinische Genetik, Hambur...   \n",
       "4                              E. E. Norgett1, A. Uz\\x9emc\\x9e2, O. Uyguner2, A. Dindar3, H. Kayserili2, K. Nisli3, E.  RNAi-mediated gene knock-down. Dupont4, N. Severs4, M. Yuksel-Apak2, D. P. Kelsell   \n",
       "\n",
       "                                                                                                                                                                                              Affiliations  \\\n",
       "0                                                                                                                                                                                                      NaN   \n",
       "1                                                                                                                                                                                                      NaN   \n",
       "2     1Institute of Biology and Medical Genetics, 2nd Medical Faculty, University Hospital Motol, Prague, Czech Republic, 2Department of Child PsychiatryULB, Brussels, Belgium, 9Hopital Erasme, Bruss...   \n",
       "3                                                         1Institut f\\x9er Humangenetik, Essen, Germany, 2Institut f\\x9er Humangenetik, D\\x9es- seldorf, Germany, 3Medizinische Genetik, Hamburg, Germany.   \n",
       "4                                                                                                                                  1Institute of Cell and Molecular Science, Barts and The London School     \n",
       "\n",
       "                                                                                                                                                                                           Sentence  \\\n",
       "0               P0835Presence of elevated lactate, lactate/pyruvate ratio and  Analysis of the patientsÓclinical and molecular data demonstrated that acylcarnitine proÜle in patients with autism.   \n",
       "1                                                                                                                    T reduce in size, cortex is 1p and monosomy 12q was found in autistic brother.   \n",
       "2                 Patient 1 presented with pseudocleft, right branchial mass and  We performed a detailed genetic analysis of 150 autistic patients an unilateral pyelo-ureteral junction stenosis.   \n",
       "3                                                                                             Out of 10 autism suspected patients 1 showed inheritance of index cases show the characteristic  MS .   \n",
       "4  C54Loss of desmoplakin isoform  I causes severe in neurons may be involved in the pathogenesis in a subset of arrhythmogenic left and right ventricular cardiomyopathy, individuals with autism.   \n",
       "\n",
       "             Person-first            Identity-first  \n",
       "0     patient with autism                       NaN  \n",
       "1                     NaN          autistic brother  \n",
       "2                     NaN          autistic patient  \n",
       "3                     NaN  autism suspected patient  \n",
       "4  individual with autism                       NaN  "
      ]
     },
     "execution_count": 32,
     "metadata": {},
     "output_type": "execute_result"
    }
   ],
   "source": [
    "reviewed_matches = pd.read_csv('..\\\\output\\\\pattern_matches_reviewed.csv')    # one for just those that match the keyword\n",
    "reviewed_matches.head()"
   ]
  },
  {
   "cell_type": "code",
   "execution_count": null,
   "id": "e6b93b02",
   "metadata": {},
   "outputs": [],
   "source": [
    "if person-first not empty then find noun in person first pattern\n"
   ]
  },
  {
   "cell_type": "code",
   "execution_count": 33,
   "id": "81fbac29",
   "metadata": {},
   "outputs": [
    {
     "name": "stdout",
     "output_type": "stream",
     "text": [
      "There are 360 rows in the post-manual review data frame coming from 209 unique titles.\n"
     ]
    }
   ],
   "source": [
    "print(\"There are \" + \n",
    "      str(len(reviewed_matches)) + \" rows in the post-manual review data frame coming from \" +\n",
    "      str(reviewed_matches['Title'].nunique()) +\n",
    "      \" unique titles.\")"
   ]
  },
  {
   "cell_type": "code",
   "execution_count": 34,
   "id": "8b942411",
   "metadata": {},
   "outputs": [
    {
     "name": "stdout",
     "output_type": "stream",
     "text": [
      "In total, there are 128 examples of PFL, coming from 97 unique titles and with 33 uinique patterns. They are distributed as follows: \n"
     ]
    },
    {
     "data": {
      "text/plain": [
       "Person-first\n",
       "patient with autism                     36\n",
       "child with autism                       17\n",
       "individual with autism                  15\n",
       "boy with autism                          5\n",
       "girl with autism                         4\n",
       "family with autism                       3\n",
       "people with autism                       2\n",
       "subject with autism                      2\n",
       "child with autistic                      2\n",
       "patient with autistic                    2\n",
       "male with autism                         2\n",
       "boy with autistic                        2\n",
       "patient with idiopathic autism           2\n",
       "patient with severe autistic             1\n",
       "patient with severe autism               1\n",
       "patient with mild autism                 1\n",
       "patient with high functioning autism     1\n",
       "uncle with autism                        1\n",
       "individual with idiopathic autism        1\n",
       "adolescent with autism                   1\n",
       "girl with atypical autism                1\n",
       "child with simplex autism                1\n",
       "child with severe autistic               1\n",
       "child with idiopathic autism             1\n",
       "child with autism/                       1\n",
       "center with autism                       1\n",
       "case with syndromic autism               1\n",
       "case with autism                         1\n",
       "brother with infantile autism            1\n",
       "brother with autism                      1\n",
       "boy with non syndromic autism            1\n",
       "boy with idiopathic autism               1\n",
       "woman with autistic                      1\n",
       "Name: Title, dtype: int64"
      ]
     },
     "execution_count": 34,
     "metadata": {},
     "output_type": "execute_result"
    }
   ],
   "source": [
    "print(\"In total, there are \" + str(reviewed_matches['Person-first'].count()) +\n",
    "      \" examples of PFL, coming from \" +\n",
    "      str(len(reviewed_matches[reviewed_matches[\"Person-first\"].notnull() == True].groupby(['Title']).nunique())) +\n",
    "      \" unique titles and with \" +\n",
    "      str(reviewed_matches['Person-first'].nunique()) + \" unique patterns. They are distributed as follows: \")\n",
    "reviewed_matches.groupby(['Person-first'])['Title'].nunique().sort_values(ascending=False)"
   ]
  },
  {
   "cell_type": "code",
   "execution_count": 35,
   "id": "4eba12c1",
   "metadata": {},
   "outputs": [
    {
     "name": "stdout",
     "output_type": "stream",
     "text": [
      "In total, there are 233 examples of IFL, coming from 132 unique titles and with 48 uinique patterns. They are distributed as follows: \n"
     ]
    },
    {
     "data": {
      "text/plain": [
       "Identity-first\n",
       "autism patient                    48\n",
       "autistic patient                  20\n",
       "autism case                       13\n",
       "autistic child                    13\n",
       "autism dataset                    11\n",
       "autistic individual                8\n",
       "autism family                      7\n",
       "autistic group                     6\n",
       "autism cohort                      5\n",
       "autistic population                5\n",
       "autism group                       3\n",
       "autism proband                     3\n",
       "autistic proband                   3\n",
       "autism trio                        3\n",
       "African autistic population        2\n",
       "autism child                       2\n",
       "autism individual                  2\n",
       "autism brother                     2\n",
       "autistic case                      2\n",
       "autistic subject                   1\n",
       "unrelated autistic child           1\n",
       "typical autism case                1\n",
       "old autistic girl                  1\n",
       "definite autistic case             1\n",
       "homogeneous autism subgroup        1\n",
       "large autism dataset               1\n",
       "old autistic female                1\n",
       "total autistic group               1\n",
       "primary autism patient             1\n",
       "macrocephalic autistic patient     1\n",
       "autistic brother                   1\n",
       "autistic girl                      1\n",
       "autism suspected family            1\n",
       "Indian autistic population         1\n",
       "Italian autistic case              1\n",
       "Mixed autistic group               1\n",
       "Spanish autistic family            1\n",
       "autism boy                         1\n",
       "autism subgroup                    1\n",
       "autism suspected patient           1\n",
       "autistic female                    1\n",
       "autism suspected proband           1\n",
       "autist female child                1\n",
       "autistic boy                       1\n",
       "Caucasian autistic patient         1\n",
       "autistic ethnic population         1\n",
       "autistic family                    1\n",
       "various autistic population        1\n",
       "Name: Title, dtype: int64"
      ]
     },
     "execution_count": 35,
     "metadata": {},
     "output_type": "execute_result"
    }
   ],
   "source": [
    "print(\"In total, there are \" + str(reviewed_matches['Identity-first'].count()) +\n",
    "      \" examples of IFL, coming from \" +\n",
    "      str(len(reviewed_matches[reviewed_matches[\"Identity-first\"].notnull() == True].groupby(['Title']).nunique())) +\n",
    "      \" unique titles and with \" +\n",
    "      str(reviewed_matches['Identity-first'].nunique()) + \" unique patterns. They are distributed as follows: \")\n",
    "reviewed_matches.groupby(['Identity-first'])['Title'].nunique().sort_values(ascending=False)"
   ]
  },
  {
   "cell_type": "code",
   "execution_count": 31,
   "id": "4b1bc9a5",
   "metadata": {},
   "outputs": [
    {
     "data": {
      "text/plain": [
       "0                              NaN\n",
       "1                              NaN\n",
       "2                              NaN\n",
       "3                              NaN\n",
       "4                              NaN\n",
       "                  ...             \n",
       "355        Spanish autistic family\n",
       "356           total autistic group\n",
       "357            typical autism case\n",
       "358       unrelated autistic child\n",
       "359    various autistic population\n",
       "Name: Identity-first, Length: 360, dtype: object"
      ]
     },
     "execution_count": 31,
     "metadata": {},
     "output_type": "execute_result"
    }
   ],
   "source": [
    "reviewed_matches['Identity-first']\n"
   ]
  },
  {
   "cell_type": "code",
   "execution_count": 49,
   "id": "c81d2c0e",
   "metadata": {},
   "outputs": [],
   "source": [
    "reviewed_matches['Noun'] = \"\" "
   ]
  },
  {
   "cell_type": "code",
   "execution_count": 71,
   "id": "aa2c9802",
   "metadata": {},
   "outputs": [],
   "source": [
    "def find_PF_nouns(input):\n",
    "    output = []\n",
    "    for thingy in input:\n",
    "        if isinstance(thingy,str):\n",
    "            word_list = thingy.split()\n",
    "            noun = word_list[0]\n",
    "            output.append(noun)\n",
    "        else:\n",
    "            output.append(\"\")\n",
    "    return output\n",
    "\n",
    "def find_IF_nouns(input):\n",
    "    output = []\n",
    "    for thingy in input:\n",
    "        if isinstance(thingy,str):\n",
    "            word_list = thingy.split()\n",
    "            noun = word_list[-1]\n",
    "            output.append(noun)\n",
    "        else:\n",
    "            output.append(\"\")\n",
    "    return output"
   ]
  },
  {
   "cell_type": "code",
   "execution_count": 85,
   "id": "fa8328b3",
   "metadata": {},
   "outputs": [
    {
     "name": "stdout",
     "output_type": "stream",
     "text": [
      "360\n",
      "360\n",
      "['patient', '', '', '', 'individual', 'child', '', '', 'patient', 'patient', '', '', 'patient', '', '', '', '', '', 'child', 'people', 'individual', '', '', '', '', 'male', '', '', '', '', 'adolescent', '', '', 'patient', 'patient', 'patient', 'patient', '', '', 'child', 'child', 'patient', 'individual', '', '', 'patient', 'center', '', 'child', '', 'patient', 'uncle', '', '', 'woman', 'people', '', '', 'child', 'boy', 'child', 'child', 'patient', 'patient', '', 'individual', 'child', '', 'child', 'child', 'individual', 'individual', '', 'child', '', 'individual', 'male', '', '', '', '', 'individual', 'individual', '', '', '', 'girl', '', '', '', '', '', 'subject', '', '', 'patient', '', '', 'patient', 'individual', 'boy', 'child', 'subject', '', '', 'patient', 'child', 'patient', 'patient', '', 'case', 'child', '', '', 'individual', '', '', '', '', '', '', 'boy', '', 'patient', 'patient', '', '', '', '', 'boy', 'boy', 'boy', 'patient', '', 'case', '', '', '', '', '', '', '', '', '', '', 'individual', '', '', '', '', '', '', '', '', 'child', 'patient', '', '', 'child', '', '', '', '', 'girl', 'patient', 'patient', 'girl', 'patient', '', '', '', 'boy', 'girl', '', 'patient', '', '', '', '', '', '', '', '', '', '', '', '', '', '', '', '', '', '', '', 'child', '', 'patient', '', '', '', '', '', 'patient', '', '', '', 'boy', 'child', 'child', 'patient', 'child', 'patient', 'patient', 'patient', 'patient', 'patient', '', '', '', 'child', 'brother', '', '', '', '', 'patient', 'family', '', '', '', 'patient', 'child', '', '', '', '', '', '', '', '', '', '', '', '', 'brother', 'patient', 'patient', '', '', 'patient', '', 'patient', 'patient', 'patient', '', '', 'patient', '', '', 'patient', 'patient', '', '', '', '', 'patient', '', '', '', '', 'girl', '', '', 'child', '', '', '', 'child', 'child', '', '', 'patient', 'individual', 'patient', 'patient', 'patient', '', '', '', '', '', '', '', '', '', 'child', 'patient', '', '', '', '', '', '', '', '', '', '', 'patient', 'individual', 'individual', '', '', '', '', '', '', '', '', '', '', '', '', '', 'family', 'patient', '', '', '', '', 'individual', '', '', '', '', '', 'family', '', '', '', '', '', '', '', '', '', '', '', '', '', '', '', '', '', 'patient', '', '', '', 'boy', '', '']\n"
     ]
    }
   ],
   "source": [
    "test = find_PF_nouns(reviewed_matches['Person-first'])\n",
    "print(len(reviewed_matches['Person-first']))\n",
    "print(len(test))\n",
    "print(test)\n"
   ]
  },
  {
   "cell_type": "code",
   "execution_count": 86,
   "id": "98e83766",
   "metadata": {},
   "outputs": [
    {
     "name": "stdout",
     "output_type": "stream",
     "text": [
      "360\n",
      "360\n",
      "['', 'autistic', 'autistic', 'autism', '', '', 'autism', 'autism', '', '', 'autism', 'autism', '', 'autism', 'autism', 'autism', 'autism', 'autism', '', '', '', 'autism', 'autism', 'autism', 'autism', '', 'autism', 'autistic', 'old', 'typical', '', 'autistic', 'autistic', '', '', '', '', 'autistic', 'autistic', '', '', '', '', 'autism', 'autism', '', '', 'autism', '', 'autistic', '', '', 'autistic', 'autism', '', '', 'autistic', 'autistic', '', '', '', '', '', '', 'autism', '', '', 'autism', '', '', '', '', 'autism', '', 'autist', '', '', 'autism', 'autism', 'autism', 'large', '', '', 'autism', 'autism', 'autism', '', 'African', 'autistic', 'autistic', 'unrelated', 'autism', '', 'autistic', 'Italian', '', 'autism', 'autistic', '', '', '', '', '', 'autism', 'autism', '', '', '', '', 'autism', '', '', 'autistic', 'autistic', '', 'autism', 'autistic', 'autistic', 'homogeneous', 'autism', 'autism', '', 'autistic', '', '', 'autism', 'autistic', 'African', 'autistic', '', '', '', '', 'autistic', '', 'autism', 'autism', 'autism', 'autism', 'autism', 'autism', 'autism', 'autism', 'autism', 'autism', '', 'autism', 'autism', 'autism', 'autism', 'autism', 'autism', 'autism', 'autism', '', '', 'autistic', 'Caucasian', '', 'autistic', 'autistic', 'old', 'autistic', '', '', '', '', '', 'autistic', 'autistic', 'macrocephalic', '', '', 'autistic', '', 'autism', 'autism', 'autism', 'autistic', 'autistic', 'autistic', 'autistic', 'autistic', 'autism', 'autism', 'autism', 'autism', 'autism', 'autism', 'autism', 'autism', 'autism', 'autistic', 'autistic', '', 'autism', '', 'autism', 'autism', 'autism', 'autism', 'autism', '', 'autism', 'autistic', 'primary', '', '', '', '', '', '', '', '', '', '', 'autism', 'autistic', 'autistic', 'autism', '', 'autistic', 'definite', 'autism', 'autism', '', '', 'autism', 'autism', 'autism', '', '', 'autistic', 'autism', 'autistic', 'autistic', 'autistic', 'autistic', 'autistic', 'autistic', 'Indian', 'Mixed', 'total', 'various', '', '', '', 'autism', 'autism', '', 'autistic', '', '', '', 'autism', 'autism', '', 'autism', 'autism', '', '', 'autistic', 'autistic', 'autistic', 'autistic', '', 'autism', 'autism', 'autism', 'autism', '', 'autism', 'autistic', '', 'autism', 'autistic', 'autism', '', '', 'autism', 'autism', '', '', '', '', '', 'autism', 'autism', 'autism', 'autism', 'autism', 'autism', 'autistic', 'autism', 'autism', '', '', 'autistic', 'autistic', 'autistic', 'Spanish', 'autism', 'autism', 'autism', 'autism', 'autism', 'autism', '', '', '', 'autistic', 'autistic', 'autistic', 'autism', 'autistic', 'autism', 'autism', 'autism', 'autism', 'autism', 'autism', 'autism', 'autism', '', '', 'autism', 'autism', 'autism', 'autistic', '', 'autistic', 'autistic', 'autistic', 'autistic', 'autistic', '', 'autism', 'autism', 'autism', 'autism', 'autism', 'autism', 'autism', 'autism', 'autism', 'autism', 'autistic', 'autistic', 'autistic', 'autism', 'autism', 'autism', 'autism', '', 'autism', 'autism', 'autism', '', 'autism', 'autism']\n"
     ]
    }
   ],
   "source": [
    "test2 = find_PF_nouns(reviewed_matches['Identity-first'])\n",
    "print(len(reviewed_matches['Identity-first']))\n",
    "print(len(test2))\n",
    "print(test2)"
   ]
  },
  {
   "cell_type": "code",
   "execution_count": 13,
   "id": "4ec067ce",
   "metadata": {},
   "outputs": [],
   "source": [
    "m\n",
    "word_list = my_str.split()  # list of words\n",
    "\n",
    "# first word  v              v last word\n",
    ">>> word_list[0], word_list[-1]                            # add my three person-first patterns to it\n"
   ]
  },
  {
   "cell_type": "code",
   "execution_count": null,
   "id": "87e622ec",
   "metadata": {},
   "outputs": [],
   "source": []
  },
  {
   "cell_type": "code",
   "execution_count": null,
   "id": "b79eb1b0",
   "metadata": {},
   "outputs": [],
   "source": [
    "matched_sentences['Person-first'] = matched_sentences.apply(lambda row: find_pattern_match(row.Sentence), axis = 1)\n",
    "                                                                        # apply the newly defined person-first matcher function\n",
    "                                                                        # and store the returned output in a new column\n",
    "len(matched_sentences)                                                  # double check length remains same"
   ]
  },
  {
   "cell_type": "code",
   "execution_count": null,
   "id": "9c040bb4",
   "metadata": {},
   "outputs": [],
   "source": []
  },
  {
   "cell_type": "code",
   "execution_count": null,
   "id": "a945d4bc",
   "metadata": {},
   "outputs": [],
   "source": []
  },
  {
   "cell_type": "code",
   "execution_count": null,
   "id": "7d2718e7",
   "metadata": {},
   "outputs": [],
   "source": []
  },
  {
   "cell_type": "code",
   "execution_count": null,
   "id": "aeddb757",
   "metadata": {},
   "outputs": [],
   "source": [
    "\n"
   ]
  },
  {
   "cell_type": "code",
   "execution_count": null,
   "id": "325e18cd",
   "metadata": {},
   "outputs": [],
   "source": [
    "person_identity_count.plot()\n",
    "plt.show()\n",
    "plt.savefig('..\\\\output\\\\matches_count.jpg')    # we can right click on the plot above to save it, or save it via command"
   ]
  },
  {
   "cell_type": "code",
   "execution_count": null,
   "id": "f57fe19a",
   "metadata": {},
   "outputs": [],
   "source": [
    "person_examples = reviewed_matches.groupby(['Person-first'])['Person-first'].count()\n",
    "identity_examples = reviewed_matches.groupby(['Identity-first'])['Identity-first'].count()\n",
    "print(len(person_examples))\n",
    "print(len(identity_examples))"
   ]
  },
  {
   "cell_type": "code",
   "execution_count": null,
   "id": "ab1443d2",
   "metadata": {},
   "outputs": [],
   "source": [
    "person_identity_examples=pd.concat([person_examples,identity_examples],axis=1)\n"
   ]
  },
  {
   "cell_type": "code",
   "execution_count": null,
   "id": "11bf97e2",
   "metadata": {},
   "outputs": [],
   "source": [
    "person_identity_examples.sort_values(by=['Person-first'], ascending=False).head(10)"
   ]
  },
  {
   "cell_type": "code",
   "execution_count": null,
   "id": "c04bc80a",
   "metadata": {},
   "outputs": [],
   "source": [
    "person_identity_examples.sort_values(by=['Identity-first'], ascending=False).head(10)"
   ]
  },
  {
   "cell_type": "code",
   "execution_count": null,
   "id": "6e6184b4",
   "metadata": {},
   "outputs": [],
   "source": [
    "person_identity_examples.notnull().sum()"
   ]
  },
  {
   "cell_type": "markdown",
   "id": "47b82b88",
   "metadata": {},
   "source": [
    "## Count abstracts by the structures they use"
   ]
  },
  {
   "cell_type": "code",
   "execution_count": null,
   "id": "be40279c",
   "metadata": {},
   "outputs": [],
   "source": [
    "test = pd.merge(person_by_title,identity_by_title,on='Title',how='outer')\n",
    "print(test)\n",
    "print(type(test))"
   ]
  },
  {
   "cell_type": "code",
   "execution_count": null,
   "id": "7dd85bf7",
   "metadata": {},
   "outputs": [],
   "source": [
    "person_by_title = reviewed_matches.groupby(['Title'])['Person-first'].count()\n",
    "identity_by_title = reviewed_matches.groupby(['Title'])['Identity-first'].count()\n",
    "title = pd.concat([person_by_title,identity_by_title],axis=1)\n",
    "print(title)"
   ]
  },
  {
   "cell_type": "code",
   "execution_count": null,
   "id": "975b4d8a",
   "metadata": {},
   "outputs": [],
   "source": [
    "title.sort_values(by=['Identity-first'], ascending=False)"
   ]
  },
  {
   "cell_type": "code",
   "execution_count": null,
   "id": "f5f461ab",
   "metadata": {},
   "outputs": [],
   "source": [
    "title.sort_values(by=['Person-first'], ascending=False)"
   ]
  },
  {
   "cell_type": "code",
   "execution_count": null,
   "id": "4df4af17",
   "metadata": {},
   "outputs": [],
   "source": [
    "columns = ['Person-first','Identity-first']\n",
    "filter_ = (title[columns] > 0).all(axis=1)\n",
    "title[filter_]\n",
    "len(title[filter_])\n"
   ]
  },
  {
   "cell_type": "code",
   "execution_count": null,
   "id": "025e8bad",
   "metadata": {},
   "outputs": [],
   "source": [
    "title[filter_].sort_values(by=['Person-first'], ascending=False)"
   ]
  },
  {
   "cell_type": "code",
   "execution_count": null,
   "id": "13737d2d",
   "metadata": {},
   "outputs": [],
   "source": [
    "title[filter_].sort_values(by=['Identity-first'], ascending=False)"
   ]
  },
  {
   "cell_type": "code",
   "execution_count": null,
   "id": "7906c98e",
   "metadata": {},
   "outputs": [],
   "source": [
    "has_pf = title[title['Person-first'] > 0]\n",
    "has_both = has_pf[has_pf['Identity-first'] > 0]\n",
    "print(len(has_both))\n",
    "has_both"
   ]
  },
  {
   "cell_type": "code",
   "execution_count": null,
   "id": "43c3632b",
   "metadata": {},
   "outputs": [],
   "source": [
    "plt.scatter(title['Person-first'], title['Identity-first'])\n",
    "plt.show()\n",
    "\n",
    "#plt.savefig('..\\\\output\\title_count.jpg')    # we can right click on the plot above to save it, or save it via command"
   ]
  },
  {
   "cell_type": "code",
   "execution_count": null,
   "id": "d07e4e72",
   "metadata": {},
   "outputs": [],
   "source": [
    "title['Person-first']\n"
   ]
  },
  {
   "cell_type": "code",
   "execution_count": null,
   "id": "b8ab14d1",
   "metadata": {},
   "outputs": [],
   "source": [
    "ax = plt.axes()\n",
    "ax.scatter(x, y, c='g', marker='x')\n",
    "ax.set_title(\"Anscombe's First Data Set\")\n",
    "ax.set_ylabel('Y-Values')\n",
    "ax.set_ylim(4, 11)\n",
    "ax.set_xlabel('X-Values')\n",
    "ax.set_xlim(3, 15)\n",
    "\n",
    "plt.show()"
   ]
  }
 ],
 "metadata": {
  "kernelspec": {
   "display_name": "Python 3 (ipykernel)",
   "language": "python",
   "name": "python3"
  },
  "language_info": {
   "codemirror_mode": {
    "name": "ipython",
    "version": 3
   },
   "file_extension": ".py",
   "mimetype": "text/x-python",
   "name": "python",
   "nbconvert_exporter": "python",
   "pygments_lexer": "ipython3",
   "version": "3.11.1"
  }
 },
 "nbformat": 4,
 "nbformat_minor": 5
}
