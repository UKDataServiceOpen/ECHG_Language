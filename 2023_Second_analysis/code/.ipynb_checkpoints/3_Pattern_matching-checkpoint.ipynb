{
 "cells": [
  {
   "cell_type": "markdown",
   "id": "d71e8f5f",
   "metadata": {},
   "source": [
    "# Pattern matching\n",
    "\n",
    "\n",
    "We will start in the same way as the last notebook started  - by downloading/importing the packages needed and importing the .csv file(s) needed. In this case, we only need the .csv file that has the matched abstracts as we are specifically looking at person-first and identity-first patterns that are \"about\" autism (or ASD, Asperger's syndrome, etc.). \n",
    "\n",
    "We could use the same basic approach to look at person-first and identity-first language for other conditions for which there are good noun and adjective forms of the words (diabetes? obesity? cancer? something else?). Doing that would mean using the .csv file with all of the abstracts or potentially creating and entirely new file of abstracts matched to another condition of interest. However, that lies outside the scope of this research, so I will not address it further here. \n",
    "\n",
    "## Get ready \n",
    "\n",
    "As always, we start with code that:\n",
    "* loads up and nicknames some useful packages, \n",
    "* checks file locations,\n",
    "* imports files, and \n",
    "* checks them. \n"
   ]
  },
  {
   "cell_type": "code",
   "execution_count": 1,
   "id": "271c801d",
   "metadata": {},
   "outputs": [],
   "source": [
    "%%capture\n",
    "\n",
    "!pip install nltk\n",
    "!pip install spacy -q\n",
    "!python -m spacy download en_core_web_lg -q\n",
    "\n",
    "import os                         # os is a module for navigating your machine (e.g., file directories).\n",
    "import nltk                       # nltk stands for natural language tool kit and is useful for text-mining. \n",
    "from nltk import word_tokenize    # and some of its key functions\n",
    "from nltk import sent_tokenize  \n",
    "tokenizer = nltk.tokenize.punkt.PunktSentenceTokenizer()\n",
    "from nltk.tokenize import sent_tokenize\n",
    "nltk.download('punkt')\n",
    "from nltk.corpus import wordnet                    # Finally, things we need for lemmatising!\n",
    "from nltk.stem import WordNetLemmatizer\n",
    "lemmatizer = WordNetLemmatizer() \n",
    "from nltk.stem.porter import PorterStemmer\n",
    "porter = PorterStemmer()\n",
    "nltk.download('averaged_perceptron_tagger')        # Like a POS-tagger...\n",
    "nltk.download('wordnet')\n",
    "nltk.download('webtext')\n",
    "from nltk.corpus import webtext\n",
    "\n",
    "import pandas as pd\n",
    "pd.set_option('display.max_colwidth', 200)\n",
    "import numpy as np\n",
    "import statistics\n",
    "\n",
    "import csv                        # csv is for importing and working with csv files\n",
    "\n",
    "from collections import Counter\n",
    "\n",
    "import statistics\n",
    "import re                         # things we need for RegEx corrections\n",
    "import string \n",
    "import spacy \n",
    "from spacy.matcher import Matcher \n",
    "from spacy.tokens import Span \n",
    "from spacy import displacy \n",
    "nlp = spacy.load('en_core_web_lg')\n",
    "nlp.max_length = 1500000 #or any large value, as long as you don't run out of RAM\n",
    "\n",
    "import math\n",
    "import matplotlib.pyplot as plt\n",
    "print(os.listdir(\"..\\\\output\")  )    \n",
    "\n",
    "# the '%%capture' at the top of this cell suppresses the output (which is normally quite long and annoying looking). \n",
    "# You can remove or comment it out if you prefer to see the output."
   ]
  },
  {
   "cell_type": "markdown",
   "id": "8e4e4ea5",
   "metadata": {},
   "source": [
    "## Import\n",
    "\n",
    "Having checked the contents of the output folder and seen the files we expected to see, we can now import the specific file of interest for this step of the analysis."
   ]
  },
  {
   "cell_type": "code",
   "execution_count": 2,
   "id": "75b74ce9",
   "metadata": {},
   "outputs": [
    {
     "data": {
      "text/plain": [
       "4600"
      ]
     },
     "execution_count": 2,
     "metadata": {},
     "output_type": "execute_result"
    }
   ],
   "source": [
    "matched_texts = pd.read_csv('..\\\\output\\\\matched_abstracts_no_null_texts.csv')    # one for just those that match the keyword\n",
    "len(matched_texts)                                                                # check the length "
   ]
  },
  {
   "cell_type": "markdown",
   "id": "f5d89f25",
   "metadata": {},
   "source": [
    "## Cleaning phase\n",
    "\n",
    "Cleaning begins by turning any instances of extra whitespaces (two or more in a row) into a single whitespace. Then, identifying any run-on sentences (where a lowercase letter, a full stop, and an uppercase letter are clustered without a whitespace) and inserting a whitespace between the full stop and the uppercase letter. Both of these steps will improve the sentence tokenisation that happens next. \n",
    "\n",
    "Then, we proceed to sentence tokenising the text. Like word tokens, sentence tokens become the unit for analysisis. As a trivial example, sentence tokenisation would turn a short text such as \n",
    "\n",
    "\n",
    "''' The cat named Cat is one of five cats. Honestly, I wonder why I have so many cats.\n",
    "''' \n",
    "\n",
    "into a list of sentence tokens like\n",
    "\n",
    "''' [[The cat named Cat is one of five cats.]\n",
    "\n",
    "[Honestly, I wonder why I have so many cats.]]\n",
    "\n",
    "''' \n",
    "\n",
    "An important difference is that the punctuation within the sentences that contributes to its structured and meaning (e.g. the comma and the full stops) are retained. This punctuation, like the capitalisation at the start of the sentences or for the poper nouns, is also retained as it helps the sentence-tokenisation process identify the words within the sentence correctly for their parts of speech (e.g. which of the words are nouns, verbs, etc. ). \n",
    "\n",
    "\n",
    "\n",
    "The sentence tokens are then put on individual rows, filtered to retain only those that contain one or more of the keywords of interest, and then filtered to ensure that there are no empty rows or duplicates. "
   ]
  },
  {
   "cell_type": "code",
   "execution_count": 3,
   "id": "d6cfa42e",
   "metadata": {},
   "outputs": [],
   "source": [
    "def remove_errors (input):\n",
    "    no_extra_spaces = re.sub(r'(\\s)(\\s+)', r'\\1', input)               # turn 2+ sequential whitespaces into 1\n",
    "    no_run_ons1 = re.sub(r'([a-z].)([A-Z])', r'\\1 \\2', no_extra_spaces) # identifies run-ons (e.g. \"word.New sentence \")\n",
    "    no_run_ons2 = re.sub(r'([A-Z].)([A-Z])', r'\\1. \\2', no_run_ons1) # identifies run-ons (e.g. \"ACRONYM.New sentence \")\n",
    "\n",
    "    return(no_run_ons2)"
   ]
  },
  {
   "cell_type": "code",
   "execution_count": 4,
   "id": "d2edc6ca",
   "metadata": {},
   "outputs": [],
   "source": [
    "no_run_ons = [remove_errors(abstract) for abstract in matched_texts['Text'] ] \n",
    "                                             # create abstract list without extra spaces/run-ons \n",
    "                                             # this is to improve sentence tokenisation later \n",
    "matched_texts['Sentence'] = no_run_ons       # copy the no extra space/run-on abstract list back into df as a new column"
   ]
  },
  {
   "cell_type": "code",
   "execution_count": 5,
   "id": "17421e4d",
   "metadata": {},
   "outputs": [
    {
     "name": "stdout",
     "output_type": "stream",
     "text": [
      "How many sentences in total: 84675\n"
     ]
    }
   ],
   "source": [
    "sentences  = [sent_tokenize(abstract) for abstract in matched_texts['Text'] ] # create tokenised list of cleaner abstracts\n",
    "matched_texts['Sentence'] = sentences                                   # copy that list back into df as a new column\n",
    "sentence_per_row = matched_texts.explode('Sentence')                    # explode column in new df with 1 row/sentence token\n",
    "print(\"How many sentences in total: \" + str(len(sentence_per_row)))     # check the length of new df\n"
   ]
  },
  {
   "cell_type": "code",
   "execution_count": 6,
   "id": "fd66d796",
   "metadata": {},
   "outputs": [
    {
     "name": "stdout",
     "output_type": "stream",
     "text": [
      "                                                                                                                                                                                                         Text  \\\n",
      "0      'Music of Life' a new metaphor for genomics, delivered as Facilitating understanding of whole genome sequencing in film within genetic counselling young people A. Middleton1,J. Borra2, T. Pope3,V...   \n",
      "0      'Music of Life' a new metaphor for genomics, delivered as Facilitating understanding of whole genome sequencing in film within genetic counselling young people A. Middleton1,J. Borra2, T. Pope3,V...   \n",
      "0      'Music of Life' a new metaphor for genomics, delivered as Facilitating understanding of whole genome sequencing in film within genetic counselling young people A. Middleton1,J. Borra2, T. Pope3,V...   \n",
      "0      'Music of Life' a new metaphor for genomics, delivered as Facilitating understanding of whole genome sequencing in film within genetic counselling young people A. Middleton1,J. Borra2, T. Pope3,V...   \n",
      "0      'Music of Life' a new metaphor for genomics, delivered as Facilitating understanding of whole genome sequencing in film within genetic counselling young people A. Middleton1,J. Borra2, T. Pope3,V...   \n",
      "...                                                                                                                                                                                                       ...   \n",
      "4598  P0833Screening for ARX gene mutations is indicated for males problems. The study of this disorder has intensiÜed because with mental retardation associated with West syndrome and/or incidence is a...   \n",
      "4599  P0842Medium-chain acyl-CoA dehydrogenase deÜciency the localisation of further genes encoding amino acid transporter B. Z. Yang subunits within these regions is conceivable. One candidate is ASC- ...   \n",
      "4599  P0842Medium-chain acyl-CoA dehydrogenase deÜciency the localisation of further genes encoding amino acid transporter B. Z. Yang subunits within these regions is conceivable. One candidate is ASC- ...   \n",
      "4599  P0842Medium-chain acyl-CoA dehydrogenase deÜciency the localisation of further genes encoding amino acid transporter B. Z. Yang subunits within these regions is conceivable. One candidate is ASC- ...   \n",
      "4599  P0842Medium-chain acyl-CoA dehydrogenase deÜciency the localisation of further genes encoding amino acid transporter B. Z. Yang subunits within these regions is conceivable. One candidate is ASC- ...   \n",
      "\n",
      "                                                                                                                                                                               Sentence  \n",
      "0      'Music of Life' a new metaphor for genomics, delivered as Facilitating understanding of whole genome sequencing in film within genetic counselling young people A. Middleton1,J.  \n",
      "0                                                                                                                                                                   Borra2, T. Pope3,V.  \n",
      "0                                                                                                                                                                             Wiles4,J.  \n",
      "0                                                                                                                                                              Roberts1, C. Lewis1,2,S.  \n",
      "0                                                                                                                                                                    C. Sanderson1,2,L.  \n",
      "...                                                                                                                                                                                 ...  \n",
      "4598                                                                                                                                           The patients had elevated lactate levels  \n",
      "4599                                                            P0842Medium-chain acyl-CoA dehydrogenase deÜciency the localisation of further genes encoding amino acid transporter B.  \n",
      "4599                                                                                                                              Z. Yang subunits within these regions is conceivable.  \n",
      "4599                                                                                                 One candidate is ASC- Baylor University Medical Center, Dallas, TX, United States.  \n",
      "4599                                                                                                                                                                              1 (SL  \n",
      "\n",
      "[84675 rows x 2 columns]\n"
     ]
    }
   ],
   "source": [
    "print(sentence_per_row[['Text','Sentence']])                            # have a look. The selected rows should have \n",
    "                                                                        # 'Text' the same, but 'Sentence' different "
   ]
  },
  {
   "cell_type": "code",
   "execution_count": 7,
   "id": "3795c76e",
   "metadata": {},
   "outputs": [
    {
     "name": "stdout",
     "output_type": "stream",
     "text": [
      "How many matching sentences: 9776\n"
     ]
    }
   ],
   "source": [
    "matched_sentences = sentence_per_row[sentence_per_row['Sentence'].str.contains('[Aa]utis|ASD|AS|[Aa]sperger')]\n",
    "                                                     # create a new data frame with only the sentences that contain keywords\n",
    "print(\"How many matching sentences: \" + str(len(matched_sentences)))            # check the length"
   ]
  },
  {
   "cell_type": "code",
   "execution_count": 8,
   "id": "ef8cdb17",
   "metadata": {},
   "outputs": [
    {
     "name": "stdout",
     "output_type": "stream",
     "text": [
      "Now how many matching sentences: 9775\n"
     ]
    }
   ],
   "source": [
    "matched_sentences = matched_sentences[~matched_sentences['Sentence'].isnull()]  # remove any rows with empty 'Sentence' column\n",
    "matched_sentences = matched_sentences.drop_duplicates()                         # drop any duplicates\n",
    "print(\"Now how many matching sentences: \" + str(len(matched_sentences)))        # check length of remaining data frame"
   ]
  },
  {
   "cell_type": "markdown",
   "id": "847a9ab3",
   "metadata": {},
   "source": [
    "In working with the matching sentences, it became clear there were several common errors, variations on how things were written and other annoying minor differences in the texts that made the manual checking more time-consuming than it needed to be.\n",
    "\n",
    "Further, the minor differences meant that the counting steps later on were counting \"child with ASD\" separately from \"child with autism\" when perhaps the more interesting distinction there is whether \"child with autism/ASD\" is more or less common than \"patient with autism/ASD\" or \"proband with autism/ASD\" or any other common person-nouns. \n",
    "\n",
    "Thus, this tidy_up_terminology function corrects several importing errors, spelling and style differences, and consolidates on terminology. "
   ]
  },
  {
   "cell_type": "code",
   "execution_count": 9,
   "id": "8e6a85b6",
   "metadata": {},
   "outputs": [],
   "source": [
    "def tidy_up_terminology (input):\n",
    "    space1 = re.sub(r'([A-Z]).(A-Z)', r'\\1. \\2', input)                 # removes multiple white spaces between words\n",
    "    space2 = re.sub(r'([a-z])(disorder|disability|spectrum)', r'\\1 \\2', space1) # adds a space in select run-ons\n",
    "    space3 = re.sub(r'([a-z])(disorder|spectrum)', r'\\1 \\2', space2)    # a second go at adding a space in select run-ons      \n",
    "    space4 = re.sub(r'(spec) (trum)', r'\\1\\2', space3)                  # removes a space between 'spec' and 'trum'\n",
    "    no_apost = re.sub(r'([Aa]sperger[\\S*?]s)', r'asperger', space4)     # lowercases, removes ' and S from '[Aa]sperger's' \n",
    "    lower1 = re.sub(r'Autis', r'autis', no_apost)                       # lowercases 'Autism' and 'Autistic'\n",
    "    lower2 = re.sub(r'[Aa]spergers|[Aa]sperger', r'asperger', lower1)   # lowercases/removes S from '[Aa]spergers' & '[Aa]sperger'\n",
    "    lower3 = re.sub(r'[Ss]pectrums|[Ss]pectra', r'spectrum', lower2)    # lowercases and removes various plurals for spectrum\n",
    "    lower4 = re.sub(r'[Ss]yndromes|[Ss]yndrome', r'syndrome', lower3)   # lowercases and removes plurals for syndrome\n",
    "    lower5 = re.sub(r'[Dd]isorders|Disorder', r'disorder', lower4)      # lowercases and removes plurals for disorder\n",
    "    lower6 = re.sub(r'[Dd]iseases|Disease', r'disease', lower5)         # lowercases and removes plurals for disease\n",
    "    plur = re.sub(r'ASDs', r'ASD', lower6)                              # removes plural from instances of more than one ASD\n",
    "    stan0 = re.sub(r'(autism|autistic|asperger) syndrome', r'autism spectrum', plur ) # turns select 'syndrome' to 'spectrum'\n",
    "    stan1 = re.sub(r'spectrum disease', r'spectrum disorder', stan0 )   # turns select 'disease' to 'disorder'\n",
    "    stan2 = re.sub(r'(autism|autistic|asperger) spectrum disorder \\(ASD\\)', r'ASD', stan1) # abbreviates various ASD definitions\n",
    "    stan3 = re.sub(r'(autism|autistic|asperger) spectrum disorder', r'ASD', stan2) # abbreviates various options to ASD\n",
    "    stan4 = re.sub(r'(autism|autistic|asperger) spectrum \\(AS\\)', r'ASD', stan3)  # standardises more options to ASD\n",
    "    stan5 = re.sub(r'(autism|autistic|asperger) spectrum', r'ASD', stan4)         # standardises more options to ASD\n",
    "    stan6 = re.sub(r'AS ', r'ASD ', stan5)                              # standardises 'AS ' to 'ASD ' - note trailing space\n",
    "    stan7 = re.sub(r'(autism|autistic|asperger) disorder', r'ASD', stan6) # abbreviates various ASD definitions\n",
    "    aut0 = re.sub(r'asperger autism', r'autism', stan7)                  # standardises 'asperger autism' to 'autism'\n",
    "    ID1 = re.sub(r'[Ii]ntellectual [Dd]isability \\(ID\\)', r'ID', aut0)\n",
    "    ID2 = re.sub(r'[Ii]ntellectual [Dd]isability', r'ID', ID1)\n",
    "\n",
    "    return(ID2)"
   ]
  },
  {
   "cell_type": "code",
   "execution_count": 10,
   "id": "5c95f250",
   "metadata": {},
   "outputs": [
    {
     "data": {
      "text/plain": [
       "'ASD ID and autism ID, ASD            ASD ASD ASD            ASD ASD            ID ID           ASD ASD  ASD ASD ID, and autism '"
      ]
     },
     "execution_count": 10,
     "metadata": {},
     "output_type": "execute_result"
    }
   ],
   "source": [
    " # Optional cell code block to test or understand what the tidy_up_terminology function does\n",
    "    \n",
    "tidy_test = \"Autism spectrum intellectual disability and autism ID, ASD \\\n",
    "            Autisticspectrum autisticspectrumdisorder ASD \\\n",
    "            Asperger's syndrome asperger's syndrome \\\n",
    "            intellectual disability Intellectual Disability (ID)\\\n",
    "            aspergers syndrome autism spectrum  ASDs ASD ID, and autism \"\n",
    "\n",
    "tidy_up_terminology(tidy_test)"
   ]
  },
  {
   "cell_type": "code",
   "execution_count": 11,
   "id": "d1708235",
   "metadata": {},
   "outputs": [],
   "source": [
    "tidy_text = [tidy_up_terminology(sentence) for sentence in matched_sentences['Sentence'] ] \n",
    "                                             # create abstract list without extra spaces/run-ons \n",
    "                                             # this is to improve sentence tokenisation later \n",
    "matched_sentences['Sentence'] = tidy_text    # copy the no extra space/run-on abstract list back into df as a new column"
   ]
  },
  {
   "cell_type": "code",
   "execution_count": 12,
   "id": "d0fa94a6",
   "metadata": {},
   "outputs": [],
   "source": [
    "backup = matched_sentences                    # A backup is useful at this step because the next may not go the way you expect"
   ]
  },
  {
   "cell_type": "code",
   "execution_count": 13,
   "id": "08dd0c43",
   "metadata": {},
   "outputs": [],
   "source": [
    "matched_sentences = backup                    # If you need the backup, re-run this step. "
   ]
  },
  {
   "cell_type": "markdown",
   "id": "49f0de07",
   "metadata": {},
   "source": [
    "## Extraction\n",
    "\n",
    "Following the cleaning phase, we move on to the extraction phase. This has two parts, first for the person-first extraction and then for the identity-first extraction. \n",
    "\n",
    "The results of both extractions are saved in their own column to make it easy to read and also to allow for a single sentence-token to contain both kinds of patterns. \n",
    "\n",
    "### Person-first pattern"
   ]
  },
  {
   "cell_type": "code",
   "execution_count": 14,
   "id": "64d739a6",
   "metadata": {},
   "outputs": [],
   "source": [
    "pattern_1 = [{\"POS\": \"NOUN\"},                                        # define the person-first pattern - start with a noun\n",
    "             {'DEP':'amod', 'OP':\"?\"},                               # followed by an optional modifier\n",
    "             {\"TEXT\": {\"REGEX\": \"(with|by|from)\"}},                  # followed by some words that set up the p-f pattern\n",
    "             {'DEP':'amod', 'OP':\"?\"},                               # then space for up to three optional modifiers\n",
    "             {'DEP':'amod', 'OP':\"?\"},\n",
    "             {'DEP':'amod', 'OP':\"?\"},\n",
    "             {\"TEXT\": {\"REGEX\": \"(^[Aa]utis|^[Aa]sperger|^ASD|^AS$)\"}}] # finally, the keywords (original format, just in case)\n",
    "\n",
    "# Matcher class object \n",
    "matcher = Matcher(nlp.vocab)                                         # define a matcher class object\n",
    "matcher.add(\"matching_1\", [pattern_1])                               # add my three person-first patterns to it\n"
   ]
  },
  {
   "cell_type": "code",
   "execution_count": 15,
   "id": "87d072ec",
   "metadata": {},
   "outputs": [],
   "source": [
    "def find_pattern_match(input):                                               # define a function that applies the person-first\n",
    "    thingy = nlp(input)                                                      # matcher class object to strings\n",
    "    match = matcher(thingy)                                                  # and returns any matches to the pattern(s)\n",
    "    if match == []:\n",
    "        out_value = ''\n",
    "    else:\n",
    "        hold_multi_spans = []\n",
    "        for match_id, start, end in match:\n",
    "                string_id = nlp.vocab.strings[match_id]  # Get string representation\n",
    "                span = thingy[start:end]  # The matched span\n",
    "                hold_multi_spans.append(span)\n",
    "        out_value = hold_multi_spans\n",
    "    return out_value"
   ]
  },
  {
   "cell_type": "code",
   "execution_count": 16,
   "id": "2ffd7373",
   "metadata": {},
   "outputs": [
    {
     "data": {
      "text/plain": [
       "9775"
      ]
     },
     "execution_count": 16,
     "metadata": {},
     "output_type": "execute_result"
    }
   ],
   "source": [
    "matched_sentences['Person-first'] = matched_sentences.apply(lambda row: find_pattern_match(row.Sentence), axis = 1)\n",
    "                                                                        # apply the newly defined person-first matcher function\n",
    "                                                                        # and store the returned output in a new column\n",
    "len(matched_sentences)                                                  # double check length remains same"
   ]
  },
  {
   "cell_type": "markdown",
   "id": "936cc982",
   "metadata": {},
   "source": [
    "### Identity-first pattern"
   ]
  },
  {
   "cell_type": "code",
   "execution_count": 17,
   "id": "dc18f3c5",
   "metadata": {},
   "outputs": [],
   "source": [
    "pattern_a = [{'DEP':'amod', 'OP':\"?\"},                                 # same for identity-first patterns,\n",
    "             {'DEP':'amod', 'OP':\"?\"},                                 # starting with two optional modifiers\n",
    "             {\"TEXT\": {\"REGEX\": \"(^[Aa]utis|^[Aa]sperger|^ASD|^AS$)\"}}, # the keywords (original format, just in case)\n",
    "             {'DEP':'amod', 'OP':\"?\"},                                 # then upt to three more optional modifiers\n",
    "             {'DEP':'amod', 'OP':\"?\"},\n",
    "             {'DEP':'amod', 'OP':\"?\"},\n",
    "             {\"POS\": \"NOUN\"}]                                          # and then a noun\n",
    "\n",
    "# Matcher class object                                         \n",
    "matcher = Matcher(nlp.vocab) \n",
    "matcher.add(\"matching_2\", [pattern_a])            # this overwrites the matcher object to identity-first"
   ]
  },
  {
   "cell_type": "code",
   "execution_count": 18,
   "id": "7f00defd",
   "metadata": {},
   "outputs": [
    {
     "data": {
      "text/plain": [
       "9775"
      ]
     },
     "execution_count": 18,
     "metadata": {},
     "output_type": "execute_result"
    }
   ],
   "source": [
    "matched_sentences['Identity-first'] = matched_sentences.apply(lambda row: find_pattern_match(row.Sentence), axis = 1)\n",
    "                                                                        # apply the newly overwritten matcher function\n",
    "                                                                        # and store the returned output in a new column\n",
    "len(matched_sentences)                                                  # check the length - why not?"
   ]
  },
  {
   "cell_type": "markdown",
   "id": "406db79a",
   "metadata": {},
   "source": [
    "### Consolidation\n",
    "\n",
    "Following the cleaning and extraction phases, the last phase is consolidation. This phase further refines the data by removing all the rows that do not contain a match for one or both of the patterns. For example, there would be a row for \"The child was tested for autism.\" because it contains a keyword of interest. However, this sentence would be eliminated in the consolidation phase as the keyword does not fit into either the person-first or identity-first patterns. \n",
    "\n",
    "Further, this phase goes on to lemmatise the extracted patterns so that they can be counted more easily. This phase also lowercases all occurrences of \"Autistic\", \"Autism\", and \"Asperger's\" as well as removing the apostrophe, the 's' and any non-white characters that might intrude between the 'r' and the 's' of \"Asperger's\". This phase also removes any square brackets, quotes and extra commas introduced by the lemmatisation process. \n",
    "\n",
    "This phase ends by writing out the consolidated data frame to a .csv for manual inspection. I could not find a feasible way of identifying whether or not the nouns matched in the extraction phase are person-nouns or not. As the list is not a totally unreasonable length (in the hundreds) I found it workable to \n",
    "* open in excel, \n",
    "* save the file under another name (e.g. pattern_matches_reviewed), \n",
    "* order the entire data set alphabetically by 'Person-first', \n",
    "* scan through the ordered results check whether each result in the 'Person-first' column is about a person, \n",
    "* removing entire rows if the 'Person-first' match is not about a person (checking the 'Sentence' or 'Text' column if needed)\n",
    "* re-order the entire data set alphabetically by 'Identity-first', \n",
    "* scan through the ordered results check whether each result in the 'Identity-first' column is about a person, \n",
    "* removing entire rows if the 'Identity-first' match is not about a person, \n",
    "* save file again. \n",
    "\n",
    "For example, 'association with autism' matches the person-first pattern but is not about a person, so this row was removed. Many more rows were removed in the 'Identity-first' matches as things like 'autistic behaviours' and 'autism testing' were removed for not being about people. \n",
    "\n",
    "NOTE: There were several instances of \"ASD dataset\" which are not easy to determine if they are about people or not. Do they mean dataset composed from blood tests taken as part of ASD testing? If so, each row in the data set would be a blood test with the possibility that more than one test comes from the same person. Or do they mean a pool of case records, each of which represents a single person? The former would not be \"about people\" but the second would. I did not remove these rows as we cannot be certain. Leaving them out would also have been a valid option, as long as the choice was clear. \n",
    "\n",
    "Coincidentally, during this manual checking part of the consolidation phase I learned that, in the context of human genetics research \"proband\" is a person-noun. "
   ]
  },
  {
   "cell_type": "code",
   "execution_count": 19,
   "id": "b2d91446",
   "metadata": {},
   "outputs": [
    {
     "data": {
      "text/plain": [
       "954"
      ]
     },
     "execution_count": 19,
     "metadata": {},
     "output_type": "execute_result"
    }
   ],
   "source": [
    "matched_patterns = matched_sentences[(matched_sentences['Person-first'] != '') | (matched_sentences['Identity-first'] != '')]\n",
    "                                                     # keep only rows w/ non-null 'Person-first' and/or 'Identity-first' columns\n",
    "len(matched_patterns)                                # check length"
   ]
  },
  {
   "cell_type": "code",
   "execution_count": 20,
   "id": "58536fd7",
   "metadata": {},
   "outputs": [
    {
     "data": {
      "text/plain": [
       "958"
      ]
     },
     "execution_count": 20,
     "metadata": {},
     "output_type": "execute_result"
    }
   ],
   "source": [
    "matched_patterns = matched_patterns.explode('Person-first')    # explode 'Person-first' column to create 1 row per match\n",
    "                                                               # if there were two matches within the same sentence\n",
    "len(matched_patterns)                                          # check the length"
   ]
  },
  {
   "cell_type": "code",
   "execution_count": 21,
   "id": "80451426",
   "metadata": {},
   "outputs": [
    {
     "data": {
      "text/plain": [
       "1088"
      ]
     },
     "execution_count": 21,
     "metadata": {},
     "output_type": "execute_result"
    }
   ],
   "source": [
    "matched_patterns = matched_patterns.explode('Identity-first')  # Do the same for 'Identity-first' column\n",
    "len(matched_patterns)                                          # check the length"
   ]
  },
  {
   "cell_type": "code",
   "execution_count": 22,
   "id": "4ba5db63",
   "metadata": {},
   "outputs": [
    {
     "data": {
      "text/html": [
       "<div>\n",
       "<style scoped>\n",
       "    .dataframe tbody tr th:only-of-type {\n",
       "        vertical-align: middle;\n",
       "    }\n",
       "\n",
       "    .dataframe tbody tr th {\n",
       "        vertical-align: top;\n",
       "    }\n",
       "\n",
       "    .dataframe thead th {\n",
       "        text-align: right;\n",
       "    }\n",
       "</style>\n",
       "<table border=\"1\" class=\"dataframe\">\n",
       "  <thead>\n",
       "    <tr style=\"text-align: right;\">\n",
       "      <th></th>\n",
       "      <th>Unnamed: 0</th>\n",
       "      <th>Title</th>\n",
       "      <th>Session_Code</th>\n",
       "      <th>Author</th>\n",
       "      <th>Affiliations</th>\n",
       "      <th>Text</th>\n",
       "      <th>Year</th>\n",
       "      <th>Authors_and_Affiliations</th>\n",
       "      <th>Email</th>\n",
       "      <th>Sentence</th>\n",
       "      <th>Person-first</th>\n",
       "      <th>Identity-first</th>\n",
       "    </tr>\n",
       "  </thead>\n",
       "  <tbody>\n",
       "    <tr>\n",
       "      <th>15</th>\n",
       "      <td>150</td>\n",
       "      <td>Location of the first predisposing gene locus for Asperger syndrome on chromosome 1q21 22</td>\n",
       "      <td>C102.</td>\n",
       "      <td>NaN</td>\n",
       "      <td>NaN</td>\n",
       "      <td>autism was first described in 1944 by a Viennese physi cian Hans asperger who reported a group of boys with autism whose clinical features resembled autism with some modifications. Itis characteri...</td>\n",
       "      <td>2001.0</td>\n",
       "      <td>E. Jarvela1  T. Ylisaukko oja2  T. Nieminen3  E. Kempas1  M. Auranen1  L. Peltonen1 1National Public Health Institute  Helsinki  Finland  2National Public Health Insitute  Helsinki  Finland  3Uni...</td>\n",
       "      <td>irma.jarvela@hus.fi</td>\n",
       "      <td>autism was first described in 1944 by a Viennese physi cian Hans asperger who reported a group of boys with autism whose clinical features resembled autism with some modifications.</td>\n",
       "      <td>(boys, with, autism)</td>\n",
       "      <td></td>\n",
       "    </tr>\n",
       "    <tr>\n",
       "      <th>30</th>\n",
       "      <td>443</td>\n",
       "      <td>Preliminary Findings In The Diagnostic Evaluation Of A Sample Of 103 Individuals With Pervasive DevelopmentDisorders</td>\n",
       "      <td>P0341.</td>\n",
       "      <td>NaN</td>\n",
       "      <td>NaN</td>\n",
       "      <td>Pervasive development disorder (PDD) are a heterogeneous group ofneurobehavioral disorder of infancy. In order to identify etiologic factors ina sample of individuals with PDD a total of 103 subje...</td>\n",
       "      <td>2001.0</td>\n",
       "      <td>E. Steiner   M. M. Guerreiro  A. P. Marques de Faria Unicamp  Campinas  B</td>\n",
       "      <td>dgmfcm@unicamp.br</td>\n",
       "      <td>In order to identify etiologic factors ina sample of individuals with PDD a total of 103 subjects (84 males and 19females) referred for autistic behavior were submitted to a protocol includ ing cl...</td>\n",
       "      <td></td>\n",
       "      <td>(autistic, behavior)</td>\n",
       "    </tr>\n",
       "    <tr>\n",
       "      <th>33</th>\n",
       "      <td>473</td>\n",
       "      <td>Detection of subtelomeric rearrangements by FISH in patients with idiopathic mental retardation or autism.</td>\n",
       "      <td>P0372.</td>\n",
       "      <td>NaN</td>\n",
       "      <td>NaN</td>\n",
       "      <td>The subtelomeric regions are often involved in chromosomal rearrange 172 Posters: Clinical Genetics and Dysmorphologyments. They are gene rich and therefore rearrangements in these regions are mor...</td>\n",
       "      <td>2001.0</td>\n",
       "      <td>Ostergaard   J. M. Hahnemann  H. Hjalgrim  K. Nielsen  H. M. Nielsen  K. Brondum NielsenJohn F. Kennedy Institute  Glostrup  D</td>\n",
       "      <td>els@kennedy.dk</td>\n",
       "      <td>Two groups of patients all with normal standard chromosome analysis were investigated One group consisted of 14 patients with autism andwith at least one other relative affected with autism.</td>\n",
       "      <td>(patients, with, autism)</td>\n",
       "      <td></td>\n",
       "    </tr>\n",
       "    <tr>\n",
       "      <th>38</th>\n",
       "      <td>571</td>\n",
       "      <td>Rett Syndrome  Phenotype Expansion and Broaden  ing Parameters for Diagnosis and DNA Testing ResultingFrom the Availability of Mutation Analysis.</td>\n",
       "      <td>P0483.</td>\n",
       "      <td>NaN</td>\n",
       "      <td>NaN</td>\n",
       "      <td>The diagnosis of Rett syndrome prior to the availability of mutation analy sis by sequencing the MECP2 gene was based on rigid clinical criteria females who had normal development until 6 18 month...</td>\n",
       "      <td>2001.0</td>\n",
       "      <td>R. Shapiro1 2  H. G. Taska2  R. V. Scott2  D. F. Kronn1 2 1New York Medical College  Valhalla  NY United States  2Westchester Medical Center  Valhalla  NY United S</td>\n",
       "      <td>lrskicker@msn.com</td>\n",
       "      <td>The diagnosis of Rett syndrome prior to the availability of mutation analy sis by sequencing the MECP2 gene was based on rigid clinical criteria females who had normal development until 6 18 month...</td>\n",
       "      <td></td>\n",
       "      <td>(autistic, behavior)</td>\n",
       "    </tr>\n",
       "    <tr>\n",
       "      <th>39</th>\n",
       "      <td>593</td>\n",
       "      <td>Rett Syndrome  clinical manifestations in males with MECP2 mutations  germline mosaicism and implications forgenetic counseling and prenatal diagnosis</td>\n",
       "      <td>P0512.</td>\n",
       "      <td>NaN</td>\n",
       "      <td>NaN</td>\n",
       "      <td>Rett syndrome (RTT) is a neurodevelopmental disorder characterized bycognitive and adaptive regression with autistic features loss of acquiredskills like speech and hand usage stereotypic hand mov...</td>\n",
       "      <td>2001.0</td>\n",
       "      <td>Orr Urtreger1  B. Ben Zeev2  C. N. Schanen3  H. Wolf1  N. Brandt2  N. Ginot4  R. Shomrat1  Y. Yaron1 1Tel Aviv Sourasky Medical Center  Tel Aviv  Israel  2Sheba Medical Cen  ter  Ramat Gan  Israe...</td>\n",
       "      <td>aviorr@tasmc.health.gov.il</td>\n",
       "      <td>Rett syndrome (RTT) is a neurodevelopmental disorder characterized bycognitive and adaptive regression with autistic features loss of acquiredskills like speech and hand usage stereotypic hand mov...</td>\n",
       "      <td>(regression, with, autistic)</td>\n",
       "      <td>(autistic, features)</td>\n",
       "    </tr>\n",
       "  </tbody>\n",
       "</table>\n",
       "</div>"
      ],
      "text/plain": [
       "    Unnamed: 0  \\\n",
       "15         150   \n",
       "30         443   \n",
       "33         473   \n",
       "38         571   \n",
       "39         593   \n",
       "\n",
       "                                                                                                                                                     Title  \\\n",
       "15                                                              Location of the first predisposing gene locus for Asperger syndrome on chromosome 1q21 22    \n",
       "30                                    Preliminary Findings In The Diagnostic Evaluation Of A Sample Of 103 Individuals With Pervasive DevelopmentDisorders   \n",
       "33                                              Detection of subtelomeric rearrangements by FISH in patients with idiopathic mental retardation or autism.   \n",
       "38       Rett Syndrome  Phenotype Expansion and Broaden  ing Parameters for Diagnosis and DNA Testing ResultingFrom the Availability of Mutation Analysis.   \n",
       "39  Rett Syndrome  clinical manifestations in males with MECP2 mutations  germline mosaicism and implications forgenetic counseling and prenatal diagnosis   \n",
       "\n",
       "   Session_Code Author Affiliations  \\\n",
       "15        C102.    NaN          NaN   \n",
       "30       P0341.    NaN          NaN   \n",
       "33       P0372.    NaN          NaN   \n",
       "38       P0483.    NaN          NaN   \n",
       "39       P0512.    NaN          NaN   \n",
       "\n",
       "                                                                                                                                                                                                       Text  \\\n",
       "15  autism was first described in 1944 by a Viennese physi cian Hans asperger who reported a group of boys with autism whose clinical features resembled autism with some modifications. Itis characteri...   \n",
       "30  Pervasive development disorder (PDD) are a heterogeneous group ofneurobehavioral disorder of infancy. In order to identify etiologic factors ina sample of individuals with PDD a total of 103 subje...   \n",
       "33  The subtelomeric regions are often involved in chromosomal rearrange 172 Posters: Clinical Genetics and Dysmorphologyments. They are gene rich and therefore rearrangements in these regions are mor...   \n",
       "38  The diagnosis of Rett syndrome prior to the availability of mutation analy sis by sequencing the MECP2 gene was based on rigid clinical criteria females who had normal development until 6 18 month...   \n",
       "39  Rett syndrome (RTT) is a neurodevelopmental disorder characterized bycognitive and adaptive regression with autistic features loss of acquiredskills like speech and hand usage stereotypic hand mov...   \n",
       "\n",
       "      Year  \\\n",
       "15  2001.0   \n",
       "30  2001.0   \n",
       "33  2001.0   \n",
       "38  2001.0   \n",
       "39  2001.0   \n",
       "\n",
       "                                                                                                                                                                                   Authors_and_Affiliations  \\\n",
       "15   E. Jarvela1  T. Ylisaukko oja2  T. Nieminen3  E. Kempas1  M. Auranen1  L. Peltonen1 1National Public Health Institute  Helsinki  Finland  2National Public Health Insitute  Helsinki  Finland  3Uni...   \n",
       "30                                                                                                                                E. Steiner   M. M. Guerreiro  A. P. Marques de Faria Unicamp  Campinas  B   \n",
       "33                                                                           Ostergaard   J. M. Hahnemann  H. Hjalgrim  K. Nielsen  H. M. Nielsen  K. Brondum NielsenJohn F. Kennedy Institute  Glostrup  D   \n",
       "38                                      R. Shapiro1 2  H. G. Taska2  R. V. Scott2  D. F. Kronn1 2 1New York Medical College  Valhalla  NY United States  2Westchester Medical Center  Valhalla  NY United S   \n",
       "39   Orr Urtreger1  B. Ben Zeev2  C. N. Schanen3  H. Wolf1  N. Brandt2  N. Ginot4  R. Shomrat1  Y. Yaron1 1Tel Aviv Sourasky Medical Center  Tel Aviv  Israel  2Sheba Medical Cen  ter  Ramat Gan  Israe...   \n",
       "\n",
       "                         Email  \\\n",
       "15         irma.jarvela@hus.fi   \n",
       "30           dgmfcm@unicamp.br   \n",
       "33              els@kennedy.dk   \n",
       "38           lrskicker@msn.com   \n",
       "39  aviorr@tasmc.health.gov.il   \n",
       "\n",
       "                                                                                                                                                                                                   Sentence  \\\n",
       "15                     autism was first described in 1944 by a Viennese physi cian Hans asperger who reported a group of boys with autism whose clinical features resembled autism with some modifications.   \n",
       "30  In order to identify etiologic factors ina sample of individuals with PDD a total of 103 subjects (84 males and 19females) referred for autistic behavior were submitted to a protocol includ ing cl...   \n",
       "33           Two groups of patients all with normal standard chromosome analysis were investigated One group consisted of 14 patients with autism andwith at least one other relative affected with autism.   \n",
       "38  The diagnosis of Rett syndrome prior to the availability of mutation analy sis by sequencing the MECP2 gene was based on rigid clinical criteria females who had normal development until 6 18 month...   \n",
       "39  Rett syndrome (RTT) is a neurodevelopmental disorder characterized bycognitive and adaptive regression with autistic features loss of acquiredskills like speech and hand usage stereotypic hand mov...   \n",
       "\n",
       "                    Person-first        Identity-first  \n",
       "15          (boys, with, autism)                        \n",
       "30                                (autistic, behavior)  \n",
       "33      (patients, with, autism)                        \n",
       "38                                (autistic, behavior)  \n",
       "39  (regression, with, autistic)  (autistic, features)  "
      ]
     },
     "execution_count": 22,
     "metadata": {},
     "output_type": "execute_result"
    }
   ],
   "source": [
    "matched_patterns.head(5)                                               # have a look at them"
   ]
  },
  {
   "cell_type": "code",
   "execution_count": 23,
   "id": "d9e44521",
   "metadata": {},
   "outputs": [],
   "source": [
    "Lem = WordNetLemmatizer()                         # Define a short way to call the WordNetLemmatizer\n",
    "\n",
    "def consolidate_matched_patterns (input):         # \n",
    "    final_lemma_list = []\n",
    "    temp_lemma_list = []\n",
    "    for phrase in input:                       # start for loop looking at each pattern in the person-first pattern column\n",
    "        phrase_as_string = str(phrase)                               # hold the current pattern\n",
    "        words_in_phrase = phrase_as_string.split() # split the current pattern into words\n",
    "        for word in words_in_phrase :                            # for each word in the split up words\n",
    "            lemma = Lem.lemmatize(word)             # turn that word into a lemma\n",
    "            temp_lemma_list.append(lemma)                # append that lemma to a temporary list\n",
    "        string_lem = str(temp_lemma_list)              # turn that temporary list into a string\n",
    "        stripped_lem = re.sub(r\"\\[|\\]|\\'|\\,\",'', string_lem)  # remove  square brackets, commas and '' marks from the string\n",
    "        final_lemma_list.append(stripped_lem)        # append the string version of the list to the output list\n",
    "        temp_lemma_list = []                               # ensure the temp variable is empty\n",
    "\n",
    "    return(final_lemma_list)\n"
   ]
  },
  {
   "cell_type": "code",
   "execution_count": 24,
   "id": "90b670fe",
   "metadata": {},
   "outputs": [],
   "source": [
    "person_lemma_list = consolidate_matched_patterns(matched_patterns['Person-first'])\n",
    "identity_lemma_list = consolidate_matched_patterns(matched_patterns['Identity-first'])"
   ]
  },
  {
   "cell_type": "code",
   "execution_count": 25,
   "id": "ad90adb0",
   "metadata": {},
   "outputs": [
    {
     "data": {
      "text/html": [
       "<div>\n",
       "<style scoped>\n",
       "    .dataframe tbody tr th:only-of-type {\n",
       "        vertical-align: middle;\n",
       "    }\n",
       "\n",
       "    .dataframe tbody tr th {\n",
       "        vertical-align: top;\n",
       "    }\n",
       "\n",
       "    .dataframe thead th {\n",
       "        text-align: right;\n",
       "    }\n",
       "</style>\n",
       "<table border=\"1\" class=\"dataframe\">\n",
       "  <thead>\n",
       "    <tr style=\"text-align: right;\">\n",
       "      <th></th>\n",
       "      <th>Unnamed: 0</th>\n",
       "      <th>Title</th>\n",
       "      <th>Session_Code</th>\n",
       "      <th>Author</th>\n",
       "      <th>Affiliations</th>\n",
       "      <th>Text</th>\n",
       "      <th>Year</th>\n",
       "      <th>Authors_and_Affiliations</th>\n",
       "      <th>Email</th>\n",
       "      <th>Sentence</th>\n",
       "      <th>Person-first</th>\n",
       "      <th>Identity-first</th>\n",
       "    </tr>\n",
       "  </thead>\n",
       "  <tbody>\n",
       "    <tr>\n",
       "      <th>15</th>\n",
       "      <td>150</td>\n",
       "      <td>Location of the first predisposing gene locus for Asperger syndrome on chromosome 1q21 22</td>\n",
       "      <td>C102.</td>\n",
       "      <td>NaN</td>\n",
       "      <td>NaN</td>\n",
       "      <td>autism was first described in 1944 by a Viennese physi cian Hans asperger who reported a group of boys with autism whose clinical features resembled autism with some modifications. Itis characteri...</td>\n",
       "      <td>2001.0</td>\n",
       "      <td>E. Jarvela1  T. Ylisaukko oja2  T. Nieminen3  E. Kempas1  M. Auranen1  L. Peltonen1 1National Public Health Institute  Helsinki  Finland  2National Public Health Insitute  Helsinki  Finland  3Uni...</td>\n",
       "      <td>irma.jarvela@hus.fi</td>\n",
       "      <td>autism was first described in 1944 by a Viennese physi cian Hans asperger who reported a group of boys with autism whose clinical features resembled autism with some modifications.</td>\n",
       "      <td>boy with autism</td>\n",
       "      <td></td>\n",
       "    </tr>\n",
       "    <tr>\n",
       "      <th>30</th>\n",
       "      <td>443</td>\n",
       "      <td>Preliminary Findings In The Diagnostic Evaluation Of A Sample Of 103 Individuals With Pervasive DevelopmentDisorders</td>\n",
       "      <td>P0341.</td>\n",
       "      <td>NaN</td>\n",
       "      <td>NaN</td>\n",
       "      <td>Pervasive development disorder (PDD) are a heterogeneous group ofneurobehavioral disorder of infancy. In order to identify etiologic factors ina sample of individuals with PDD a total of 103 subje...</td>\n",
       "      <td>2001.0</td>\n",
       "      <td>E. Steiner   M. M. Guerreiro  A. P. Marques de Faria Unicamp  Campinas  B</td>\n",
       "      <td>dgmfcm@unicamp.br</td>\n",
       "      <td>In order to identify etiologic factors ina sample of individuals with PDD a total of 103 subjects (84 males and 19females) referred for autistic behavior were submitted to a protocol includ ing cl...</td>\n",
       "      <td></td>\n",
       "      <td>autistic behavior</td>\n",
       "    </tr>\n",
       "    <tr>\n",
       "      <th>33</th>\n",
       "      <td>473</td>\n",
       "      <td>Detection of subtelomeric rearrangements by FISH in patients with idiopathic mental retardation or autism.</td>\n",
       "      <td>P0372.</td>\n",
       "      <td>NaN</td>\n",
       "      <td>NaN</td>\n",
       "      <td>The subtelomeric regions are often involved in chromosomal rearrange 172 Posters: Clinical Genetics and Dysmorphologyments. They are gene rich and therefore rearrangements in these regions are mor...</td>\n",
       "      <td>2001.0</td>\n",
       "      <td>Ostergaard   J. M. Hahnemann  H. Hjalgrim  K. Nielsen  H. M. Nielsen  K. Brondum NielsenJohn F. Kennedy Institute  Glostrup  D</td>\n",
       "      <td>els@kennedy.dk</td>\n",
       "      <td>Two groups of patients all with normal standard chromosome analysis were investigated One group consisted of 14 patients with autism andwith at least one other relative affected with autism.</td>\n",
       "      <td>patient with autism</td>\n",
       "      <td></td>\n",
       "    </tr>\n",
       "    <tr>\n",
       "      <th>38</th>\n",
       "      <td>571</td>\n",
       "      <td>Rett Syndrome  Phenotype Expansion and Broaden  ing Parameters for Diagnosis and DNA Testing ResultingFrom the Availability of Mutation Analysis.</td>\n",
       "      <td>P0483.</td>\n",
       "      <td>NaN</td>\n",
       "      <td>NaN</td>\n",
       "      <td>The diagnosis of Rett syndrome prior to the availability of mutation analy sis by sequencing the MECP2 gene was based on rigid clinical criteria females who had normal development until 6 18 month...</td>\n",
       "      <td>2001.0</td>\n",
       "      <td>R. Shapiro1 2  H. G. Taska2  R. V. Scott2  D. F. Kronn1 2 1New York Medical College  Valhalla  NY United States  2Westchester Medical Center  Valhalla  NY United S</td>\n",
       "      <td>lrskicker@msn.com</td>\n",
       "      <td>The diagnosis of Rett syndrome prior to the availability of mutation analy sis by sequencing the MECP2 gene was based on rigid clinical criteria females who had normal development until 6 18 month...</td>\n",
       "      <td></td>\n",
       "      <td>autistic behavior</td>\n",
       "    </tr>\n",
       "    <tr>\n",
       "      <th>39</th>\n",
       "      <td>593</td>\n",
       "      <td>Rett Syndrome  clinical manifestations in males with MECP2 mutations  germline mosaicism and implications forgenetic counseling and prenatal diagnosis</td>\n",
       "      <td>P0512.</td>\n",
       "      <td>NaN</td>\n",
       "      <td>NaN</td>\n",
       "      <td>Rett syndrome (RTT) is a neurodevelopmental disorder characterized bycognitive and adaptive regression with autistic features loss of acquiredskills like speech and hand usage stereotypic hand mov...</td>\n",
       "      <td>2001.0</td>\n",
       "      <td>Orr Urtreger1  B. Ben Zeev2  C. N. Schanen3  H. Wolf1  N. Brandt2  N. Ginot4  R. Shomrat1  Y. Yaron1 1Tel Aviv Sourasky Medical Center  Tel Aviv  Israel  2Sheba Medical Cen  ter  Ramat Gan  Israe...</td>\n",
       "      <td>aviorr@tasmc.health.gov.il</td>\n",
       "      <td>Rett syndrome (RTT) is a neurodevelopmental disorder characterized bycognitive and adaptive regression with autistic features loss of acquiredskills like speech and hand usage stereotypic hand mov...</td>\n",
       "      <td>regression with autistic</td>\n",
       "      <td>autistic feature</td>\n",
       "    </tr>\n",
       "    <tr>\n",
       "      <th>...</th>\n",
       "      <td>...</td>\n",
       "      <td>...</td>\n",
       "      <td>...</td>\n",
       "      <td>...</td>\n",
       "      <td>...</td>\n",
       "      <td>...</td>\n",
       "      <td>...</td>\n",
       "      <td>...</td>\n",
       "      <td>...</td>\n",
       "      <td>...</td>\n",
       "      <td>...</td>\n",
       "      <td>...</td>\n",
       "    </tr>\n",
       "    <tr>\n",
       "      <th>4542</th>\n",
       "      <td>404</td>\n",
       "      <td>NaN</td>\n",
       "      <td>NaN</td>\n",
       "      <td>NaN</td>\n",
       "      <td>NaN</td>\n",
       "      <td>E3 A mutations Üt recently shown to be a common cause of COX-deÜcient Leigh in the middle of severity compared to the other groups. syndrome Case report: We describe a 10.5-years-old Croatian girl...</td>\n",
       "      <td>2004.0</td>\n",
       "      <td>NaN</td>\n",
       "      <td>NaN</td>\n",
       "      <td>syndrome Case report: We describe a 10.5-years-old Croatian girl with We present a 3 year-old girl born at term from second normal ASD.</td>\n",
       "      <td>term from second normal ASD</td>\n",
       "      <td></td>\n",
       "    </tr>\n",
       "    <tr>\n",
       "      <th>4544</th>\n",
       "      <td>409</td>\n",
       "      <td>NaN</td>\n",
       "      <td>NaN</td>\n",
       "      <td>NaN</td>\n",
       "      <td>NaN</td>\n",
       "      <td>S424 , at Xq23-24 in one family with cryptogenic epilepsy. affected male members presented with non-speciÜc MR and Objective: practically healthy boy at 10 years stopped in psychomotor verbal disa...</td>\n",
       "      <td>2004.0</td>\n",
       "      <td>NaN</td>\n",
       "      <td>NaN</td>\n",
       "      <td>At the checkup in 16 years the showing autistic behaviour.</td>\n",
       "      <td></td>\n",
       "      <td>showing autistic behaviour</td>\n",
       "    </tr>\n",
       "    <tr>\n",
       "      <th>4544</th>\n",
       "      <td>409</td>\n",
       "      <td>NaN</td>\n",
       "      <td>NaN</td>\n",
       "      <td>NaN</td>\n",
       "      <td>NaN</td>\n",
       "      <td>S424 , at Xq23-24 in one family with cryptogenic epilepsy. affected male members presented with non-speciÜc MR and Objective: practically healthy boy at 10 years stopped in psychomotor verbal disa...</td>\n",
       "      <td>2004.0</td>\n",
       "      <td>NaN</td>\n",
       "      <td>NaN</td>\n",
       "      <td>At the checkup in 16 years the showing autistic behaviour.</td>\n",
       "      <td></td>\n",
       "      <td>autistic behaviour</td>\n",
       "    </tr>\n",
       "    <tr>\n",
       "      <th>4544</th>\n",
       "      <td>409</td>\n",
       "      <td>NaN</td>\n",
       "      <td>NaN</td>\n",
       "      <td>NaN</td>\n",
       "      <td>NaN</td>\n",
       "      <td>S424 , at Xq23-24 in one family with cryptogenic epilepsy. affected male members presented with non-speciÜc MR and Objective: practically healthy boy at 10 years stopped in psychomotor verbal disa...</td>\n",
       "      <td>2004.0</td>\n",
       "      <td>NaN</td>\n",
       "      <td>NaN</td>\n",
       "      <td>Adrenals on RCT reduce in size, cortex is 1p and monosomy 12q was found in autistic brother.</td>\n",
       "      <td></td>\n",
       "      <td>autistic brother</td>\n",
       "    </tr>\n",
       "    <tr>\n",
       "      <th>4597</th>\n",
       "      <td>2157</td>\n",
       "      <td>NaN</td>\n",
       "      <td>NaN</td>\n",
       "      <td>NaN</td>\n",
       "      <td>NaN</td>\n",
       "      <td>P0835Presence of elevated lactate, lactate/pyruvate ratio and Analysis of the patientsÓclinical and molecular data demonstrated that acylcarnitine proÜle in patients with autism. all Üve patients ...</td>\n",
       "      <td>2004.0</td>\n",
       "      <td>NaN</td>\n",
       "      <td>NaN</td>\n",
       "      <td>P0835Presence of elevated lactate, lactate/pyruvate ratio and Analysis of the patientsÓclinical and molecular data demonstrated that acylcarnitine proÜle in patients with autism.</td>\n",
       "      <td>patient with autism</td>\n",
       "      <td></td>\n",
       "    </tr>\n",
       "  </tbody>\n",
       "</table>\n",
       "<p>1081 rows × 12 columns</p>\n",
       "</div>"
      ],
      "text/plain": [
       "      Unnamed: 0  \\\n",
       "15           150   \n",
       "30           443   \n",
       "33           473   \n",
       "38           571   \n",
       "39           593   \n",
       "...          ...   \n",
       "4542         404   \n",
       "4544         409   \n",
       "4544         409   \n",
       "4544         409   \n",
       "4597        2157   \n",
       "\n",
       "                                                                                                                                                       Title  \\\n",
       "15                                                                Location of the first predisposing gene locus for Asperger syndrome on chromosome 1q21 22    \n",
       "30                                      Preliminary Findings In The Diagnostic Evaluation Of A Sample Of 103 Individuals With Pervasive DevelopmentDisorders   \n",
       "33                                                Detection of subtelomeric rearrangements by FISH in patients with idiopathic mental retardation or autism.   \n",
       "38         Rett Syndrome  Phenotype Expansion and Broaden  ing Parameters for Diagnosis and DNA Testing ResultingFrom the Availability of Mutation Analysis.   \n",
       "39    Rett Syndrome  clinical manifestations in males with MECP2 mutations  germline mosaicism and implications forgenetic counseling and prenatal diagnosis   \n",
       "...                                                                                                                                                      ...   \n",
       "4542                                                                                                                                                     NaN   \n",
       "4544                                                                                                                                                     NaN   \n",
       "4544                                                                                                                                                     NaN   \n",
       "4544                                                                                                                                                     NaN   \n",
       "4597                                                                                                                                                     NaN   \n",
       "\n",
       "     Session_Code Author Affiliations  \\\n",
       "15          C102.    NaN          NaN   \n",
       "30         P0341.    NaN          NaN   \n",
       "33         P0372.    NaN          NaN   \n",
       "38         P0483.    NaN          NaN   \n",
       "39         P0512.    NaN          NaN   \n",
       "...           ...    ...          ...   \n",
       "4542          NaN    NaN          NaN   \n",
       "4544          NaN    NaN          NaN   \n",
       "4544          NaN    NaN          NaN   \n",
       "4544          NaN    NaN          NaN   \n",
       "4597          NaN    NaN          NaN   \n",
       "\n",
       "                                                                                                                                                                                                         Text  \\\n",
       "15    autism was first described in 1944 by a Viennese physi cian Hans asperger who reported a group of boys with autism whose clinical features resembled autism with some modifications. Itis characteri...   \n",
       "30    Pervasive development disorder (PDD) are a heterogeneous group ofneurobehavioral disorder of infancy. In order to identify etiologic factors ina sample of individuals with PDD a total of 103 subje...   \n",
       "33    The subtelomeric regions are often involved in chromosomal rearrange 172 Posters: Clinical Genetics and Dysmorphologyments. They are gene rich and therefore rearrangements in these regions are mor...   \n",
       "38    The diagnosis of Rett syndrome prior to the availability of mutation analy sis by sequencing the MECP2 gene was based on rigid clinical criteria females who had normal development until 6 18 month...   \n",
       "39    Rett syndrome (RTT) is a neurodevelopmental disorder characterized bycognitive and adaptive regression with autistic features loss of acquiredskills like speech and hand usage stereotypic hand mov...   \n",
       "...                                                                                                                                                                                                       ...   \n",
       "4542  E3 A mutations Üt recently shown to be a common cause of COX-deÜcient Leigh in the middle of severity compared to the other groups. syndrome Case report: We describe a 10.5-years-old Croatian girl...   \n",
       "4544  S424 , at Xq23-24 in one family with cryptogenic epilepsy. affected male members presented with non-speciÜc MR and Objective: practically healthy boy at 10 years stopped in psychomotor verbal disa...   \n",
       "4544  S424 , at Xq23-24 in one family with cryptogenic epilepsy. affected male members presented with non-speciÜc MR and Objective: practically healthy boy at 10 years stopped in psychomotor verbal disa...   \n",
       "4544  S424 , at Xq23-24 in one family with cryptogenic epilepsy. affected male members presented with non-speciÜc MR and Objective: practically healthy boy at 10 years stopped in psychomotor verbal disa...   \n",
       "4597  P0835Presence of elevated lactate, lactate/pyruvate ratio and Analysis of the patientsÓclinical and molecular data demonstrated that acylcarnitine proÜle in patients with autism. all Üve patients ...   \n",
       "\n",
       "        Year  \\\n",
       "15    2001.0   \n",
       "30    2001.0   \n",
       "33    2001.0   \n",
       "38    2001.0   \n",
       "39    2001.0   \n",
       "...      ...   \n",
       "4542  2004.0   \n",
       "4544  2004.0   \n",
       "4544  2004.0   \n",
       "4544  2004.0   \n",
       "4597  2004.0   \n",
       "\n",
       "                                                                                                                                                                                     Authors_and_Affiliations  \\\n",
       "15     E. Jarvela1  T. Ylisaukko oja2  T. Nieminen3  E. Kempas1  M. Auranen1  L. Peltonen1 1National Public Health Institute  Helsinki  Finland  2National Public Health Insitute  Helsinki  Finland  3Uni...   \n",
       "30                                                                                                                                  E. Steiner   M. M. Guerreiro  A. P. Marques de Faria Unicamp  Campinas  B   \n",
       "33                                                                             Ostergaard   J. M. Hahnemann  H. Hjalgrim  K. Nielsen  H. M. Nielsen  K. Brondum NielsenJohn F. Kennedy Institute  Glostrup  D   \n",
       "38                                        R. Shapiro1 2  H. G. Taska2  R. V. Scott2  D. F. Kronn1 2 1New York Medical College  Valhalla  NY United States  2Westchester Medical Center  Valhalla  NY United S   \n",
       "39     Orr Urtreger1  B. Ben Zeev2  C. N. Schanen3  H. Wolf1  N. Brandt2  N. Ginot4  R. Shomrat1  Y. Yaron1 1Tel Aviv Sourasky Medical Center  Tel Aviv  Israel  2Sheba Medical Cen  ter  Ramat Gan  Israe...   \n",
       "...                                                                                                                                                                                                       ...   \n",
       "4542                                                                                                                                                                                                      NaN   \n",
       "4544                                                                                                                                                                                                      NaN   \n",
       "4544                                                                                                                                                                                                      NaN   \n",
       "4544                                                                                                                                                                                                      NaN   \n",
       "4597                                                                                                                                                                                                      NaN   \n",
       "\n",
       "                           Email  \\\n",
       "15           irma.jarvela@hus.fi   \n",
       "30             dgmfcm@unicamp.br   \n",
       "33                els@kennedy.dk   \n",
       "38             lrskicker@msn.com   \n",
       "39    aviorr@tasmc.health.gov.il   \n",
       "...                          ...   \n",
       "4542                         NaN   \n",
       "4544                         NaN   \n",
       "4544                         NaN   \n",
       "4544                         NaN   \n",
       "4597                         NaN   \n",
       "\n",
       "                                                                                                                                                                                                     Sentence  \\\n",
       "15                       autism was first described in 1944 by a Viennese physi cian Hans asperger who reported a group of boys with autism whose clinical features resembled autism with some modifications.   \n",
       "30    In order to identify etiologic factors ina sample of individuals with PDD a total of 103 subjects (84 males and 19females) referred for autistic behavior were submitted to a protocol includ ing cl...   \n",
       "33             Two groups of patients all with normal standard chromosome analysis were investigated One group consisted of 14 patients with autism andwith at least one other relative affected with autism.   \n",
       "38    The diagnosis of Rett syndrome prior to the availability of mutation analy sis by sequencing the MECP2 gene was based on rigid clinical criteria females who had normal development until 6 18 month...   \n",
       "39    Rett syndrome (RTT) is a neurodevelopmental disorder characterized bycognitive and adaptive regression with autistic features loss of acquiredskills like speech and hand usage stereotypic hand mov...   \n",
       "...                                                                                                                                                                                                       ...   \n",
       "4542                                                                  syndrome Case report: We describe a 10.5-years-old Croatian girl with We present a 3 year-old girl born at term from second normal ASD.   \n",
       "4544                                                                                                                                               At the checkup in 16 years the showing autistic behaviour.   \n",
       "4544                                                                                                                                               At the checkup in 16 years the showing autistic behaviour.   \n",
       "4544                                                                                                             Adrenals on RCT reduce in size, cortex is 1p and monosomy 12q was found in autistic brother.   \n",
       "4597                       P0835Presence of elevated lactate, lactate/pyruvate ratio and Analysis of the patientsÓclinical and molecular data demonstrated that acylcarnitine proÜle in patients with autism.   \n",
       "\n",
       "                     Person-first              Identity-first  \n",
       "15                boy with autism                              \n",
       "30                                          autistic behavior  \n",
       "33            patient with autism                              \n",
       "38                                          autistic behavior  \n",
       "39       regression with autistic            autistic feature  \n",
       "...                           ...                         ...  \n",
       "4542  term from second normal ASD                              \n",
       "4544                               showing autistic behaviour  \n",
       "4544                                       autistic behaviour  \n",
       "4544                                         autistic brother  \n",
       "4597          patient with autism                              \n",
       "\n",
       "[1081 rows x 12 columns]"
      ]
     },
     "execution_count": 25,
     "metadata": {},
     "output_type": "execute_result"
    }
   ],
   "source": [
    "matched_patterns['Person-first'] = person_lemma_list    # copy the person-first output to new column in data frame \n",
    "matched_patterns['Identity-first'] = identity_lemma_list  # copy the identity-first output to new column in data frame \n",
    "matched_patterns = matched_patterns.drop_duplicates()                         # drop any duplicates\n",
    "matched_patterns                                                   # have a look at the data frame with its new columns"
   ]
  },
  {
   "cell_type": "code",
   "execution_count": 26,
   "id": "20ac2138",
   "metadata": {},
   "outputs": [],
   "source": [
    "matched_patterns.to_csv('..\\\\output\\\\pattern_matches_to_review.csv')        \n",
    "                                                            # Write the data frame to a .csv for manual processing in excel"
   ]
  },
  {
   "cell_type": "markdown",
   "id": "9897ba53",
   "metadata": {},
   "source": [
    "At this point, I open the file in Excel (for example), removed the brackets, quotation marks and commas in the Person-first lemmatised and Identity-first lemmatised columns, then sort by each of one of these columns. I then scan through the results, removing any rows that are obviously not about people (e.g. \"autistic testing\") and checking the 'Text' column on any that are unclear 'autistic quartets'). I then sort by the other column and repeat the step of reviewing and deleting non-person rows. Save under \"pattern_matches_reviewed.csv\" for the next step. "
   ]
  },
  {
   "cell_type": "markdown",
   "id": "35d2281a",
   "metadata": {},
   "source": [
    "## Exlporing statistics for person-first and identity-first"
   ]
  },
  {
   "cell_type": "code",
   "execution_count": 44,
   "id": "388d8be8",
   "metadata": {},
   "outputs": [
    {
     "data": {
      "text/html": [
       "<div>\n",
       "<style scoped>\n",
       "    .dataframe tbody tr th:only-of-type {\n",
       "        vertical-align: middle;\n",
       "    }\n",
       "\n",
       "    .dataframe tbody tr th {\n",
       "        vertical-align: top;\n",
       "    }\n",
       "\n",
       "    .dataframe thead th {\n",
       "        text-align: right;\n",
       "    }\n",
       "</style>\n",
       "<table border=\"1\" class=\"dataframe\">\n",
       "  <thead>\n",
       "    <tr style=\"text-align: right;\">\n",
       "      <th></th>\n",
       "      <th>Unnamed: 0.1</th>\n",
       "      <th>Unnamed: 0</th>\n",
       "      <th>Title</th>\n",
       "      <th>Session_Code</th>\n",
       "      <th>Author</th>\n",
       "      <th>Affiliations</th>\n",
       "      <th>Text</th>\n",
       "      <th>Year</th>\n",
       "      <th>Authors_and_Affiliations</th>\n",
       "      <th>Email</th>\n",
       "      <th>Sentence</th>\n",
       "      <th>Person-first</th>\n",
       "      <th>Identity-first</th>\n",
       "    </tr>\n",
       "  </thead>\n",
       "  <tbody>\n",
       "    <tr>\n",
       "      <th>0</th>\n",
       "      <td>3095</td>\n",
       "      <td>280</td>\n",
       "      <td>Microdeletion and microduplication in two Lithuanian patients with speech delay</td>\n",
       "      <td>P11.01</td>\n",
       "      <td>V. SËliuas1,2, B. Aleksiuniene1,2, E. Dagyte1,2,L .</td>\n",
       "      <td>Ambrozaityte1,2, B. Tumiene1,2, B. Burnyte1,2,A .</td>\n",
       "      <td>Utkus1,2 1Department of Human and Medical Genetics, Faculty of Medicine, Vilnius, Lithuania,2Center for Medical Genetics, Vilnius University Hospital Santariskiu Clinics, Vilnius, Lithuania Introd...</td>\n",
       "      <td>2017</td>\n",
       "      <td>NaN</td>\n",
       "      <td>NaN</td>\n",
       "      <td>16p11.2 CNVs are often detected in ASD patients but our patients do not manifest any similar features.</td>\n",
       "      <td>NaN</td>\n",
       "      <td>ASD patient</td>\n",
       "    </tr>\n",
       "    <tr>\n",
       "      <th>1</th>\n",
       "      <td>2166</td>\n",
       "      <td>690</td>\n",
       "      <td>Deletion: involvement of SNTG2 in autism or behavioral troubles, and parental imprinting.</td>\n",
       "      <td>PS08.05</td>\n",
       "      <td>M. Plutino1, H. Karmous Benailly1, F. Giuliano1, C. Massol1, K. Wagner2, V. Paquis  Flucklinger1, M. Dayem Quere1</td>\n",
       "      <td>1HÃÂ´pital de lÃ¢ÂÂ Archet II, CHU de Nice, Nice, France, 2HÃÂ´pitaux PÃÂ©diatriques de Nice, CHU  Lenval, Nice, France</td>\n",
       "      <td>Deletions of the terminal region of the short arm of chromosome 2 have been reported in the literature in less than 20 patients. These patients share common clinical features including early onset...</td>\n",
       "      <td>2015</td>\n",
       "      <td>NaN</td>\n",
       "      <td>NaN</td>\n",
       "      <td>We present three new pa tients carrying 2p25 deletions: an autist female child with developmental delay and her depressive father, and a third unrelated patient who has psy chomotor retardation an...</td>\n",
       "      <td>NaN</td>\n",
       "      <td>autist female child</td>\n",
       "    </tr>\n",
       "    <tr>\n",
       "      <th>2</th>\n",
       "      <td>1303</td>\n",
       "      <td>958</td>\n",
       "      <td>A 3 year old patient with autism and microdeletion in the KIAA0442 (AUTS2 ) gene</td>\n",
       "      <td>P09.027</td>\n",
       "      <td>C. Huebner1, D. Steinemann2, J. Schmidtke1, M. Arslan Kirchner1</td>\n",
       "      <td>1Institute of Human Genetics, Hannover Medical School, Hannover, Germany, 2Institute  for Cellular and Molecular Pathology, Hannover Medical School, Hannover, Germany</td>\n",
       "      <td>A 2 10/12 year old boy with bilateral cleft lip and cleft palate as well as de velopmental delay was presented to our genetics clinic. He is the first child of non consanguineous healthy parents. ...</td>\n",
       "      <td>2012</td>\n",
       "      <td>NaN</td>\n",
       "      <td>NaN</td>\n",
       "      <td>Two thirds of all patients with ASD suffer from mental retardation.</td>\n",
       "      <td>patient with ASD</td>\n",
       "      <td>NaN</td>\n",
       "    </tr>\n",
       "  </tbody>\n",
       "</table>\n",
       "</div>"
      ],
      "text/plain": [
       "   Unnamed: 0.1  Unnamed: 0  \\\n",
       "0          3095         280   \n",
       "1          2166         690   \n",
       "2          1303         958   \n",
       "\n",
       "                                                                                       Title  \\\n",
       "0            Microdeletion and microduplication in two Lithuanian patients with speech delay   \n",
       "1  Deletion: involvement of SNTG2 in autism or behavioral troubles, and parental imprinting.   \n",
       "2           A 3 year old patient with autism and microdeletion in the KIAA0442 (AUTS2 ) gene   \n",
       "\n",
       "  Session_Code  \\\n",
       "0       P11.01   \n",
       "1      PS08.05   \n",
       "2      P09.027   \n",
       "\n",
       "                                                                                                              Author  \\\n",
       "0                                                               V. SËliuas1,2, B. Aleksiuniene1,2, E. Dagyte1,2,L .   \n",
       "1  M. Plutino1, H. Karmous Benailly1, F. Giuliano1, C. Massol1, K. Wagner2, V. Paquis  Flucklinger1, M. Dayem Quere1   \n",
       "2                                                    C. Huebner1, D. Steinemann2, J. Schmidtke1, M. Arslan Kirchner1   \n",
       "\n",
       "                                                                                                                                                             Affiliations  \\\n",
       "0                                                                                                                       Ambrozaityte1,2, B. Tumiene1,2, B. Burnyte1,2,A .   \n",
       "1                                            1HÃÂ´pital de lÃ¢ÂÂ Archet II, CHU de Nice, Nice, France, 2HÃÂ´pitaux PÃÂ©diatriques de Nice, CHU  Lenval, Nice, France   \n",
       "2  1Institute of Human Genetics, Hannover Medical School, Hannover, Germany, 2Institute  for Cellular and Molecular Pathology, Hannover Medical School, Hannover, Germany   \n",
       "\n",
       "                                                                                                                                                                                                      Text  \\\n",
       "0  Utkus1,2 1Department of Human and Medical Genetics, Faculty of Medicine, Vilnius, Lithuania,2Center for Medical Genetics, Vilnius University Hospital Santariskiu Clinics, Vilnius, Lithuania Introd...   \n",
       "1  Deletions of the terminal region of the short arm of chromosome 2 have been reported in the literature in less than 20 patients. These patients share common clinical features including early onset...   \n",
       "2  A 2 10/12 year old boy with bilateral cleft lip and cleft palate as well as de velopmental delay was presented to our genetics clinic. He is the first child of non consanguineous healthy parents. ...   \n",
       "\n",
       "   Year Authors_and_Affiliations Email  \\\n",
       "0  2017                      NaN   NaN   \n",
       "1  2015                      NaN   NaN   \n",
       "2  2012                      NaN   NaN   \n",
       "\n",
       "                                                                                                                                                                                                  Sentence  \\\n",
       "0                                                                                                   16p11.2 CNVs are often detected in ASD patients but our patients do not manifest any similar features.   \n",
       "1  We present three new pa tients carrying 2p25 deletions: an autist female child with developmental delay and her depressive father, and a third unrelated patient who has psy chomotor retardation an...   \n",
       "2                                                                                                                                      Two thirds of all patients with ASD suffer from mental retardation.   \n",
       "\n",
       "       Person-first       Identity-first  \n",
       "0               NaN          ASD patient  \n",
       "1               NaN  autist female child  \n",
       "2  patient with ASD                  NaN  "
      ]
     },
     "execution_count": 44,
     "metadata": {},
     "output_type": "execute_result"
    }
   ],
   "source": [
    "reviewed_matches = pd.read_csv('..\\\\output\\\\pattern_matches_reviewed.csv')    # one for just those that match the keyword\n",
    "reviewed_matches.head(3)"
   ]
  },
  {
   "cell_type": "code",
   "execution_count": 45,
   "id": "81fbac29",
   "metadata": {},
   "outputs": [
    {
     "name": "stdout",
     "output_type": "stream",
     "text": [
      "There are 523 rows in the post-manual review data frame coming from 255 unique titles.\n"
     ]
    }
   ],
   "source": [
    "print(\"There are \" + \n",
    "      str(len(reviewed_matches)) + \" rows in the post-manual review data frame coming from \" +\n",
    "      str(reviewed_matches['Title'].nunique()) +\n",
    "      \" unique titles.\")"
   ]
  },
  {
   "cell_type": "code",
   "execution_count": 46,
   "id": "aa2c9802",
   "metadata": {},
   "outputs": [],
   "source": [
    "def find_PF_nouns(input):\n",
    "    output = []\n",
    "    for thingy in input:\n",
    "        if isinstance(thingy,str):\n",
    "            word_list = thingy.split()\n",
    "            noun = word_list[0]\n",
    "            output.append(noun)\n",
    "        else:\n",
    "            output.append(\"\")\n",
    "    return output\n",
    "\n",
    "def find_IF_nouns(input):\n",
    "    output = []\n",
    "    for thingy in input:\n",
    "        if isinstance(thingy,str):\n",
    "            word_list = thingy.split()\n",
    "            noun = word_list[-1]\n",
    "            output.append(noun)\n",
    "        else:\n",
    "            output.append(\"\")\n",
    "    return output"
   ]
  },
  {
   "cell_type": "code",
   "execution_count": 47,
   "id": "6eda37d9",
   "metadata": {},
   "outputs": [],
   "source": [
    "reviewed_matches['PF_nouns'] = find_PF_nouns(reviewed_matches['Person-first'])"
   ]
  },
  {
   "cell_type": "code",
   "execution_count": 48,
   "id": "8b942411",
   "metadata": {},
   "outputs": [
    {
     "name": "stdout",
     "output_type": "stream",
     "text": [
      "In total, there are 264 examples of PFL, coming from 173 unique titles, with 65 unique patterns and 26 unique nouns.\n"
     ]
    }
   ],
   "source": [
    "print(\"In total, there are \" + str(reviewed_matches['Person-first'].count()) +\n",
    "      \" examples of PFL, coming from \" +\n",
    "      str(len(reviewed_matches[reviewed_matches[\"Person-first\"].notnull() == True].groupby(['Title']).nunique())) +\n",
    "      \" unique titles, with \" +\n",
    "      str(reviewed_matches['Person-first'].nunique()) + \" unique patterns and \" +\n",
    "      str(reviewed_matches['PF_nouns'].nunique()) + \" unique nouns.\")"
   ]
  },
  {
   "cell_type": "code",
   "execution_count": 49,
   "id": "1028fa3d",
   "metadata": {},
   "outputs": [],
   "source": [
    "reviewed_matches['IF_nouns'] = find_IF_nouns(reviewed_matches['Identity-first'])"
   ]
  },
  {
   "cell_type": "code",
   "execution_count": 50,
   "id": "9e7e954e",
   "metadata": {},
   "outputs": [
    {
     "name": "stdout",
     "output_type": "stream",
     "text": [
      "In total, there are 263 examples of IFL, coming from 133 unique titles, with 76 unique patterns and 23 unique nouns.\n"
     ]
    }
   ],
   "source": [
    "print(\"In total, there are \" + str(reviewed_matches['Identity-first'].count()) +\n",
    "      \" examples of IFL, coming from \" +\n",
    "      str(len(reviewed_matches[reviewed_matches[\"Identity-first\"].notnull() == True].groupby(['Title']).nunique())) +\n",
    "      \" unique titles, with \" +\n",
    "      str(reviewed_matches['Identity-first'].nunique()) + \" unique patterns and \" +\n",
    "      str(reviewed_matches['IF_nouns'].nunique()) + \" unique nouns.\")"
   ]
  },
  {
   "cell_type": "code",
   "execution_count": 51,
   "id": "fa8328b3",
   "metadata": {},
   "outputs": [
    {
     "name": "stdout",
     "output_type": "stream",
     "text": [
      "PF_nouns\n",
      "              131\n",
      "patient        80\n",
      "individual     33\n",
      "child          30\n",
      "boy            12\n",
      "family          8\n",
      "subject         7\n",
      "girl            6\n",
      "case            6\n",
      "proband         5\n",
      "people          3\n",
      "Name: Title, dtype: int64\n",
      "\n",
      "IF_nouns\n",
      "              170\n",
      "patient        61\n",
      "case           21\n",
      "individual     19\n",
      "child          18\n",
      "family         12\n",
      "subject        11\n",
      "group           9\n",
      "cohort          7\n",
      "proband         7\n",
      "dataset         5\n",
      "Name: Title, dtype: int64\n"
     ]
    }
   ],
   "source": [
    "print(reviewed_matches.groupby(['PF_nouns'])['Title'].nunique().sort_values(ascending=False).head(11))\n",
    "print(\"\")\n",
    "print(reviewed_matches.groupby(['IF_nouns'])['Title'].nunique().sort_values(ascending=False).head(11))"
   ]
  },
  {
   "cell_type": "code",
   "execution_count": 52,
   "id": "f57fe19a",
   "metadata": {},
   "outputs": [
    {
     "name": "stdout",
     "output_type": "stream",
     "text": [
      "65\n",
      "76\n"
     ]
    }
   ],
   "source": [
    "person_examples = reviewed_matches.groupby(['Person-first'])['Person-first'].count()\n",
    "identity_examples = reviewed_matches.groupby(['Identity-first'])['Identity-first'].count()\n",
    "print(len(person_examples))\n",
    "print(len(identity_examples))"
   ]
  },
  {
   "cell_type": "code",
   "execution_count": 53,
   "id": "ab1443d2",
   "metadata": {},
   "outputs": [],
   "source": [
    "person_identity_examples=pd.concat([person_examples,identity_examples],axis=1)\n"
   ]
  },
  {
   "cell_type": "code",
   "execution_count": 54,
   "id": "11bf97e2",
   "metadata": {},
   "outputs": [
    {
     "name": "stdout",
     "output_type": "stream",
     "text": [
      "                        Person-first  Identity-first\n",
      "patient with ASD                50.0             NaN\n",
      "patient with autism             47.0             NaN\n",
      "child with ASD                  21.0             NaN\n",
      "child with autism               17.0             NaN\n",
      "individual with autism          16.0             NaN\n",
      "individual with ASD             16.0             NaN\n",
      "boy with autism                  6.0             NaN\n",
      "proband with ASD                 6.0             NaN\n",
      "family with ASD                  5.0             NaN\n",
      "subject with ASD                 5.0             NaN\n"
     ]
    }
   ],
   "source": [
    "print(person_identity_examples.sort_values(by=['Person-first'], ascending=False).head(10))\n",
    "# print(person_identity_examples.sort_values(by=['Person-first'], ascending=True).head(10))"
   ]
  },
  {
   "cell_type": "code",
   "execution_count": 55,
   "id": "c04bc80a",
   "metadata": {},
   "outputs": [
    {
     "name": "stdout",
     "output_type": "stream",
     "text": [
      "                     Person-first  Identity-first\n",
      "ASD patient                   NaN            41.0\n",
      "autistic patient              NaN            24.0\n",
      "ASD case                      NaN            16.0\n",
      "autistic child                NaN            16.0\n",
      "autism patient                NaN            16.0\n",
      "ASD family                    NaN            13.0\n",
      "ASD subject                   NaN            12.0\n",
      "autistic individual           NaN            12.0\n",
      "ASD individual                NaN            10.0\n",
      "autistic group                NaN             6.0\n"
     ]
    }
   ],
   "source": [
    "print(person_identity_examples.sort_values(by=['Identity-first'], ascending=False).head(10))\n",
    "# print(person_identity_examples.sort_values(by=['Identity-first'], ascending=True).head(10))"
   ]
  },
  {
   "cell_type": "code",
   "execution_count": 56,
   "id": "7b9e02f9",
   "metadata": {},
   "outputs": [
    {
     "name": "stdout",
     "output_type": "stream",
     "text": [
      "    Year  PFL  IFL\n",
      "0   2001    3    3\n",
      "1   2002    6    6\n",
      "2   2003    9    4\n",
      "3   2004    3    2\n",
      "4   2005    3    4\n",
      "5   2006    3    2\n",
      "6   2007    8    5\n",
      "7   2008   13   11\n",
      "8   2009    6   10\n",
      "9   2010    7    8\n",
      "10  2011   23   21\n",
      "11  2012   18   18\n",
      "12  2013   31   29\n",
      "13  2014   15   24\n",
      "14  2015   10    7\n",
      "15  2016   21   20\n",
      "16  2017   11   12\n",
      "17  2018   22   10\n",
      "18  2019   20   33\n",
      "19  2020   24    9\n",
      "20  2021    8   25\n"
     ]
    }
   ],
   "source": [
    "PFL_by_year = reviewed_matches.groupby(['Year'])['Person-first'].count()\n",
    "IFL_by_year = reviewed_matches.groupby(['Year'])['Identity-first'].count()\n",
    "person_identity_count = pd.concat([PFL_by_year,IFL_by_year],axis=1)\n",
    "person_identity_count = person_identity_count.rename(columns={\"Person-first\": \"PFL\", \"Identity-first\": \"IFL\"})    \n",
    "                                                                                        # rename the columns\n",
    "person_identity_count = person_identity_count.rename_axis('Year').reset_index()         # rename axis, reset index\n",
    "person_identity_count = person_identity_count.sort_values(by=['Year']).astype('Int64')  # retype and sort by value of year\n",
    "\n",
    "print(person_identity_count)"
   ]
  },
  {
   "cell_type": "code",
   "execution_count": 57,
   "id": "1207db21",
   "metadata": {},
   "outputs": [
    {
     "name": "stdout",
     "output_type": "stream",
     "text": [
      "            PFL  IFL\n",
      "Year                \n",
      "2001-01-01    3    3\n",
      "2002-01-01    6    6\n",
      "2003-01-01    9    4\n",
      "2004-01-01    3    2\n",
      "2005-01-01    3    4\n",
      "2006-01-01    3    2\n",
      "2007-01-01    8    5\n",
      "2008-01-01   13   11\n",
      "2009-01-01    6   10\n",
      "2010-01-01    7    8\n",
      "2011-01-01   23   21\n",
      "2012-01-01   18   18\n",
      "2013-01-01   31   29\n",
      "2014-01-01   15   24\n",
      "2015-01-01   10    7\n",
      "2016-01-01   21   20\n",
      "2017-01-01   11   12\n",
      "2018-01-01   22   10\n",
      "2019-01-01   20   33\n",
      "2020-01-01   24    9\n",
      "2021-01-01    8   25\n"
     ]
    }
   ],
   "source": [
    "person_identity_count['Year'] = pd.to_datetime(person_identity_count['Year'].astype(str), format=\"%Y\")\n",
    "person_identity_count = person_identity_count.set_index('Year')                     # set the year as the index\n",
    "\n",
    "print(person_identity_count)   \n"
   ]
  },
  {
   "cell_type": "code",
   "execution_count": 58,
   "id": "325e18cd",
   "metadata": {},
   "outputs": [
    {
     "data": {
      "image/png": "[encoded data removed]",
      "text/plain": [
       "<Figure size 640x480 with 1 Axes>"
      ]
     },
     "metadata": {},
     "output_type": "display_data"
    },
    {
     "data": {
      "text/plain": [
       "<Figure size 640x480 with 0 Axes>"
      ]
     },
     "metadata": {},
     "output_type": "display_data"
    }
   ],
   "source": [
    "person_identity_count.plot()\n",
    "plt.show()\n",
    "plt.savefig('..\\\\output\\\\matches_count.jpg')    # we can right click on the plot above to save it, or save it via command"
   ]
  },
  {
   "cell_type": "markdown",
   "id": "6efde442",
   "metadata": {},
   "source": [
    "## Chart person-first or identity-first by year"
   ]
  },
  {
   "cell_type": "markdown",
   "id": "47b82b88",
   "metadata": {},
   "source": [
    "## Count abstracts by the structures they use"
   ]
  },
  {
   "cell_type": "code",
   "execution_count": 59,
   "id": "7dd85bf7",
   "metadata": {},
   "outputs": [
    {
     "name": "stdout",
     "output_type": "stream",
     "text": [
      "                                                                                                                                                                                                          Person-first  \\\n",
      "Title                                                                                                                                                                                                                    \n",
      " A 3 year old patient with autism and microdeletion in the KIAA0442 (AUTS2 ) gene                                                                                                                                    2   \n",
      " A WES study in 200 intellectual disability/ autism patients are averbal), behavioral problems, intellectual disability, patients visual impairment, gastrointestinal problems and facial dysmorphicf...             0   \n",
      " A c GH Array study in non syndromic (primary) autism disorder                                                                                                                                                       1   \n",
      " A clinical study of patients with pericentromeric deletion and duplication within 16p11.2 p12.2                                                                                                                     3   \n",
      " A cross disorder dosage sensitivity map of the human genome Ryan Lewis Collins 1, Joseph T                                                                                                                          1   \n",
      "...                                                                                                                                                                                                                ...   \n",
      "scores and autism severity ratings based on the ADOS (currentseverity), ADI-Rpast time (periodoflife from4to 5 years old), or ADI-R present time.                                                                    1   \n",
      "screening for 22q13 deletion syndrome in 40 patients with clinical feautures suggestive of Angelman syndrome and normal  methylation test                                                                            1   \n",
      "screening of COL\u0018A\u0018  in Hellenic families from Greece and  cyprus with X linked Alport syndrome                                                                                                                      1   \n",
      "the BDNF receptor gene NTRK\u0018  is a susceptibility gene for  autism                                                                                                                                                   0   \n",
      "the facial dysmorphy in the newly recognised microdeletion  2p15 p16.1 refined to a 570 kb region in 2p15                                                                                                            1   \n",
      "\n",
      "                                                                                                                                                                                                          Identity-first  \n",
      "Title                                                                                                                                                                                                                     \n",
      " A 3 year old patient with autism and microdeletion in the KIAA0442 (AUTS2 ) gene                                                                                                                                      0  \n",
      " A WES study in 200 intellectual disability/ autism patients are averbal), behavioral problems, intellectual disability, patients visual impairment, gastrointestinal problems and facial dysmorphicf...               1  \n",
      " A c GH Array study in non syndromic (primary) autism disorder                                                                                                                                                         3  \n",
      " A clinical study of patients with pericentromeric deletion and duplication within 16p11.2 p12.2                                                                                                                       0  \n",
      " A cross disorder dosage sensitivity map of the human genome Ryan Lewis Collins 1, Joseph T                                                                                                                            0  \n",
      "...                                                                                                                                                                                                                  ...  \n",
      "scores and autism severity ratings based on the ADOS (currentseverity), ADI-Rpast time (periodoflife from4to 5 years old), or ADI-R present time.                                                                      0  \n",
      "screening for 22q13 deletion syndrome in 40 patients with clinical feautures suggestive of Angelman syndrome and normal  methylation test                                                                              0  \n",
      "screening of COL\u0018A\u0018  in Hellenic families from Greece and  cyprus with X linked Alport syndrome                                                                                                                        0  \n",
      "the BDNF receptor gene NTRK\u0018  is a susceptibility gene for  autism                                                                                                                                                     1  \n",
      "the facial dysmorphy in the newly recognised microdeletion  2p15 p16.1 refined to a 570 kb region in 2p15                                                                                                              0  \n",
      "\n",
      "[255 rows x 2 columns]\n"
     ]
    }
   ],
   "source": [
    "person_by_title = reviewed_matches.groupby(['Title'])['Person-first'].count()\n",
    "identity_by_title = reviewed_matches.groupby(['Title'])['Identity-first'].count()\n",
    "title = pd.concat([person_by_title,identity_by_title],axis=1)\n",
    "print(title)"
   ]
  },
  {
   "cell_type": "code",
   "execution_count": 60,
   "id": "975b4d8a",
   "metadata": {},
   "outputs": [
    {
     "data": {
      "text/html": [
       "<div>\n",
       "<style scoped>\n",
       "    .dataframe tbody tr th:only-of-type {\n",
       "        vertical-align: middle;\n",
       "    }\n",
       "\n",
       "    .dataframe tbody tr th {\n",
       "        vertical-align: top;\n",
       "    }\n",
       "\n",
       "    .dataframe thead th {\n",
       "        text-align: right;\n",
       "    }\n",
       "</style>\n",
       "<table border=\"1\" class=\"dataframe\">\n",
       "  <thead>\n",
       "    <tr style=\"text-align: right;\">\n",
       "      <th></th>\n",
       "      <th>Person-first</th>\n",
       "      <th>Identity-first</th>\n",
       "    </tr>\n",
       "    <tr>\n",
       "      <th>Title</th>\n",
       "      <th></th>\n",
       "      <th></th>\n",
       "    </tr>\n",
       "  </thead>\n",
       "  <tbody>\n",
       "    <tr>\n",
       "      <th>Role of serotonin transporter promoter length polymorphism in  autism: A south African population based study</th>\n",
       "      <td>0</td>\n",
       "      <td>9</td>\n",
       "    </tr>\n",
       "    <tr>\n",
       "      <th>B Evidence for altered calcium signaling and altered mitochondrial function in an autism case study</th>\n",
       "      <td>0</td>\n",
       "      <td>7</td>\n",
       "    </tr>\n",
       "    <tr>\n",
       "      <th>Polymorphism in Serotonin Transporter Gene in  Autism</th>\n",
       "      <td>1</td>\n",
       "      <td>5</td>\n",
       "    </tr>\n",
       "    <tr>\n",
       "      <th>Contribution of compound heterozygous CACNA1H proteasomes</th>\n",
       "      <td>1</td>\n",
       "      <td>5</td>\n",
       "    </tr>\n",
       "    <tr>\n",
       "      <th>B Contribution of compound heterozygous CACNA1H mutations in autism spectrum disorder susceptibility</th>\n",
       "      <td>0</td>\n",
       "      <td>5</td>\n",
       "    </tr>\n",
       "    <tr>\n",
       "      <th>...</th>\n",
       "      <td>...</td>\n",
       "      <td>...</td>\n",
       "    </tr>\n",
       "    <tr>\n",
       "      <th>A Application of oligonucleotide array CGH in 280patients with autism spectrum disorder</th>\n",
       "      <td>2</td>\n",
       "      <td>0</td>\n",
       "    </tr>\n",
       "    <tr>\n",
       "      <th>A Autism monozygotic twins with APBA2 gene duplication vary for tick development</th>\n",
       "      <td>1</td>\n",
       "      <td>0</td>\n",
       "    </tr>\n",
       "    <tr>\n",
       "      <th>A Gastrointestinal dysfunction in autism spectrum disorder: New insights from the Foxp1 +/ mouse with altered gut motility and achalasia</th>\n",
       "      <td>1</td>\n",
       "      <td>0</td>\n",
       "    </tr>\n",
       "    <tr>\n",
       "      <th>A case of dihydropyrimidine dehydrogenase deficiency and homozygous mutation</th>\n",
       "      <td>3</td>\n",
       "      <td>0</td>\n",
       "    </tr>\n",
       "    <tr>\n",
       "      <th>the facial dysmorphy in the newly recognised microdeletion  2p15 p16.1 refined to a 570 kb region in 2p15</th>\n",
       "      <td>1</td>\n",
       "      <td>0</td>\n",
       "    </tr>\n",
       "  </tbody>\n",
       "</table>\n",
       "<p>255 rows × 2 columns</p>\n",
       "</div>"
      ],
      "text/plain": [
       "                                                                                                                                          Person-first  \\\n",
       "Title                                                                                                                                                    \n",
       "Role of serotonin transporter promoter length polymorphism in  autism: A south African population based study                                        0   \n",
       "B Evidence for altered calcium signaling and altered mitochondrial function in an autism case study                                                  0   \n",
       "Polymorphism in Serotonin Transporter Gene in  Autism                                                                                                1   \n",
       "Contribution of compound heterozygous CACNA1H proteasomes                                                                                            1   \n",
       "B Contribution of compound heterozygous CACNA1H mutations in autism spectrum disorder susceptibility                                                 0   \n",
       "...                                                                                                                                                ...   \n",
       "A Application of oligonucleotide array CGH in 280patients with autism spectrum disorder                                                              2   \n",
       "A Autism monozygotic twins with APBA2 gene duplication vary for tick development                                                                     1   \n",
       "A Gastrointestinal dysfunction in autism spectrum disorder: New insights from the Foxp1 +/ mouse with altered gut motility and achalasia             1   \n",
       "A case of dihydropyrimidine dehydrogenase deficiency and homozygous mutation                                                                         3   \n",
       "the facial dysmorphy in the newly recognised microdeletion  2p15 p16.1 refined to a 570 kb region in 2p15                                            1   \n",
       "\n",
       "                                                                                                                                          Identity-first  \n",
       "Title                                                                                                                                                     \n",
       "Role of serotonin transporter promoter length polymorphism in  autism: A south African population based study                                          9  \n",
       "B Evidence for altered calcium signaling and altered mitochondrial function in an autism case study                                                    7  \n",
       "Polymorphism in Serotonin Transporter Gene in  Autism                                                                                                  5  \n",
       "Contribution of compound heterozygous CACNA1H proteasomes                                                                                              5  \n",
       "B Contribution of compound heterozygous CACNA1H mutations in autism spectrum disorder susceptibility                                                   5  \n",
       "...                                                                                                                                                  ...  \n",
       "A Application of oligonucleotide array CGH in 280patients with autism spectrum disorder                                                                0  \n",
       "A Autism monozygotic twins with APBA2 gene duplication vary for tick development                                                                       0  \n",
       "A Gastrointestinal dysfunction in autism spectrum disorder: New insights from the Foxp1 +/ mouse with altered gut motility and achalasia               0  \n",
       "A case of dihydropyrimidine dehydrogenase deficiency and homozygous mutation                                                                           0  \n",
       "the facial dysmorphy in the newly recognised microdeletion  2p15 p16.1 refined to a 570 kb region in 2p15                                              0  \n",
       "\n",
       "[255 rows x 2 columns]"
      ]
     },
     "execution_count": 60,
     "metadata": {},
     "output_type": "execute_result"
    }
   ],
   "source": [
    "title.sort_values(by=['Identity-first'], ascending=False)"
   ]
  },
  {
   "cell_type": "code",
   "execution_count": 61,
   "id": "f5f461ab",
   "metadata": {},
   "outputs": [
    {
     "data": {
      "text/html": [
       "<div>\n",
       "<style scoped>\n",
       "    .dataframe tbody tr th:only-of-type {\n",
       "        vertical-align: middle;\n",
       "    }\n",
       "\n",
       "    .dataframe tbody tr th {\n",
       "        vertical-align: top;\n",
       "    }\n",
       "\n",
       "    .dataframe thead th {\n",
       "        text-align: right;\n",
       "    }\n",
       "</style>\n",
       "<table border=\"1\" class=\"dataframe\">\n",
       "  <thead>\n",
       "    <tr style=\"text-align: right;\">\n",
       "      <th></th>\n",
       "      <th>Person-first</th>\n",
       "      <th>Identity-first</th>\n",
       "    </tr>\n",
       "    <tr>\n",
       "      <th>Title</th>\n",
       "      <th></th>\n",
       "      <th></th>\n",
       "    </tr>\n",
       "  </thead>\n",
       "  <tbody>\n",
       "    <tr>\n",
       "      <th>Prevalence of PTEN mutations in Turkish children with autism spectrum disorders and macrocephaly</th>\n",
       "      <td>7</td>\n",
       "      <td>0</td>\n",
       "    </tr>\n",
       "    <tr>\n",
       "      <th>An unusual high frequency of natural fetal loss in a scopicchromosomalcopy-numbervariants(CNVs)</th>\n",
       "      <td>5</td>\n",
       "      <td>0</td>\n",
       "    </tr>\n",
       "    <tr>\n",
       "      <th>M MEF2C haploinsufficiency is a recurrent finding in patients with autism spectrum disorders</th>\n",
       "      <td>5</td>\n",
       "      <td>0</td>\n",
       "    </tr>\n",
       "    <tr>\n",
       "      <th>D Implicating genetic risk variants for circadian rhythm and sleep trait dif ï¬culties in individuals with autism spectrum disorder</th>\n",
       "      <td>5</td>\n",
       "      <td>1</td>\n",
       "    </tr>\n",
       "    <tr>\n",
       "      <th>Autism s pectrum Disorders and s eizure s yndrome</th>\n",
       "      <td>5</td>\n",
       "      <td>2</td>\n",
       "    </tr>\n",
       "    <tr>\n",
       "      <th>...</th>\n",
       "      <td>...</td>\n",
       "      <td>...</td>\n",
       "    </tr>\n",
       "    <tr>\n",
       "      <th>Diagnostic use of targeted array c GH platforms: 2009 2010 Kocaeli University Experience</th>\n",
       "      <td>0</td>\n",
       "      <td>3</td>\n",
       "    </tr>\n",
       "    <tr>\n",
       "      <th>Autism Comorbidities: Role of CHD8 during the Development of the Enteric Nervous System</th>\n",
       "      <td>0</td>\n",
       "      <td>2</td>\n",
       "    </tr>\n",
       "    <tr>\n",
       "      <th>The use of automated facial analysis in the clinical diagnostic of autism spectrum disorders (ASD)</th>\n",
       "      <td>0</td>\n",
       "      <td>2</td>\n",
       "    </tr>\n",
       "    <tr>\n",
       "      <th>FMR1 gene: prevalence of premutation and intermediate/grey  zone alleles in an autistic Basque sample</th>\n",
       "      <td>0</td>\n",
       "      <td>2</td>\n",
       "    </tr>\n",
       "    <tr>\n",
       "      <th>Clinical spectrum of four patients with Coffin-Siris syndrome and novel mutations in ARID1B gene</th>\n",
       "      <td>0</td>\n",
       "      <td>2</td>\n",
       "    </tr>\n",
       "  </tbody>\n",
       "</table>\n",
       "<p>255 rows × 2 columns</p>\n",
       "</div>"
      ],
      "text/plain": [
       "                                                                                                                                      Person-first  \\\n",
       "Title                                                                                                                                                \n",
       " Prevalence of PTEN mutations in Turkish children with autism spectrum disorders and macrocephaly                                                7   \n",
       "An unusual high frequency of natural fetal loss in a scopicchromosomalcopy-numbervariants(CNVs)                                                  5   \n",
       " M MEF2C haploinsufficiency is a recurrent finding in patients with autism spectrum disorders                                                    5   \n",
       "D Implicating genetic risk variants for circadian rhythm and sleep trait dif ï¬culties in individuals with autism spectrum disorder             5   \n",
       " Autism s pectrum Disorders and s eizure s yndrome                                                                                               5   \n",
       "...                                                                                                                                            ...   \n",
       " Diagnostic use of targeted array c GH platforms: 2009 2010 Kocaeli University Experience                                                        0   \n",
       " Autism Comorbidities: Role of CHD8 during the Development of the Enteric Nervous System                                                         0   \n",
       " The use of automated facial analysis in the clinical diagnostic of autism spectrum disorders (ASD)                                              0   \n",
       "FMR1 gene: prevalence of premutation and intermediate/grey  zone alleles in an autistic Basque sample                                            0   \n",
       "Clinical spectrum of four patients with Coffin-Siris syndrome and novel mutations in ARID1B gene                                                 0   \n",
       "\n",
       "                                                                                                                                      Identity-first  \n",
       "Title                                                                                                                                                 \n",
       " Prevalence of PTEN mutations in Turkish children with autism spectrum disorders and macrocephaly                                                  0  \n",
       "An unusual high frequency of natural fetal loss in a scopicchromosomalcopy-numbervariants(CNVs)                                                    0  \n",
       " M MEF2C haploinsufficiency is a recurrent finding in patients with autism spectrum disorders                                                      0  \n",
       "D Implicating genetic risk variants for circadian rhythm and sleep trait dif ï¬culties in individuals with autism spectrum disorder               1  \n",
       " Autism s pectrum Disorders and s eizure s yndrome                                                                                                 2  \n",
       "...                                                                                                                                              ...  \n",
       " Diagnostic use of targeted array c GH platforms: 2009 2010 Kocaeli University Experience                                                          3  \n",
       " Autism Comorbidities: Role of CHD8 during the Development of the Enteric Nervous System                                                           2  \n",
       " The use of automated facial analysis in the clinical diagnostic of autism spectrum disorders (ASD)                                                2  \n",
       "FMR1 gene: prevalence of premutation and intermediate/grey  zone alleles in an autistic Basque sample                                              2  \n",
       "Clinical spectrum of four patients with Coffin-Siris syndrome and novel mutations in ARID1B gene                                                   2  \n",
       "\n",
       "[255 rows x 2 columns]"
      ]
     },
     "execution_count": 61,
     "metadata": {},
     "output_type": "execute_result"
    }
   ],
   "source": [
    "title.sort_values(by=['Person-first'], ascending=False)"
   ]
  },
  {
   "cell_type": "code",
   "execution_count": 62,
   "id": "4df4af17",
   "metadata": {},
   "outputs": [
    {
     "data": {
      "text/plain": [
       "51"
      ]
     },
     "execution_count": 62,
     "metadata": {},
     "output_type": "execute_result"
    }
   ],
   "source": [
    "columns = ['Person-first','Identity-first']\n",
    "filter_ = (title[columns] > 0).all(axis=1)\n",
    "title[filter_]\n",
    "len(title[filter_])\n"
   ]
  },
  {
   "cell_type": "code",
   "execution_count": 146,
   "id": "025e8bad",
   "metadata": {},
   "outputs": [
    {
     "data": {
      "text/html": [
       "<div>\n",
       "<style scoped>\n",
       "    .dataframe tbody tr th:only-of-type {\n",
       "        vertical-align: middle;\n",
       "    }\n",
       "\n",
       "    .dataframe tbody tr th {\n",
       "        vertical-align: top;\n",
       "    }\n",
       "\n",
       "    .dataframe thead th {\n",
       "        text-align: right;\n",
       "    }\n",
       "</style>\n",
       "<table border=\"1\" class=\"dataframe\">\n",
       "  <thead>\n",
       "    <tr style=\"text-align: right;\">\n",
       "      <th></th>\n",
       "      <th>Person-first</th>\n",
       "      <th>Identity-first</th>\n",
       "    </tr>\n",
       "    <tr>\n",
       "      <th>Title</th>\n",
       "      <th></th>\n",
       "      <th></th>\n",
       "    </tr>\n",
       "  </thead>\n",
       "  <tbody>\n",
       "    <tr>\n",
       "      <th>Autism s pectrum Disorders and s eizure s yndrome</th>\n",
       "      <td>5</td>\n",
       "      <td>2</td>\n",
       "    </tr>\n",
       "    <tr>\n",
       "      <th>D Implicating genetic risk variants for circadian rhythm and sleep trait dif ï¬culties in individuals with autism spectrum disorder</th>\n",
       "      <td>5</td>\n",
       "      <td>1</td>\n",
       "    </tr>\n",
       "    <tr>\n",
       "      <th>Significance of submicroscopic chromosomal copy-number variants in etiopathogenesis of autism spectrum disorders</th>\n",
       "      <td>3</td>\n",
       "      <td>2</td>\n",
       "    </tr>\n",
       "    <tr>\n",
       "      <th>B MLPA analysis as a diagnostic test in patients withautism spectrum disorders</th>\n",
       "      <td>3</td>\n",
       "      <td>2</td>\n",
       "    </tr>\n",
       "    <tr>\n",
       "      <th>Copy number variants in autism spectrum disorders patients</th>\n",
       "      <td>3</td>\n",
       "      <td>1</td>\n",
       "    </tr>\n",
       "  </tbody>\n",
       "</table>\n",
       "</div>"
      ],
      "text/plain": [
       "                                                                                                                                      Person-first  \\\n",
       "Title                                                                                                                                                \n",
       " Autism s pectrum Disorders and s eizure s yndrome                                                                                               5   \n",
       "D Implicating genetic risk variants for circadian rhythm and sleep trait dif ï¬culties in individuals with autism spectrum disorder             5   \n",
       "Significance of submicroscopic chromosomal copy-number variants in etiopathogenesis of autism spectrum disorders                                 3   \n",
       "B MLPA analysis as a diagnostic test in patients withautism spectrum disorders                                                                   3   \n",
       " Copy number variants in autism spectrum disorders patients                                                                                      3   \n",
       "\n",
       "                                                                                                                                      Identity-first  \n",
       "Title                                                                                                                                                 \n",
       " Autism s pectrum Disorders and s eizure s yndrome                                                                                                 2  \n",
       "D Implicating genetic risk variants for circadian rhythm and sleep trait dif ï¬culties in individuals with autism spectrum disorder               1  \n",
       "Significance of submicroscopic chromosomal copy-number variants in etiopathogenesis of autism spectrum disorders                                   2  \n",
       "B MLPA analysis as a diagnostic test in patients withautism spectrum disorders                                                                     2  \n",
       " Copy number variants in autism spectrum disorders patients                                                                                        1  "
      ]
     },
     "execution_count": 146,
     "metadata": {},
     "output_type": "execute_result"
    }
   ],
   "source": [
    "title[filter_].sort_values(by=['Person-first'], ascending=False).head()"
   ]
  },
  {
   "cell_type": "code",
   "execution_count": 147,
   "id": "13737d2d",
   "metadata": {},
   "outputs": [
    {
     "data": {
      "text/html": [
       "<div>\n",
       "<style scoped>\n",
       "    .dataframe tbody tr th:only-of-type {\n",
       "        vertical-align: middle;\n",
       "    }\n",
       "\n",
       "    .dataframe tbody tr th {\n",
       "        vertical-align: top;\n",
       "    }\n",
       "\n",
       "    .dataframe thead th {\n",
       "        text-align: right;\n",
       "    }\n",
       "</style>\n",
       "<table border=\"1\" class=\"dataframe\">\n",
       "  <thead>\n",
       "    <tr style=\"text-align: right;\">\n",
       "      <th></th>\n",
       "      <th>Person-first</th>\n",
       "      <th>Identity-first</th>\n",
       "    </tr>\n",
       "    <tr>\n",
       "      <th>Title</th>\n",
       "      <th></th>\n",
       "      <th></th>\n",
       "    </tr>\n",
       "  </thead>\n",
       "  <tbody>\n",
       "    <tr>\n",
       "      <th>Polymorphism in Serotonin Transporter Gene in  Autism</th>\n",
       "      <td>1</td>\n",
       "      <td>5</td>\n",
       "    </tr>\n",
       "    <tr>\n",
       "      <th>Contribution of compound heterozygous CACNA1H proteasomes</th>\n",
       "      <td>1</td>\n",
       "      <td>5</td>\n",
       "    </tr>\n",
       "    <tr>\n",
       "      <th>Abnormal growth and dysmorphic features in children with autism spectrum disorders</th>\n",
       "      <td>1</td>\n",
       "      <td>4</td>\n",
       "    </tr>\n",
       "    <tr>\n",
       "      <th>Whole genome sequencing reveals the mutation characteristics in Autism Spectrum Disorder</th>\n",
       "      <td>1</td>\n",
       "      <td>4</td>\n",
       "    </tr>\n",
       "    <tr>\n",
       "      <th>Microrrearrangements of human chromosome 15q11 q13  in families with autistic disorder</th>\n",
       "      <td>1</td>\n",
       "      <td>4</td>\n",
       "    </tr>\n",
       "  </tbody>\n",
       "</table>\n",
       "</div>"
      ],
      "text/plain": [
       "                                                                                           Person-first  \\\n",
       "Title                                                                                                     \n",
       "Polymorphism in Serotonin Transporter Gene in  Autism                                                 1   \n",
       "Contribution of compound heterozygous CACNA1H proteasomes                                             1   \n",
       "Abnormal growth and dysmorphic features in children with autism spectrum disorders                    1   \n",
       " Whole genome sequencing reveals the mutation characteristics in Autism Spectrum Disorder             1   \n",
       "Microrrearrangements of human chromosome 15q11 q13  in families with autistic disorder                1   \n",
       "\n",
       "                                                                                           Identity-first  \n",
       "Title                                                                                                      \n",
       "Polymorphism in Serotonin Transporter Gene in  Autism                                                   5  \n",
       "Contribution of compound heterozygous CACNA1H proteasomes                                               5  \n",
       "Abnormal growth and dysmorphic features in children with autism spectrum disorders                      4  \n",
       " Whole genome sequencing reveals the mutation characteristics in Autism Spectrum Disorder               4  \n",
       "Microrrearrangements of human chromosome 15q11 q13  in families with autistic disorder                  4  "
      ]
     },
     "execution_count": 147,
     "metadata": {},
     "output_type": "execute_result"
    }
   ],
   "source": [
    "title[filter_].sort_values(by=['Identity-first'], ascending=False).head()"
   ]
  },
  {
   "cell_type": "code",
   "execution_count": 148,
   "id": "7906c98e",
   "metadata": {},
   "outputs": [
    {
     "name": "stdout",
     "output_type": "stream",
     "text": [
      "51\n"
     ]
    },
    {
     "data": {
      "text/html": [
       "<div>\n",
       "<style scoped>\n",
       "    .dataframe tbody tr th:only-of-type {\n",
       "        vertical-align: middle;\n",
       "    }\n",
       "\n",
       "    .dataframe tbody tr th {\n",
       "        vertical-align: top;\n",
       "    }\n",
       "\n",
       "    .dataframe thead th {\n",
       "        text-align: right;\n",
       "    }\n",
       "</style>\n",
       "<table border=\"1\" class=\"dataframe\">\n",
       "  <thead>\n",
       "    <tr style=\"text-align: right;\">\n",
       "      <th></th>\n",
       "      <th>Person-first</th>\n",
       "      <th>Identity-first</th>\n",
       "    </tr>\n",
       "    <tr>\n",
       "      <th>Title</th>\n",
       "      <th></th>\n",
       "      <th></th>\n",
       "    </tr>\n",
       "  </thead>\n",
       "  <tbody>\n",
       "    <tr>\n",
       "      <th>Autism s pectrum Disorders and s eizure s yndrome</th>\n",
       "      <td>5</td>\n",
       "      <td>2</td>\n",
       "    </tr>\n",
       "    <tr>\n",
       "      <th>D Implicating genetic risk variants for circadian rhythm and sleep trait dif ï¬culties in individuals with autism spectrum disorder</th>\n",
       "      <td>5</td>\n",
       "      <td>1</td>\n",
       "    </tr>\n",
       "    <tr>\n",
       "      <th>Significance of submicroscopic chromosomal copy-number variants in etiopathogenesis of autism spectrum disorders</th>\n",
       "      <td>3</td>\n",
       "      <td>2</td>\n",
       "    </tr>\n",
       "    <tr>\n",
       "      <th>B MLPA analysis as a diagnostic test in patients withautism spectrum disorders</th>\n",
       "      <td>3</td>\n",
       "      <td>2</td>\n",
       "    </tr>\n",
       "    <tr>\n",
       "      <th>Copy number variants in autism spectrum disorders patients</th>\n",
       "      <td>3</td>\n",
       "      <td>1</td>\n",
       "    </tr>\n",
       "  </tbody>\n",
       "</table>\n",
       "</div>"
      ],
      "text/plain": [
       "                                                                                                                                      Person-first  \\\n",
       "Title                                                                                                                                                \n",
       " Autism s pectrum Disorders and s eizure s yndrome                                                                                               5   \n",
       "D Implicating genetic risk variants for circadian rhythm and sleep trait dif ï¬culties in individuals with autism spectrum disorder             5   \n",
       "Significance of submicroscopic chromosomal copy-number variants in etiopathogenesis of autism spectrum disorders                                 3   \n",
       "B MLPA analysis as a diagnostic test in patients withautism spectrum disorders                                                                   3   \n",
       " Copy number variants in autism spectrum disorders patients                                                                                      3   \n",
       "\n",
       "                                                                                                                                      Identity-first  \n",
       "Title                                                                                                                                                 \n",
       " Autism s pectrum Disorders and s eizure s yndrome                                                                                                 2  \n",
       "D Implicating genetic risk variants for circadian rhythm and sleep trait dif ï¬culties in individuals with autism spectrum disorder               1  \n",
       "Significance of submicroscopic chromosomal copy-number variants in etiopathogenesis of autism spectrum disorders                                   2  \n",
       "B MLPA analysis as a diagnostic test in patients withautism spectrum disorders                                                                     2  \n",
       " Copy number variants in autism spectrum disorders patients                                                                                        1  "
      ]
     },
     "execution_count": 148,
     "metadata": {},
     "output_type": "execute_result"
    }
   ],
   "source": [
    "has_pf = title[title['Person-first'] > 0]\n",
    "has_both = has_pf[has_pf['Identity-first'] > 0]\n",
    "print(len(has_both))\n",
    "has_both.sort_values(by=['Person-first'], ascending=False).head()"
   ]
  },
  {
   "cell_type": "code",
   "execution_count": 145,
   "id": "a548dffe",
   "metadata": {},
   "outputs": [
    {
     "data": {
      "text/html": [
       "<div>\n",
       "<style scoped>\n",
       "    .dataframe tbody tr th:only-of-type {\n",
       "        vertical-align: middle;\n",
       "    }\n",
       "\n",
       "    .dataframe tbody tr th {\n",
       "        vertical-align: top;\n",
       "    }\n",
       "\n",
       "    .dataframe thead th {\n",
       "        text-align: right;\n",
       "    }\n",
       "</style>\n",
       "<table border=\"1\" class=\"dataframe\">\n",
       "  <thead>\n",
       "    <tr style=\"text-align: right;\">\n",
       "      <th></th>\n",
       "      <th>Person-first</th>\n",
       "      <th>Identity-first</th>\n",
       "      <th>size</th>\n",
       "    </tr>\n",
       "  </thead>\n",
       "  <tbody>\n",
       "    <tr>\n",
       "      <th>0</th>\n",
       "      <td>1</td>\n",
       "      <td>1</td>\n",
       "      <td>17</td>\n",
       "    </tr>\n",
       "    <tr>\n",
       "      <th>1</th>\n",
       "      <td>1</td>\n",
       "      <td>2</td>\n",
       "      <td>8</td>\n",
       "    </tr>\n",
       "    <tr>\n",
       "      <th>2</th>\n",
       "      <td>1</td>\n",
       "      <td>3</td>\n",
       "      <td>5</td>\n",
       "    </tr>\n",
       "    <tr>\n",
       "      <th>3</th>\n",
       "      <td>1</td>\n",
       "      <td>4</td>\n",
       "      <td>3</td>\n",
       "    </tr>\n",
       "    <tr>\n",
       "      <th>4</th>\n",
       "      <td>1</td>\n",
       "      <td>5</td>\n",
       "      <td>2</td>\n",
       "    </tr>\n",
       "    <tr>\n",
       "      <th>5</th>\n",
       "      <td>2</td>\n",
       "      <td>1</td>\n",
       "      <td>4</td>\n",
       "    </tr>\n",
       "    <tr>\n",
       "      <th>6</th>\n",
       "      <td>2</td>\n",
       "      <td>2</td>\n",
       "      <td>6</td>\n",
       "    </tr>\n",
       "    <tr>\n",
       "      <th>7</th>\n",
       "      <td>2</td>\n",
       "      <td>3</td>\n",
       "      <td>1</td>\n",
       "    </tr>\n",
       "    <tr>\n",
       "      <th>8</th>\n",
       "      <td>3</td>\n",
       "      <td>1</td>\n",
       "      <td>1</td>\n",
       "    </tr>\n",
       "    <tr>\n",
       "      <th>9</th>\n",
       "      <td>3</td>\n",
       "      <td>2</td>\n",
       "      <td>2</td>\n",
       "    </tr>\n",
       "    <tr>\n",
       "      <th>10</th>\n",
       "      <td>5</td>\n",
       "      <td>1</td>\n",
       "      <td>1</td>\n",
       "    </tr>\n",
       "    <tr>\n",
       "      <th>11</th>\n",
       "      <td>5</td>\n",
       "      <td>2</td>\n",
       "      <td>1</td>\n",
       "    </tr>\n",
       "  </tbody>\n",
       "</table>\n",
       "</div>"
      ],
      "text/plain": [
       "    Person-first  Identity-first  size\n",
       "0              1               1    17\n",
       "1              1               2     8\n",
       "2              1               3     5\n",
       "3              1               4     3\n",
       "4              1               5     2\n",
       "5              2               1     4\n",
       "6              2               2     6\n",
       "7              2               3     1\n",
       "8              3               1     1\n",
       "9              3               2     2\n",
       "10             5               1     1\n",
       "11             5               2     1"
      ]
     },
     "execution_count": 145,
     "metadata": {},
     "output_type": "execute_result"
    }
   ],
   "source": [
    "co_occurence_counts = has_both.groupby(by=['Person-first', 'Identity-first']).size().to_frame('size').reset_index()\n",
    "co_occurence_counts"
   ]
  },
  {
   "cell_type": "code",
   "execution_count": 149,
   "id": "43c3632b",
   "metadata": {},
   "outputs": [
    {
     "data": {
      "image/png": "[encoded data removed]",
      "text/plain": [
       "<Figure size 640x480 with 1 Axes>"
      ]
     },
     "metadata": {},
     "output_type": "display_data"
    }
   ],
   "source": [
    "output = plt.scatter(x=co_occurence_counts['Person-first'], \n",
    "                     y=co_occurence_counts['Identity-first'], \n",
    "                     c=co_occurence_counts['size'],\n",
    "                     s=200)\n",
    "plt.ylabel(\"Instance of IFL\")\n",
    "plt.xlabel(\"Instance of PFL\")\n",
    "plt.title(\"Abstracts using both PFL and IFL\")\n",
    "plt.ylim(0, 6)\n",
    "plt.xlim(0, 6)\n",
    "\n",
    "handles, labels = output.legend_elements(prop=\"colors\", alpha=1)\n",
    "plt.legend(handles, labels, loc=\"upper right\", title=\"Abstract count at this point\", frameon=False)\n",
    "plt.show()\n",
    "\n",
    "# right click on the plot to save it"
   ]
  }
 ],
 "metadata": {
  "kernelspec": {
   "display_name": "Python 3 (ipykernel)",
   "language": "python",
   "name": "python3"
  },
  "language_info": {
   "codemirror_mode": {
    "name": "ipython",
    "version": 3
   },
   "file_extension": ".py",
   "mimetype": "text/x-python",
   "name": "python",
   "nbconvert_exporter": "python",
   "pygments_lexer": "ipython3",
   "version": "3.11.1"
  }
 },
 "nbformat": 4,
 "nbformat_minor": 5
}
