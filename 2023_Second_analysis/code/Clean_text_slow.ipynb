{
 "cells": [
  {
   "cell_type": "markdown",
   "id": "02dbd117",
   "metadata": {},
   "source": [
    "## Tidy up the 'Text' column\n",
    "\n",
    "Since the main thrust of this research is to use natural language processing on the 'Text' column, it makes sense to do a bit of cleaning at this early stage. I had a look at what was in the 'Text' column and noticed a few problems encoding/decoding errors, extra whitespace, run on sentences, extra punctuation, spelling, etc. The problem is that this is not a normal, conversational English set of texts. There are, quite rightly, a lot of characters from other languages, words that unlikely to be in typical language dictionaries, etc. \n",
    "\n",
    "I set up a few processes to loop over the text to clean these up. We need a few more import/download functions here, so let's start with that. \n"
   ]
  },
  {
   "cell_type": "code",
   "execution_count": 123,
   "id": "6cc3ee43",
   "metadata": {},
   "outputs": [
    {
     "name": "stderr",
     "output_type": "stream",
     "text": [
      "[nltk_data] Downloading package words to\n",
      "[nltk_data]     C:\\Users\\mzyssjkc\\AppData\\Roaming\\nltk_data...\n",
      "[nltk_data]   Package words is already up-to-date!\n",
      "\n",
      "[notice] A new release of pip is available: 23.1.2 -> 23.3.1\n",
      "[notice] To update, run: python.exe -m pip install --upgrade pip\n"
     ]
    },
    {
     "name": "stdout",
     "output_type": "stream",
     "text": [
      "Collecting unidecode\n",
      "  Downloading Unidecode-1.3.7-py3-none-any.whl (235 kB)\n",
      "                                              0.0/235.5 kB ? eta -:--:--\n",
      "     ------------------------------------   225.3/235.5 kB 6.9 MB/s eta 0:00:01\n",
      "     -------------------------------------- 235.5/235.5 kB 4.8 MB/s eta 0:00:00\n",
      "Installing collected packages: unidecode\n",
      "Successfully installed unidecode-1.3.7\n"
     ]
    }
   ],
   "source": [
    "# importing the nltk suite  \n",
    "import nltk \n",
    "from nltk import word_tokenize                     # a useful functions from nltk that helps identify individual words\n",
    "  \n",
    "# importing jaccard distance \n",
    "# and ngrams from nltk.util \n",
    "from nltk.metrics.distance import jaccard_distance \n",
    "from nltk.util import ngrams\n",
    "\n",
    "# importing edit distance   \n",
    "from nltk.metrics.distance  import edit_distance \n",
    "\n",
    "# Downloading and importing \n",
    "# package 'words' from nltk corpus \n",
    "nltk.download('words') \n",
    "from nltk.corpus import words \n",
    "\n",
    "!pip install unidecode\n",
    "from unidecode import unidecode\n",
    "correct_words = words.words()\n",
    "\n",
    "from spellchecker import SpellChecker\n",
    "spell = SpellChecker()"
   ]
  },
  {
   "cell_type": "code",
   "execution_count": 15,
   "id": "66198b23",
   "metadata": {},
   "outputs": [
    {
     "name": "stdout",
     "output_type": "stream",
     "text": [
      "['a', 'aa', 'aaa', 'aah', 'aahed', 'aahing', 'aahs', 'aal', 'aalii', 'aaliis', 'aals', 'aam', 'aani', 'aardvark', 'aardvarks', 'aardwolf', 'aardwolves', 'aargh', 'aaron', 'aaronic', 'aaronical', 'aaronite', 'aaronitic', 'aarrgh', 'aarrghh', 'aaru', 'aas', 'aasvogel', 'aasvogels', 'ab', 'aba', 'ababdeh', 'ababua', 'abac', 'abaca', 'abacay', 'abacas', 'abacate', 'abacaxi', 'abaci', 'abacinate', 'abacination', 'abacisci', 'abaciscus', 'abacist', 'aback', 'abacli', 'abacot', 'abacterial', 'abactinal', 'abactinally', 'abaction', 'abactor', 'abaculi', 'abaculus', 'abacus', 'abacuses', 'abada', 'abaddon', 'abadejo', 'abadengo', 'abadia', 'abadite', 'abaff', 'abaft', 'abay', 'abayah', 'abaisance', 'abaised', 'abaiser', 'abaisse', 'abaissed', 'abaka', 'abakas', 'abalation', 'abalienate', 'abalienated', 'abalienating', 'abalienation', 'abalone', 'abalones', 'abama', 'abamp', 'abampere', 'abamperes', 'abamps', 'aband', 'abandon', 'abandonable', 'abandoned', 'abandonedly', 'abandonee', 'abandoner', 'abandoners', 'abandoning', 'abandonment', 'abandonments', 'abandons', 'abandum', 'abanet']\n"
     ]
    }
   ],
   "source": [
    "file = open('words_alpha.txt','r')\n",
    "words_alpha=file.readlines()\n",
    "file.close()\n",
    "dictionary = []\n",
    "for entry in words_alpha:\n",
    "    item = re.sub(r'\\n', r'', entry)\n",
    "    dictionary.append(item)\n",
    "    \n",
    "print(dictionary[:100])"
   ]
  },
  {
   "cell_type": "code",
   "execution_count": 16,
   "id": "a87cd28f",
   "metadata": {},
   "outputs": [
    {
     "data": {
      "text/plain": [
       "1    The mechanisms whereby inherited DNA mutations cause disease areonly beginning to be understood. These are best understood in the contextof knowledge of the three dimensional structure of the rele...\n",
       "1    Gene therapy is an attractive option for a number of genetic  disorders. Genetic supplementation could in theory lead to long  lasting disease phenotype correction. However, efficient targeting,  ...\n",
       "1                                                                                                                                                                                     No abstract available.\n",
       "1    Four decades ago homocystinuria due to cystathionine beta synthase (CBS) has been described as a typical inborn error of metabolism partially resembling the Marfan syndrome. As extremely high conc...\n",
       "1    The earthÃ¢ÂÂs rotation causes 24 hour cycles in many aspects of the  physical environment, while the earthÃ¢ÂÂs revolution around the sun causes seasonal changes . Most living systems have de...\n",
       "1                                                                                              No abstract available as per date of printing. Please check www.eshg. org for updates in the online database.\n",
       "1    Larvae homozygous for mutations at the tumour suppressor genes of  Drosophila lethal giant larvae (lgl), scribble (scribb) or disc large (dlg)  develop extensive neoplastic tumours that affect pri...\n",
       "1    Introduction: About 20 % of clinically recognized pregnancies are  aborted, the majority of these being early spontaneous pregnancy  losses before twelve gestational weeks. Pathological examinatio...\n",
       "1    Monogenic diabetes results from mutation in a single gene primarily  affecting pancreatic beta or acinar cell function. The prevalence is 1 2  % of all diabetes. Monogenic diabetes is, however, fr...\n",
       "1                                                                                                    No abstract received as per date of production. Please see  www.eshg.org/eshg2011 for possible updates.\n",
       "1    The primary manifestation of coronary disease occurs often suddenly and unexpectedly in form of myocardial infarction. Thus, the prediction of silent atherosclerotic alterations in coronary arteri...\n",
       "1    The concept of homeoprotein transduction, first proposed in 1991, is now well established in several biological systems. Because homeoprotein si gnaling is active in plants and animals it is propo...\n",
       "1    The Hdh gene arose with no CAGs in Dictyostelium discoideum ( Dd), around 800  million year ago before the protostome deuterostome divergence (Zuccato, Physiol Rev 2010). The CAG then has appeared...\n",
       "1                                                                                       No abstract received as per date of production. Check http://www.eshg.org/abstracts2015.0.html for possible updates.\n",
       "1    The retinal dystrophies (RDs) are degenerative diseases involving RPE and/or photoreceptors of the retina and currently without treatment options for the patients. RD may be syndromic or non syndr...\n",
       "1    1Department of Medical Genetics, Meram Medical Faculty, Necmettin Erbakan University, KONYA, Turkey, KONYA, Turkey,2Department of Gynecology, Meram Medical1234567890();,: 1234567890();,:Faculty,Ne...\n",
       "1    Netherlands ,2Dept of Clinical Genetics ,Maastricht UMC , Maastricht ,Netherlands At 50 years, the Society of Human Genetics has con  ï¬dently assumed its current position as a pillar of modern m...\n",
       "1    Turnovec1, H. Cuckle4 1Department of Biology and Medical Genetics, 2nd Medical Faculty of Charles University and University Hospital Motol,Prague, Czech Republic, 2Intitute of Medical Biochemistry...\n",
       "1    A cancer genome contains the historic mutagenic activity that has occurred throughout the development of atumour. While driver mutations were the main focus of cancer research for a long time, pas...\n",
       "1    L. Ozpak1, G. Comertpay1,G .A y1, N. Cetinel1, E. Akbal  IsÄ±k1, G. Evyapan1, S. Kocaturk Sel1, U. Luleyap1, M. B. Yilmaz1, S. Buyukkurt2 1University of Ãukurova, Faculty of Medicine, Dept of Med...\n",
       "1    D. M. Ibrahim1, A. J. Hill2, F. Zhang3, S. Mundlos1, L. Christiansen3, F. J. Steemers3, C. Trapnell2, J. Shendure21234567890();,: 1234567890();,:1Max Planck Institute for Molecular Genetics, Berli...\n",
       "1    Yarmolinskaya1, V. S. Baranov1 1Ottâs Scienti ï¬c Research Institute of Obstetrics, Gynecol  ogy and Reproductology, St. Petersburg, Russian Federa tion, 2North Western State Medical University...\n",
       "1    M. Barat Houari3, N. Ruiz Pallares4, M. Alders5,M . Mannens5, P. Henneman5, R. C. Hennekam6, A. Ciol ï¬7,S . Pizzi7, M. Tartaglia7, P. M. Campeau8, J. Rousseau8,M .A . Levy1,2, L. Brick9, M. Koze...\n",
       "1     Premature ejaculation is one of the most common sexual disorders in men due to the uncontrolled modulation of spinal reï¬exes. In this study, we investigate the combinatorial effects of trinucle...\n",
       "1     Introduction: Whole exome (WES) and whole genome sequen cing remain unsuccessful in providing a ï¬rm diagnosis for about half of the individuals with a suspected Mendelian disorder. RNA sequenci...\n",
       "1                                                                                                                        L04Regional differences in genetic testing and counselling in Europe - An overview \n",
       "Name: Text, dtype: object"
      ]
     },
     "execution_count": 16,
     "metadata": {},
     "output_type": "execute_result"
    }
   ],
   "source": [
    "no_null_texts['Text'][1]                                        # First, let's have a look at the 'Text' column to spot some\n",
    "                                                                # issues. Right away, I can see \"areonly\", \"earthÃ¢ÂÂs\", \n",
    "                                                                # \"sequen cing\", etc. Work to be done!"
   ]
  },
  {
   "cell_type": "code",
   "execution_count": 129,
   "id": "253354de",
   "metadata": {},
   "outputs": [
    {
     "data": {
      "text/plain": [
       "['This',\n",
       " 'is',\n",
       " 'a',\n",
       " 'test',\n",
       " '.',\n",
       " 'String',\n",
       " '.',\n",
       " 'It',\n",
       " 'has',\n",
       " 'problems',\n",
       " 'that',\n",
       " ['are', 'only'],\n",
       " 'going',\n",
       " 'to',\n",
       " 'get',\n",
       " 'better',\n",
       " '.']"
      ]
     },
     "execution_count": 129,
     "metadata": {},
     "output_type": "execute_result"
    }
   ],
   "source": [
    "test_string = \"This is a test.String. It has   problems that areonly going to get better.\"\n",
    "\n",
    "def remove_errors (input):\n",
    "    no_extra_spaces = re.sub(r'(\\s)(\\s+)', r'\\1', input)               # identifies 2 or more sequential whitespaces and cuts them to 1\n",
    "    no_run_ons = re.sub(r'([a-z].)([A-Z])', r'\\1 \\2', no_extra_spaces) # identifies runons (e.g. \"word.New sentence \"\n",
    "    normalised = unidecode(no_run_ons)\n",
    "    tokens = word_tokenize(normalised)                                     # \n",
    "    output = []\n",
    "    for token in tokens:\n",
    "        if token.lower() in dictionary :\n",
    "            output.append(token)\n",
    "        else:\n",
    "            if token in \"-!\\\"#$%&()'*-–+,./:;<=>?@[\\]^_`{|}~''“”\":\n",
    "                output.append(token)\n",
    "            else:\n",
    "                segmented = get_segments(token)\n",
    "                output.append(segmented)\n",
    "    return(output)\n",
    "\n",
    "remove_errors(test_string)"
   ]
  },
  {
   "cell_type": "code",
   "execution_count": 128,
   "id": "ab7167ae",
   "metadata": {},
   "outputs": [
    {
     "ename": "SyntaxError",
     "evalue": "invalid character '¢' (U+00A2) (1044527773.py, line 8)",
     "output_type": "error",
     "traceback": [
      "\u001b[1;36m  Cell \u001b[1;32mIn[128], line 8\u001b[1;36m\u001b[0m\n\u001b[1;33m    remove_accents(Ã¢ÂÂclock)\u001b[0m\n\u001b[1;37m                    ^\u001b[0m\n\u001b[1;31mSyntaxError\u001b[0m\u001b[1;31m:\u001b[0m invalid character '¢' (U+00A2)\n"
     ]
    }
   ],
   "source": [
    "import unicodedata\n",
    "\n",
    "def remove_accents(input_str):\n",
    "    nfkd_form = unicodedata.normalize('NFKD', input_str)\n",
    "    only_ascii = nfkd_form.encode('ASCII', 'ignore')\n",
    "    return only_ascii\n",
    "\n",
    "remove_accents(Ã¢ÂÂclock)"
   ]
  },
  {
   "cell_type": "code",
   "execution_count": null,
   "id": "fecd8fa1",
   "metadata": {},
   "outputs": [],
   "source": [
    "for thingy in no_null_texts['Text'][1]:\n",
    "    remove_errors(thingy)"
   ]
  },
  {
   "cell_type": "code",
   "execution_count": 114,
   "id": "3c817d90",
   "metadata": {},
   "outputs": [
    {
     "data": {
      "text/plain": [
       "['are', 'only']"
      ]
     },
     "execution_count": 114,
     "metadata": {},
     "output_type": "execute_result"
    }
   ],
   "source": [
    "def get_segments(input):\n",
    "    sentence = input.lower()\n",
    "    onegrams = OneGramDist(filename='count_1w.txt')\n",
    "    onegram_fitness = functools.partial(onegram_log, onegrams)\n",
    "    return(segment(sentence, word_seq_fitness=onegram_fitness))\n",
    "    \n",
    "get_segments('areonly')"
   ]
  }
 ],
 "metadata": {
  "kernelspec": {
   "display_name": "Python 3 (ipykernel)",
   "language": "python",
   "name": "python3"
  },
  "language_info": {
   "codemirror_mode": {
    "name": "ipython",
    "version": 3
   },
   "file_extension": ".py",
   "mimetype": "text/x-python",
   "name": "python",
   "nbconvert_exporter": "python",
   "pygments_lexer": "ipython3",
   "version": "3.11.1"
  }
 },
 "nbformat": 4,
 "nbformat_minor": 5
}
