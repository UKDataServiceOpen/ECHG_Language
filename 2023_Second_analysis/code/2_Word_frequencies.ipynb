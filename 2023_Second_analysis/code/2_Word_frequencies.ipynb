{
 "cells": [
  {
   "cell_type": "markdown",
   "id": "d71e8f5f",
   "metadata": {},
   "source": [
    "# Word frequencies\n",
    "\n",
    "\n",
    "Now that we have the abstracts in two nice neat .csv files, we need to download/import the packages needed, import the .csv files, and then can get on with the first part of the analysis. \n",
    "\n",
    "## Get ready \n",
    "\n",
    "As always, we start with a couple of code cells that load up and nickname some useful packages, then check file locations, then import files and check them. \n"
   ]
  },
  {
   "cell_type": "code",
   "execution_count": 2,
   "id": "26078126",
   "metadata": {},
   "outputs": [],
   "source": [
    "%%capture\n",
    "\n",
    "# installing necessary pdf conversion packages via pip\n",
    "# the '%%capture' at the top of this cell suppresses the output (which is normally quite long and annoying looking). \n",
    "# You can remove or comment it out if you prefer to see the output. \n",
    "!pip install nltk\n"
   ]
  },
  {
   "cell_type": "code",
   "execution_count": 3,
   "id": "271c801d",
   "metadata": {},
   "outputs": [],
   "source": [
    "%%capture\n",
    "\n",
    "import os                         # os is a module for navigating your machine (e.g., file directories).\n",
    "import nltk                       # nltk stands for natural language tool kit and is useful for text-mining. \n",
    "from nltk import word_tokenize    # and some of its key functions\n",
    "\n",
    "nltk.download('punkt')\n",
    "nltk.download('stopwords')\n",
    "from nltk.corpus import stopwords\n",
    "stop_words = set(stopwords.words('english'))\n",
    "from nltk.corpus import wordnet                    # Finally, things we need for lemmatising!\n",
    "from nltk.stem import WordNetLemmatizer\n",
    "lemmatizer = WordNetLemmatizer() \n",
    "from nltk.stem.porter import PorterStemmer\n",
    "porter = PorterStemmer()\n",
    "nltk.download('averaged_perceptron_tagger')        # Like a POS-tagger...\n",
    "nltk.download('wordnet')\n",
    "nltk.download('webtext')\n",
    "from nltk.corpus import webtext\n",
    "\n",
    "import pandas as pd\n",
    "pd.set_option('display.max_colwidth', 200)\n",
    "import numpy as np\n",
    "import statistics\n",
    "import datetime\n",
    "date = datetime.date.today()\n",
    "\n",
    "import codecs\n",
    "import csv                        # csv is for importing and working with csv files\n",
    "\n",
    "from collections import Counter\n",
    "\n",
    "import statistics\n",
    "import re                         # things we need for RegEx corrections\n",
    "import matplotlib.pyplot as plt\n",
    "import string \n",
    "\n",
    "import math \n",
    "\n",
    "English_punctuation = \"-!\\\"#$%&()'*-–+,./:;<=>?@[\\]^_`{|}~''“”\"      # Things for removing punctuation, stopwords and empty strings\n",
    "table_punctuation = str.maketrans('','', English_punctuation)"
   ]
  },
  {
   "cell_type": "code",
   "execution_count": 4,
   "id": "2ef24df9",
   "metadata": {},
   "outputs": [
    {
     "name": "stdout",
     "output_type": "stream",
     "text": [
      "['abstract_count.jpg', 'all_abstracts_no_null_texts.csv', 'ESHG_abstract_submissions.csv', 'ESHG_abstract_submissions.xlsx', 'matched_abstracts_no_null_texts.csv', 'matches_count.jpg', 'most_frequent_comparison.csv', 'pattern_matches_reviewed.csv', 'pattern_matches_to_review.csv']\n"
     ]
    }
   ],
   "source": [
    "print(os.listdir(\"..\\\\output\")  )                                # check 'results' folder is not empty/has correct stuff"
   ]
  },
  {
   "cell_type": "markdown",
   "id": "e364e65f",
   "metadata": {},
   "source": [
    "## Import\n",
    "\n",
    "Having checked the contents of the output folder and seen the files we expected to see, we can now import and check them. "
   ]
  },
  {
   "cell_type": "code",
   "execution_count": 5,
   "id": "076b8611",
   "metadata": {},
   "outputs": [],
   "source": [
    "all_texts = pd.read_csv('..\\\\output\\\\all_abstracts_no_null_texts.csv')            # one for all of the texts and then\n",
    "matched_texts = pd.read_csv('..\\\\output\\\\matched_abstracts_no_null_texts.csv')    # one for just those that match the keyword\n",
    "expected_abstracts = pd.read_csv('..\\\\output\\\\ESHG_abstract_submissions.csv')     # one for the number of expected abstracts"
   ]
  },
  {
   "cell_type": "code",
   "execution_count": 6,
   "id": "f5f4a961",
   "metadata": {},
   "outputs": [
    {
     "name": "stdout",
     "output_type": "stream",
     "text": [
      "38228\n",
      "4600\n",
      "23\n"
     ]
    }
   ],
   "source": [
    "print (len(all_texts))                        # it is always useful to double check that the length matches your expectations\n",
    "print (len(matched_texts))                    # in this case, we already know how many rows to expect in each file. \n",
    "print (len(expected_abstracts))"
   ]
  },
  {
   "cell_type": "markdown",
   "id": "49d22b75",
   "metadata": {},
   "source": [
    "## Get some basic stats about how texts are spread out over time\n",
    "\n",
    "We know that all of the rows in the files have at least two columns with contents - 'Year' and 'Text'. This means that it is probably a useful thing to get a little schematic and/or table that counts row according to year. Let's do that now!  "
   ]
  },
  {
   "cell_type": "code",
   "execution_count": 7,
   "id": "fc03bc29",
   "metadata": {},
   "outputs": [
    {
     "name": "stdout",
     "output_type": "stream",
     "text": [
      "2021.0    2524\n",
      "2013.0    2373\n",
      "2001.0    2336\n",
      "2014.0    2240\n",
      "2004.0    2205\n",
      "2016.0    2040\n",
      "2011.0    1967\n",
      "2015.0    1951\n",
      "2008.0    1896\n",
      "2012.0    1871\n",
      "2020.0    1853\n",
      "2010.0    1716\n",
      "2009.0    1704\n",
      "2018.0    1617\n",
      "2017.0    1601\n",
      "2019.0    1589\n",
      "2007.0    1541\n",
      "2005.0    1520\n",
      "2006.0    1422\n",
      "2002.0    1266\n",
      "2003.0     996\n",
      "Name: Year, dtype: int64\n"
     ]
    }
   ],
   "source": [
    "all_counts_by_year = all_texts['Year'].value_counts()         # this creates a little table with two columns - year and count\n",
    "print(all_counts_by_year)                                     # however, when we print it we can see it has no headers,\n",
    "                                                              # is not in order, has the years appearing as  floats, etc. "
   ]
  },
  {
   "cell_type": "code",
   "execution_count": 8,
   "id": "be0be49a",
   "metadata": {},
   "outputs": [
    {
     "name": "stdout",
     "output_type": "stream",
     "text": [
      "    Year   All\n",
      "2   2001  2336\n",
      "19  2002  1266\n",
      "20  2003   996\n",
      "4   2004  2205\n",
      "17  2005  1520\n",
      "18  2006  1422\n",
      "16  2007  1541\n",
      "8   2008  1896\n",
      "12  2009  1704\n",
      "11  2010  1716\n",
      "6   2011  1967\n",
      "9   2012  1871\n",
      "1   2013  2373\n",
      "3   2014  2240\n",
      "7   2015  1951\n",
      "5   2016  2040\n",
      "14  2017  1601\n",
      "13  2018  1617\n",
      "15  2019  1589\n",
      "10  2020  1853\n",
      "0   2021  2524\n"
     ]
    }
   ],
   "source": [
    "all_counts_by_year = pd.DataFrame(all_counts_by_year)                            # Convert the imported table to a data frame,\n",
    "all_counts_by_year = all_counts_by_year.rename(columns={\"Year\": \"All\"})          # rename the columns,\n",
    "all_counts_by_year = all_counts_by_year.rename_axis('Year').reset_index()        # set the axis to 'Year' and reset the index,\n",
    "all_counts_by_year = all_counts_by_year.sort_values(by=['Year']).astype('Int64') # retype 'Year' column and sort by year.\n",
    "print(all_counts_by_year)                                                        # Let's just check it worked. "
   ]
  },
  {
   "cell_type": "code",
   "execution_count": 9,
   "id": "039a408c",
   "metadata": {},
   "outputs": [
    {
     "name": "stdout",
     "output_type": "stream",
     "text": [
      "    Year  Matches\n",
      "12  2001      133\n",
      "19  2002       66\n",
      "20  2003       52\n",
      "16  2004       89\n",
      "17  2005       88\n",
      "18  2006       86\n",
      "15  2007       95\n",
      "14  2008      122\n",
      "13  2009      132\n",
      "11  2010      150\n",
      "9   2011      243\n",
      "10  2012      224\n",
      "3   2013      302\n",
      "6   2014      285\n",
      "0   2015      604\n",
      "5   2016      293\n",
      "8   2017      269\n",
      "7   2018      284\n",
      "4   2019      296\n",
      "2   2020      334\n",
      "1   2021      453\n"
     ]
    }
   ],
   "source": [
    "matched_counts_by_year = matched_texts['Year'].value_counts()                             # repeat for the matched_texts file\n",
    "matched_counts_by_year = pd.DataFrame(matched_counts_by_year)                             # again, turn it into a data frame\n",
    "matched_counts_by_year = matched_counts_by_year.rename(columns={\"Year\": \"Matches\"})       # name the columns\n",
    "matched_counts_by_year = matched_counts_by_year.rename_axis('Year').reset_index()         # rename axis, reset index\n",
    "matched_counts_by_year = matched_counts_by_year.sort_values(by=['Year']).astype('Int64')  # retype and sort by value of year\n",
    "print(matched_counts_by_year)                                                             # and check it looks correct. "
   ]
  },
  {
   "cell_type": "code",
   "execution_count": 10,
   "id": "fda26ec9",
   "metadata": {},
   "outputs": [
    {
     "data": {
      "text/html": [
       "<div>\n",
       "<style scoped>\n",
       "    .dataframe tbody tr th:only-of-type {\n",
       "        vertical-align: middle;\n",
       "    }\n",
       "\n",
       "    .dataframe tbody tr th {\n",
       "        vertical-align: top;\n",
       "    }\n",
       "\n",
       "    .dataframe thead th {\n",
       "        text-align: right;\n",
       "    }\n",
       "</style>\n",
       "<table border=\"1\" class=\"dataframe\">\n",
       "  <thead>\n",
       "    <tr style=\"text-align: right;\">\n",
       "      <th></th>\n",
       "      <th>Year</th>\n",
       "      <th>Accepted</th>\n",
       "      <th>Oral</th>\n",
       "      <th>Poster</th>\n",
       "      <th>Invited</th>\n",
       "      <th>Total</th>\n",
       "    </tr>\n",
       "  </thead>\n",
       "  <tbody>\n",
       "    <tr>\n",
       "      <th>0</th>\n",
       "      <td>2001</td>\n",
       "      <td>1803</td>\n",
       "      <td>127</td>\n",
       "      <td>1676</td>\n",
       "      <td>78</td>\n",
       "      <td>1881</td>\n",
       "    </tr>\n",
       "    <tr>\n",
       "      <th>1</th>\n",
       "      <td>2002</td>\n",
       "      <td>1240</td>\n",
       "      <td>104</td>\n",
       "      <td>1136</td>\n",
       "      <td>36</td>\n",
       "      <td>1276</td>\n",
       "    </tr>\n",
       "    <tr>\n",
       "      <th>2</th>\n",
       "      <td>2003</td>\n",
       "      <td>866</td>\n",
       "      <td>60</td>\n",
       "      <td>806</td>\n",
       "      <td>32</td>\n",
       "      <td>898</td>\n",
       "    </tr>\n",
       "    <tr>\n",
       "      <th>3</th>\n",
       "      <td>2004</td>\n",
       "      <td>1314</td>\n",
       "      <td>115</td>\n",
       "      <td>1199</td>\n",
       "      <td>41</td>\n",
       "      <td>1355</td>\n",
       "    </tr>\n",
       "    <tr>\n",
       "      <th>4</th>\n",
       "      <td>2005</td>\n",
       "      <td>1384</td>\n",
       "      <td>84</td>\n",
       "      <td>1300</td>\n",
       "      <td>35</td>\n",
       "      <td>1419</td>\n",
       "    </tr>\n",
       "    <tr>\n",
       "      <th>5</th>\n",
       "      <td>2006</td>\n",
       "      <td>1490</td>\n",
       "      <td>195</td>\n",
       "      <td>1295</td>\n",
       "      <td>49</td>\n",
       "      <td>1539</td>\n",
       "    </tr>\n",
       "    <tr>\n",
       "      <th>6</th>\n",
       "      <td>2007</td>\n",
       "      <td>1395</td>\n",
       "      <td>90</td>\n",
       "      <td>1305</td>\n",
       "      <td>53</td>\n",
       "      <td>1448</td>\n",
       "    </tr>\n",
       "    <tr>\n",
       "      <th>7</th>\n",
       "      <td>2008</td>\n",
       "      <td>1878</td>\n",
       "      <td>129</td>\n",
       "      <td>1749</td>\n",
       "      <td>55</td>\n",
       "      <td>1933</td>\n",
       "    </tr>\n",
       "    <tr>\n",
       "      <th>8</th>\n",
       "      <td>2009</td>\n",
       "      <td>1562</td>\n",
       "      <td>114</td>\n",
       "      <td>1448</td>\n",
       "      <td>53</td>\n",
       "      <td>1615</td>\n",
       "    </tr>\n",
       "    <tr>\n",
       "      <th>9</th>\n",
       "      <td>2010</td>\n",
       "      <td>1558</td>\n",
       "      <td>147</td>\n",
       "      <td>1411</td>\n",
       "      <td>70</td>\n",
       "      <td>1628</td>\n",
       "    </tr>\n",
       "    <tr>\n",
       "      <th>10</th>\n",
       "      <td>2011</td>\n",
       "      <td>1737</td>\n",
       "      <td>108</td>\n",
       "      <td>1629</td>\n",
       "      <td>72</td>\n",
       "      <td>1809</td>\n",
       "    </tr>\n",
       "    <tr>\n",
       "      <th>11</th>\n",
       "      <td>2012</td>\n",
       "      <td>1703</td>\n",
       "      <td>156</td>\n",
       "      <td>1547</td>\n",
       "      <td>72</td>\n",
       "      <td>1775</td>\n",
       "    </tr>\n",
       "    <tr>\n",
       "      <th>12</th>\n",
       "      <td>2013</td>\n",
       "      <td>1767</td>\n",
       "      <td>126</td>\n",
       "      <td>1641</td>\n",
       "      <td>90</td>\n",
       "      <td>1857</td>\n",
       "    </tr>\n",
       "    <tr>\n",
       "      <th>13</th>\n",
       "      <td>2014</td>\n",
       "      <td>1615</td>\n",
       "      <td>187</td>\n",
       "      <td>1428</td>\n",
       "      <td>86</td>\n",
       "      <td>1701</td>\n",
       "    </tr>\n",
       "    <tr>\n",
       "      <th>14</th>\n",
       "      <td>2015</td>\n",
       "      <td>1514</td>\n",
       "      <td>144</td>\n",
       "      <td>1370</td>\n",
       "      <td>80</td>\n",
       "      <td>1594</td>\n",
       "    </tr>\n",
       "    <tr>\n",
       "      <th>15</th>\n",
       "      <td>2016</td>\n",
       "      <td>2118</td>\n",
       "      <td>197</td>\n",
       "      <td>1921</td>\n",
       "      <td>72</td>\n",
       "      <td>2190</td>\n",
       "    </tr>\n",
       "    <tr>\n",
       "      <th>16</th>\n",
       "      <td>2017</td>\n",
       "      <td>2011</td>\n",
       "      <td>156</td>\n",
       "      <td>1855</td>\n",
       "      <td>83</td>\n",
       "      <td>2094</td>\n",
       "    </tr>\n",
       "    <tr>\n",
       "      <th>17</th>\n",
       "      <td>2018</td>\n",
       "      <td>2033</td>\n",
       "      <td>210</td>\n",
       "      <td>1823</td>\n",
       "      <td>96</td>\n",
       "      <td>2129</td>\n",
       "    </tr>\n",
       "    <tr>\n",
       "      <th>18</th>\n",
       "      <td>2019</td>\n",
       "      <td>1670</td>\n",
       "      <td>194</td>\n",
       "      <td>1476</td>\n",
       "      <td>101</td>\n",
       "      <td>1771</td>\n",
       "    </tr>\n",
       "    <tr>\n",
       "      <th>19</th>\n",
       "      <td>2020</td>\n",
       "      <td>1921</td>\n",
       "      <td>199</td>\n",
       "      <td>1722</td>\n",
       "      <td>107</td>\n",
       "      <td>2028</td>\n",
       "    </tr>\n",
       "    <tr>\n",
       "      <th>20</th>\n",
       "      <td>2021</td>\n",
       "      <td>1694</td>\n",
       "      <td>162</td>\n",
       "      <td>1532</td>\n",
       "      <td>111</td>\n",
       "      <td>1805</td>\n",
       "    </tr>\n",
       "    <tr>\n",
       "      <th>21</th>\n",
       "      <td>2022</td>\n",
       "      <td>1790</td>\n",
       "      <td>168</td>\n",
       "      <td>1622</td>\n",
       "      <td>118</td>\n",
       "      <td>1908</td>\n",
       "    </tr>\n",
       "    <tr>\n",
       "      <th>22</th>\n",
       "      <td>2023</td>\n",
       "      <td>2098</td>\n",
       "      <td>167</td>\n",
       "      <td>1931</td>\n",
       "      <td>111</td>\n",
       "      <td>2209</td>\n",
       "    </tr>\n",
       "  </tbody>\n",
       "</table>\n",
       "</div>"
      ],
      "text/plain": [
       "    Year  Accepted  Oral  Poster  Invited  Total\n",
       "0   2001      1803   127    1676       78   1881\n",
       "1   2002      1240   104    1136       36   1276\n",
       "2   2003       866    60     806       32    898\n",
       "3   2004      1314   115    1199       41   1355\n",
       "4   2005      1384    84    1300       35   1419\n",
       "5   2006      1490   195    1295       49   1539\n",
       "6   2007      1395    90    1305       53   1448\n",
       "7   2008      1878   129    1749       55   1933\n",
       "8   2009      1562   114    1448       53   1615\n",
       "9   2010      1558   147    1411       70   1628\n",
       "10  2011      1737   108    1629       72   1809\n",
       "11  2012      1703   156    1547       72   1775\n",
       "12  2013      1767   126    1641       90   1857\n",
       "13  2014      1615   187    1428       86   1701\n",
       "14  2015      1514   144    1370       80   1594\n",
       "15  2016      2118   197    1921       72   2190\n",
       "16  2017      2011   156    1855       83   2094\n",
       "17  2018      2033   210    1823       96   2129\n",
       "18  2019      1670   194    1476      101   1771\n",
       "19  2020      1921   199    1722      107   2028\n",
       "20  2021      1694   162    1532      111   1805\n",
       "21  2022      1790   168    1622      118   1908\n",
       "22  2023      2098   167    1931      111   2209"
      ]
     },
     "execution_count": 10,
     "metadata": {},
     "output_type": "execute_result"
    }
   ],
   "source": [
    "expected_abstracts             # This file wasn't created by our preparation processes, so we check it. \n",
    "                               # We don't need all the columns, just 'Year' and 'Total'. \n",
    "                               # Also, we can see that we don't need to retype the 'Year' or sort by 'Year' value. "
   ]
  },
  {
   "cell_type": "code",
   "execution_count": 11,
   "id": "fd5baeb6",
   "metadata": {},
   "outputs": [
    {
     "name": "stdout",
     "output_type": "stream",
     "text": [
      "    Year  Expected\n",
      "0   2001      1881\n",
      "1   2002      1276\n",
      "2   2003       898\n",
      "3   2004      1355\n",
      "4   2005      1419\n",
      "5   2006      1539\n",
      "6   2007      1448\n",
      "7   2008      1933\n",
      "8   2009      1615\n",
      "9   2010      1628\n",
      "10  2011      1809\n",
      "11  2012      1775\n",
      "12  2013      1857\n",
      "13  2014      1701\n",
      "14  2015      1594\n",
      "15  2016      2190\n",
      "16  2017      2094\n",
      "17  2018      2129\n",
      "18  2019      1771\n",
      "19  2020      2028\n",
      "20  2021      1805\n",
      "21  2022      1908\n",
      "22  2023      2209\n"
     ]
    }
   ],
   "source": [
    "expected_counts_by_year = pd.DataFrame(expected_abstracts[['Year', 'Total']])            # create data frame from just 2 columns\n",
    "expected_counts_by_year = expected_counts_by_year.rename(columns = {'Total':'Expected'}) # rename 'Total' column to 'Expected'\n",
    "print(expected_counts_by_year)                                                           # Let's just check it worked. "
   ]
  },
  {
   "cell_type": "code",
   "execution_count": 12,
   "id": "85569dee",
   "metadata": {},
   "outputs": [
    {
     "name": "stdout",
     "output_type": "stream",
     "text": [
      "    Year   All  Matches  Expected\n",
      "0   2001  2336      133      1881\n",
      "1   2002  1266       66      1276\n",
      "2   2003   996       52       898\n",
      "3   2004  2205       89      1355\n",
      "4   2005  1520       88      1419\n",
      "5   2006  1422       86      1539\n",
      "6   2007  1541       95      1448\n",
      "7   2008  1896      122      1933\n",
      "8   2009  1704      132      1615\n",
      "9   2010  1716      150      1628\n",
      "10  2011  1967      243      1809\n",
      "11  2012  1871      224      1775\n",
      "12  2013  2373      302      1857\n",
      "13  2014  2240      285      1701\n",
      "14  2015  1951      604      1594\n",
      "15  2016  2040      293      2190\n",
      "16  2017  1601      269      2094\n",
      "17  2018  1617      284      2129\n",
      "18  2019  1589      296      1771\n",
      "19  2020  1853      334      2028\n",
      "20  2021  2524      453      1805\n"
     ]
    }
   ],
   "source": [
    "counts_year = all_counts_by_year.merge(matched_counts_by_year, on='Year', how='left') # now, combine the 1st two data frames\n",
    "counts_year = counts_year.merge(expected_counts_by_year, on='Year', how='left')       # add the 3rd \n",
    "print(counts_year)                                                                    # and have a look at it"
   ]
  },
  {
   "cell_type": "code",
   "execution_count": 13,
   "id": "6cb16471",
   "metadata": {},
   "outputs": [],
   "source": [
    "counts_year['Year'] = pd.to_datetime(counts_year['Year'].astype(str), format=\"%Y\")"
   ]
  },
  {
   "cell_type": "code",
   "execution_count": 14,
   "id": "50dd4dc9",
   "metadata": {},
   "outputs": [
    {
     "name": "stdout",
     "output_type": "stream",
     "text": [
      "             All  Matches  Expected\n",
      "Year                               \n",
      "2001-01-01  2336      133      1881\n",
      "2002-01-01  1266       66      1276\n",
      "2003-01-01   996       52       898\n",
      "2004-01-01  2205       89      1355\n",
      "2005-01-01  1520       88      1419\n",
      "2006-01-01  1422       86      1539\n",
      "2007-01-01  1541       95      1448\n",
      "2008-01-01  1896      122      1933\n",
      "2009-01-01  1704      132      1615\n",
      "2010-01-01  1716      150      1628\n",
      "2011-01-01  1967      243      1809\n",
      "2012-01-01  1871      224      1775\n",
      "2013-01-01  2373      302      1857\n",
      "2014-01-01  2240      285      1701\n",
      "2015-01-01  1951      604      1594\n",
      "2016-01-01  2040      293      2190\n",
      "2017-01-01  1601      269      2094\n",
      "2018-01-01  1617      284      2129\n",
      "2019-01-01  1589      296      1771\n",
      "2020-01-01  1853      334      2028\n",
      "2021-01-01  2524      453      1805\n"
     ]
    }
   ],
   "source": [
    "counts_year = counts_year.set_index('Year')                     # set the year as the index\n",
    "print(counts_year)                                              # and have a look. Nice!"
   ]
  },
  {
   "cell_type": "code",
   "execution_count": 15,
   "id": "d2e3ee27",
   "metadata": {},
   "outputs": [
    {
     "name": "stdout",
     "output_type": "stream",
     "text": [
      "38228\n",
      "4600\n"
     ]
    }
   ],
   "source": [
    "print(counts_year['All'].sum())                                # I worry too much sometimes\n",
    "print(counts_year['Matches'].sum())                              # but why not check that the numbers still add up? "
   ]
  },
  {
   "cell_type": "code",
   "execution_count": 16,
   "id": "100df155",
   "metadata": {},
   "outputs": [
    {
     "data": {
      "image/png": "[encoded data removed]",
      "text/plain": [
       "<Figure size 640x480 with 1 Axes>"
      ]
     },
     "metadata": {},
     "output_type": "display_data"
    }
   ],
   "source": [
    "counts_year.plot()                          # create a plot from the combined, re-indexed and renamed data frame\n",
    "plt.show()                                          # have a look at the plot"
   ]
  },
  {
   "cell_type": "code",
   "execution_count": 17,
   "id": "ab2cbb2f",
   "metadata": {},
   "outputs": [
    {
     "data": {
      "text/plain": [
       "<Figure size 640x480 with 0 Axes>"
      ]
     },
     "metadata": {},
     "output_type": "display_data"
    }
   ],
   "source": [
    "plt.savefig('..\\\\output\\\\abstract_count.jpg')    # we can right click on the plot above to save it, or save it via command"
   ]
  },
  {
   "cell_type": "markdown",
   "id": "d35a4c1c",
   "metadata": {},
   "source": [
    "## Count word frequencies - 'bag of words'\n",
    "\n",
    "Now that we have some basic descriptive stats about how many abstracts were imported properly with text in the 'Text' column, we can get on to the actual natural language processing steps. The most basic NLP option is to count the most frequent words found in the two sets of abstracts - meaning we need to find the most frequent words found in ALL of the abstracts and then compare that to the most frequnet words found in only those abstracts that contain a keyword of interest. \n",
    "\n",
    "To this end, we use the 'bag of words' method which whacks all of the words from all of the texts together, turns them into 'tokens' then processes to make them as unified as possible by removing uppercase letters, punctuation, digits, empty strings, stop words (e.g. 'the', 'and', 'for', etc. ) and word forms (e.g. pluralisations, verb endings, etc. ). \n",
    "\n",
    "Let's demo this with a simple example. If the text we want to 'bag of words' is \"The cat named Cat was one of 5 cats.\" it would become a list of stemmed word-tokens like \n",
    "'''[[cat]\n",
    "[name]\n",
    "[cat]\n",
    "[be]\n",
    "[cat]]''' \n",
    "and the most common word would obviously be '''[cat]'''. \n",
    "\n",
    "Applying the 'bag of words' method to our texts is not so trivial, but should also be more enlightening. We would expect that the most common words from all of the texts would be similar to, but not identical to, the most common words from only the abstracts that contain a keyword of interest.\n",
    "\n",
    "This bag of words approach ignores years, session codes, authors and everything else. Subsetting the texts by those things might be useful later. "
   ]
  },
  {
   "cell_type": "code",
   "execution_count": 18,
   "id": "a16684bc",
   "metadata": {},
   "outputs": [],
   "source": [
    "def bag_of_words_analysis(input, how_many):     # define a 'bag of words' function with 2 arguments, an input and a quantity \n",
    "    holding_string = \"\"                                                        # that creates a temporary variable\n",
    "    for text in input['Text']:                                                 # looks at the 'Text' column for the input\n",
    "        holding_string += text                                                 # fills up the temp variable with the text\n",
    "    holding_string = word_tokenize(holding_string)                             # word tokenises that text\n",
    "    holding_string = [word.lower() for word in holding_string]                 # remove uppercase letters\n",
    "    holding_string = [w.translate(table_punctuation) for w in holding_string]  # removes punctuation\n",
    "    holding_string = (list(filter(lambda x: x, holding_string)))               # removes andy empty strings\n",
    "    holding_string = [token for token in holding_string if not token.isdigit()]  # removes digits\n",
    "    holding_string = [token for token in holding_string if token not in stop_words]  # removes stopwords\n",
    "    holding_string = [porter.stem(token) for token in holding_string]                # stems the word-tokens\n",
    "    list_for_count = []                                                              # and creates an empty list\n",
    "    for token in holding_string:                                         # then iterates over the tokens\n",
    "        list_for_count.append(token)                                     # appending them to the list\n",
    "    counts = Counter(list_for_count)                                     # applies the Counter function imported earlier \n",
    "    return counts.most_common(how_many)                                  # and returns the tokens with highest counts \n",
    "                                                                         # up to the quantity specified as an argument"
   ]
  },
  {
   "cell_type": "code",
   "execution_count": 19,
   "id": "c6d9cc62",
   "metadata": {},
   "outputs": [],
   "source": [
    "most_frequent_all = bag_of_words_analysis(all_texts, 20)   # apply bag of words function to all texts, and save the output table\n",
    "                                                           # this will take a while. "
   ]
  },
  {
   "cell_type": "code",
   "execution_count": 20,
   "id": "575241cc",
   "metadata": {},
   "outputs": [
    {
     "name": "stdout",
     "output_type": "stream",
     "text": [
      "         Word  All count\n",
      "0        none      80244\n",
      "1        gene      73991\n",
      "2     patient      65439\n",
      "3       mutat      59507\n",
      "4       genet      47763\n",
      "5       studi      34368\n",
      "6      result      30593\n",
      "7         use      30138\n",
      "8        case      28360\n",
      "9      associ      26646\n",
      "10     diseas      26558\n",
      "11    variant      26398\n",
      "12    analysi      26263\n",
      "13     famili      25810\n",
      "14     clinic      25730\n",
      "15    sequenc      22861\n",
      "16          p      22512\n",
      "17  chromosom      22382\n",
      "18    syndrom      22203\n",
      "19       cell      19842\n"
     ]
    }
   ],
   "source": [
    "most_frequent_all = pd.DataFrame(most_frequent_all)                                # convert the saved output as a data frame\n",
    "most_frequent_all = most_frequent_all.rename(columns={0: \"Word\", 1: \"All count\" }) # name the columns\n",
    "print(most_frequent_all)                                                  # Let's just check it worked. print(most_frequent_all)"
   ]
  },
  {
   "cell_type": "code",
   "execution_count": 21,
   "id": "1e3f528e",
   "metadata": {},
   "outputs": [],
   "source": [
    "most_frequent_matched = bag_of_words_analysis(matched_texts, 20) # apply the bag of words function to matched texts, and save"
   ]
  },
  {
   "cell_type": "code",
   "execution_count": 22,
   "id": "a5882b16",
   "metadata": {},
   "outputs": [
    {
     "name": "stdout",
     "output_type": "stream",
     "text": [
      "        Word  Matched count\n",
      "0       none          16874\n",
      "1       gene          11402\n",
      "2    patient           9558\n",
      "3      mutat           7761\n",
      "4      genet           7740\n",
      "5     associ           5836\n",
      "6    variant           5489\n",
      "7      studi           5359\n",
      "8        use           4568\n",
      "9     result           4443\n",
      "10         p           4402\n",
      "11   univers           4124\n",
      "12        de           4114\n",
      "13    clinic           4084\n",
      "14    diseas           3964\n",
      "15      case           3927\n",
      "16   analysi           3811\n",
      "17   syndrom           3773\n",
      "18  identifi           3263\n",
      "19   sequenc           3242\n"
     ]
    }
   ],
   "source": [
    "most_frequent_matched = pd.DataFrame(most_frequent_matched)                                    # convert it to a data frame\n",
    "most_frequent_matched = most_frequent_matched.rename(columns={0: \"Word\", 1: \"Matched count\" }) # name the columns\n",
    "print(most_frequent_matched)                                                  # Let's just check it worked. print(most_frequent_all)"
   ]
  },
  {
   "cell_type": "code",
   "execution_count": 23,
   "id": "7474420a",
   "metadata": {},
   "outputs": [
    {
     "name": "stdout",
     "output_type": "stream",
     "text": [
      "         Word  All count  Matched count\n",
      "0        none    80244.0        16874.0\n",
      "1        gene    73991.0        11402.0\n",
      "2     patient    65439.0         9558.0\n",
      "3       mutat    59507.0         7761.0\n",
      "4       genet    47763.0         7740.0\n",
      "5       studi    34368.0         5359.0\n",
      "6      result    30593.0         4443.0\n",
      "7         use    30138.0         4568.0\n",
      "8        case    28360.0         3927.0\n",
      "9      associ    26646.0         5836.0\n",
      "10     diseas    26558.0         3964.0\n",
      "11    variant    26398.0         5489.0\n",
      "12    analysi    26263.0         3811.0\n",
      "13     famili    25810.0            NaN\n",
      "14     clinic    25730.0         4084.0\n",
      "15    sequenc    22861.0         3242.0\n",
      "16          p    22512.0         4402.0\n",
      "17  chromosom    22382.0            NaN\n",
      "18    syndrom    22203.0         3773.0\n",
      "19       cell    19842.0            NaN\n",
      "20    univers        NaN         4124.0\n",
      "21         de        NaN         4114.0\n",
      "22   identifi        NaN         3263.0\n"
     ]
    }
   ],
   "source": [
    "most_frequent = most_frequent_all.merge(most_frequent_matched, on='Word', how='outer') # combine the two data frames via 'outer'\n",
    "                                                                                       # to get the total list of all words\n",
    "print(most_frequent)"
   ]
  },
  {
   "cell_type": "code",
   "execution_count": 24,
   "id": "1a66fcbf",
   "metadata": {},
   "outputs": [
    {
     "name": "stderr",
     "output_type": "stream",
     "text": [
      "C:\\Users\\mzyssjkc\\AppData\\Local\\Programs\\Python\\Python311\\Lib\\site-packages\\pandas\\core\\internals\\blocks.py:2323: RuntimeWarning: invalid value encountered in cast\n",
      "  values = values.astype(str)\n"
     ]
    }
   ],
   "source": [
    "most_frequent.to_csv('..\\\\output\\\\most_frequent_comparison.csv')  # write out the joined most frequent words to a .csv\n",
    "                                                                  # again, with a clear and useful name"
   ]
  }
 ],
 "metadata": {
  "kernelspec": {
   "display_name": "Python 3 (ipykernel)",
   "language": "python",
   "name": "python3"
  },
  "language_info": {
   "codemirror_mode": {
    "name": "ipython",
    "version": 3
   },
   "file_extension": ".py",
   "mimetype": "text/x-python",
   "name": "python",
   "nbconvert_exporter": "python",
   "pygments_lexer": "ipython3",
   "version": "3.11.1"
  }
 },
 "nbformat": 4,
 "nbformat_minor": 5
}
