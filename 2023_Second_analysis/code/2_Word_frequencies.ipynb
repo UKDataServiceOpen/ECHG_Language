{
 "cells": [
  {
   "cell_type": "markdown",
   "id": "d71e8f5f",
   "metadata": {},
   "source": [
    "# Word frequencies\n",
    "\n",
    "\n",
    "Now that we have the abstracts in two nice neat .csv files, we need to download/import the packages needed, import the .csv files, and then can get on with the first part of the analysis. \n",
    "\n",
    "## Get ready \n",
    "\n",
    "As always, we start with a couple of code cells that load up and nickname some useful packages, then check file locations, then import files and check them. \n"
   ]
  },
  {
   "cell_type": "code",
   "execution_count": 1,
   "id": "26078126",
   "metadata": {},
   "outputs": [],
   "source": [
    "%%capture\n",
    "\n",
    "# installing necessary pdf conversion packages via pip\n",
    "# the '%%capture' at the top of this cell suppresses the output (which is normally quite long and annoying looking). \n",
    "# You can remove or comment it out if you prefer to see the output. \n",
    "!pip install nltk\n"
   ]
  },
  {
   "cell_type": "code",
   "execution_count": 2,
   "id": "271c801d",
   "metadata": {},
   "outputs": [],
   "source": [
    "%%capture\n",
    "\n",
    "import os                         # os is a module for navigating your machine (e.g., file directories).\n",
    "import nltk                       # nltk stands for natural language tool kit and is useful for text-mining. \n",
    "from nltk import word_tokenize    # and some of its key functions\n",
    "\n",
    "nltk.download('punkt')\n",
    "nltk.download('stopwords')\n",
    "from nltk.corpus import stopwords\n",
    "stop_words = set(stopwords.words('english'))\n",
    "from nltk.corpus import wordnet                    # Finally, things we need for lemmatising!\n",
    "from nltk.stem import WordNetLemmatizer\n",
    "lemmatizer = WordNetLemmatizer() \n",
    "from nltk.stem.porter import PorterStemmer\n",
    "porter = PorterStemmer()\n",
    "nltk.download('averaged_perceptron_tagger')        # Like a POS-tagger...\n",
    "nltk.download('wordnet')\n",
    "nltk.download('webtext')\n",
    "from nltk.corpus import webtext\n",
    "\n",
    "import pandas as pd\n",
    "pd.set_option('display.max_colwidth', 200)\n",
    "import numpy as np\n",
    "import statistics\n",
    "import datetime\n",
    "date = datetime.date.today()\n",
    "\n",
    "import codecs\n",
    "import csv                        # csv is for importing and working with csv files\n",
    "\n",
    "from collections import Counter\n",
    "\n",
    "import statistics\n",
    "import re                         # things we need for RegEx corrections\n",
    "import matplotlib.pyplot as plt\n",
    "import string \n",
    "\n",
    "import math \n",
    "\n",
    "English_punctuation = \"-!\\\"#$%&()'*-–+,./:;<=>?@[\\]^_`{|}~''“”\"      # Things for removing punctuation, stopwords and empty strings\n",
    "table_punctuation = str.maketrans('','', English_punctuation)"
   ]
  },
  {
   "cell_type": "code",
   "execution_count": 4,
   "id": "2ef24df9",
   "metadata": {},
   "outputs": [
    {
     "name": "stdout",
     "output_type": "stream",
     "text": [
      "['abstract_count.jpg', 'all_abstracts_no_null_texts.csv', 'matched_abstracts_no_null_texts.csv', 'matches_count.jpg', 'most_frequent_comparison.csv', 'pattern_matches_reviewed.csv', 'pattern_matches_to_review.csv']\n"
     ]
    }
   ],
   "source": [
    "print(os.listdir(\"..\\\\output\")  )                                # check 'results' folder is not empty/has correct stuff"
   ]
  },
  {
   "cell_type": "markdown",
   "id": "e364e65f",
   "metadata": {},
   "source": [
    "## Import\n",
    "\n",
    "Having checked the contents of the output folder and seen the files we expected to see, we can now import and check them. "
   ]
  },
  {
   "cell_type": "code",
   "execution_count": 5,
   "id": "076b8611",
   "metadata": {},
   "outputs": [],
   "source": [
    "all_texts = pd.read_csv('..\\\\output\\\\all_abstracts_no_null_texts.csv')            # one for all of the texts and then\n",
    "matched_texts = pd.read_csv('..\\\\output\\\\matched_abstracts_no_null_texts.csv')    # one for just those that match the keyword"
   ]
  },
  {
   "cell_type": "code",
   "execution_count": 6,
   "id": "f5f4a961",
   "metadata": {},
   "outputs": [
    {
     "name": "stdout",
     "output_type": "stream",
     "text": [
      "33979\n",
      "3794\n"
     ]
    }
   ],
   "source": [
    "print (len(all_texts))                        # it is always useful to double check that the length matches your expectations\n",
    "print (len(matched_texts))                    # in this case, we already know how many rows to expect in each file. "
   ]
  },
  {
   "cell_type": "markdown",
   "id": "49d22b75",
   "metadata": {},
   "source": [
    "## Get some basic stats about how texts are spread out over time\n",
    "\n",
    "We know that all of the rows in the files have at least two columns with contents - 'Year' and 'Text'. This means that it is probably a useful thing to get a little schematic and/or table that counts row according to year. Let's do that now! "
   ]
  },
  {
   "cell_type": "code",
   "execution_count": 7,
   "id": "b304d1b0",
   "metadata": {},
   "outputs": [
    {
     "name": "stdout",
     "output_type": "stream",
     "text": [
      "2013.0    2373\n",
      "2001.0    2336\n",
      "2014.0    2240\n",
      "2004.0    2205\n",
      "2016.0    2040\n",
      "2011.0    1967\n",
      "2015.0    1951\n",
      "2008.0    1896\n",
      "2012.0    1871\n",
      "2010.0    1716\n",
      "2009.0    1704\n",
      "2021.0    1570\n",
      "2007.0    1541\n",
      "2005.0    1520\n",
      "2019.0    1437\n",
      "2006.0    1422\n",
      "2002.0    1266\n",
      "2003.0     996\n",
      "2020.0     693\n",
      "2017.0     651\n",
      "2018.0     584\n",
      "Name: Year, dtype: int64\n"
     ]
    }
   ],
   "source": [
    "all_counts_by_year = all_texts['Year'].value_counts()         # this creates a little table with two columns - year and count\n",
    "print(all_counts_by_year)                                     # however, when we print it we can see it has no headers,\n",
    "                                                              # is not in order, etc. "
   ]
  },
  {
   "cell_type": "code",
   "execution_count": 8,
   "id": "be0be49a",
   "metadata": {},
   "outputs": [
    {
     "name": "stdout",
     "output_type": "stream",
     "text": [
      "      Year  Counts\n",
      "1   2001.0    2336\n",
      "16  2002.0    1266\n",
      "17  2003.0     996\n",
      "3   2004.0    2205\n",
      "13  2005.0    1520\n",
      "15  2006.0    1422\n",
      "12  2007.0    1541\n",
      "7   2008.0    1896\n",
      "10  2009.0    1704\n",
      "9   2010.0    1716\n",
      "5   2011.0    1967\n",
      "8   2012.0    1871\n",
      "0   2013.0    2373\n",
      "2   2014.0    2240\n",
      "6   2015.0    1951\n",
      "4   2016.0    2040\n",
      "19  2017.0     651\n",
      "20  2018.0     584\n",
      "14  2019.0    1437\n",
      "18  2020.0     693\n",
      "11  2021.0    1570\n"
     ]
    }
   ],
   "source": [
    "all_counts_by_year = pd.DataFrame(all_counts_by_year)                      # so we convert the table to a data frame\n",
    "all_counts_by_year = all_counts_by_year.rename(columns={\"Year\": \"Counts\"}) # name the columns\n",
    "all_counts_by_year = all_counts_by_year.rename_axis('Year').reset_index()  # set the axis to year and reset the index\n",
    "all_counts_by_year = all_counts_by_year.sort_values(by=['Year'])           # and sort by value of year.\n",
    "print(all_counts_by_year)                                                  # Let's just check it worked. "
   ]
  },
  {
   "cell_type": "code",
   "execution_count": 9,
   "id": "039a408c",
   "metadata": {},
   "outputs": [
    {
     "name": "stdout",
     "output_type": "stream",
     "text": [
      "      Year  Matches\n",
      "9   2001.0      133\n",
      "19  2002.0       66\n",
      "20  2003.0       52\n",
      "16  2004.0       89\n",
      "17  2005.0       88\n",
      "18  2006.0       86\n",
      "15  2007.0       95\n",
      "11  2008.0      122\n",
      "10  2009.0      132\n",
      "8   2010.0      150\n",
      "6   2011.0      243\n",
      "7   2012.0      224\n",
      "1   2013.0      302\n",
      "3   2014.0      285\n",
      "0   2015.0      604\n",
      "2   2016.0      293\n",
      "14  2017.0       96\n",
      "13  2018.0      102\n",
      "4   2019.0      263\n",
      "12  2020.0      111\n",
      "5   2021.0      258\n"
     ]
    }
   ],
   "source": [
    "matched_counts_by_year = matched_texts['Year'].value_counts()      # repeat the process for the matched_texts file\n",
    "matched_counts_by_year = pd.DataFrame(matched_counts_by_year)                        # again, turn it into a data frame\n",
    "matched_counts_by_year = matched_counts_by_year.rename(columns={\"Year\": \"Matches\"})  # name the columns\n",
    "matched_counts_by_year = matched_counts_by_year.rename_axis('Year').reset_index()    # rename axis, reset index\n",
    "matched_counts_by_year = matched_counts_by_year.sort_values(by=['Year'])             # sort by value of year\n",
    "print(matched_counts_by_year)                                                        # and check that it looks correct. "
   ]
  },
  {
   "cell_type": "code",
   "execution_count": 10,
   "id": "85569dee",
   "metadata": {},
   "outputs": [
    {
     "name": "stdout",
     "output_type": "stream",
     "text": [
      "      Year  Counts  Matches\n",
      "0   2001.0    2336      133\n",
      "1   2002.0    1266       66\n",
      "2   2003.0     996       52\n",
      "3   2004.0    2205       89\n",
      "4   2005.0    1520       88\n",
      "5   2006.0    1422       86\n",
      "6   2007.0    1541       95\n",
      "7   2008.0    1896      122\n",
      "8   2009.0    1704      132\n",
      "9   2010.0    1716      150\n",
      "10  2011.0    1967      243\n",
      "11  2012.0    1871      224\n",
      "12  2013.0    2373      302\n",
      "13  2014.0    2240      285\n",
      "14  2015.0    1951      604\n",
      "15  2016.0    2040      293\n",
      "16  2017.0     651       96\n",
      "17  2018.0     584      102\n",
      "18  2019.0    1437      263\n",
      "19  2020.0     693      111\n",
      "20  2021.0    1570      258\n"
     ]
    }
   ],
   "source": [
    "counts_year = all_counts_by_year.merge(matched_counts_by_year, on='Year', how='left') # now, combine the two data frames\n",
    "print(counts_year)                                                                    # and have a look at it"
   ]
  },
  {
   "cell_type": "code",
   "execution_count": 11,
   "id": "50dd4dc9",
   "metadata": {},
   "outputs": [
    {
     "name": "stdout",
     "output_type": "stream",
     "text": [
      "        Total  Matches\n",
      "Year                  \n",
      "2001.0   2336      133\n",
      "2002.0   1266       66\n",
      "2003.0    996       52\n",
      "2004.0   2205       89\n",
      "2005.0   1520       88\n",
      "2006.0   1422       86\n",
      "2007.0   1541       95\n",
      "2008.0   1896      122\n",
      "2009.0   1704      132\n",
      "2010.0   1716      150\n",
      "2011.0   1967      243\n",
      "2012.0   1871      224\n",
      "2013.0   2373      302\n",
      "2014.0   2240      285\n",
      "2015.0   1951      604\n",
      "2016.0   2040      293\n",
      "2017.0    651       96\n",
      "2018.0    584      102\n",
      "2019.0   1437      263\n",
      "2020.0    693      111\n",
      "2021.0   1570      258\n"
     ]
    }
   ],
   "source": [
    "counts_year = counts_year.set_index('Year')                     # set the year as the index\n",
    "counts_year = counts_year.rename(columns={'Counts': 'Total'})   # rename the 'Counts' column to 'Total'\n",
    "counts_year = counts_year.sort_values(by='Year')                # sort them by year\n",
    "print(counts_year)                                              # and have a look. Nice!"
   ]
  },
  {
   "cell_type": "code",
   "execution_count": 12,
   "id": "d2e3ee27",
   "metadata": {},
   "outputs": [
    {
     "name": "stdout",
     "output_type": "stream",
     "text": [
      "33979\n",
      "3794\n"
     ]
    }
   ],
   "source": [
    "print(counts_year['Total'].sum())                                # I worry too much sometimes\n",
    "print(counts_year['Matches'].sum())                              # but why not check that the numbers still add up? "
   ]
  },
  {
   "cell_type": "code",
   "execution_count": 13,
   "id": "100df155",
   "metadata": {},
   "outputs": [
    {
     "data": {
      "image/png": "[encoded data removed]",
      "text/plain": [
       "<Figure size 640x480 with 1 Axes>"
      ]
     },
     "metadata": {},
     "output_type": "display_data"
    }
   ],
   "source": [
    "counts_year.plot()                                  # create a plot from the combined, re-indexed and renamed data frame\n",
    "plt.show()                                          # have a look at the plot"
   ]
  },
  {
   "cell_type": "code",
   "execution_count": 14,
   "id": "ab2cbb2f",
   "metadata": {},
   "outputs": [
    {
     "data": {
      "text/plain": [
       "<Figure size 640x480 with 0 Axes>"
      ]
     },
     "metadata": {},
     "output_type": "display_data"
    }
   ],
   "source": [
    "plt.savefig('..\\\\output\\\\abstract_count.jpg')    # we can right click on the plot above to save it, or save it via command"
   ]
  },
  {
   "cell_type": "markdown",
   "id": "d35a4c1c",
   "metadata": {},
   "source": [
    "## Count word frequencies - 'bag of words'\n",
    "\n",
    "Now that we have some basic descriptive stats about how many abstracts were imported properly with text in the 'Text' column, we can get on to the actual natural language processing steps. The most basic NLP option is to count the most frequent words found in the two sets of abstracts - meaning we need to find the most frequent words found in ALL of the abstracts and then compare that to the most frequnet words found in only those abstracts that contain a keyword of interest. \n",
    "\n",
    "To this end, we use the 'bag of words' method which whacks all of the words from all of the texts together, turns them into 'tokens' then processes to make them as unified as possible by removing uppercase letters, punctuation, digits, empty strings, stop words (e.g. 'the', 'and', 'for', etc. ) and word forms (e.g. pluralisations, verb endings, etc. ). \n",
    "\n",
    "Let's demo this with a simple example. If the text we want to 'bag of words' is \"The cat named Cat was one of 5 cats.\" it would become a list of stemmed word-tokens like \n",
    "'''[[cat]\n",
    "[name]\n",
    "[cat]\n",
    "[be]\n",
    "[cat]]''' \n",
    "and the most common word would obviously be '''[cat]'''. \n",
    "\n",
    "Applying the 'bag of words' method to our texts is not so trivial, but should also be more enlightening. We would expect that the most common words from all of the texts would be similar to, but not identical to, the most common words from only the abstracts that contain a keyword of interest.\n",
    "\n",
    "This bag of words approach ignores years, session codes, authors and everything else. Subsetting the texts by those things might be useful later. "
   ]
  },
  {
   "cell_type": "code",
   "execution_count": 15,
   "id": "a16684bc",
   "metadata": {},
   "outputs": [],
   "source": [
    "def bag_of_words_analysis(input, how_many):     # define a 'bag of words' function with 2 arguments, an input and a quantity \n",
    "    holding_string = \"\"                                                        # that creates a temporary variable\n",
    "    for text in input['Text']:                                                 # looks at the 'Text' column for the input\n",
    "        holding_string += text                                                 # fills up the temp variable with the text\n",
    "    holding_string = word_tokenize(holding_string)                             # word tokenises that text\n",
    "    holding_string = [word.lower() for word in holding_string]                 # remove uppercase letters\n",
    "    holding_string = [w.translate(table_punctuation) for w in holding_string]  # removes punctuation\n",
    "    holding_string = (list(filter(lambda x: x, holding_string)))               # removes andy empty strings\n",
    "    holding_string = [token for token in holding_string if not token.isdigit()]  # removes digits\n",
    "    holding_string = [token for token in holding_string if token not in stop_words]  # removes stopwords\n",
    "    holding_string = [porter.stem(token) for token in holding_string]                # stems the word-tokens\n",
    "    list_for_count = []                                                              # and creates an empty list\n",
    "    for token in holding_string:                                         # then iterates over the tokens\n",
    "        list_for_count.append(token)                                     # appending them to the list\n",
    "    counts = Counter(list_for_count)                                     # applies the Counter function imported earlier \n",
    "    return counts.most_common(how_many)                                  # and returns the tokens with highest counts \n",
    "                                                                         # up to the quantity specified as an argument"
   ]
  },
  {
   "cell_type": "code",
   "execution_count": 16,
   "id": "c6d9cc62",
   "metadata": {},
   "outputs": [],
   "source": [
    "most_frequent_all = bag_of_words_analysis(all_texts, 20)   # apply bag of words function to all texts, and save the output table\n",
    "                                                           # this will take a while. "
   ]
  },
  {
   "cell_type": "code",
   "execution_count": 17,
   "id": "575241cc",
   "metadata": {},
   "outputs": [
    {
     "name": "stdout",
     "output_type": "stream",
     "text": [
      "         Word  All count\n",
      "0        gene      65746\n",
      "1     patient      56926\n",
      "2       mutat      53394\n",
      "3        none      43665\n",
      "4       genet      40285\n",
      "5       studi      31133\n",
      "6         use      27186\n",
      "7      result      26226\n",
      "8        case      25228\n",
      "9      associ      23735\n",
      "10    analysi      23484\n",
      "11     diseas      23297\n",
      "12     famili      22877\n",
      "13     clinic      21614\n",
      "14  chromosom      21273\n",
      "15    variant      19413\n",
      "16    sequenc      19388\n",
      "17    syndrom      19089\n",
      "18       cell      18080\n",
      "19          p      16847\n"
     ]
    }
   ],
   "source": [
    "most_frequent_all = pd.DataFrame(most_frequent_all)                                # convert the saved output as a data frame\n",
    "most_frequent_all = most_frequent_all.rename(columns={0: \"Word\", 1: \"All count\" }) # name the columns\n",
    "print(most_frequent_all)                                                  # Let's just check it worked. print(most_frequent_all)"
   ]
  },
  {
   "cell_type": "code",
   "execution_count": 18,
   "id": "1e3f528e",
   "metadata": {},
   "outputs": [],
   "source": [
    "most_frequent_matched = bag_of_words_analysis(matched_texts, 20) # apply the bag of words function to matched texts, and save"
   ]
  },
  {
   "cell_type": "code",
   "execution_count": 19,
   "id": "a5882b16",
   "metadata": {},
   "outputs": [
    {
     "name": "stdout",
     "output_type": "stream",
     "text": [
      "        Word  Matched count\n",
      "0       gene           8853\n",
      "1       none           7625\n",
      "2    patient           6990\n",
      "3      mutat           6005\n",
      "4      genet           5419\n",
      "5     associ           4828\n",
      "6      studi           4353\n",
      "7        use           3688\n",
      "8    variant           3423\n",
      "9     result           3205\n",
      "10      case           3013\n",
      "11   analysi           3002\n",
      "12    diseas           2986\n",
      "13    clinic           2837\n",
      "14         p           2830\n",
      "15   syndrom           2813\n",
      "16     genom           2570\n",
      "17  identifi           2365\n",
      "18        de           2334\n",
      "19    famili           2316\n"
     ]
    }
   ],
   "source": [
    "most_frequent_matched = pd.DataFrame(most_frequent_matched)                                    # convert it to a data frame\n",
    "most_frequent_matched = most_frequent_matched.rename(columns={0: \"Word\", 1: \"Matched count\" }) # name the columns\n",
    "print(most_frequent_matched)                                                  # Let's just check it worked. print(most_frequent_all)"
   ]
  },
  {
   "cell_type": "code",
   "execution_count": 20,
   "id": "7474420a",
   "metadata": {},
   "outputs": [
    {
     "name": "stdout",
     "output_type": "stream",
     "text": [
      "         Word  All count  Matched count\n",
      "0        gene    65746.0         8853.0\n",
      "1     patient    56926.0         6990.0\n",
      "2       mutat    53394.0         6005.0\n",
      "3        none    43665.0         7625.0\n",
      "4       genet    40285.0         5419.0\n",
      "5       studi    31133.0         4353.0\n",
      "6         use    27186.0         3688.0\n",
      "7      result    26226.0         3205.0\n",
      "8        case    25228.0         3013.0\n",
      "9      associ    23735.0         4828.0\n",
      "10    analysi    23484.0         3002.0\n",
      "11     diseas    23297.0         2986.0\n",
      "12     famili    22877.0         2316.0\n",
      "13     clinic    21614.0         2837.0\n",
      "14  chromosom    21273.0            NaN\n",
      "15    variant    19413.0         3423.0\n",
      "16    sequenc    19388.0            NaN\n",
      "17    syndrom    19089.0         2813.0\n",
      "18       cell    18080.0            NaN\n",
      "19          p    16847.0         2830.0\n",
      "20      genom        NaN         2570.0\n",
      "21   identifi        NaN         2365.0\n",
      "22         de        NaN         2334.0\n"
     ]
    }
   ],
   "source": [
    "most_frequent = most_frequent_all.merge(most_frequent_matched, on='Word', how='outer') # combine the two data frames via 'outer'\n",
    "                                                                                       # to get the total list of all words\n",
    "print(most_frequent)"
   ]
  },
  {
   "cell_type": "code",
   "execution_count": 21,
   "id": "1a66fcbf",
   "metadata": {},
   "outputs": [
    {
     "name": "stderr",
     "output_type": "stream",
     "text": [
      "C:\\Users\\mzyssjkc\\AppData\\Local\\Programs\\Python\\Python311\\Lib\\site-packages\\pandas\\core\\internals\\blocks.py:2323: RuntimeWarning: invalid value encountered in cast\n",
      "  values = values.astype(str)\n"
     ]
    }
   ],
   "source": [
    "most_frequent.to_csv('..\\\\output\\\\most_frequent_comparison.csv')  # write out the joined most frequent words to a .csv\n",
    "                                                                  # again, with a clear and useful name"
   ]
  }
 ],
 "metadata": {
  "kernelspec": {
   "display_name": "Python 3 (ipykernel)",
   "language": "python",
   "name": "python3"
  },
  "language_info": {
   "codemirror_mode": {
    "name": "ipython",
    "version": 3
   },
   "file_extension": ".py",
   "mimetype": "text/x-python",
   "name": "python",
   "nbconvert_exporter": "python",
   "pygments_lexer": "ipython3",
   "version": "3.11.1"
  }
 },
 "nbformat": 4,
 "nbformat_minor": 5
}
