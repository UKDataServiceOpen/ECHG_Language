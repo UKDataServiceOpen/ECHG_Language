{
 "cells": [
  {
   "cell_type": "markdown",
   "id": "b46e5d4f",
   "metadata": {},
   "source": [
    "# Step 1 - Prepare\n",
    "\n",
    "Admittedly, quite a bit of work has already taken place. The .pdf files were sent off to a research support team that scraped the text out of them and stored the contents of those files in .csv files which have useful headers. Each .pdf file was processed to produce a single .csv file. This processing was not universally successful because the original .pdf files were not all encoded in the same format and most had a totally unique layout. In effect, this means that each .pdf to .csv process was not equally able to automatically capture and segment the text in the .pdf into .csv columns such as author, affiliation, session code, etc. This means that some of the .csv files have empty columns while other .csv files have contents written in the same columns. This also means that some of the rows are probably faulty. Obviously, a detailed manual inspection would correct some of these errors but total accuracy is not the point of this research effort. \n",
    "\n",
    "The file for 2004 was particularly tricky and needs separate attention because the output from the research support team was not structured in a way that matches the others very well. \n",
    "\n",
    "Nevertheless, we have all the files in a somewhat useful way that allows us to use natural language processing methods to investigate person-first and identity-first language. The next step is to import the various .csv files, consolidate them in one data frame, tidy up some of the erroneous rows and columns and then same the output in a new .csv. \n",
    "\n",
    "## Get ready\n",
    "\n",
    "All of my jupyter notebooks begin with some code cells focussed on downloading/importing necessary packages, loading useful short names, and so forth. \n",
    "\n",
    "I also like to check the relevant file locations before importing the .csv files to work on. "
   ]
  },
  {
   "cell_type": "code",
   "execution_count": 1,
   "id": "271c801d",
   "metadata": {},
   "outputs": [],
   "source": [
    "%%capture                         \n",
    "                                  # The above capture statement is optional. \n",
    "                                  # You can remove this to see the chatter normally produced during import steps. \n",
    "\n",
    "import os                         # os is a module for navigating your machine (e.g., file directories).\n",
    "import pandas as pd               # pandas is necessary for working with data frames - shortening it to pd just saves time. \n",
    "pd.set_option('display.max_colwidth', 200)   # some of the files are big so set a big column width. \n",
    "import numpy as np                # like pandas, numpy is useful and useful to have a short name for\n",
    "import statistics                 # gotsta have stats\n",
    "\n",
    "import csv                        # csv is for importing and working with csv files\n",
    "\n",
    "import re                         # things we need for RegEx corrections\n",
    "import matplotlib.pyplot as plt\n",
    "import string \n",
    "import math "
   ]
  },
  {
   "cell_type": "code",
   "execution_count": 2,
   "id": "f5f4a961",
   "metadata": {},
   "outputs": [
    {
     "name": "stdout",
     "output_type": "stream",
     "text": [
      "['ESHG2001abstractICHG.csv', 'ESHG2002Abstracts.csv', 'ESHG2003Abstracts.csv', 'ESHG2004.csv', 'ESHG2005Abstracts.csv', 'ESHG2006Abstracts.csv', 'ESHG2007Abstracts.csv', 'ESHG2008Abstracts.csv', 'ESHG2009Abstracts.csv', 'ESHG2010Abstracts.csv', 'ESHG2011Abstracts.csv', 'ESHG2012Abstracts.csv', 'ESHG2013Abstracts.csv', 'ESHG2014Abstracts.csv', 'ESHG2015Abstracts.csv', 'ESHG2016Abstracts.csv', 'ESHG2017 electronic posters.csv', 'ESHG2017 oral presentation.csv', 'ESHG2018 electronic posters.csv', 'ESHG2018 oral presentation.csv', 'ESHG2019 electronic posters.csv', 'ESHG2019 oral presentation.csv', 'ESHG2020 electronic posters.csv', 'ESHG2020 oral presentation.csv', 'ESHG2021 electronic posters.csv', 'ESHG2021 oral presentation.csv']\n"
     ]
    }
   ],
   "source": [
    "print(os.listdir(\"..\\\\results\")  )                                # check 'results' folder is not empty/has correct stuff\n",
    "\n"
   ]
  },
  {
   "cell_type": "markdown",
   "id": "a88df952",
   "metadata": {},
   "source": [
    "## Import\n",
    "\n",
    "Having got all the packages we need and having checked the files, let's import them. This requires:\n",
    "* defining a function to import multiple files from a known location (better than one-by-one importing!)\n",
    "* checking the output of the mass-import for length and contents (since I suspect 2004 may not have worked correctly)\n",
    "* having found an error, investigating it a bit\n",
    "* correcting the error by removing problem rows, manually incorporating better rows, adding correct rows back in and checking"
   ]
  },
  {
   "cell_type": "code",
   "execution_count": 3,
   "id": "44c6ac09",
   "metadata": {},
   "outputs": [],
   "source": [
    "files = []                                                        # create empty list to hold names of files in 'results'\n",
    "def import_results(input):                                        # create a function import the contents of the\n",
    "    for f in os.listdir(input):                                   # folder named in the function input\n",
    "        f = pd.read_csv(input + '\\\\'+ f,encoding='latin1')        # by reading them in as csv files, one by one\n",
    "        files.append(f)                                           # appending the newly read csv file to a temporary list\n",
    "    output = pd.concat(files)                                     # then concatenating that temp list to the pre-defined list\n",
    "    return output                                                 # returning the output"
   ]
  },
  {
   "cell_type": "code",
   "execution_count": 4,
   "id": "75b74ce9",
   "metadata": {},
   "outputs": [
    {
     "data": {
      "text/plain": [
       "34630"
      ]
     },
     "execution_count": 4,
     "metadata": {},
     "output_type": "execute_result"
    }
   ],
   "source": [
    "all_results = import_results(\"..\\\\results\")      # run the newly defined function on the 'results' folder\n",
    "how_many_total = len(all_results)                # check the length \n",
    "how_many_total                                   # "
   ]
  },
  {
   "cell_type": "code",
   "execution_count": 5,
   "id": "10626120",
   "metadata": {},
   "outputs": [
    {
     "name": "stdout",
     "output_type": "stream",
     "text": [
      "0    2001.0\n",
      "0    2002.0\n",
      "0    2003.0\n",
      "0       NaN\n",
      "0    2005.0\n",
      "0    2006.0\n",
      "0    2007.0\n",
      "0    2008.0\n",
      "0    2009.0\n",
      "0    2010.0\n",
      "0    2011.0\n",
      "0    2012.0\n",
      "0    2013.0\n",
      "0    2014.0\n",
      "0    2015.0\n",
      "0    2016.0\n",
      "0    2017.0\n",
      "0    2018.0\n",
      "0    2019.0\n",
      "0    2020.0\n",
      "0    2021.0\n",
      "Name: Year, dtype: float64\n"
     ]
    }
   ],
   "source": [
    "print(all_results['Year'].drop_duplicates())     # quick check shows that 2004 (a known problem file) has not imported properly"
   ]
  },
  {
   "cell_type": "code",
   "execution_count": 6,
   "id": "9bc45084",
   "metadata": {},
   "outputs": [
    {
     "data": {
      "text/plain": [
       "2205"
      ]
     },
     "execution_count": 6,
     "metadata": {},
     "output_type": "execute_result"
    }
   ],
   "source": [
    "how_many_no_year = all_results['Year'].isna().sum() # Let's just count how many rows NaN instead of the year\n",
    "how_many_no_year"
   ]
  },
  {
   "cell_type": "code",
   "execution_count": 7,
   "id": "3bca00a0",
   "metadata": {},
   "outputs": [
    {
     "data": {
      "text/plain": [
       "32425"
      ]
     },
     "execution_count": 7,
     "metadata": {},
     "output_type": "execute_result"
    }
   ],
   "source": [
    "no_Nan_in_Year = all_results[~all_results['Year'].isnull()]          # remove the 'Year' = Nan rows\n",
    "how_many_without_Nan_year = len(no_Nan_in_Year)                      # check length again now that Nan rows are nemoved\n",
    "how_many_without_Nan_year"
   ]
  },
  {
   "cell_type": "code",
   "execution_count": 8,
   "id": "3f1c7cfe",
   "metadata": {},
   "outputs": [
    {
     "name": "stdout",
     "output_type": "stream",
     "text": [
      "32425\n",
      "32425\n"
     ]
    }
   ],
   "source": [
    "print (how_many_total - how_many_no_year )                   # print the total number minus the number that are missing a year\n",
    "print (how_many_without_Nan_year)                            # compare to the new total just to be sure"
   ]
  },
  {
   "cell_type": "code",
   "execution_count": 9,
   "id": "163269ee",
   "metadata": {},
   "outputs": [
    {
     "data": {
      "text/html": [
       "<div>\n",
       "<style scoped>\n",
       "    .dataframe tbody tr th:only-of-type {\n",
       "        vertical-align: middle;\n",
       "    }\n",
       "\n",
       "    .dataframe tbody tr th {\n",
       "        vertical-align: top;\n",
       "    }\n",
       "\n",
       "    .dataframe thead th {\n",
       "        text-align: right;\n",
       "    }\n",
       "</style>\n",
       "<table border=\"1\" class=\"dataframe\">\n",
       "  <thead>\n",
       "    <tr style=\"text-align: right;\">\n",
       "      <th></th>\n",
       "      <th>Year</th>\n",
       "      <th>Text</th>\n",
       "    </tr>\n",
       "  </thead>\n",
       "  <tbody>\n",
       "    <tr>\n",
       "      <th>0</th>\n",
       "      <td>2004</td>\n",
       "      <td>L01Multiple Sulfatase Defi ciency: Molecular defect and properties of the autosomal forms of epigenetic mosaicism can be caused by missing enzyme. retrotransposon activity. K. von Figura, M. Maria...</td>\n",
       "    </tr>\n",
       "    <tr>\n",
       "      <th>1</th>\n",
       "      <td>2004</td>\n",
       "      <td>L04Regional differences in genetic testing and counselling in Europe - An overview</td>\n",
       "    </tr>\n",
       "    <tr>\n",
       "      <th>2</th>\n",
       "      <td>2004</td>\n",
       "      <td>L02Biogenesis of mitochondria: Human diseases linked to S. Aymé protein transport, folding and degradation INSERM, Paris, France. W. Neupert</td>\n",
       "    </tr>\n",
       "    <tr>\n",
       "      <th>3</th>\n",
       "      <td>2004</td>\n",
       "      <td>L05Hereditary Breast/Ovarian Cancer risk: international energy present in oxidizable substrates is transduced into energy comparison of the acceptability of Preventive strategies stored in ATP. Mi...</td>\n",
       "    </tr>\n",
       "    <tr>\n",
       "      <th>4</th>\n",
       "      <td>2004</td>\n",
       "      <td>L06Variation in prenatal counselling in Europe: the example of highly motile within the cell. Quite a number of genes are involved Klinefelter in these processes which are closely linked to the in...</td>\n",
       "    </tr>\n",
       "    <tr>\n",
       "      <th>...</th>\n",
       "      <td>...</td>\n",
       "      <td>...</td>\n",
       "    </tr>\n",
       "    <tr>\n",
       "      <th>2200</th>\n",
       "      <td>2004</td>\n",
       "      <td>C7 A10 in the aetiology of cystinuria, we could not identify any  Affected children may have only one episode of illness or multiple  mutation in SL</td>\n",
       "    </tr>\n",
       "    <tr>\n",
       "      <th>2201</th>\n",
       "      <td>2004</td>\n",
       "      <td>C7 A10 in the two families. Nevertheless, there remains  recurrences. A common mutation (985A &gt;G) has been identiÜed  the possibility that other genes are involved in cystinuria. Further  among pa...</td>\n",
       "    </tr>\n",
       "    <tr>\n",
       "      <th>2202</th>\n",
       "      <td>2004</td>\n",
       "      <td>P0845Inactivation of the spasmolytic trefoil peptide (Tff2) leads  In this study, two unrelated MCAD patients, compound heterozygous  to increased expression of additional gastroprotective factors...</td>\n",
       "    </tr>\n",
       "    <tr>\n",
       "      <th>2203</th>\n",
       "      <td>2004</td>\n",
       "      <td>P0843MCDR1 Locus - Screening for candidate genes. functional disturbance in stomach and gut, Tff2-/- constructs do  N. Udar1, M. Chalukya1, R. Silva-Garcia1, J. Yeh1, P. Wong1,2, K. Small1  not di...</td>\n",
       "    </tr>\n",
       "    <tr>\n",
       "      <th>2204</th>\n",
       "      <td>2004</td>\n",
       "      <td>P0846RApidTRAP robot assisted TRAP assay non coding was carried out on more than 12 probands representing  J. P. Jakupciak1, W. Wang2  different families. Although the gene represents a good candi...</td>\n",
       "    </tr>\n",
       "  </tbody>\n",
       "</table>\n",
       "<p>2205 rows × 2 columns</p>\n",
       "</div>"
      ],
      "text/plain": [
       "      Year  \\\n",
       "0     2004   \n",
       "1     2004   \n",
       "2     2004   \n",
       "3     2004   \n",
       "4     2004   \n",
       "...    ...   \n",
       "2200  2004   \n",
       "2201  2004   \n",
       "2202  2004   \n",
       "2203  2004   \n",
       "2204  2004   \n",
       "\n",
       "                                                                                                                                                                                                         Text  \n",
       "0     L01Multiple Sulfatase Defi ciency: Molecular defect and properties of the autosomal forms of epigenetic mosaicism can be caused by missing enzyme. retrotransposon activity. K. von Figura, M. Maria...  \n",
       "1                                                                                                                         L04Regional differences in genetic testing and counselling in Europe - An overview   \n",
       "2                                                                L02Biogenesis of mitochondria: Human diseases linked to S. Aymé protein transport, folding and degradation INSERM, Paris, France. W. Neupert  \n",
       "3     L05Hereditary Breast/Ovarian Cancer risk: international energy present in oxidizable substrates is transduced into energy comparison of the acceptability of Preventive strategies stored in ATP. Mi...  \n",
       "4     L06Variation in prenatal counselling in Europe: the example of highly motile within the cell. Quite a number of genes are involved Klinefelter in these processes which are closely linked to the in...  \n",
       "...                                                                                                                                                                                                       ...  \n",
       "2200                                                     C7 A10 in the aetiology of cystinuria, we could not identify any  Affected children may have only one episode of illness or multiple  mutation in SL  \n",
       "2201  C7 A10 in the two families. Nevertheless, there remains  recurrences. A common mutation (985A >G) has been identiÜed  the possibility that other genes are involved in cystinuria. Further  among pa...  \n",
       "2202  P0845Inactivation of the spasmolytic trefoil peptide (Tff2) leads  In this study, two unrelated MCAD patients, compound heterozygous  to increased expression of additional gastroprotective factors...  \n",
       "2203  P0843MCDR1 Locus - Screening for candidate genes. functional disturbance in stomach and gut, Tff2-/- constructs do  N. Udar1, M. Chalukya1, R. Silva-Garcia1, J. Yeh1, P. Wong1,2, K. Small1  not di...  \n",
       "2204  P0846RApidTRAP robot assisted TRAP assay non coding was carried out on more than 12 probands representing  J. P. Jakupciak1, W. Wang2  different families. Although the gene represents a good candi...  \n",
       "\n",
       "[2205 rows x 2 columns]"
      ]
     },
     "execution_count": 9,
     "metadata": {},
     "output_type": "execute_result"
    }
   ],
   "source": [
    "year_04 = pd.read_csv('..\\\\results\\\\ESHG2004.csv')      # specifically read in year 2004 (it needed a bit of extra work)\n",
    "year_04 = year_04.iloc[:, [0,1]]                        # cut a two-column slice out of it with only the year and text\n",
    "year_04                                                 # check how it looks (which also shows us how many rows are in it!)"
   ]
  },
  {
   "cell_type": "code",
   "execution_count": 10,
   "id": "4d78328d",
   "metadata": {},
   "outputs": [],
   "source": [
    "all_results_corrected = pd.concat([no_Nan_in_Year, year_04])     # add those specially imported 2004 rows back into the output\n",
    "                                                                 # which had the weird no-year rows removed"
   ]
  },
  {
   "cell_type": "code",
   "execution_count": 11,
   "id": "4a7790cb",
   "metadata": {},
   "outputs": [
    {
     "name": "stdout",
     "output_type": "stream",
     "text": [
      "The numbers add up!\n"
     ]
    }
   ],
   "source": [
    "how_many_total_new = len(all_results_corrected)                  # check length again - are we back up to where we started?\n",
    "\n",
    "if how_many_total == how_many_total_new :                        # write a quick check to be sure the totals before and after\n",
    "    print('The numbers add up!')                                 # removing/replacing the 2004 rows are the same. "
   ]
  },
  {
   "cell_type": "markdown",
   "id": "a0560fad",
   "metadata": {},
   "source": [
    "## Remove rows that imported correctly for reasons unrelated to 2004. \n",
    "\n",
    "Having imported all the various .csv files and storing them in one data frame (even that tricksy 2004 .csv) I do a bit of clean up. Turning .pdf files to .csv is not a straightforward or fool proof process, so I want to remove any rows that have nothing in the 'Text' column and check the length again to see how many we have lost. Then I want to remove any columns that are entirely empty (which is probably the result of badly imported rows that are shifted over) and have a quick look at the remaining columns and what might be in them. "
   ]
  },
  {
   "cell_type": "code",
   "execution_count": 13,
   "id": "6c7a5f10",
   "metadata": {},
   "outputs": [
    {
     "name": "stdout",
     "output_type": "stream",
     "text": [
      "33979\n",
      "651\n"
     ]
    }
   ],
   "source": [
    "no_null_texts = all_results_corrected[~all_results_corrected['Text'].isnull()] \n",
    "                                                                    # remove any rows where the 'text' column is empty\n",
    "how_many_no_null_texts = len(no_null_texts)                         # check length again - still making sense?\n",
    "print (how_many_no_null_texts)\n",
    "print (how_many_total_new - how_many_no_null_texts)"
   ]
  },
  {
   "cell_type": "code",
   "execution_count": 14,
   "id": "3ddac587",
   "metadata": {},
   "outputs": [
    {
     "name": "stdout",
     "output_type": "stream",
     "text": [
      "33979\n"
     ]
    },
    {
     "data": {
      "text/html": [
       "<div>\n",
       "<style scoped>\n",
       "    .dataframe tbody tr th:only-of-type {\n",
       "        vertical-align: middle;\n",
       "    }\n",
       "\n",
       "    .dataframe tbody tr th {\n",
       "        vertical-align: top;\n",
       "    }\n",
       "\n",
       "    .dataframe thead th {\n",
       "        text-align: right;\n",
       "    }\n",
       "</style>\n",
       "<table border=\"1\" class=\"dataframe\">\n",
       "  <thead>\n",
       "    <tr style=\"text-align: right;\">\n",
       "      <th></th>\n",
       "      <th>Title</th>\n",
       "      <th>Session_Code</th>\n",
       "      <th>Authors_and_Affiliations</th>\n",
       "      <th>Text</th>\n",
       "      <th>Year</th>\n",
       "      <th>Email</th>\n",
       "      <th>Author</th>\n",
       "      <th>Affiliations</th>\n",
       "    </tr>\n",
       "  </thead>\n",
       "  <tbody>\n",
       "    <tr>\n",
       "      <th>0</th>\n",
       "      <td>Progress in sequencing and annotating the human genome</td>\n",
       "      <td>PS01.</td>\n",
       "      <td>Weissenbach Genoscope  Evry  F</td>\n",
       "      <td>Despite the availability of most of the human genome sequence  the accu rate identification of genes on the DNA sequence remains to be continu ously improved and updated. This procedure relies on ...</td>\n",
       "      <td>2001.0</td>\n",
       "      <td>jsbach@genoscope.cns.fr</td>\n",
       "      <td>NaN</td>\n",
       "      <td>NaN</td>\n",
       "    </tr>\n",
       "    <tr>\n",
       "      <th>1</th>\n",
       "      <td>Protein Structures  Inherited Mutations and Diseases</td>\n",
       "      <td>PS02.</td>\n",
       "      <td>M. ThorntonUniversity College  Biochemistry and Molecular Biology Department andBirkbeck College  London  United K</td>\n",
       "      <td>The mechanisms whereby inherited DNA mutations cause disease areonly beginning to be understood. These are best understood in the contextof knowledge of the three dimensional structure of the rele...</td>\n",
       "      <td>2001.0</td>\n",
       "      <td>thornton@biochem.ucl.ac.uk</td>\n",
       "      <td>NaN</td>\n",
       "      <td>NaN</td>\n",
       "    </tr>\n",
       "    <tr>\n",
       "      <th>2</th>\n",
       "      <td>Mutations and Their Effect on Protein Structure</td>\n",
       "      <td>PS03.</td>\n",
       "      <td>R. FershtCentre for Protein Engineering  University of Cambridge Cambridge  Unit ed K</td>\n",
       "      <td>Missense mutations can knock out residues in proteins that are importantfor binding  catalysis or conformational change  or have subtle effects onstability or conformation. Because buried residues...</td>\n",
       "      <td>2001.0</td>\n",
       "      <td>hjt1001@cam.ac.uk</td>\n",
       "      <td>NaN</td>\n",
       "      <td>NaN</td>\n",
       "    </tr>\n",
       "    <tr>\n",
       "      <th>3</th>\n",
       "      <td>Pharmacogenetics  A Disruptive Technology For The Next Decade</td>\n",
       "      <td>PS04.</td>\n",
       "      <td>Roses Senior Vice President  Genetics Research  GlaxoSmithKline  London United K</td>\n",
       "      <td>The Genome Project has accelerated the availability of tools to apply phar macogenetics to the development of personalized medicines. This differsfrom the long term [10 15 year] strategy that is r...</td>\n",
       "      <td>2001.0</td>\n",
       "      <td>mdb4138@glaxowellcome.co.uk</td>\n",
       "      <td>NaN</td>\n",
       "      <td>NaN</td>\n",
       "    </tr>\n",
       "    <tr>\n",
       "      <th>4</th>\n",
       "      <td>Predictive Testing for Huntington Disease   15 Years Later</td>\n",
       "      <td>PS05.</td>\n",
       "      <td>R. Hayden Centre for Molecular medicine &amp; Therapeutics  Department of MolecularGenetics  University of British Columbia  Vancouver  BC  C</td>\n",
       "      <td>Predictive genetic testing (PT) for Huntington Disease has now beenoffered for longer than for any other late onset genetic illness. The signifi cant number of persons at risk  who have participat...</td>\n",
       "      <td>2001.0</td>\n",
       "      <td>mrh@cmmt.ubc.ca</td>\n",
       "      <td>NaN</td>\n",
       "      <td>NaN</td>\n",
       "    </tr>\n",
       "    <tr>\n",
       "      <th>...</th>\n",
       "      <td>...</td>\n",
       "      <td>...</td>\n",
       "      <td>...</td>\n",
       "      <td>...</td>\n",
       "      <td>...</td>\n",
       "      <td>...</td>\n",
       "      <td>...</td>\n",
       "      <td>...</td>\n",
       "    </tr>\n",
       "    <tr>\n",
       "      <th>2200</th>\n",
       "      <td>NaN</td>\n",
       "      <td>NaN</td>\n",
       "      <td>NaN</td>\n",
       "      <td>C7 A10 in the aetiology of cystinuria, we could not identify any  Affected children may have only one episode of illness or multiple  mutation in SL</td>\n",
       "      <td>2004.0</td>\n",
       "      <td>NaN</td>\n",
       "      <td>NaN</td>\n",
       "      <td>NaN</td>\n",
       "    </tr>\n",
       "    <tr>\n",
       "      <th>2201</th>\n",
       "      <td>NaN</td>\n",
       "      <td>NaN</td>\n",
       "      <td>NaN</td>\n",
       "      <td>C7 A10 in the two families. Nevertheless, there remains  recurrences. A common mutation (985A &gt;G) has been identiÜed  the possibility that other genes are involved in cystinuria. Further  among pa...</td>\n",
       "      <td>2004.0</td>\n",
       "      <td>NaN</td>\n",
       "      <td>NaN</td>\n",
       "      <td>NaN</td>\n",
       "    </tr>\n",
       "    <tr>\n",
       "      <th>2202</th>\n",
       "      <td>NaN</td>\n",
       "      <td>NaN</td>\n",
       "      <td>NaN</td>\n",
       "      <td>P0845Inactivation of the spasmolytic trefoil peptide (Tff2) leads  In this study, two unrelated MCAD patients, compound heterozygous  to increased expression of additional gastroprotective factors...</td>\n",
       "      <td>2004.0</td>\n",
       "      <td>NaN</td>\n",
       "      <td>NaN</td>\n",
       "      <td>NaN</td>\n",
       "    </tr>\n",
       "    <tr>\n",
       "      <th>2203</th>\n",
       "      <td>NaN</td>\n",
       "      <td>NaN</td>\n",
       "      <td>NaN</td>\n",
       "      <td>P0843MCDR1 Locus - Screening for candidate genes. functional disturbance in stomach and gut, Tff2-/- constructs do  N. Udar1, M. Chalukya1, R. Silva-Garcia1, J. Yeh1, P. Wong1,2, K. Small1  not di...</td>\n",
       "      <td>2004.0</td>\n",
       "      <td>NaN</td>\n",
       "      <td>NaN</td>\n",
       "      <td>NaN</td>\n",
       "    </tr>\n",
       "    <tr>\n",
       "      <th>2204</th>\n",
       "      <td>NaN</td>\n",
       "      <td>NaN</td>\n",
       "      <td>NaN</td>\n",
       "      <td>P0846RApidTRAP robot assisted TRAP assay non coding was carried out on more than 12 probands representing  J. P. Jakupciak1, W. Wang2  different families. Although the gene represents a good candi...</td>\n",
       "      <td>2004.0</td>\n",
       "      <td>NaN</td>\n",
       "      <td>NaN</td>\n",
       "      <td>NaN</td>\n",
       "    </tr>\n",
       "  </tbody>\n",
       "</table>\n",
       "<p>33979 rows × 8 columns</p>\n",
       "</div>"
      ],
      "text/plain": [
       "                                                              Title  \\\n",
       "0            Progress in sequencing and annotating the human genome   \n",
       "1              Protein Structures  Inherited Mutations and Diseases   \n",
       "2                   Mutations and Their Effect on Protein Structure   \n",
       "3     Pharmacogenetics  A Disruptive Technology For The Next Decade   \n",
       "4        Predictive Testing for Huntington Disease   15 Years Later   \n",
       "...                                                             ...   \n",
       "2200                                                            NaN   \n",
       "2201                                                            NaN   \n",
       "2202                                                            NaN   \n",
       "2203                                                            NaN   \n",
       "2204                                                            NaN   \n",
       "\n",
       "     Session_Code  \\\n",
       "0           PS01.   \n",
       "1           PS02.   \n",
       "2           PS03.   \n",
       "3           PS04.   \n",
       "4           PS05.   \n",
       "...           ...   \n",
       "2200          NaN   \n",
       "2201          NaN   \n",
       "2202          NaN   \n",
       "2203          NaN   \n",
       "2204          NaN   \n",
       "\n",
       "                                                                                                                        Authors_and_Affiliations  \\\n",
       "0                                                                                                                 Weissenbach Genoscope  Evry  F   \n",
       "1                             M. ThorntonUniversity College  Biochemistry and Molecular Biology Department andBirkbeck College  London  United K   \n",
       "2                                                          R. FershtCentre for Protein Engineering  University of Cambridge Cambridge  Unit ed K   \n",
       "3                                                               Roses Senior Vice President  Genetics Research  GlaxoSmithKline  London United K   \n",
       "4      R. Hayden Centre for Molecular medicine & Therapeutics  Department of MolecularGenetics  University of British Columbia  Vancouver  BC  C   \n",
       "...                                                                                                                                          ...   \n",
       "2200                                                                                                                                         NaN   \n",
       "2201                                                                                                                                         NaN   \n",
       "2202                                                                                                                                         NaN   \n",
       "2203                                                                                                                                         NaN   \n",
       "2204                                                                                                                                         NaN   \n",
       "\n",
       "                                                                                                                                                                                                         Text  \\\n",
       "0     Despite the availability of most of the human genome sequence  the accu rate identification of genes on the DNA sequence remains to be continu ously improved and updated. This procedure relies on ...   \n",
       "1     The mechanisms whereby inherited DNA mutations cause disease areonly beginning to be understood. These are best understood in the contextof knowledge of the three dimensional structure of the rele...   \n",
       "2     Missense mutations can knock out residues in proteins that are importantfor binding  catalysis or conformational change  or have subtle effects onstability or conformation. Because buried residues...   \n",
       "3     The Genome Project has accelerated the availability of tools to apply phar macogenetics to the development of personalized medicines. This differsfrom the long term [10 15 year] strategy that is r...   \n",
       "4     Predictive genetic testing (PT) for Huntington Disease has now beenoffered for longer than for any other late onset genetic illness. The signifi cant number of persons at risk  who have participat...   \n",
       "...                                                                                                                                                                                                       ...   \n",
       "2200                                                     C7 A10 in the aetiology of cystinuria, we could not identify any  Affected children may have only one episode of illness or multiple  mutation in SL   \n",
       "2201  C7 A10 in the two families. Nevertheless, there remains  recurrences. A common mutation (985A >G) has been identiÜed  the possibility that other genes are involved in cystinuria. Further  among pa...   \n",
       "2202  P0845Inactivation of the spasmolytic trefoil peptide (Tff2) leads  In this study, two unrelated MCAD patients, compound heterozygous  to increased expression of additional gastroprotective factors...   \n",
       "2203  P0843MCDR1 Locus - Screening for candidate genes. functional disturbance in stomach and gut, Tff2-/- constructs do  N. Udar1, M. Chalukya1, R. Silva-Garcia1, J. Yeh1, P. Wong1,2, K. Small1  not di...   \n",
       "2204  P0846RApidTRAP robot assisted TRAP assay non coding was carried out on more than 12 probands representing  J. P. Jakupciak1, W. Wang2  different families. Although the gene represents a good candi...   \n",
       "\n",
       "        Year                        Email Author Affiliations  \n",
       "0     2001.0      jsbach@genoscope.cns.fr    NaN          NaN  \n",
       "1     2001.0   thornton@biochem.ucl.ac.uk    NaN          NaN  \n",
       "2     2001.0            hjt1001@cam.ac.uk    NaN          NaN  \n",
       "3     2001.0  mdb4138@glaxowellcome.co.uk    NaN          NaN  \n",
       "4     2001.0              mrh@cmmt.ubc.ca    NaN          NaN  \n",
       "...      ...                          ...    ...          ...  \n",
       "2200  2004.0                          NaN    NaN          NaN  \n",
       "2201  2004.0                          NaN    NaN          NaN  \n",
       "2202  2004.0                          NaN    NaN          NaN  \n",
       "2203  2004.0                          NaN    NaN          NaN  \n",
       "2204  2004.0                          NaN    NaN          NaN  \n",
       "\n",
       "[33979 rows x 8 columns]"
      ]
     },
     "execution_count": 14,
     "metadata": {},
     "output_type": "execute_result"
    }
   ],
   "source": [
    "no_null_texts = no_null_texts.dropna(axis=1, how=\"all\")   # remove all columns which contain only NaNs\n",
    "print(len(no_null_texts))                                 # just check the length has not changed\n",
    "no_null_texts                                             # have a nosy at which columns remain, what it is them, etc. "
   ]
  },
  {
   "cell_type": "markdown",
   "id": "3bce6eab",
   "metadata": {},
   "source": [
    "## Save the consolidated output as .csv\n",
    "\n",
    "Having imported, consolidated, tidied and checked everything, I want to save the output in a new .csv file. It is important to use a good name for the file, because bad file names are the bane of my existance. \n",
    "\n",
    "For simplicity sake, I will also create a new data frame containing only those rows for which the 'Text' column contains one of the keywords of interest, check its length and save it as a new .csv file with a good name. "
   ]
  },
  {
   "cell_type": "code",
   "execution_count": null,
   "id": "fc1cdfc3",
   "metadata": {},
   "outputs": [],
   "source": [
    "type(no_null_texts)                          # Let's just double check what kind of a thing 'no_null_texts' is\n",
    "                                             # This lets us know what kind of write-out-to-csv function we need."
   ]
  },
  {
   "cell_type": "code",
   "execution_count": null,
   "id": "0f7147dc",
   "metadata": {},
   "outputs": [],
   "source": [
    "no_null_texts.to_csv('..\\\\output\\\\all_abstracts_no_null_texts.csv')  # write out the data frame to a .csv, with a useful name\n",
    "                                                                     # which clarifies this is ALL abstracts with non-null texts"
   ]
  },
  {
   "cell_type": "code",
   "execution_count": null,
   "id": "c0c8e304",
   "metadata": {},
   "outputs": [],
   "source": [
    "no_nans_matched_texts = no_null_texts[no_null_texts['Text'].str.contains('autis|Autis|ASD|Asperger|asperger')]\n",
    "                                                         # keep only rows where text contains a keyword of interest\n",
    "len(no_nans_matched_texts)                               # check the length"
   ]
  },
  {
   "cell_type": "code",
   "execution_count": null,
   "id": "1fb3edd9",
   "metadata": {},
   "outputs": [],
   "source": [
    "no_nans_matched_texts.to_csv('..\\\\output\\\\matched_abstracts_no_null_texts.csv')  # write out the matched texts df to a .csv too\n",
    "                                                                                 # again, with a clear and useful name"
   ]
  },
  {
   "cell_type": "markdown",
   "id": "12f0ce19",
   "metadata": {},
   "source": [
    "## Manually check the saved .csv files\n",
    "\n",
    "You may want to go and check that the two files you have created here have been created and saved correctly. You may even want to open them up and have a nosy through them to see what they look like. \n",
    "\n",
    "The next notebook picks up where this leaves off, by importing those files and working with them to produce some stats that help explore the research question. "
   ]
  }
 ],
 "metadata": {
  "kernelspec": {
   "display_name": "Python 3 (ipykernel)",
   "language": "python",
   "name": "python3"
  },
  "language_info": {
   "codemirror_mode": {
    "name": "ipython",
    "version": 3
   },
   "file_extension": ".py",
   "mimetype": "text/x-python",
   "name": "python",
   "nbconvert_exporter": "python",
   "pygments_lexer": "ipython3",
   "version": "3.11.1"
  }
 },
 "nbformat": 4,
 "nbformat_minor": 5
}
