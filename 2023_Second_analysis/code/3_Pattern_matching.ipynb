{
 "cells": [
  {
   "cell_type": "markdown",
   "id": "d71e8f5f",
   "metadata": {},
   "source": [
    "# Pattern matching\n",
    "\n",
    "\n",
    "We will start in the same way as the last notebook started  - by downloading/importing the packages needed and importing the .csv file(s) needed. In this case, we only need the .csv file that has the matched abstracts as we are specifically looking at person-first and identity-first patterns that are \"about\" autism (or ASD, Asperger's syndrome, etc.). \n",
    "\n",
    "We could use the same basic approach to look at person-first and identity-first language for other conditions for which there are good noun and adjective forms of the words (diabetes? obesity? cancer? something else?). Doing that would mean using the .csv file with all of the abstracts or potentially creating and entirely new file of abstracts matched to another condition of interest. However, that lies outside the scope of this research, so I will not address it further here. \n",
    "\n",
    "## Get ready \n",
    "\n",
    "As always, we start with code that:\n",
    "* loads up and nicknames some useful packages, \n",
    "* checks file locations,\n",
    "* imports files, and \n",
    "* checks them. \n"
   ]
  },
  {
   "cell_type": "code",
   "execution_count": 1,
   "id": "271c801d",
   "metadata": {},
   "outputs": [],
   "source": [
    "%%capture\n",
    "\n",
    "!pip install nltk\n",
    "!pip install spacy -q\n",
    "!python -m spacy download en_core_web_lg -q\n",
    "\n",
    "import os                         # os is a module for navigating your machine (e.g., file directories).\n",
    "import nltk                       # nltk stands for natural language tool kit and is useful for text-mining. \n",
    "from nltk import word_tokenize    # and some of its key functions\n",
    "from nltk import sent_tokenize  \n",
    "tokenizer = nltk.tokenize.punkt.PunktSentenceTokenizer()\n",
    "from nltk.tokenize import sent_tokenize\n",
    "nltk.download('punkt')\n",
    "from nltk.corpus import wordnet                    # Finally, things we need for lemmatising!\n",
    "from nltk.stem import WordNetLemmatizer\n",
    "lemmatizer = WordNetLemmatizer() \n",
    "from nltk.stem.porter import PorterStemmer\n",
    "porter = PorterStemmer()\n",
    "nltk.download('averaged_perceptron_tagger')        # Like a POS-tagger...\n",
    "nltk.download('wordnet')\n",
    "nltk.download('webtext')\n",
    "from nltk.corpus import webtext\n",
    "\n",
    "import pandas as pd\n",
    "pd.set_option('display.max_colwidth', 200)\n",
    "import numpy as np\n",
    "import statistics\n",
    "\n",
    "import csv                        # csv is for importing and working with csv files\n",
    "\n",
    "from collections import Counter\n",
    "\n",
    "import statistics\n",
    "import re                         # things we need for RegEx corrections\n",
    "import string \n",
    "import spacy \n",
    "from spacy.matcher import Matcher \n",
    "from spacy.tokens import Span \n",
    "from spacy import displacy \n",
    "nlp = spacy.load('en_core_web_lg')\n",
    "nlp.max_length = 1500000 #or any large value, as long as you don't run out of RAM\n",
    "\n",
    "import math\n",
    "import matplotlib.pyplot as plt\n",
    "print(os.listdir(\"..\\\\output\")  )    \n",
    "\n",
    "# the '%%capture' at the top of this cell suppresses the output (which is normally quite long and annoying looking). \n",
    "# You can remove or comment it out if you prefer to see the output."
   ]
  },
  {
   "cell_type": "markdown",
   "id": "8e4e4ea5",
   "metadata": {},
   "source": [
    "## Import\n",
    "\n",
    "Having checked the contents of the output folder and seen the files we expected to see, we can now import the specific file of interest for this step of the analysis."
   ]
  },
  {
   "cell_type": "code",
   "execution_count": 2,
   "id": "75b74ce9",
   "metadata": {},
   "outputs": [
    {
     "data": {
      "text/plain": [
       "4600"
      ]
     },
     "execution_count": 2,
     "metadata": {},
     "output_type": "execute_result"
    }
   ],
   "source": [
    "matched_texts = pd.read_csv('..\\\\output\\\\matched_abstracts_no_null_texts.csv')    # one for just those that match the keyword\n",
    "len(matched_texts)                                                                # check the length "
   ]
  },
  {
   "cell_type": "markdown",
   "id": "f5d89f25",
   "metadata": {},
   "source": [
    "## Cleaning phase\n",
    "\n",
    "Cleaning begins by turning any instances of extra whitespaces (two or more in a row) into a single whitespace. Then, identifying any run-on sentences (where a lowercase letter, a full stop, and an uppercase letter are clustered without a whitespace) and inserting a whitespace between the full stop and the uppercase letter. Both of these steps will improve the sentence tokenisation that happens next. \n",
    "\n",
    "Then, we proceed to sentence tokenising the text. Like word tokens, sentence tokens become the unit for analysisis. As a trivial example, sentence tokenisation would turn a short text such as \n",
    "\n",
    "\n",
    "''' The cat named Cat is one of five cats. Honestly, I wonder why I have so many cats.\n",
    "''' \n",
    "\n",
    "into a list of sentence tokens like\n",
    "\n",
    "''' [[The cat named Cat is one of five cats.]\n",
    "\n",
    "[Honestly, I wonder why I have so many cats.]]\n",
    "\n",
    "''' \n",
    "\n",
    "An important difference is that the punctuation within the sentences that contributes to its structured and meaning (e.g. the comma and the full stops) are retained. This punctuation, like the capitalisation at the start of the sentences or for the poper nouns, is also retained as it helps the sentence-tokenisation process identify the words within the sentence correctly for their parts of speech (e.g. which of the words are nouns, verbs, etc. ). \n",
    "\n",
    "\n",
    "\n",
    "The sentence tokens are then put on individual rows, filtered to retain only those that contain one or more of the keywords of interest, and then filtered to ensure that there are no empty rows or duplicates. "
   ]
  },
  {
   "cell_type": "code",
   "execution_count": 3,
   "id": "d6cfa42e",
   "metadata": {},
   "outputs": [],
   "source": [
    "def remove_errors (input):\n",
    "    no_extra_spaces = re.sub(r'(\\s)(\\s+)', r'\\1', input)               # turn 2+ sequential whitespaces into 1\n",
    "    no_run_ons1 = re.sub(r'([a-z].)([A-Z])', r'\\1 \\2', no_extra_spaces) # identifies run-ons (e.g. \"word.New sentence \")\n",
    "    no_run_ons2 = re.sub(r'([A-Z].)([A-Z])', r'\\1. \\2', no_run_ons1) # identifies run-ons (e.g. \"ACRONYM.New sentence \")\n",
    "\n",
    "    return(no_run_ons2)"
   ]
  },
  {
   "cell_type": "code",
   "execution_count": 4,
   "id": "d2edc6ca",
   "metadata": {},
   "outputs": [],
   "source": [
    "no_run_ons = [remove_errors(abstract) for abstract in matched_texts['Text'] ] \n",
    "                                             # create abstract list without extra spaces/run-ons \n",
    "                                             # this is to improve sentence tokenisation later \n",
    "matched_texts['Sentence'] = no_run_ons       # copy the no extra space/run-on abstract list back into df as a new column"
   ]
  },
  {
   "cell_type": "code",
   "execution_count": 5,
   "id": "17421e4d",
   "metadata": {},
   "outputs": [
    {
     "name": "stdout",
     "output_type": "stream",
     "text": [
      "How many sentences in total: 84671\n"
     ]
    }
   ],
   "source": [
    "sentences  = [sent_tokenize(abstract) for abstract in matched_texts['Text'] ] # create tokenised list of cleaner abstracts\n",
    "matched_texts['Sentence'] = sentences                                   # copy that list back into df as a new column\n",
    "sentence_per_row = matched_texts.explode('Sentence')                    # explode column in new df with 1 row/sentence token\n",
    "print(\"How many sentences in total: \" + str(len(sentence_per_row)))     # check the length of new df\n"
   ]
  },
  {
   "cell_type": "code",
   "execution_count": 6,
   "id": "fd66d796",
   "metadata": {},
   "outputs": [
    {
     "name": "stdout",
     "output_type": "stream",
     "text": [
      "                                                                                                                                                                                                         Text  \\\n",
      "0      'Music of Life' a new metaphor for genomics, delivered as Facilitating understanding of whole genome sequencing in film within genetic counselling young people A. Middleton1,J. Borra2, T. Pope3,V...   \n",
      "0      'Music of Life' a new metaphor for genomics, delivered as Facilitating understanding of whole genome sequencing in film within genetic counselling young people A. Middleton1,J. Borra2, T. Pope3,V...   \n",
      "0      'Music of Life' a new metaphor for genomics, delivered as Facilitating understanding of whole genome sequencing in film within genetic counselling young people A. Middleton1,J. Borra2, T. Pope3,V...   \n",
      "0      'Music of Life' a new metaphor for genomics, delivered as Facilitating understanding of whole genome sequencing in film within genetic counselling young people A. Middleton1,J. Borra2, T. Pope3,V...   \n",
      "0      'Music of Life' a new metaphor for genomics, delivered as Facilitating understanding of whole genome sequencing in film within genetic counselling young people A. Middleton1,J. Borra2, T. Pope3,V...   \n",
      "...                                                                                                                                                                                                       ...   \n",
      "4598  P0833Screening for ARX gene mutations is indicated for males problems. The study of this disorder has intensiÜed because with mental retardation associated with West syndrome and/or incidence is a...   \n",
      "4599  P0842Medium-chain acyl-CoA dehydrogenase deÜciency the localisation of further genes encoding amino acid transporter B. Z. Yang subunits within these regions is conceivable. One candidate is ASC- ...   \n",
      "4599  P0842Medium-chain acyl-CoA dehydrogenase deÜciency the localisation of further genes encoding amino acid transporter B. Z. Yang subunits within these regions is conceivable. One candidate is ASC- ...   \n",
      "4599  P0842Medium-chain acyl-CoA dehydrogenase deÜciency the localisation of further genes encoding amino acid transporter B. Z. Yang subunits within these regions is conceivable. One candidate is ASC- ...   \n",
      "4599  P0842Medium-chain acyl-CoA dehydrogenase deÜciency the localisation of further genes encoding amino acid transporter B. Z. Yang subunits within these regions is conceivable. One candidate is ASC- ...   \n",
      "\n",
      "                                                                                                                                                                               Sentence  \n",
      "0      'Music of Life' a new metaphor for genomics, delivered as Facilitating understanding of whole genome sequencing in film within genetic counselling young people A. Middleton1,J.  \n",
      "0                                                                                                                                                                   Borra2, T. Pope3,V.  \n",
      "0                                                                                                                                                                             Wiles4,J.  \n",
      "0                                                                                                                                                              Roberts1, C. Lewis1,2,S.  \n",
      "0                                                                                                                                                                    C. Sanderson1,2,L.  \n",
      "...                                                                                                                                                                                 ...  \n",
      "4598                                                                                                                                           The patients had elevated lactate levels  \n",
      "4599                                                            P0842Medium-chain acyl-CoA dehydrogenase deÜciency the localisation of further genes encoding amino acid transporter B.  \n",
      "4599                                                                                                                              Z. Yang subunits within these regions is conceivable.  \n",
      "4599                                                                                                 One candidate is ASC- Baylor University Medical Center, Dallas, TX, United States.  \n",
      "4599                                                                                                                                                                              1 (SL  \n",
      "\n",
      "[84671 rows x 2 columns]\n"
     ]
    }
   ],
   "source": [
    "print(sentence_per_row[['Text','Sentence']])                            # have a look. The selected rows should have \n",
    "                                                                        # 'Text' the same, but 'Sentence' different "
   ]
  },
  {
   "cell_type": "code",
   "execution_count": 7,
   "id": "3795c76e",
   "metadata": {},
   "outputs": [
    {
     "name": "stdout",
     "output_type": "stream",
     "text": [
      "How many matching sentences: 9776\n"
     ]
    }
   ],
   "source": [
    "matched_sentences = sentence_per_row[sentence_per_row['Sentence'].str.contains('[Aa]utis|ASD|AS|[Aa]sperger')]\n",
    "                                                     # create a new data frame with only the sentences that contain keywords\n",
    "print(\"How many matching sentences: \" + str(len(matched_sentences)))            # check the length"
   ]
  },
  {
   "cell_type": "code",
   "execution_count": 8,
   "id": "ef8cdb17",
   "metadata": {},
   "outputs": [
    {
     "name": "stdout",
     "output_type": "stream",
     "text": [
      "Now how many matching sentences: 9775\n"
     ]
    }
   ],
   "source": [
    "matched_sentences = matched_sentences[~matched_sentences['Sentence'].isnull()]  # remove any rows with empty 'Sentence' column\n",
    "matched_sentences = matched_sentences.drop_duplicates()                         # drop any duplicates\n",
    "print(\"Now how many matching sentences: \" + str(len(matched_sentences)))        # check length of remaining data frame"
   ]
  },
  {
   "cell_type": "markdown",
   "id": "847a9ab3",
   "metadata": {},
   "source": [
    "In working with the matching sentences, it became clear there were several common errors, variations on how things were written and other annoying minor differences in the texts that made the manual checking more time-consuming than it needed to be.\n",
    "\n",
    "Further, the minor differences meant that the counting steps later on were counting \"child with ASD\" separately from \"child with autism\" when perhaps the more interesting distinction there is whether \"child with autism/ASD\" is more or less common than \"patient with autism/ASD\" or \"proband with autism/ASD\" or any other common person-nouns. \n",
    "\n",
    "Thus, this tidy_up_terminology function corrects several importing errors, spelling and style differences, and consolidates on terminology. "
   ]
  },
  {
   "cell_type": "code",
   "execution_count": 9,
   "id": "8e6a85b6",
   "metadata": {},
   "outputs": [],
   "source": [
    "def tidy_up_terminology (input):\n",
    "    space1 = re.sub(r'([A-Z]).(A-Z)', r'\\1. \\2', input)                 # removes multiple white spaces between words\n",
    "    space2 = re.sub(r'([a-z])(disorder|disability|spectrum)', r'\\1 \\2', space1) # adds a space in select run-ons\n",
    "    space3 = re.sub(r'([a-z])(disorder|spectrum)', r'\\1 \\2', space2)    # a second go at adding a space in select run-ons      \n",
    "    space4 = re.sub(r'(spec) (trum)', r'\\1\\2', space3)                  # removes a space between 'spec' and 'trum'\n",
    "    no_apost = re.sub(r'([Aa]sperger[\\S*?]s)', r'asperger', space4)     # lowercases, removes ' and S from '[Aa]sperger's' \n",
    "    lower1 = re.sub(r'Autis', r'autis', no_apost)                       # lowercases 'Autism' and 'Autistic'\n",
    "    lower2 = re.sub(r'[Aa]spergers|[Aa]sperger', r'asperger', lower1)   # lowercases/removes S from '[Aa]spergers' & '[Aa]sperger'\n",
    "    lower3 = re.sub(r'[Ss]pectrums|[Ss]pectra', r'spectrum', lower2)    # lowercases and removes various plurals for spectrum\n",
    "    lower4 = re.sub(r'[Ss]yndromes|[Ss]yndrome', r'syndrome', lower3)   # lowercases and removes plurals for syndrome\n",
    "    lower5 = re.sub(r'[Dd]isorders|Disorder', r'disorder', lower4)      # lowercases and removes plurals for disorder\n",
    "    lower6 = re.sub(r'[Dd]iseases|Disease', r'disease', lower5)         # lowercases and removes plurals for disease\n",
    "    plur = re.sub(r'ASDs', r'ASD', lower6)                              # removes plural from instances of more than one ASD\n",
    "    stan0 = re.sub(r'(autism|autistic|asperger) syndrome', r'autism spectrum', plur ) # turns select 'syndrome' to 'spectrum'\n",
    "    stan1 = re.sub(r'spectrum disease', r'spectrum disorder', stan0 )   # turns select 'disease' to 'disorder'\n",
    "    stan2 = re.sub(r'(autism|autistic|asperger) spectrum disorder \\(ASD\\)', r'ASD', stan1) # abbreviates various ASD definitions\n",
    "    stan3 = re.sub(r'(autism|autistic|asperger) spectrum disorder', r'ASD', stan2) # abbreviates various options to ASD\n",
    "    stan4 = re.sub(r'(autism|autistic|asperger) spectrum \\(AS\\)', r'ASD', stan3)  # standardises more options to ASD\n",
    "    stan5 = re.sub(r'(autism|autistic|asperger) spectrum', r'ASD', stan4)         # standardises more options to ASD\n",
    "    stan6 = re.sub(r'AS ', r'ASD ', stan5)                              # standardises 'AS ' to 'ASD ' - note trailing space\n",
    "    stan7 = re.sub(r'(autism|autistic|asperger) disorder', r'ASD', stan6) # abbreviates various ASD definitions\n",
    "    aut0 = re.sub(r'asperger autism', r'autism', stan7)                  # standardises 'asperger autism' to 'autism'\n",
    "    ID1 = re.sub(r'[Ii]ntellectual [Dd]isability \\(ID\\)', r'ID', aut0)\n",
    "    ID2 = re.sub(r'[Ii]ntellectual [Dd]isability', r'ID', ID1)\n",
    "\n",
    "    return(ID2)"
   ]
  },
  {
   "cell_type": "code",
   "execution_count": null,
   "id": "5fa88a1e",
   "metadata": {},
   "outputs": [],
   "source": []
  },
  {
   "cell_type": "code",
   "execution_count": 10,
   "id": "5c95f250",
   "metadata": {},
   "outputs": [
    {
     "data": {
      "text/plain": [
       "'ASD ID and autism ID, ASD            ASD ASD ASD            ASD ASD            ID ID           ASD ASD  ASD ASD ID, and autism '"
      ]
     },
     "execution_count": 10,
     "metadata": {},
     "output_type": "execute_result"
    }
   ],
   "source": [
    " # Optional cell code block to test or understand what the tidy_up_terminology function does\n",
    "    \n",
    "tidy_test = \"Autism spectrum intellectual disability and autism ID, ASD \\\n",
    "            Autisticspectrum autisticspectrumdisorder ASD \\\n",
    "            Asperger's syndrome asperger's syndrome \\\n",
    "            intellectual disability Intellectual Disability (ID)\\\n",
    "            aspergers syndrome autism spectrum  ASDs ASD ID, and autism \"\n",
    "\n",
    "tidy_up_terminology(tidy_test)"
   ]
  },
  {
   "cell_type": "code",
   "execution_count": 11,
   "id": "d1708235",
   "metadata": {},
   "outputs": [],
   "source": [
    "tidy_text = [tidy_up_terminology(sentence) for sentence in matched_sentences['Sentence'] ] \n",
    "                                             # create abstract list without extra spaces/run-ons \n",
    "                                             # this is to improve sentence tokenisation later \n",
    "matched_sentences['Sentence'] = tidy_text    # copy the no extra space/run-on abstract list back into df as a new column"
   ]
  },
  {
   "cell_type": "code",
   "execution_count": 12,
   "id": "d0fa94a6",
   "metadata": {},
   "outputs": [],
   "source": [
    "backup = matched_sentences                    # A backup is useful at this step because the next may not go the way you expect"
   ]
  },
  {
   "cell_type": "code",
   "execution_count": 13,
   "id": "08dd0c43",
   "metadata": {},
   "outputs": [],
   "source": [
    "matched_sentences = backup                    # If you need the backup, re-run this step. "
   ]
  },
  {
   "cell_type": "markdown",
   "id": "49f0de07",
   "metadata": {},
   "source": [
    "## Extraction\n",
    "\n",
    "Following the cleaning phase, we move on to the extraction phase. This has two parts, first for the person-first extraction and then for the identity-first extraction. \n",
    "\n",
    "The results of both extractions are saved in their own column to make it easy to read and also to allow for a single sentence-token to contain both kinds of patterns. \n",
    "\n",
    "### Person-first pattern"
   ]
  },
  {
   "cell_type": "code",
   "execution_count": 14,
   "id": "64d739a6",
   "metadata": {},
   "outputs": [],
   "source": [
    "pattern_1 = [{\"POS\": \"NOUN\"},                                        # define the person-first pattern - start with a noun\n",
    "             {'DEP':'amod', 'OP':\"?\"},                               # followed by an optional modifier\n",
    "             {\"TEXT\": {\"REGEX\": \"(with|by|from)\"}},                  # followed by some words that set up the p-f pattern\n",
    "             {'DEP':'amod', 'OP':\"?\"},                               # then space for up to three optional modifiers\n",
    "             {'DEP':'amod', 'OP':\"?\"},\n",
    "             {'DEP':'amod', 'OP':\"?\"},\n",
    "             {\"TEXT\": {\"REGEX\": \"(^[Aa]utis|^[Aa]sperger|^ASD|^AS$)\"}}] # finally, the keywords (original format, just in case)\n",
    "\n",
    "# Matcher class object \n",
    "matcher = Matcher(nlp.vocab)                                         # define a matcher class object\n",
    "matcher.add(\"matching_1\", [pattern_1])                               # add my three person-first patterns to it\n"
   ]
  },
  {
   "cell_type": "code",
   "execution_count": 15,
   "id": "87d072ec",
   "metadata": {},
   "outputs": [],
   "source": [
    "def find_pattern_match(input):                                               # define a function that applies the person-first\n",
    "    thingy = nlp(input)                                                      # matcher class object to strings\n",
    "    match = matcher(thingy)                                                  # and returns any matches to the pattern(s)\n",
    "    if match == []:\n",
    "        out_value = ''\n",
    "    else:\n",
    "        hold_multi_spans = []\n",
    "        for match_id, start, end in match:\n",
    "                string_id = nlp.vocab.strings[match_id]  # Get string representation\n",
    "                span = thingy[start:end]  # The matched span\n",
    "                hold_multi_spans.append(span)\n",
    "        out_value = hold_multi_spans\n",
    "    return out_value"
   ]
  },
  {
   "cell_type": "code",
   "execution_count": 16,
   "id": "2ffd7373",
   "metadata": {},
   "outputs": [
    {
     "data": {
      "text/plain": [
       "9775"
      ]
     },
     "execution_count": 16,
     "metadata": {},
     "output_type": "execute_result"
    }
   ],
   "source": [
    "matched_sentences['Person-first'] = matched_sentences.apply(lambda row: find_pattern_match(row.Sentence), axis = 1)\n",
    "                                                                        # apply the newly defined person-first matcher function\n",
    "                                                                        # and store the returned output in a new column\n",
    "len(matched_sentences)                                                  # double check length remains same"
   ]
  },
  {
   "cell_type": "markdown",
   "id": "936cc982",
   "metadata": {},
   "source": [
    "### Identity-first pattern"
   ]
  },
  {
   "cell_type": "code",
   "execution_count": 17,
   "id": "dc18f3c5",
   "metadata": {},
   "outputs": [],
   "source": [
    "pattern_a = [{'DEP':'amod', 'OP':\"?\"},                                 # same for identity-first patterns,\n",
    "             {'DEP':'amod', 'OP':\"?\"},                                 # starting with two optional modifiers\n",
    "             {\"TEXT\": {\"REGEX\": \"(^[Aa]utis|^[Aa]sperger|^ASD|^AS$)\"}}, # the keywords (original format, just in case)\n",
    "             {'DEP':'amod', 'OP':\"?\"},                                 # then upt to three more optional modifiers\n",
    "             {'DEP':'amod', 'OP':\"?\"},\n",
    "             {'DEP':'amod', 'OP':\"?\"},\n",
    "             {\"POS\": \"NOUN\"}]                                          # and then a noun\n",
    "\n",
    "# Matcher class object                                         \n",
    "matcher = Matcher(nlp.vocab) \n",
    "matcher.add(\"matching_2\", [pattern_a])            # this overwrites the matcher object to identity-first"
   ]
  },
  {
   "cell_type": "code",
   "execution_count": 18,
   "id": "7f00defd",
   "metadata": {},
   "outputs": [
    {
     "data": {
      "text/plain": [
       "9775"
      ]
     },
     "execution_count": 18,
     "metadata": {},
     "output_type": "execute_result"
    }
   ],
   "source": [
    "matched_sentences['Identity-first'] = matched_sentences.apply(lambda row: find_pattern_match(row.Sentence), axis = 1)\n",
    "                                                                        # apply the newly overwritten matcher function\n",
    "                                                                        # and store the returned output in a new column\n",
    "len(matched_sentences)                                                  # check the length - why not?"
   ]
  },
  {
   "cell_type": "markdown",
   "id": "406db79a",
   "metadata": {},
   "source": [
    "### Consolidation\n",
    "\n",
    "Following the cleaning and extraction phases, the last phase is consolidation. This phase further refines the data by removing all the rows that do not contain a match for one or both of the patterns. For example, there would be a row for \"The child was tested for autism.\" because it contains a keyword of interest. However, this sentence would be eliminated in the consolidation phase as the keyword does not fit into either the person-first or identity-first patterns. \n",
    "\n",
    "Further, this phase goes on to lemmatise the extracted patterns so that they can be counted more easily. This phase also lowercases all occurrences of \"Autistic\", \"Autism\", and \"Asperger's\" as well as removing the apostrophe, the 's' and any non-white characters that might intrude between the 'r' and the 's' of \"Asperger's\". This phase also removes any square brackets, quotes and extra commas introduced by the lemmatisation process. \n",
    "\n",
    "This phase ends by writing out the consolidated data frame to a .csv for manual inspection. I could not find a feasible way of identifying whether or not the nouns matched in the extraction phase are person-nouns or not. As the list is not a totally unreasonable length (in the hundreds) I found it workable to \n",
    "* open in excel, \n",
    "* save the file under another name (e.g. pattern_matches_reviewed), \n",
    "* order the entire data set alphabetically by 'Person-first', \n",
    "* scan through the ordered results check whether each result in the 'Person-first' column is about a person, \n",
    "* removing entire rows if the 'Person-first' match is not about a person (checking the 'Sentence' or 'Text' column if needed)\n",
    "* re-order the entire data set alphabetically by 'Identity-first', \n",
    "* scan through the ordered results check whether each result in the 'Identity-first' column is about a person, \n",
    "* removing entire rows if the 'Identity-first' match is not about a person, \n",
    "* save file again. \n",
    "\n",
    "For example, 'association with autism' matches the person-first pattern but is not about a person, so this row was removed. Many more rows were removed in the 'Identity-first' matches as things like 'autistic behaviours' and 'autism testing' were removed for not being about people. \n",
    "\n",
    "NOTE: There were several instances of \"ASD dataset\" which are not easy to determine if they are about people or not. Do they mean dataset composed from blood tests taken as part of ASD testing? If so, each row in the data set would be a blood test with the possibility that more than one test comes from the same person. Or do they mean a pool of case records, each of which represents a single person? The former would not be \"about people\" but the second would. I did not remove these rows as we cannot be certain. Leaving them out would also have been a valid option, as long as the choice was clear. \n",
    "\n",
    "Coincidentally, during this manual checking part of the consolidation phase I learned that, in the context of human genetics research \"proband\" is a person-noun. "
   ]
  },
  {
   "cell_type": "code",
   "execution_count": 19,
   "id": "b2d91446",
   "metadata": {},
   "outputs": [
    {
     "data": {
      "text/plain": [
       "1141"
      ]
     },
     "execution_count": 19,
     "metadata": {},
     "output_type": "execute_result"
    }
   ],
   "source": [
    "matched_patterns = matched_sentences[(matched_sentences['Person-first'] != '') | (matched_sentences['Identity-first'] != '')]\n",
    "                                                     # keep only rows w/ non-null 'Person-first' and/or 'Identity-first' columns\n",
    "len(matched_patterns)                                # check length"
   ]
  },
  {
   "cell_type": "code",
   "execution_count": 20,
   "id": "58536fd7",
   "metadata": {},
   "outputs": [
    {
     "data": {
      "text/plain": [
       "1145"
      ]
     },
     "execution_count": 20,
     "metadata": {},
     "output_type": "execute_result"
    }
   ],
   "source": [
    "matched_patterns = matched_patterns.explode('Person-first')    # explode 'Person-first' column to create 1 row per match\n",
    "                                                               # if there were two matches within the same sentence\n",
    "len(matched_patterns)                                          # check the length"
   ]
  },
  {
   "cell_type": "code",
   "execution_count": 21,
   "id": "80451426",
   "metadata": {},
   "outputs": [
    {
     "data": {
      "text/plain": [
       "1324"
      ]
     },
     "execution_count": 21,
     "metadata": {},
     "output_type": "execute_result"
    }
   ],
   "source": [
    "matched_patterns = matched_patterns.explode('Identity-first')  # Do the same for 'Identity-first' column\n",
    "len(matched_patterns)                                          # check the length"
   ]
  },
  {
   "cell_type": "code",
   "execution_count": 22,
   "id": "4ba5db63",
   "metadata": {},
   "outputs": [
    {
     "data": {
      "text/html": [
       "<div>\n",
       "<style scoped>\n",
       "    .dataframe tbody tr th:only-of-type {\n",
       "        vertical-align: middle;\n",
       "    }\n",
       "\n",
       "    .dataframe tbody tr th {\n",
       "        vertical-align: top;\n",
       "    }\n",
       "\n",
       "    .dataframe thead th {\n",
       "        text-align: right;\n",
       "    }\n",
       "</style>\n",
       "<table border=\"1\" class=\"dataframe\">\n",
       "  <thead>\n",
       "    <tr style=\"text-align: right;\">\n",
       "      <th></th>\n",
       "      <th>Unnamed: 0</th>\n",
       "      <th>Title</th>\n",
       "      <th>Session_Code</th>\n",
       "      <th>Author</th>\n",
       "      <th>Affiliations</th>\n",
       "      <th>Text</th>\n",
       "      <th>Year</th>\n",
       "      <th>Authors_and_Affiliations</th>\n",
       "      <th>Email</th>\n",
       "      <th>Sentence</th>\n",
       "      <th>Person-first</th>\n",
       "      <th>Identity-first</th>\n",
       "    </tr>\n",
       "  </thead>\n",
       "  <tbody>\n",
       "    <tr>\n",
       "      <th>15</th>\n",
       "      <td>150</td>\n",
       "      <td>Location of the first predisposing gene locus for Asperger syndrome on chromosome 1q21 22</td>\n",
       "      <td>C102.</td>\n",
       "      <td>NaN</td>\n",
       "      <td>NaN</td>\n",
       "      <td>autism was first described in 1944 by a Viennese physi cian Hans asperger who reported a group of boys with autism whose clinical features resembled autism with some modifications. Itis characteri...</td>\n",
       "      <td>2001.0</td>\n",
       "      <td>E. Jarvela1  T. Ylisaukko oja2  T. Nieminen3  E. Kempas1  M. Auranen1  L. Peltonen1 1National Public Health Institute  Helsinki  Finland  2National Public Health Insitute  Helsinki  Finland  3Uni...</td>\n",
       "      <td>irma.jarvela@hus.fi</td>\n",
       "      <td>autism was first described in 1944 by a Viennese physi cian Hans asperger who reported a group of boys with autism whose clinical features resembled autism with some modifications.</td>\n",
       "      <td>(boys, with, autism)</td>\n",
       "      <td></td>\n",
       "    </tr>\n",
       "    <tr>\n",
       "      <th>15</th>\n",
       "      <td>150</td>\n",
       "      <td>Location of the first predisposing gene locus for Asperger syndrome on chromosome 1q21 22</td>\n",
       "      <td>C102.</td>\n",
       "      <td>NaN</td>\n",
       "      <td>NaN</td>\n",
       "      <td>autism was first described in 1944 by a Viennese physi cian Hans asperger who reported a group of boys with autism whose clinical features resembled autism with some modifications. Itis characteri...</td>\n",
       "      <td>2001.0</td>\n",
       "      <td>E. Jarvela1  T. Ylisaukko oja2  T. Nieminen3  E. Kempas1  M. Auranen1  L. Peltonen1 1National Public Health Institute  Helsinki  Finland  2National Public Health Insitute  Helsinki  Finland  3Uni...</td>\n",
       "      <td>irma.jarvela@hus.fi</td>\n",
       "      <td>We report the analysis of13 candidate gene loci associated with autism and schizophrenia in 17Finnish ASD families with autosomal dominant mode of inheritance.</td>\n",
       "      <td></td>\n",
       "      <td>(ASD, families)</td>\n",
       "    </tr>\n",
       "    <tr>\n",
       "      <th>15</th>\n",
       "      <td>150</td>\n",
       "      <td>Location of the first predisposing gene locus for Asperger syndrome on chromosome 1q21 22</td>\n",
       "      <td>C102.</td>\n",
       "      <td>NaN</td>\n",
       "      <td>NaN</td>\n",
       "      <td>autism was first described in 1944 by a Viennese physi cian Hans asperger who reported a group of boys with autism whose clinical features resembled autism with some modifications. Itis characteri...</td>\n",
       "      <td>2001.0</td>\n",
       "      <td>E. Jarvela1  T. Ylisaukko oja2  T. Nieminen3  E. Kempas1  M. Auranen1  L. Peltonen1 1National Public Health Institute  Helsinki  Finland  2National Public Health Insitute  Helsinki  Finland  3Uni...</td>\n",
       "      <td>irma.jarvela@hus.fi</td>\n",
       "      <td>Linkageto the previously reported predisposing loci for autism could not be repli cated with Finnish ASD families.</td>\n",
       "      <td></td>\n",
       "      <td>(Finnish, ASD, families)</td>\n",
       "    </tr>\n",
       "    <tr>\n",
       "      <th>15</th>\n",
       "      <td>150</td>\n",
       "      <td>Location of the first predisposing gene locus for Asperger syndrome on chromosome 1q21 22</td>\n",
       "      <td>C102.</td>\n",
       "      <td>NaN</td>\n",
       "      <td>NaN</td>\n",
       "      <td>autism was first described in 1944 by a Viennese physi cian Hans asperger who reported a group of boys with autism whose clinical features resembled autism with some modifications. Itis characteri...</td>\n",
       "      <td>2001.0</td>\n",
       "      <td>E. Jarvela1  T. Ylisaukko oja2  T. Nieminen3  E. Kempas1  M. Auranen1  L. Peltonen1 1National Public Health Institute  Helsinki  Finland  2National Public Health Insitute  Helsinki  Finland  3Uni...</td>\n",
       "      <td>irma.jarvela@hus.fi</td>\n",
       "      <td>Linkageto the previously reported predisposing loci for autism could not be repli cated with Finnish ASD families.</td>\n",
       "      <td></td>\n",
       "      <td>(ASD, families)</td>\n",
       "    </tr>\n",
       "    <tr>\n",
       "      <th>28</th>\n",
       "      <td>400</td>\n",
       "      <td>Prader Willi and Angelman Syndromes in Chilean Patients. Clinical and Molecular Diagnosis.</td>\n",
       "      <td>P0295.</td>\n",
       "      <td>NaN</td>\n",
       "      <td>NaN</td>\n",
       "      <td>Prader Willi (PWS) and Angelman AS) syndrome are multigenic disordercharacterized by developmental and neurobehavioral abnormalities. Dif ferent underlying genetic defects cause loss of expression...</td>\n",
       "      <td>2001.0</td>\n",
       "      <td>Curotto   L. Santa Mar a  A. Alliende  F. Cort s INTA University of Chile  SANTIAGO  C</td>\n",
       "      <td>malliend@uec.inta.uchile.cl</td>\n",
       "      <td>Approximately 70% of PWSand ASD patients have a deletion in 15q11 q13 whereas uniparental disomy(UPD) accounts for 25% of PWS cases and 2 3% of AS.</td>\n",
       "      <td></td>\n",
       "      <td>(ASD, patients)</td>\n",
       "    </tr>\n",
       "    <tr>\n",
       "      <th>...</th>\n",
       "      <td>...</td>\n",
       "      <td>...</td>\n",
       "      <td>...</td>\n",
       "      <td>...</td>\n",
       "      <td>...</td>\n",
       "      <td>...</td>\n",
       "      <td>...</td>\n",
       "      <td>...</td>\n",
       "      <td>...</td>\n",
       "      <td>...</td>\n",
       "      <td>...</td>\n",
       "      <td>...</td>\n",
       "    </tr>\n",
       "    <tr>\n",
       "      <th>4554</th>\n",
       "      <td>675</td>\n",
       "      <td>NaN</td>\n",
       "      <td>NaN</td>\n",
       "      <td>NaN</td>\n",
       "      <td>NaN</td>\n",
       "      <td>P0280Two cases of Cri Du Chat syndrome in the same family Spatial association of oppositely imprinted regions in late S-phase without a familial translocation or inversion. but not at other stages...</td>\n",
       "      <td>2004.0</td>\n",
       "      <td>NaN</td>\n",
       "      <td>NaN</td>\n",
       "      <td>and the PWS/ASD region on 15q11-13.</td>\n",
       "      <td></td>\n",
       "      <td>(ASD, region)</td>\n",
       "    </tr>\n",
       "    <tr>\n",
       "      <th>4554</th>\n",
       "      <td>675</td>\n",
       "      <td>NaN</td>\n",
       "      <td>NaN</td>\n",
       "      <td>NaN</td>\n",
       "      <td>NaN</td>\n",
       "      <td>P0280Two cases of Cri Du Chat syndrome in the same family Spatial association of oppositely imprinted regions in late S-phase without a familial translocation or inversion. but not at other stages...</td>\n",
       "      <td>2004.0</td>\n",
       "      <td>NaN</td>\n",
       "      <td>NaN</td>\n",
       "      <td>In lymphoblastoid cells of Here we present two cases with cri du chat syndrome who are a PWS patient with a complete deletion of the PWS/ASD region in second cousins.</td>\n",
       "      <td></td>\n",
       "      <td>(ASD, region)</td>\n",
       "    </tr>\n",
       "    <tr>\n",
       "      <th>4554</th>\n",
       "      <td>675</td>\n",
       "      <td>NaN</td>\n",
       "      <td>NaN</td>\n",
       "      <td>NaN</td>\n",
       "      <td>NaN</td>\n",
       "      <td>P0280Two cases of Cri Du Chat syndrome in the same family Spatial association of oppositely imprinted regions in late S-phase without a familial translocation or inversion. but not at other stages...</td>\n",
       "      <td>2004.0</td>\n",
       "      <td>NaN</td>\n",
       "      <td>NaN</td>\n",
       "      <td>The chromosome analysis with GTG the PWS/ASD locus but no ribosomal genes, the ARD between the two banding showed partial 5p deletion distal to 5p14.</td>\n",
       "      <td></td>\n",
       "      <td>(ASD, locus)</td>\n",
       "    </tr>\n",
       "    <tr>\n",
       "      <th>4582</th>\n",
       "      <td>1710</td>\n",
       "      <td>NaN</td>\n",
       "      <td>NaN</td>\n",
       "      <td>NaN</td>\n",
       "      <td>NaN</td>\n",
       "      <td>P0697How to prepare stable reference materials for genetic establish that treatment of cultured human dermal Übroblasts with testing several recombinant Übrillin-1 fragments induces up-regulation ...</td>\n",
       "      <td>2004.0</td>\n",
       "      <td>NaN</td>\n",
       "      <td>NaN</td>\n",
       "      <td>stable transfected human SK-N-ASD neuroblastoma cell lines A number of genetic CRMs are presently under development by a expressing ataxin-3 with a variable number of polyglutamine repeats: Europe...</td>\n",
       "      <td></td>\n",
       "      <td>(ASD, neuroblastoma)</td>\n",
       "    </tr>\n",
       "    <tr>\n",
       "      <th>4597</th>\n",
       "      <td>2157</td>\n",
       "      <td>NaN</td>\n",
       "      <td>NaN</td>\n",
       "      <td>NaN</td>\n",
       "      <td>NaN</td>\n",
       "      <td>P0835Presence of elevated lactate, lactate/pyruvate ratio and Analysis of the patientsÓclinical and molecular data demonstrated that acylcarnitine proÜle in patients with autism. all Üve patients ...</td>\n",
       "      <td>2004.0</td>\n",
       "      <td>NaN</td>\n",
       "      <td>NaN</td>\n",
       "      <td>P0835Presence of elevated lactate, lactate/pyruvate ratio and Analysis of the patientsÓclinical and molecular data demonstrated that acylcarnitine proÜle in patients with autism.</td>\n",
       "      <td>(patients, with, autism)</td>\n",
       "      <td></td>\n",
       "    </tr>\n",
       "  </tbody>\n",
       "</table>\n",
       "<p>1324 rows × 12 columns</p>\n",
       "</div>"
      ],
      "text/plain": [
       "      Unnamed: 0  \\\n",
       "15           150   \n",
       "15           150   \n",
       "15           150   \n",
       "15           150   \n",
       "28           400   \n",
       "...          ...   \n",
       "4554         675   \n",
       "4554         675   \n",
       "4554         675   \n",
       "4582        1710   \n",
       "4597        2157   \n",
       "\n",
       "                                                                                           Title  \\\n",
       "15    Location of the first predisposing gene locus for Asperger syndrome on chromosome 1q21 22    \n",
       "15    Location of the first predisposing gene locus for Asperger syndrome on chromosome 1q21 22    \n",
       "15    Location of the first predisposing gene locus for Asperger syndrome on chromosome 1q21 22    \n",
       "15    Location of the first predisposing gene locus for Asperger syndrome on chromosome 1q21 22    \n",
       "28    Prader Willi and Angelman Syndromes in Chilean Patients. Clinical and Molecular Diagnosis.   \n",
       "...                                                                                          ...   \n",
       "4554                                                                                         NaN   \n",
       "4554                                                                                         NaN   \n",
       "4554                                                                                         NaN   \n",
       "4582                                                                                         NaN   \n",
       "4597                                                                                         NaN   \n",
       "\n",
       "     Session_Code Author Affiliations  \\\n",
       "15          C102.    NaN          NaN   \n",
       "15          C102.    NaN          NaN   \n",
       "15          C102.    NaN          NaN   \n",
       "15          C102.    NaN          NaN   \n",
       "28         P0295.    NaN          NaN   \n",
       "...           ...    ...          ...   \n",
       "4554          NaN    NaN          NaN   \n",
       "4554          NaN    NaN          NaN   \n",
       "4554          NaN    NaN          NaN   \n",
       "4582          NaN    NaN          NaN   \n",
       "4597          NaN    NaN          NaN   \n",
       "\n",
       "                                                                                                                                                                                                         Text  \\\n",
       "15    autism was first described in 1944 by a Viennese physi cian Hans asperger who reported a group of boys with autism whose clinical features resembled autism with some modifications. Itis characteri...   \n",
       "15    autism was first described in 1944 by a Viennese physi cian Hans asperger who reported a group of boys with autism whose clinical features resembled autism with some modifications. Itis characteri...   \n",
       "15    autism was first described in 1944 by a Viennese physi cian Hans asperger who reported a group of boys with autism whose clinical features resembled autism with some modifications. Itis characteri...   \n",
       "15    autism was first described in 1944 by a Viennese physi cian Hans asperger who reported a group of boys with autism whose clinical features resembled autism with some modifications. Itis characteri...   \n",
       "28    Prader Willi (PWS) and Angelman AS) syndrome are multigenic disordercharacterized by developmental and neurobehavioral abnormalities. Dif ferent underlying genetic defects cause loss of expression...   \n",
       "...                                                                                                                                                                                                       ...   \n",
       "4554  P0280Two cases of Cri Du Chat syndrome in the same family Spatial association of oppositely imprinted regions in late S-phase without a familial translocation or inversion. but not at other stages...   \n",
       "4554  P0280Two cases of Cri Du Chat syndrome in the same family Spatial association of oppositely imprinted regions in late S-phase without a familial translocation or inversion. but not at other stages...   \n",
       "4554  P0280Two cases of Cri Du Chat syndrome in the same family Spatial association of oppositely imprinted regions in late S-phase without a familial translocation or inversion. but not at other stages...   \n",
       "4582  P0697How to prepare stable reference materials for genetic establish that treatment of cultured human dermal Übroblasts with testing several recombinant Übrillin-1 fragments induces up-regulation ...   \n",
       "4597  P0835Presence of elevated lactate, lactate/pyruvate ratio and Analysis of the patientsÓclinical and molecular data demonstrated that acylcarnitine proÜle in patients with autism. all Üve patients ...   \n",
       "\n",
       "        Year  \\\n",
       "15    2001.0   \n",
       "15    2001.0   \n",
       "15    2001.0   \n",
       "15    2001.0   \n",
       "28    2001.0   \n",
       "...      ...   \n",
       "4554  2004.0   \n",
       "4554  2004.0   \n",
       "4554  2004.0   \n",
       "4582  2004.0   \n",
       "4597  2004.0   \n",
       "\n",
       "                                                                                                                                                                                     Authors_and_Affiliations  \\\n",
       "15     E. Jarvela1  T. Ylisaukko oja2  T. Nieminen3  E. Kempas1  M. Auranen1  L. Peltonen1 1National Public Health Institute  Helsinki  Finland  2National Public Health Insitute  Helsinki  Finland  3Uni...   \n",
       "15     E. Jarvela1  T. Ylisaukko oja2  T. Nieminen3  E. Kempas1  M. Auranen1  L. Peltonen1 1National Public Health Institute  Helsinki  Finland  2National Public Health Insitute  Helsinki  Finland  3Uni...   \n",
       "15     E. Jarvela1  T. Ylisaukko oja2  T. Nieminen3  E. Kempas1  M. Auranen1  L. Peltonen1 1National Public Health Institute  Helsinki  Finland  2National Public Health Insitute  Helsinki  Finland  3Uni...   \n",
       "15     E. Jarvela1  T. Ylisaukko oja2  T. Nieminen3  E. Kempas1  M. Auranen1  L. Peltonen1 1National Public Health Institute  Helsinki  Finland  2National Public Health Insitute  Helsinki  Finland  3Uni...   \n",
       "28                                                                                                                     Curotto   L. Santa Mar a  A. Alliende  F. Cort s INTA University of Chile  SANTIAGO  C   \n",
       "...                                                                                                                                                                                                       ...   \n",
       "4554                                                                                                                                                                                                      NaN   \n",
       "4554                                                                                                                                                                                                      NaN   \n",
       "4554                                                                                                                                                                                                      NaN   \n",
       "4582                                                                                                                                                                                                      NaN   \n",
       "4597                                                                                                                                                                                                      NaN   \n",
       "\n",
       "                            Email  \\\n",
       "15            irma.jarvela@hus.fi   \n",
       "15            irma.jarvela@hus.fi   \n",
       "15            irma.jarvela@hus.fi   \n",
       "15            irma.jarvela@hus.fi   \n",
       "28    malliend@uec.inta.uchile.cl   \n",
       "...                           ...   \n",
       "4554                          NaN   \n",
       "4554                          NaN   \n",
       "4554                          NaN   \n",
       "4582                          NaN   \n",
       "4597                          NaN   \n",
       "\n",
       "                                                                                                                                                                                                     Sentence  \\\n",
       "15                       autism was first described in 1944 by a Viennese physi cian Hans asperger who reported a group of boys with autism whose clinical features resembled autism with some modifications.   \n",
       "15                                            We report the analysis of13 candidate gene loci associated with autism and schizophrenia in 17Finnish ASD families with autosomal dominant mode of inheritance.   \n",
       "15                                                                                         Linkageto the previously reported predisposing loci for autism could not be repli cated with Finnish ASD families.   \n",
       "15                                                                                         Linkageto the previously reported predisposing loci for autism could not be repli cated with Finnish ASD families.   \n",
       "28                                                        Approximately 70% of PWSand ASD patients have a deletion in 15q11 q13 whereas uniparental disomy(UPD) accounts for 25% of PWS cases and 2 3% of AS.   \n",
       "...                                                                                                                                                                                                       ...   \n",
       "4554                                                                                                                                                                      and the PWS/ASD region on 15q11-13.   \n",
       "4554                                   In lymphoblastoid cells of Here we present two cases with cri du chat syndrome who are a PWS patient with a complete deletion of the PWS/ASD region in second cousins.   \n",
       "4554                                                    The chromosome analysis with GTG the PWS/ASD locus but no ribosomal genes, the ARD between the two banding showed partial 5p deletion distal to 5p14.   \n",
       "4582  stable transfected human SK-N-ASD neuroblastoma cell lines A number of genetic CRMs are presently under development by a expressing ataxin-3 with a variable number of polyglutamine repeats: Europe...   \n",
       "4597                       P0835Presence of elevated lactate, lactate/pyruvate ratio and Analysis of the patientsÓclinical and molecular data demonstrated that acylcarnitine proÜle in patients with autism.   \n",
       "\n",
       "                  Person-first            Identity-first  \n",
       "15        (boys, with, autism)                            \n",
       "15                                       (ASD, families)  \n",
       "15                              (Finnish, ASD, families)  \n",
       "15                                       (ASD, families)  \n",
       "28                                       (ASD, patients)  \n",
       "...                        ...                       ...  \n",
       "4554                                       (ASD, region)  \n",
       "4554                                       (ASD, region)  \n",
       "4554                                        (ASD, locus)  \n",
       "4582                                (ASD, neuroblastoma)  \n",
       "4597  (patients, with, autism)                            \n",
       "\n",
       "[1324 rows x 12 columns]"
      ]
     },
     "execution_count": 22,
     "metadata": {},
     "output_type": "execute_result"
    }
   ],
   "source": [
    "matched_patterns                                               # have a look at them"
   ]
  },
  {
   "cell_type": "code",
   "execution_count": 23,
   "id": "d9e44521",
   "metadata": {},
   "outputs": [],
   "source": [
    "Lem = WordNetLemmatizer()                         # Define a short way to call the WordNetLemmatizer\n",
    "\n",
    "def consolidate_matched_patterns (input):         # \n",
    "    final_lemma_list = []\n",
    "    temp_lemma_list = []\n",
    "    for phrase in input:                       # start for loop looking at each pattern in the person-first pattern column\n",
    "        phrase_as_string = str(phrase)                               # hold the current pattern\n",
    "        words_in_phrase = phrase_as_string.split() # split the current pattern into words\n",
    "        for word in words_in_phrase :                            # for each word in the split up words\n",
    "            lemma = Lem.lemmatize(word)             # turn that word into a lemma\n",
    "            temp_lemma_list.append(lemma)                # append that lemma to a temporary list\n",
    "        string_lem = str(temp_lemma_list)              # turn that temporary list into a string\n",
    "        stripped_lem = re.sub(r\"\\[|\\]|\\'|\\,\",'', string_lem)  # remove  square brackets, commas and '' marks from the string\n",
    "        final_lemma_list.append(stripped_lem)        # append the string version of the list to the output list\n",
    "        temp_lemma_list = []                               # ensure the temp variable is empty\n",
    "\n",
    "    return(final_lemma_list)\n"
   ]
  },
  {
   "cell_type": "code",
   "execution_count": 24,
   "id": "90b670fe",
   "metadata": {},
   "outputs": [],
   "source": [
    "person_lemma_list = consolidate_matched_patterns(matched_patterns['Person-first'])\n",
    "identity_lemma_list = consolidate_matched_patterns(matched_patterns['Identity-first'])"
   ]
  },
  {
   "cell_type": "code",
   "execution_count": 25,
   "id": "ad90adb0",
   "metadata": {},
   "outputs": [
    {
     "data": {
      "text/html": [
       "<div>\n",
       "<style scoped>\n",
       "    .dataframe tbody tr th:only-of-type {\n",
       "        vertical-align: middle;\n",
       "    }\n",
       "\n",
       "    .dataframe tbody tr th {\n",
       "        vertical-align: top;\n",
       "    }\n",
       "\n",
       "    .dataframe thead th {\n",
       "        text-align: right;\n",
       "    }\n",
       "</style>\n",
       "<table border=\"1\" class=\"dataframe\">\n",
       "  <thead>\n",
       "    <tr style=\"text-align: right;\">\n",
       "      <th></th>\n",
       "      <th>Unnamed: 0</th>\n",
       "      <th>Title</th>\n",
       "      <th>Session_Code</th>\n",
       "      <th>Author</th>\n",
       "      <th>Affiliations</th>\n",
       "      <th>Text</th>\n",
       "      <th>Year</th>\n",
       "      <th>Authors_and_Affiliations</th>\n",
       "      <th>Email</th>\n",
       "      <th>Sentence</th>\n",
       "      <th>Person-first</th>\n",
       "      <th>Identity-first</th>\n",
       "    </tr>\n",
       "  </thead>\n",
       "  <tbody>\n",
       "    <tr>\n",
       "      <th>15</th>\n",
       "      <td>150</td>\n",
       "      <td>Location of the first predisposing gene locus for Asperger syndrome on chromosome 1q21 22</td>\n",
       "      <td>C102.</td>\n",
       "      <td>NaN</td>\n",
       "      <td>NaN</td>\n",
       "      <td>autism was first described in 1944 by a Viennese physi cian Hans asperger who reported a group of boys with autism whose clinical features resembled autism with some modifications. Itis characteri...</td>\n",
       "      <td>2001.0</td>\n",
       "      <td>E. Jarvela1  T. Ylisaukko oja2  T. Nieminen3  E. Kempas1  M. Auranen1  L. Peltonen1 1National Public Health Institute  Helsinki  Finland  2National Public Health Insitute  Helsinki  Finland  3Uni...</td>\n",
       "      <td>irma.jarvela@hus.fi</td>\n",
       "      <td>autism was first described in 1944 by a Viennese physi cian Hans asperger who reported a group of boys with autism whose clinical features resembled autism with some modifications.</td>\n",
       "      <td>boy with autism</td>\n",
       "      <td></td>\n",
       "    </tr>\n",
       "    <tr>\n",
       "      <th>15</th>\n",
       "      <td>150</td>\n",
       "      <td>Location of the first predisposing gene locus for Asperger syndrome on chromosome 1q21 22</td>\n",
       "      <td>C102.</td>\n",
       "      <td>NaN</td>\n",
       "      <td>NaN</td>\n",
       "      <td>autism was first described in 1944 by a Viennese physi cian Hans asperger who reported a group of boys with autism whose clinical features resembled autism with some modifications. Itis characteri...</td>\n",
       "      <td>2001.0</td>\n",
       "      <td>E. Jarvela1  T. Ylisaukko oja2  T. Nieminen3  E. Kempas1  M. Auranen1  L. Peltonen1 1National Public Health Institute  Helsinki  Finland  2National Public Health Insitute  Helsinki  Finland  3Uni...</td>\n",
       "      <td>irma.jarvela@hus.fi</td>\n",
       "      <td>We report the analysis of13 candidate gene loci associated with autism and schizophrenia in 17Finnish ASD families with autosomal dominant mode of inheritance.</td>\n",
       "      <td></td>\n",
       "      <td>ASD family</td>\n",
       "    </tr>\n",
       "    <tr>\n",
       "      <th>15</th>\n",
       "      <td>150</td>\n",
       "      <td>Location of the first predisposing gene locus for Asperger syndrome on chromosome 1q21 22</td>\n",
       "      <td>C102.</td>\n",
       "      <td>NaN</td>\n",
       "      <td>NaN</td>\n",
       "      <td>autism was first described in 1944 by a Viennese physi cian Hans asperger who reported a group of boys with autism whose clinical features resembled autism with some modifications. Itis characteri...</td>\n",
       "      <td>2001.0</td>\n",
       "      <td>E. Jarvela1  T. Ylisaukko oja2  T. Nieminen3  E. Kempas1  M. Auranen1  L. Peltonen1 1National Public Health Institute  Helsinki  Finland  2National Public Health Insitute  Helsinki  Finland  3Uni...</td>\n",
       "      <td>irma.jarvela@hus.fi</td>\n",
       "      <td>Linkageto the previously reported predisposing loci for autism could not be repli cated with Finnish ASD families.</td>\n",
       "      <td></td>\n",
       "      <td>Finnish ASD family</td>\n",
       "    </tr>\n",
       "    <tr>\n",
       "      <th>15</th>\n",
       "      <td>150</td>\n",
       "      <td>Location of the first predisposing gene locus for Asperger syndrome on chromosome 1q21 22</td>\n",
       "      <td>C102.</td>\n",
       "      <td>NaN</td>\n",
       "      <td>NaN</td>\n",
       "      <td>autism was first described in 1944 by a Viennese physi cian Hans asperger who reported a group of boys with autism whose clinical features resembled autism with some modifications. Itis characteri...</td>\n",
       "      <td>2001.0</td>\n",
       "      <td>E. Jarvela1  T. Ylisaukko oja2  T. Nieminen3  E. Kempas1  M. Auranen1  L. Peltonen1 1National Public Health Institute  Helsinki  Finland  2National Public Health Insitute  Helsinki  Finland  3Uni...</td>\n",
       "      <td>irma.jarvela@hus.fi</td>\n",
       "      <td>Linkageto the previously reported predisposing loci for autism could not be repli cated with Finnish ASD families.</td>\n",
       "      <td></td>\n",
       "      <td>ASD family</td>\n",
       "    </tr>\n",
       "    <tr>\n",
       "      <th>28</th>\n",
       "      <td>400</td>\n",
       "      <td>Prader Willi and Angelman Syndromes in Chilean Patients. Clinical and Molecular Diagnosis.</td>\n",
       "      <td>P0295.</td>\n",
       "      <td>NaN</td>\n",
       "      <td>NaN</td>\n",
       "      <td>Prader Willi (PWS) and Angelman AS) syndrome are multigenic disordercharacterized by developmental and neurobehavioral abnormalities. Dif ferent underlying genetic defects cause loss of expression...</td>\n",
       "      <td>2001.0</td>\n",
       "      <td>Curotto   L. Santa Mar a  A. Alliende  F. Cort s INTA University of Chile  SANTIAGO  C</td>\n",
       "      <td>malliend@uec.inta.uchile.cl</td>\n",
       "      <td>Approximately 70% of PWSand ASD patients have a deletion in 15q11 q13 whereas uniparental disomy(UPD) accounts for 25% of PWS cases and 2 3% of AS.</td>\n",
       "      <td></td>\n",
       "      <td>ASD patient</td>\n",
       "    </tr>\n",
       "    <tr>\n",
       "      <th>...</th>\n",
       "      <td>...</td>\n",
       "      <td>...</td>\n",
       "      <td>...</td>\n",
       "      <td>...</td>\n",
       "      <td>...</td>\n",
       "      <td>...</td>\n",
       "      <td>...</td>\n",
       "      <td>...</td>\n",
       "      <td>...</td>\n",
       "      <td>...</td>\n",
       "      <td>...</td>\n",
       "      <td>...</td>\n",
       "    </tr>\n",
       "    <tr>\n",
       "      <th>4554</th>\n",
       "      <td>675</td>\n",
       "      <td>NaN</td>\n",
       "      <td>NaN</td>\n",
       "      <td>NaN</td>\n",
       "      <td>NaN</td>\n",
       "      <td>P0280Two cases of Cri Du Chat syndrome in the same family Spatial association of oppositely imprinted regions in late S-phase without a familial translocation or inversion. but not at other stages...</td>\n",
       "      <td>2004.0</td>\n",
       "      <td>NaN</td>\n",
       "      <td>NaN</td>\n",
       "      <td>and the PWS/ASD region on 15q11-13.</td>\n",
       "      <td></td>\n",
       "      <td>ASD region</td>\n",
       "    </tr>\n",
       "    <tr>\n",
       "      <th>4554</th>\n",
       "      <td>675</td>\n",
       "      <td>NaN</td>\n",
       "      <td>NaN</td>\n",
       "      <td>NaN</td>\n",
       "      <td>NaN</td>\n",
       "      <td>P0280Two cases of Cri Du Chat syndrome in the same family Spatial association of oppositely imprinted regions in late S-phase without a familial translocation or inversion. but not at other stages...</td>\n",
       "      <td>2004.0</td>\n",
       "      <td>NaN</td>\n",
       "      <td>NaN</td>\n",
       "      <td>In lymphoblastoid cells of Here we present two cases with cri du chat syndrome who are a PWS patient with a complete deletion of the PWS/ASD region in second cousins.</td>\n",
       "      <td></td>\n",
       "      <td>ASD region</td>\n",
       "    </tr>\n",
       "    <tr>\n",
       "      <th>4554</th>\n",
       "      <td>675</td>\n",
       "      <td>NaN</td>\n",
       "      <td>NaN</td>\n",
       "      <td>NaN</td>\n",
       "      <td>NaN</td>\n",
       "      <td>P0280Two cases of Cri Du Chat syndrome in the same family Spatial association of oppositely imprinted regions in late S-phase without a familial translocation or inversion. but not at other stages...</td>\n",
       "      <td>2004.0</td>\n",
       "      <td>NaN</td>\n",
       "      <td>NaN</td>\n",
       "      <td>The chromosome analysis with GTG the PWS/ASD locus but no ribosomal genes, the ARD between the two banding showed partial 5p deletion distal to 5p14.</td>\n",
       "      <td></td>\n",
       "      <td>ASD locus</td>\n",
       "    </tr>\n",
       "    <tr>\n",
       "      <th>4582</th>\n",
       "      <td>1710</td>\n",
       "      <td>NaN</td>\n",
       "      <td>NaN</td>\n",
       "      <td>NaN</td>\n",
       "      <td>NaN</td>\n",
       "      <td>P0697How to prepare stable reference materials for genetic establish that treatment of cultured human dermal Übroblasts with testing several recombinant Übrillin-1 fragments induces up-regulation ...</td>\n",
       "      <td>2004.0</td>\n",
       "      <td>NaN</td>\n",
       "      <td>NaN</td>\n",
       "      <td>stable transfected human SK-N-ASD neuroblastoma cell lines A number of genetic CRMs are presently under development by a expressing ataxin-3 with a variable number of polyglutamine repeats: Europe...</td>\n",
       "      <td></td>\n",
       "      <td>ASD neuroblastoma</td>\n",
       "    </tr>\n",
       "    <tr>\n",
       "      <th>4597</th>\n",
       "      <td>2157</td>\n",
       "      <td>NaN</td>\n",
       "      <td>NaN</td>\n",
       "      <td>NaN</td>\n",
       "      <td>NaN</td>\n",
       "      <td>P0835Presence of elevated lactate, lactate/pyruvate ratio and Analysis of the patientsÓclinical and molecular data demonstrated that acylcarnitine proÜle in patients with autism. all Üve patients ...</td>\n",
       "      <td>2004.0</td>\n",
       "      <td>NaN</td>\n",
       "      <td>NaN</td>\n",
       "      <td>P0835Presence of elevated lactate, lactate/pyruvate ratio and Analysis of the patientsÓclinical and molecular data demonstrated that acylcarnitine proÜle in patients with autism.</td>\n",
       "      <td>patient with autism</td>\n",
       "      <td></td>\n",
       "    </tr>\n",
       "  </tbody>\n",
       "</table>\n",
       "<p>1313 rows × 12 columns</p>\n",
       "</div>"
      ],
      "text/plain": [
       "      Unnamed: 0  \\\n",
       "15           150   \n",
       "15           150   \n",
       "15           150   \n",
       "15           150   \n",
       "28           400   \n",
       "...          ...   \n",
       "4554         675   \n",
       "4554         675   \n",
       "4554         675   \n",
       "4582        1710   \n",
       "4597        2157   \n",
       "\n",
       "                                                                                           Title  \\\n",
       "15    Location of the first predisposing gene locus for Asperger syndrome on chromosome 1q21 22    \n",
       "15    Location of the first predisposing gene locus for Asperger syndrome on chromosome 1q21 22    \n",
       "15    Location of the first predisposing gene locus for Asperger syndrome on chromosome 1q21 22    \n",
       "15    Location of the first predisposing gene locus for Asperger syndrome on chromosome 1q21 22    \n",
       "28    Prader Willi and Angelman Syndromes in Chilean Patients. Clinical and Molecular Diagnosis.   \n",
       "...                                                                                          ...   \n",
       "4554                                                                                         NaN   \n",
       "4554                                                                                         NaN   \n",
       "4554                                                                                         NaN   \n",
       "4582                                                                                         NaN   \n",
       "4597                                                                                         NaN   \n",
       "\n",
       "     Session_Code Author Affiliations  \\\n",
       "15          C102.    NaN          NaN   \n",
       "15          C102.    NaN          NaN   \n",
       "15          C102.    NaN          NaN   \n",
       "15          C102.    NaN          NaN   \n",
       "28         P0295.    NaN          NaN   \n",
       "...           ...    ...          ...   \n",
       "4554          NaN    NaN          NaN   \n",
       "4554          NaN    NaN          NaN   \n",
       "4554          NaN    NaN          NaN   \n",
       "4582          NaN    NaN          NaN   \n",
       "4597          NaN    NaN          NaN   \n",
       "\n",
       "                                                                                                                                                                                                         Text  \\\n",
       "15    autism was first described in 1944 by a Viennese physi cian Hans asperger who reported a group of boys with autism whose clinical features resembled autism with some modifications. Itis characteri...   \n",
       "15    autism was first described in 1944 by a Viennese physi cian Hans asperger who reported a group of boys with autism whose clinical features resembled autism with some modifications. Itis characteri...   \n",
       "15    autism was first described in 1944 by a Viennese physi cian Hans asperger who reported a group of boys with autism whose clinical features resembled autism with some modifications. Itis characteri...   \n",
       "15    autism was first described in 1944 by a Viennese physi cian Hans asperger who reported a group of boys with autism whose clinical features resembled autism with some modifications. Itis characteri...   \n",
       "28    Prader Willi (PWS) and Angelman AS) syndrome are multigenic disordercharacterized by developmental and neurobehavioral abnormalities. Dif ferent underlying genetic defects cause loss of expression...   \n",
       "...                                                                                                                                                                                                       ...   \n",
       "4554  P0280Two cases of Cri Du Chat syndrome in the same family Spatial association of oppositely imprinted regions in late S-phase without a familial translocation or inversion. but not at other stages...   \n",
       "4554  P0280Two cases of Cri Du Chat syndrome in the same family Spatial association of oppositely imprinted regions in late S-phase without a familial translocation or inversion. but not at other stages...   \n",
       "4554  P0280Two cases of Cri Du Chat syndrome in the same family Spatial association of oppositely imprinted regions in late S-phase without a familial translocation or inversion. but not at other stages...   \n",
       "4582  P0697How to prepare stable reference materials for genetic establish that treatment of cultured human dermal Übroblasts with testing several recombinant Übrillin-1 fragments induces up-regulation ...   \n",
       "4597  P0835Presence of elevated lactate, lactate/pyruvate ratio and Analysis of the patientsÓclinical and molecular data demonstrated that acylcarnitine proÜle in patients with autism. all Üve patients ...   \n",
       "\n",
       "        Year  \\\n",
       "15    2001.0   \n",
       "15    2001.0   \n",
       "15    2001.0   \n",
       "15    2001.0   \n",
       "28    2001.0   \n",
       "...      ...   \n",
       "4554  2004.0   \n",
       "4554  2004.0   \n",
       "4554  2004.0   \n",
       "4582  2004.0   \n",
       "4597  2004.0   \n",
       "\n",
       "                                                                                                                                                                                     Authors_and_Affiliations  \\\n",
       "15     E. Jarvela1  T. Ylisaukko oja2  T. Nieminen3  E. Kempas1  M. Auranen1  L. Peltonen1 1National Public Health Institute  Helsinki  Finland  2National Public Health Insitute  Helsinki  Finland  3Uni...   \n",
       "15     E. Jarvela1  T. Ylisaukko oja2  T. Nieminen3  E. Kempas1  M. Auranen1  L. Peltonen1 1National Public Health Institute  Helsinki  Finland  2National Public Health Insitute  Helsinki  Finland  3Uni...   \n",
       "15     E. Jarvela1  T. Ylisaukko oja2  T. Nieminen3  E. Kempas1  M. Auranen1  L. Peltonen1 1National Public Health Institute  Helsinki  Finland  2National Public Health Insitute  Helsinki  Finland  3Uni...   \n",
       "15     E. Jarvela1  T. Ylisaukko oja2  T. Nieminen3  E. Kempas1  M. Auranen1  L. Peltonen1 1National Public Health Institute  Helsinki  Finland  2National Public Health Insitute  Helsinki  Finland  3Uni...   \n",
       "28                                                                                                                     Curotto   L. Santa Mar a  A. Alliende  F. Cort s INTA University of Chile  SANTIAGO  C   \n",
       "...                                                                                                                                                                                                       ...   \n",
       "4554                                                                                                                                                                                                      NaN   \n",
       "4554                                                                                                                                                                                                      NaN   \n",
       "4554                                                                                                                                                                                                      NaN   \n",
       "4582                                                                                                                                                                                                      NaN   \n",
       "4597                                                                                                                                                                                                      NaN   \n",
       "\n",
       "                            Email  \\\n",
       "15            irma.jarvela@hus.fi   \n",
       "15            irma.jarvela@hus.fi   \n",
       "15            irma.jarvela@hus.fi   \n",
       "15            irma.jarvela@hus.fi   \n",
       "28    malliend@uec.inta.uchile.cl   \n",
       "...                           ...   \n",
       "4554                          NaN   \n",
       "4554                          NaN   \n",
       "4554                          NaN   \n",
       "4582                          NaN   \n",
       "4597                          NaN   \n",
       "\n",
       "                                                                                                                                                                                                     Sentence  \\\n",
       "15                       autism was first described in 1944 by a Viennese physi cian Hans asperger who reported a group of boys with autism whose clinical features resembled autism with some modifications.   \n",
       "15                                            We report the analysis of13 candidate gene loci associated with autism and schizophrenia in 17Finnish ASD families with autosomal dominant mode of inheritance.   \n",
       "15                                                                                         Linkageto the previously reported predisposing loci for autism could not be repli cated with Finnish ASD families.   \n",
       "15                                                                                         Linkageto the previously reported predisposing loci for autism could not be repli cated with Finnish ASD families.   \n",
       "28                                                        Approximately 70% of PWSand ASD patients have a deletion in 15q11 q13 whereas uniparental disomy(UPD) accounts for 25% of PWS cases and 2 3% of AS.   \n",
       "...                                                                                                                                                                                                       ...   \n",
       "4554                                                                                                                                                                      and the PWS/ASD region on 15q11-13.   \n",
       "4554                                   In lymphoblastoid cells of Here we present two cases with cri du chat syndrome who are a PWS patient with a complete deletion of the PWS/ASD region in second cousins.   \n",
       "4554                                                    The chromosome analysis with GTG the PWS/ASD locus but no ribosomal genes, the ARD between the two banding showed partial 5p deletion distal to 5p14.   \n",
       "4582  stable transfected human SK-N-ASD neuroblastoma cell lines A number of genetic CRMs are presently under development by a expressing ataxin-3 with a variable number of polyglutamine repeats: Europe...   \n",
       "4597                       P0835Presence of elevated lactate, lactate/pyruvate ratio and Analysis of the patientsÓclinical and molecular data demonstrated that acylcarnitine proÜle in patients with autism.   \n",
       "\n",
       "             Person-first      Identity-first  \n",
       "15        boy with autism                      \n",
       "15                                 ASD family  \n",
       "15                         Finnish ASD family  \n",
       "15                                 ASD family  \n",
       "28                                ASD patient  \n",
       "...                   ...                 ...  \n",
       "4554                               ASD region  \n",
       "4554                               ASD region  \n",
       "4554                                ASD locus  \n",
       "4582                        ASD neuroblastoma  \n",
       "4597  patient with autism                      \n",
       "\n",
       "[1313 rows x 12 columns]"
      ]
     },
     "execution_count": 25,
     "metadata": {},
     "output_type": "execute_result"
    }
   ],
   "source": [
    "matched_patterns['Person-first'] = person_lemma_list    # copy the person-first output to new column in data frame \n",
    "matched_patterns['Identity-first'] = identity_lemma_list  # copy the identity-first output to new column in data frame \n",
    "matched_patterns = matched_patterns.drop_duplicates()                         # drop any duplicates\n",
    "matched_patterns                                                   # have a look at the data frame with its new columns"
   ]
  },
  {
   "cell_type": "code",
   "execution_count": 26,
   "id": "20ac2138",
   "metadata": {},
   "outputs": [],
   "source": [
    "matched_patterns.to_csv('..\\\\output\\\\pattern_matches_to_review.csv')        \n",
    "                                                            # Write the data frame to a .csv for manual processing in excel"
   ]
  },
  {
   "cell_type": "markdown",
   "id": "9897ba53",
   "metadata": {},
   "source": [
    "At this point, I open the file in Excel (for example), removed the brackets, quotation marks and commas in the Person-first lemmatised and Identity-first lemmatised columns, then sort by each of one of these columns. I then scan through the results, removing any rows that are obviously not about people (e.g. \"autistic testing\") and checking the 'Text' column on any that are unclear 'autistic quartets'). I then sort by the other column and repeat the step of reviewing and deleting non-person rows. Save under \"pattern_matches_reviewed.csv\" for the next step. "
   ]
  },
  {
   "cell_type": "markdown",
   "id": "35d2281a",
   "metadata": {},
   "source": [
    "## Exlporing statistics for person-first and identity-first"
   ]
  },
  {
   "cell_type": "code",
   "execution_count": 27,
   "id": "388d8be8",
   "metadata": {},
   "outputs": [
    {
     "data": {
      "text/html": [
       "<div>\n",
       "<style scoped>\n",
       "    .dataframe tbody tr th:only-of-type {\n",
       "        vertical-align: middle;\n",
       "    }\n",
       "\n",
       "    .dataframe tbody tr th {\n",
       "        vertical-align: top;\n",
       "    }\n",
       "\n",
       "    .dataframe thead th {\n",
       "        text-align: right;\n",
       "    }\n",
       "</style>\n",
       "<table border=\"1\" class=\"dataframe\">\n",
       "  <thead>\n",
       "    <tr style=\"text-align: right;\">\n",
       "      <th></th>\n",
       "      <th>Unnamed: 0.1</th>\n",
       "      <th>Unnamed: 0</th>\n",
       "      <th>Title</th>\n",
       "      <th>Session_Code</th>\n",
       "      <th>Author</th>\n",
       "      <th>Affiliations</th>\n",
       "      <th>Text</th>\n",
       "      <th>Year</th>\n",
       "      <th>Authors_and_Affiliations</th>\n",
       "      <th>Email</th>\n",
       "      <th>Sentence</th>\n",
       "      <th>Person-first</th>\n",
       "      <th>Identity-first</th>\n",
       "    </tr>\n",
       "  </thead>\n",
       "  <tbody>\n",
       "    <tr>\n",
       "      <th>0</th>\n",
       "      <td>141</td>\n",
       "      <td>23</td>\n",
       "      <td>The search for autism susceptibility genes</td>\n",
       "      <td>S11.</td>\n",
       "      <td>Monaco1, IMGSAC2, SLIC3</td>\n",
       "      <td>1Wellcome Trust Centre for Human Genetics, University of Oxford,  Oxford, United Kingdom, 2The International Molecular Genetic Study  of Autism Consortium (http://www.well.ox.ac.uk/~maestrin/iat.h...</td>\n",
       "      <td>autism is characterised by impaired social interaction and communication, and is accompanied by repetitive and stereotyped behaviours and interests. autism has an onset in the first three years, ...</td>\n",
       "      <td>2002</td>\n",
       "      <td>NaN</td>\n",
       "      <td>NaN</td>\n",
       "      <td>83 sibling pairs families with autism were screened for linkage using a whole genome scan and areas of increased allele sharing were genotyped with 119 markers in a further 69 sibling pair families.</td>\n",
       "      <td>family with autism</td>\n",
       "      <td>NaN</td>\n",
       "    </tr>\n",
       "    <tr>\n",
       "      <th>1</th>\n",
       "      <td>1179</td>\n",
       "      <td>36</td>\n",
       "      <td>De Novo Mutations in Neurodevelopmental disorders</td>\n",
       "      <td>S10.3</td>\n",
       "      <td>G. A. Rouleau, J. Michaud</td>\n",
       "      <td>Centre of Excellence in Neurosciences of UniversitÃÂ© de MontrÃÂ©al, Centre Hospitalier de lÃ¢ÂÂUniversitÃÂ© de MontrÃÂ©al, Faculty of Medicine, UniversitÃÂ© of MontrÃÂ©al, Montreal, QC, C...</td>\n",
       "      <td>INTRODUCTION: Schizophrenia (SCZ), autism and intellectual deficiency (ID) are common, devastating and poorly treated neurodevelopmental brain disorder. The wide spectrum of symptoms and clinical ...</td>\n",
       "      <td>2012</td>\n",
       "      <td>NaN</td>\n",
       "      <td>NaN</td>\n",
       "      <td>In order to test this hypo thesis we first sequenced over 400 synaptic genes in 148 subjects with SCZ, 148 subjects with ASD and 96 subjects with ID.</td>\n",
       "      <td>subject with ASD</td>\n",
       "      <td>NaN</td>\n",
       "    </tr>\n",
       "    <tr>\n",
       "      <th>2</th>\n",
       "      <td>2594</td>\n",
       "      <td>22</td>\n",
       "      <td>A highly conserved program of neuronal microexons is misregulated in autistic brains</td>\n",
       "      <td>S06.2</td>\n",
       "      <td>M. Irimia, M. Quesnel Vallieres, N. Parikshak, D. H. Geschwind, S. P . Cordes, B. J.  Blencowe</td>\n",
       "      <td>Centre for Genomic Regulation (CRG), Barcelona, Spain, University of Toronto, Toronto,  ON, Canada, University of California Los Angeles, Los Angeles, CA, United States,  Lunenfeld Tanenbaum Resea...</td>\n",
       "      <td>A key challenge in understanding autism is to establish whether this gene tically heterogeneous disorder is caused by common mechanisms. Tran scriptomic profiling has revealed consistently altered...</td>\n",
       "      <td>2016</td>\n",
       "      <td>NaN</td>\n",
       "      <td>NaN</td>\n",
       "      <td>These include a program of 3 27 nucleotide Ã¢ÂÂmicroexonsÃ¢ÂÂ, which is misregulated in the brains of individuals with autism.</td>\n",
       "      <td>individual with autism</td>\n",
       "      <td>NaN</td>\n",
       "    </tr>\n",
       "  </tbody>\n",
       "</table>\n",
       "</div>"
      ],
      "text/plain": [
       "   Unnamed: 0.1  Unnamed: 0  \\\n",
       "0           141          23   \n",
       "1          1179          36   \n",
       "2          2594          22   \n",
       "\n",
       "                                                                                   Title  \\\n",
       "0                                             The search for autism susceptibility genes   \n",
       "1                                      De Novo Mutations in Neurodevelopmental disorders   \n",
       "2   A highly conserved program of neuronal microexons is misregulated in autistic brains   \n",
       "\n",
       "  Session_Code  \\\n",
       "0         S11.   \n",
       "1        S10.3   \n",
       "2        S06.2   \n",
       "\n",
       "                                                                                           Author  \\\n",
       "0                                                                         Monaco1, IMGSAC2, SLIC3   \n",
       "1                                                                       G. A. Rouleau, J. Michaud   \n",
       "2  M. Irimia, M. Quesnel Vallieres, N. Parikshak, D. H. Geschwind, S. P . Cordes, B. J.  Blencowe   \n",
       "\n",
       "                                                                                                                                                                                              Affiliations  \\\n",
       "0  1Wellcome Trust Centre for Human Genetics, University of Oxford,  Oxford, United Kingdom, 2The International Molecular Genetic Study  of Autism Consortium (http://www.well.ox.ac.uk/~maestrin/iat.h...   \n",
       "1  Centre of Excellence in Neurosciences of UniversitÃÂ© de MontrÃÂ©al, Centre Hospitalier de lÃ¢ÂÂUniversitÃÂ© de MontrÃÂ©al, Faculty of Medicine, UniversitÃÂ© of MontrÃÂ©al, Montreal, QC, C...   \n",
       "2  Centre for Genomic Regulation (CRG), Barcelona, Spain, University of Toronto, Toronto,  ON, Canada, University of California Los Angeles, Los Angeles, CA, United States,  Lunenfeld Tanenbaum Resea...   \n",
       "\n",
       "                                                                                                                                                                                                      Text  \\\n",
       "0   autism is characterised by impaired social interaction and communication, and is accompanied by repetitive and stereotyped behaviours and interests. autism has an onset in the first three years, ...   \n",
       "1  INTRODUCTION: Schizophrenia (SCZ), autism and intellectual deficiency (ID) are common, devastating and poorly treated neurodevelopmental brain disorder. The wide spectrum of symptoms and clinical ...   \n",
       "2  A key challenge in understanding autism is to establish whether this gene tically heterogeneous disorder is caused by common mechanisms. Tran scriptomic profiling has revealed consistently altered...   \n",
       "\n",
       "   Year Authors_and_Affiliations Email  \\\n",
       "0  2002                      NaN   NaN   \n",
       "1  2012                      NaN   NaN   \n",
       "2  2016                      NaN   NaN   \n",
       "\n",
       "                                                                                                                                                                                                 Sentence  \\\n",
       "0  83 sibling pairs families with autism were screened for linkage using a whole genome scan and areas of increased allele sharing were genotyped with 119 markers in a further 69 sibling pair families.   \n",
       "1                                                   In order to test this hypo thesis we first sequenced over 400 synaptic genes in 148 subjects with SCZ, 148 subjects with ASD and 96 subjects with ID.   \n",
       "2                                                                      These include a program of 3 27 nucleotide Ã¢ÂÂmicroexonsÃ¢ÂÂ, which is misregulated in the brains of individuals with autism.   \n",
       "\n",
       "             Person-first Identity-first  \n",
       "0      family with autism            NaN  \n",
       "1        subject with ASD            NaN  \n",
       "2  individual with autism            NaN  "
      ]
     },
     "execution_count": 27,
     "metadata": {},
     "output_type": "execute_result"
    }
   ],
   "source": [
    "reviewed_matches = pd.read_csv('..\\\\output\\\\pattern_matches_reviewed.csv')    # one for just those that match the keyword\n",
    "reviewed_matches.head(3)"
   ]
  },
  {
   "cell_type": "code",
   "execution_count": 28,
   "id": "81fbac29",
   "metadata": {},
   "outputs": [
    {
     "name": "stdout",
     "output_type": "stream",
     "text": [
      "There are 635 rows in the post-manual review data frame coming from 298 unique titles.\n"
     ]
    }
   ],
   "source": [
    "print(\"There are \" + \n",
    "      str(len(reviewed_matches)) + \" rows in the post-manual review data frame coming from \" +\n",
    "      str(reviewed_matches['Title'].nunique()) +\n",
    "      \" unique titles.\")"
   ]
  },
  {
   "cell_type": "code",
   "execution_count": 29,
   "id": "aa2c9802",
   "metadata": {},
   "outputs": [],
   "source": [
    "def find_PF_nouns(input):\n",
    "    output = []\n",
    "    for thingy in input:\n",
    "        if isinstance(thingy,str):\n",
    "            word_list = thingy.split()\n",
    "            noun = word_list[0]\n",
    "            output.append(noun)\n",
    "        else:\n",
    "            output.append(\"\")\n",
    "    return output\n",
    "\n",
    "def find_IF_nouns(input):\n",
    "    output = []\n",
    "    for thingy in input:\n",
    "        if isinstance(thingy,str):\n",
    "            word_list = thingy.split()\n",
    "            noun = word_list[-1]\n",
    "            output.append(noun)\n",
    "        else:\n",
    "            output.append(\"\")\n",
    "    return output"
   ]
  },
  {
   "cell_type": "code",
   "execution_count": 30,
   "id": "6eda37d9",
   "metadata": {},
   "outputs": [],
   "source": [
    "reviewed_matches['PF_nouns'] = find_PF_nouns(reviewed_matches['Person-first'])"
   ]
  },
  {
   "cell_type": "code",
   "execution_count": 31,
   "id": "8b942411",
   "metadata": {},
   "outputs": [
    {
     "name": "stdout",
     "output_type": "stream",
     "text": [
      "In total, there are 259 examples of PFL, coming from 168 unique titles, with 66 unique patterns and 24 unique nouns.\n"
     ]
    }
   ],
   "source": [
    "print(\"In total, there are \" + str(reviewed_matches['Person-first'].count()) +\n",
    "      \" examples of PFL, coming from \" +\n",
    "      str(len(reviewed_matches[reviewed_matches[\"Person-first\"].notnull() == True].groupby(['Title']).nunique())) +\n",
    "      \" unique titles, with \" +\n",
    "      str(reviewed_matches['Person-first'].nunique()) + \" unique patterns and \" +\n",
    "      str(reviewed_matches['PF_nouns'].nunique()) + \" unique nouns.\")"
   ]
  },
  {
   "cell_type": "code",
   "execution_count": 32,
   "id": "1028fa3d",
   "metadata": {},
   "outputs": [],
   "source": [
    "reviewed_matches['IF_nouns'] = find_IF_nouns(reviewed_matches['Identity-first'])"
   ]
  },
  {
   "cell_type": "code",
   "execution_count": 33,
   "id": "9e7e954e",
   "metadata": {},
   "outputs": [
    {
     "name": "stdout",
     "output_type": "stream",
     "text": [
      "In total, there are 382 examples of IFL, coming from 192 unique titles, with 101 unique patterns and 22 unique nouns.\n"
     ]
    }
   ],
   "source": [
    "print(\"In total, there are \" + str(reviewed_matches['Identity-first'].count()) +\n",
    "      \" examples of IFL, coming from \" +\n",
    "      str(len(reviewed_matches[reviewed_matches[\"Identity-first\"].notnull() == True].groupby(['Title']).nunique())) +\n",
    "      \" unique titles, with \" +\n",
    "      str(reviewed_matches['Identity-first'].nunique()) + \" unique patterns and \" +\n",
    "      str(reviewed_matches['IF_nouns'].nunique()) + \" unique nouns.\")"
   ]
  },
  {
   "cell_type": "code",
   "execution_count": 34,
   "id": "fa8328b3",
   "metadata": {},
   "outputs": [
    {
     "name": "stdout",
     "output_type": "stream",
     "text": [
      "PF_nouns\n",
      "              189\n",
      "patient        78\n",
      "individual     33\n",
      "child          29\n",
      "boy            11\n",
      "family          9\n",
      "case            6\n",
      "subject         6\n",
      "proband         5\n",
      "girl            5\n",
      "Name: Title, dtype: int64\n",
      "\n",
      "IF_nouns\n",
      "              163\n",
      "patient        99\n",
      "case           33\n",
      "family         20\n",
      "child          20\n",
      "individual     19\n",
      "subject        11\n",
      "group          11\n",
      "proband        10\n",
      "cohort          9\n",
      "Name: Title, dtype: int64\n"
     ]
    }
   ],
   "source": [
    "print(reviewed_matches.groupby(['PF_nouns'])['Title'].nunique().sort_values(ascending=False).head(10))\n",
    "print(\"\")\n",
    "print(reviewed_matches.groupby(['IF_nouns'])['Title'].nunique().sort_values(ascending=False).head(10))"
   ]
  },
  {
   "cell_type": "code",
   "execution_count": null,
   "id": "1e8e4642",
   "metadata": {},
   "outputs": [],
   "source": [
    "\n"
   ]
  },
  {
   "cell_type": "code",
   "execution_count": null,
   "id": "9c040bb4",
   "metadata": {},
   "outputs": [],
   "source": []
  },
  {
   "cell_type": "code",
   "execution_count": null,
   "id": "a945d4bc",
   "metadata": {},
   "outputs": [],
   "source": []
  },
  {
   "cell_type": "code",
   "execution_count": null,
   "id": "7d2718e7",
   "metadata": {},
   "outputs": [],
   "source": []
  },
  {
   "cell_type": "code",
   "execution_count": null,
   "id": "aeddb757",
   "metadata": {},
   "outputs": [],
   "source": [
    "\n"
   ]
  },
  {
   "cell_type": "code",
   "execution_count": 38,
   "id": "325e18cd",
   "metadata": {},
   "outputs": [
    {
     "ename": "NameError",
     "evalue": "name 'person_identity_count' is not defined",
     "output_type": "error",
     "traceback": [
      "\u001b[1;31m---------------------------------------------------------------------------\u001b[0m",
      "\u001b[1;31mNameError\u001b[0m                                 Traceback (most recent call last)",
      "Cell \u001b[1;32mIn[38], line 1\u001b[0m\n\u001b[1;32m----> 1\u001b[0m \u001b[43mperson_identity_count\u001b[49m\u001b[38;5;241m.\u001b[39mplot()\n\u001b[0;32m      2\u001b[0m plt\u001b[38;5;241m.\u001b[39mshow()\n\u001b[0;32m      3\u001b[0m plt\u001b[38;5;241m.\u001b[39msavefig(\u001b[38;5;124m'\u001b[39m\u001b[38;5;124m..\u001b[39m\u001b[38;5;130;01m\\\\\u001b[39;00m\u001b[38;5;124moutput\u001b[39m\u001b[38;5;130;01m\\\\\u001b[39;00m\u001b[38;5;124mmatches_count.jpg\u001b[39m\u001b[38;5;124m'\u001b[39m)    \u001b[38;5;66;03m# we can right click on the plot above to save it, or save it via command\u001b[39;00m\n",
      "\u001b[1;31mNameError\u001b[0m: name 'person_identity_count' is not defined"
     ]
    }
   ],
   "source": [
    "person_identity_count.plot()\n",
    "plt.show()\n",
    "plt.savefig('..\\\\output\\\\matches_count.jpg')    # we can right click on the plot above to save it, or save it via command"
   ]
  },
  {
   "cell_type": "code",
   "execution_count": 39,
   "id": "f57fe19a",
   "metadata": {},
   "outputs": [
    {
     "name": "stdout",
     "output_type": "stream",
     "text": [
      "66\n",
      "101\n"
     ]
    }
   ],
   "source": [
    "person_examples = reviewed_matches.groupby(['Person-first'])['Person-first'].count()\n",
    "identity_examples = reviewed_matches.groupby(['Identity-first'])['Identity-first'].count()\n",
    "print(len(person_examples))\n",
    "print(len(identity_examples))"
   ]
  },
  {
   "cell_type": "code",
   "execution_count": 40,
   "id": "ab1443d2",
   "metadata": {},
   "outputs": [],
   "source": [
    "person_identity_examples=pd.concat([person_examples,identity_examples],axis=1)\n"
   ]
  },
  {
   "cell_type": "code",
   "execution_count": 43,
   "id": "11bf97e2",
   "metadata": {},
   "outputs": [
    {
     "name": "stdout",
     "output_type": "stream",
     "text": [
      "                        Person-first  Identity-first\n",
      "patient with ASD                50.0             NaN\n",
      "patient with autism             46.0             NaN\n",
      "child with ASD                  20.0             NaN\n",
      "child with autism               17.0             NaN\n",
      "individual with autism          16.0             NaN\n",
      "individual with ASD             15.0             NaN\n",
      "boy with autism                  6.0             NaN\n",
      "proband with ASD                 6.0             NaN\n",
      "family with ASD                  4.0             NaN\n",
      "subject with ASD                 4.0             NaN\n",
      "                                    Person-first  Identity-first\n",
      "Polish patient with suspected AS             1.0             NaN\n",
      "girl with severe autism                      1.0             NaN\n",
      "individual with AS                           1.0             NaN\n",
      "woman with autistic                          1.0             NaN\n",
      "individual with diseaselike autism           1.0             NaN\n",
      "individual with idiopathic autism            1.0             NaN\n",
      "individual with syndromic autism             1.0             NaN\n",
      "individual without ASD                       1.0             NaN\n",
      "patient with AS                              1.0             NaN\n",
      "patient with atypical AS                     1.0             NaN\n"
     ]
    }
   ],
   "source": [
    "print(person_identity_examples.sort_values(by=['Person-first'], ascending=False).head(10))\n",
    "print(person_identity_examples.sort_values(by=['Person-first'], ascending=True).head(10))"
   ]
  },
  {
   "cell_type": "code",
   "execution_count": null,
   "id": "c04bc80a",
   "metadata": {},
   "outputs": [],
   "source": [
    "person_identity_examples.sort_values(by=['Identity-first'], ascending=False).head(10)"
   ]
  },
  {
   "cell_type": "markdown",
   "id": "6efde442",
   "metadata": {},
   "source": [
    "## Chart person-first or identity-first by year"
   ]
  },
  {
   "cell_type": "markdown",
   "id": "47b82b88",
   "metadata": {},
   "source": [
    "## Count abstracts by the structures they use"
   ]
  },
  {
   "cell_type": "code",
   "execution_count": null,
   "id": "7dd85bf7",
   "metadata": {},
   "outputs": [],
   "source": [
    "person_by_title = reviewed_matches.groupby(['Title'])['Person-first'].count()\n",
    "identity_by_title = reviewed_matches.groupby(['Title'])['Identity-first'].count()\n",
    "title = pd.concat([person_by_title,identity_by_title],axis=1)\n",
    "print(title)"
   ]
  },
  {
   "cell_type": "code",
   "execution_count": null,
   "id": "975b4d8a",
   "metadata": {},
   "outputs": [],
   "source": [
    "title.sort_values(by=['Identity-first'], ascending=False)"
   ]
  },
  {
   "cell_type": "code",
   "execution_count": null,
   "id": "f5f461ab",
   "metadata": {},
   "outputs": [],
   "source": [
    "title.sort_values(by=['Person-first'], ascending=False)"
   ]
  },
  {
   "cell_type": "code",
   "execution_count": null,
   "id": "4df4af17",
   "metadata": {},
   "outputs": [],
   "source": [
    "columns = ['Person-first','Identity-first']\n",
    "filter_ = (title[columns] > 0).all(axis=1)\n",
    "title[filter_]\n",
    "len(title[filter_])\n"
   ]
  },
  {
   "cell_type": "code",
   "execution_count": null,
   "id": "025e8bad",
   "metadata": {},
   "outputs": [],
   "source": [
    "title[filter_].sort_values(by=['Person-first'], ascending=False)"
   ]
  },
  {
   "cell_type": "code",
   "execution_count": null,
   "id": "13737d2d",
   "metadata": {},
   "outputs": [],
   "source": [
    "title[filter_].sort_values(by=['Identity-first'], ascending=False)"
   ]
  },
  {
   "cell_type": "code",
   "execution_count": null,
   "id": "7906c98e",
   "metadata": {},
   "outputs": [],
   "source": [
    "has_pf = title[title['Person-first'] > 0]\n",
    "has_both = has_pf[has_pf['Identity-first'] > 0]\n",
    "print(len(has_both))\n",
    "has_both"
   ]
  },
  {
   "cell_type": "code",
   "execution_count": null,
   "id": "e2e250d3",
   "metadata": {},
   "outputs": [],
   "source": [
    "title['Person-first']"
   ]
  },
  {
   "cell_type": "code",
   "execution_count": null,
   "id": "43c3632b",
   "metadata": {},
   "outputs": [],
   "source": [
    "plt.scatter(title['Person-first'], title['Identity-first'])\n",
    "plt.ylabel(\"Instance of IF\")\n",
    "plt.xlabel(\"Instance of PF\")\n",
    "plt.title(\"Abstracts using both PF and IF language\")\n",
    "plt.show()\n",
    "\n",
    "#plt.savefig('..\\\\output\\title_count.jpg')    # we can right click on the plot above to save it, or save it via command"
   ]
  }
 ],
 "metadata": {
  "kernelspec": {
   "display_name": "Python 3 (ipykernel)",
   "language": "python",
   "name": "python3"
  },
  "language_info": {
   "codemirror_mode": {
    "name": "ipython",
    "version": 3
   },
   "file_extension": ".py",
   "mimetype": "text/x-python",
   "name": "python",
   "nbconvert_exporter": "python",
   "pygments_lexer": "ipython3",
   "version": "3.11.1"
  }
 },
 "nbformat": 4,
 "nbformat_minor": 5
}
