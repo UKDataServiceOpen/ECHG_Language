{
 "cells": [
  {
   "cell_type": "markdown",
   "id": "directed-democrat",
   "metadata": {},
   "source": [
    "# Preliminary work to prepare missing files"
   ]
  },
  {
   "cell_type": "markdown",
   "id": "marked-conviction",
   "metadata": {},
   "source": [
    "## Install and import necessary things\n",
    "\n",
    "Start off by installing the required packages (if you don't already have them installed) and then importing all required packages. "
   ]
  },
  {
   "cell_type": "code",
   "execution_count": 1,
   "id": "welcome-termination",
   "metadata": {},
   "outputs": [],
   "source": [
    "import os                         # os is a module for navigating your machine (e.g., file directories).\n",
    "import nltk                       # nltk stands for natural language tool kit and is useful for text-mining. \n",
    "from nltk import word_tokenize    # and some of its key functions\n",
    "from nltk import sent_tokenize    \n",
    "import numpy as np\n",
    "import pandas as pd\n",
    "import csv                        # csv is for importing and working with csv files\n",
    "import statistics\n",
    "import datetime\n",
    "date = datetime.date.today()\n",
    "\n",
    "from autocorrect import Speller   # things we need for spell checking\n",
    "check = Speller(lang='en')\n",
    "\n",
    "import re                         # things we need for RegEx corrections"
   ]
  },
  {
   "cell_type": "markdown",
   "id": "unknown-token",
   "metadata": {},
   "source": [
    "# Load up the missing files\n",
    "\n"
   ]
  },
  {
   "cell_type": "code",
   "execution_count": 140,
   "id": "95e1922f",
   "metadata": {},
   "outputs": [],
   "source": [
    "def text_to_csv(input, output):\n",
    "    # Open the file in read only mode\n",
    "    for filename in os.listdir(input):\n",
    "        name = filename.replace(r'.txt', \"\")\n",
    "        abstracts = []\n",
    "        with open(input + \"\\\\\" + filename, \"r\", encoding='ISO-8859-1') as read_obj:\n",
    "            for line in read_obj:\n",
    "                matches = re.split(r'([PL|S|C|E]\\d+.\\d+[A-Z] )', line)\n",
    "                for match in matches:\n",
    "                    with open(output + \"\\\\\" + name + \".csv\", \"w\", encoding='utf-8') as outfile:\n",
    "                        write = csv.writer(outfile)\n",
    "                        write.writerows(abstracts)\n",
    "                "
   ]
  },
  {
   "cell_type": "code",
   "execution_count": 142,
   "id": "c2052119",
   "metadata": {},
   "outputs": [
    {
     "name": "stderr",
     "output_type": "stream",
     "text": [
      "IOPub data rate exceeded.\n",
      "The notebook server will temporarily stop sending output\n",
      "to the client in order to avoid crashing it.\n",
      "To change this limit, set the config variable\n",
      "`--NotebookApp.iopub_data_rate_limit`.\n",
      "\n",
      "Current values:\n",
      "NotebookApp.iopub_data_rate_limit=1000000.0 (bytes/sec)\n",
      "NotebookApp.rate_limit_window=3.0 (secs)\n",
      "\n"
     ]
    }
   ],
   "source": [
    "with open('..\\\\output_texts\\\\Test\\\\2017 posters.txt', \"r\", encoding='ISO-8859-1') as read_obj:\n",
    "            for line in read_obj:\n",
    "                matches = re.split(r'([PL|S|C|E]\\d+.\\d+[A-Z] )', line)\n",
    "                print(matches)\n",
    "                    \n",
    "                "
   ]
  },
  {
   "cell_type": "code",
   "execution_count": 141,
   "id": "great-album",
   "metadata": {},
   "outputs": [
    {
     "name": "stderr",
     "output_type": "stream",
     "text": [
      "IOPub data rate exceeded.\n",
      "The notebook server will temporarily stop sending output\n",
      "to the client in order to avoid crashing it.\n",
      "To change this limit, set the config variable\n",
      "`--NotebookApp.iopub_data_rate_limit`.\n",
      "\n",
      "Current values:\n",
      "NotebookApp.iopub_data_rate_limit=1000000.0 (bytes/sec)\n",
      "NotebookApp.rate_limit_window=3.0 (secs)\n",
      "\n"
     ]
    },
    {
     "name": "stdout",
     "output_type": "stream",
     "text": [
      "['Input .pdf for testing Test text. One. Two. Three. Figure 1 - A plane with caption to test caption conversion.']\n",
      "['\"Neque porro quisquam est qui dolorem ipsum quia dolor sit amet, consectetur, adipisci velit...\" \"There is no one who loves pain itself, who seeks after it and wants to have it, simply because it is pain...\" What is Lorem Ipsum? Where does it come from? Lorem Ipsum is simply dummy text of the Contrary to popular belief, Lorem Ipsum is printing and typesetting industry. Lorem not simply random text. It has roots in a Ipsum has been the industry\\'s standard piece of classical Latin literature from 45 dummy text ever since the 1500s, when an BC, making it over 2000 years old. Richard unknown printer took a galley of type and McClintock, a Latin professor at Hampden- scrambled it to make a type specimen Sydney College in Virginia, looked up one book. It has survived not only five of the more obscure Latin words, centuries, but also the leap into electronic consectetur, from a Lorem Ipsum passage, typesetting, remaining essentially and going through the cites of the word in unchanged. It was popularised in the classical literature, discovered the 1960s with the release of Letraset sheets undoubtable source. Lorem Ipsum comes containing Lorem Ipsum passages, and from sections 1.10.32 and 1.10.33 of \"de more recently with desktop publishing Finibus Bonorum et Malorum\" (The software like Aldus PageMaker including Extremes of Good and Evil) by Cicero, versions of Lorem Ipsum. written in 45 BC. This book is a treatise on Why do we use it? the theory of ethics, very popular during the Renaissance. The first line of Lorem It is a long established fact that a reader Ipsum, \"Lorem ipsum dolor sit amet..\", will be distracted by the readable content comes from a line in section 1.10.32. of a page when looking at its layout. The point of using Lorem Ipsum is that it has a The standard chunk of Lorem Ipsum used since the 1500s is reproduced below for more-or-less normal distribution of letters, those interested. Sections 1.10.32 and as opposed to using \\'Content here, content 1.10.33 from \"de Finibus Bonorum et here\\', making it look like readable English. Many desktop publishing packages and Malorum\" by Cicero are also reproduced in web page editors now use Lorem Ipsum as their exact original form, accompanied by their default model text, and a search for English versions from the 1914 translation \\'lorem ipsum\\' will uncover many web sites by H. Rackham. still in their infancy. Various versions have Where can I get some? evolved over the years, sometimes by accident, sometimes on purpose (injected There are many variations of passages of humour and the like). Lorem Ipsum available, but the majority have suffered alteration in some form, by injected humour, or randomised wordswhich don\\'t look even slightly believable. If you are going to use a passage of Lorem Ipsum, you need to be sure there isn\\'t anything embarrassing hidden in the middle of text. All the Lorem Ipsum generators on the Internet tend to repeat predefined chunks as necessary, making this the first true generator on the Internet. It uses a dictionary of over 200 Latin words, combined with a handful of model sentence structures, to generate Lorem Ipsum which looks reasonable. The generated Lorem Ipsum is therefore always free from repetition, injected humour, or non-characteristic words etc.']\n",
      "['lectus a. Habitant morbi tristique senectus et cras fermentum odio eu feugiat pretium. Sit netus. Imperdiet sed euismod nisi porta lorem amet nulla facilisi morbi tempus. Habitant mollis aliquam ut. Eu mi bibendum neque morbi tristique senectus et netus. Imperdiet egestas congue quisque egestas diam in. Mi sed euismod nisi porta lorem mollis. Ut sem quis hendrerit dolor magna eget est. Semper viverra aliquet eget sit amet. Risus ultricies auctor neque vitae tempus quam tristique nulla aliquet. pellentesque nec. Blandit turpis cursus in hac Tempor id eu nisl nunc. Laoreet non curabitur habitasse platea. At augue eget arcu dictum. gravida arcu ac tortor dignissim. Hendrerit Enim sit amet venenatis urna cursus eget dolor magna eget est. At quis risus sed nunc scelerisque. Ut faucibus pulvinar vulputate. Nulla facilisi morbi tempus iaculis elementum integer enim neque volutpat ac. urna id volutpat lacus. Egestas maecenas Et netus et malesuada fames ac. Ornare pharetra convallis posuere morbi leo urna massa eget egestas purus. Eget nullam non molestie at. Faucibus turpis in eu mi nisi est sit amet facilisis magna. Lacinia quis bibendum neque egestas. Magna ac placerat vel eros donec. Nulla facilisi morbi tempus vestibulum lectus mauris ultrices. Varius iaculis urna id volutpat. Risus commodo quam quisque id diam vel. Duis tristique viverra maecenas accumsan lacus vel. sollicitudin nibh sit amet commodo nulla. Sed Abstract Euismod quis viverra nibh cras velit dignissim sodales ut eu. Consequat id pulvinar mattis. Felis eget nunc lobortis mattis porta nibh venenatis cras. Vulputate enim aliquam faucibus. Sit amet mattis vulputate nulla aliquet porttitor. Et magnis dis enim nulla. Nibh cras pulvinar mattis nunc sed parturient montes nascetur. Proin gravida blandit libero. Metus aliquam eleifend mi in hendrerit lectus a. Arcu bibendum at varius nulla. Elementum tempus egestas sed sed vel pharetra vel turpis. Tellus in metus risus pretium quam vulputate dignissim. vulputate eu scelerisque felis. Nunc mi ipsum Nascetur ridiculus mus mauris vitae ultricies faucibus vitae aliquet nec ullamcorper. Lacinia leo integer malesuada nunc. Volutpat odio at quis risus sed. Auctor neque vitae tempus facilisis mauris sit amet massa vitae tortor. quam pellentesque nec nam. Velit sed ullamcorper morbi tincidunt ornare Faucibus vitae aliquet nec ullamcorper. Enim massa eget. Viverra adipiscing at in tellus facilisis gravida neque convallis. Diam integer feugiat. In metus vulputate eu phasellus vestibulum lorem sed risus ultricies scelerisque. Dui accumsan sit amet nulla. tristique nulla. Felis donec et odio Diam quam nulla porttitor massa id neque pellentesque diam. Ut aliquam purus sit amet aliquam vestibulum. Vivamus at augue eget luctus. Urna porttitor rhoncus dolor purus non arcu dictum varius duis. enim praesent elementum. Erat nam at lectus A erat nam at lectus urna duis. Elit urna duis convallis convallis. Vestibulum ullamcorper dignissim cras tincidunt lobortis rhoncus est pellentesque elit ullamcorper feugiat vivamus at augue. Est ullamcorper dignissim. Amet dictum sit amet justo donec eget nulla facilisi etiam dignissim diam. Sed enim diam vulputate ut. Cras pulvinar mattis ullamcorper morbi tincidunt ornare massa nunc sed. In vitae turpis massa sed eget egestas purus viverra. Nisl vel pretium elementum. Nunc faucibus a pellentesque sit lectus quam id leo in vitae turpis. Id aliquet amet porttitor. In cursus turpis massa lectus proin nibh nisl condimentum id tincidunt dui ut ornare lectus. Elit ullamcorper venenatis a. Turpis in eu mi bibendum neque dignissim cras tincidunt lobortis feugiat egestas congue. At volutpat diam ut venenatis vivamus at augue. Nunc id cursus metus tellus in metus vulputate. Tristique risus nec aliquam eleifend mi in. Turpis nunc eget lorem feugiat in. Fames ac turpis egestas sed. Vitae dolor sed viverra ipsum nunc aliquet. ultricies leo integer malesuada. Nulla facilisiEget est lorem ipsum dolor. Eget duis at tellus At augue eget arcu dictum. Aliquet porttitor at urna condimentum mattis. Mauris pharetra lacus luctus accumsan tortor posuere. Pretium et ultrices neque ornare aenean euismod aenean pharetra magna ac placerat. Pulvinar elementum. Vel turpis nunc eget lorem dolor mattis nunc sed blandit libero volutpat sed. sed. Suspendisse ultrices gravida dictum fusce Nullam ac tortor vitae purus faucibus ornare ut placerat. Tortor vitae purus faucibus ornare suspendisse sed. Ac turpis egestas sed suspendisse. Est ultricies integer quis auctor tempus. Ut ornare lectus sit amet est placerat elit sed vulputate mi sit. Condimentum id in egestas erat. Vitae aliquet nec ullamcorper venenatis a condimentum vitae sapien sit. Adipiscing enim eu turpis egestas pretium pellentesque habitant. Gravida neque aenean pharetra magna. Adipiscing elit ut convallis a cras. Scelerisque fermentum dui aliquam purus sit amet luctus venenatis. Proin faucibus in ornare. sagittis nisl rhoncus mattis. Faucibus vitae aliquet nec ullamcorper sit amet. Vel quam Abstract Cras semper auctor neque vitae elementum pulvinar etiam. Facilisi morbi tempus quam pellentesque nec. Sodales ut tempus iaculis urna id volutpat lacus laoreet. etiam sit amet nisl. Augue neque gravida in fermentum et. Leo a diam sollicitudin tempor Faucibus a pellentesque sit amet. Facilisis id. At quis risus sed vulputate odio ut enim mauris sit amet massa vitae tortor blandit. Faucibus a pellentesque sit amet condimentum lacinia. Ut faucibus pulvinar porttitor eget dolor. Purus sit amet volutpat elementum integer enim neque volutpat ac consequat mauris nunc congue nisi. Diam tincidunt. Neque gravida in fermentum et vulputate ut pharetra sit amet aliquam id sollicitudin ac. Amet mauris commodo quis diam. Ut ornare lectus sit amet est placerat in. imperdiet massa tincidunt nunc. Vestibulum Sit amet volutpat consequat mauris nunc lectus mauris ultrices eros in cursus turpis. congue. Ac placerat vestibulum lectus mauris Commodo ullamcorper a lacus vestibulum ultrices eros in cursus. Pretium vulputate sed. Praesent semper feugiat nibh sed sapien nec sagittis aliquam. Ut placerat orci pulvinar proin gravida. Mauris pellentesque nulla pellentesque dignissim enim sit amet. pulvinar pellentesque habitant morbi tristique Dui faucibus in ornare quam. Dictum varius senectus et. Purus semper eget duis at tellus. duis at consectetur lorem. Amet porttitor eget Pulvinar pellentesque habitant morbi dolor morbi. Amet cursus sit amet dictum sit tristique. amet justo donec enim. Vitae congue eu In hendrerit gravida rutrum quisque non tellus consequat ac felis donec et odio. orci ac. Laoreet id donec ultrices tincidunt In metus vulputate eu scelerisque felis arcu non. Sagittis orci a scelerisque purus imperdiet. Vestibulum sed arcu non odio semper eget duis at. Et tortor consequat id euismod lacinia at quis risus. Magna fringilla porta. Purus gravida quis blandit turpis. Eu urna porttitor rhoncus dolor purus non. volutpat odio facilisis mauris sit amet massa Mauris sit amet massa vitae tortor. Cras vitae tortor. Sit amet luctus venenatis lectus tincidunt lobortis feugiat vivamus at augue magna. Phasellus egestas tellus rutrum tellus eget arcu. Sit amet consectetur adipiscing elit. pellentesque. Nunc scelerisque viverra mauris Elementum facilisis leo vel fringilla. Vitae in aliquam sem fringilla ut. Tincidunt eget tempus quam pellentesque nec nam. Et leo nullam non nisi est. Cursus vitae congue duis ut diam quam nulla porttitor massa id. mauris rhoncus aenean vel elit. Ullamcorper Odio aenean sed adipiscing diam. Augue sit amet risus nullam eget felis eget nunc neque gravida in fermentum et sollicitudin ac lobortis. Potenti nullam ac tortor vitae purus orci. Sem nulla pharetra diam sit amet nisl. faucibus. Interdum velit laoreet id donec ultrices tincidunt arcu non sodales.Habitant morbi tristique senectus et. Donec ac Amet massa vitae tortor condimentum lacinia odio tempor orci. In nulla posuere sollicitudin quis vel. Sed adipiscing diam donec adipiscing. aliquam. Posuere urna nec tincidunt praesent Iaculis eu non diam phasellus vestibulum semper. Non sodales neque sodales ut. lorem sed. Cras sed felis eget velit aliquet Aliquet nibh praesent tristique magna sit sagittis. Urna cursus eget nunc scelerisque. amet. In nisl nisi scelerisque eu ultrices vitae. Ornare arcu odio ut sem nulla pharetra diam A diam maecenas sed enim ut sem viverra sit amet. Porttitor lacus luctus accumsan aliquet eget. Risus nullam eget felis eget nunc tortor posuere. Vivamus arcu felis bibendum lobortis. Diam maecenas sed enim ut sem. ut tristique et egestas quis. Tempor id eu nisl Euismod nisi porta lorem mollis. Dictum non nunc mi ipsum. Ultricies mi quis hendrerit consectetur a erat. Pulvinar elementum dolor magna eget est. Nulla porttitor massa id integer enim neque volutpat ac tincidunt vitae neque. Eu tincidunt tortor aliquam nulla semper. Ac auctor augue mauris augue neque facilisi cras fermentum odio eu. Vitae gravida. Diam donec adipiscing tristique risus elementum curabitur vitae nunc sed velit. nec feugiat in fermentum. Lacus sed viverra Elementum sagittis vitae et leo duis ut diam tellus in hac habitasse platea. Eu nisl nunc mi quam. Orci sagittis eu volutpat odio facilisis. ipsum faucibus vitae aliquet. Lorem donec Adipiscing enim eu turpis egestas. Eu tincidunt massa sapien faucibus et. Felis bibendum ut tortor aliquam nulla facilisi cras fermentum. tristique et egestas quis. Abstract Lectus arcu bibendum at varius vel Et pharetra pharetra massa massa ultricies. pharetra. Et ligula ullamcorper malesuada Tincidunt praesent semper feugiat nibh. Diam proin libero nunc consequat interdum varius. maecenas sed enim ut sem viverra aliquet. Et Sed cras ornare arcu dui vivamus arcu. tortor at risus viverra. Mollis nunc sed id Adipiscing diam donec adipiscing tristique semper risus. Mi quis hendrerit dolor magna risus nec feugiat. Arcu cursus euismod quis eget est. Ultrices neque ornare aenean viverra nibh. Ornare massa eget egestas purus euismod elementum. Massa sapien faucibus viverra accumsan. Arcu cursus vitae congue et molestie ac feugiat sed lectus vestibulum. mauris. In fermentum et sollicitudin ac orci In cursus turpis massa tincidunt dui ut ornare. phasellus egestas tellus rutrum. Amet purus Nulla malesuada pellentesque elit eget gravida quis blandit turpis cursus in hac gravida cum. Tristique senectus et netus et habitasse. Id diam vel quam elementum malesuada. Amet porttitor eget dolor morbi pulvinar etiam non. Enim eu turpis egestas non arcu risus quis. pretium aenean pharetra magna ac. Et leo duis ut diam quam nulla porttitor massa id. Odio ut sem nulla pharetra diam sit amet nisl Pharetra vel turpis nunc eget lorem dolor sed suscipit. Volutpat est velit egestas dui id viverra. Leo vel fringilla est ullamcorper eget. ornare arcu. Vulputate eu scelerisque felis Aliquam vestibulum morbi blandit cursus imperdiet. Et egestas quis ipsum suspendisse risus. Nunc aliquet bibendum enim facilisis ultrices. Maecenas accumsan lacus vel gravida neque convallis. Diam in arcu cursus facilisis. Placerat orci nulla pellentesque euismod quis viverra nibh. dignissim enim sit amet. Gravida rutrum quisque non tellus. Sed sed risus pretium Quis lectus nulla at volutpat diam ut venenatis quam vulputate dignissim suspendisse in est. tellus in. Et malesuada fames ac turpis egestas Felis bibendum ut tristique et egestas quis maecenas pharetra convallis posuere. Ac ipsum. Laoreet suspendisse interdum turpis egestas sed tempus urna et pharetra consectetur libero id. Mattis pellentesque id pharetra massa. Vulputate mi sit amet mauris nibh tortor id. commodo quis imperdiet. Vitae congue eu consequat ac felis donec et. Nulla facilisi nullam vehicula ipsum a arcu cursus. Acfeugiat sed lectus vestibulum mattis semper eget. Faucibus scelerisque eleifend ullamcorper velit sed ullamcorper. Eleifend mi donec pretium vulputate sapien nec sagittis in nulla posuere sollicitudin aliquam ultrices. aliquam. Arcu cursus euismod quis viverra. Ipsum dolor sit amet consectetur adipiscing Quis imperdiet massa tincidunt nunc pulvinar elit ut. Mattis nunc sed blandit libero. Gravida sapien et ligula ullamcorper. Adipiscing quis blandit turpis cursus in hac habitasse bibendum est ultricies integer quis auctor elit platea dictumst. Scelerisque purus semper sed vulputate. Duis at consectetur lorem eget duis. Lectus nulla at volutpat diam ut donec massa sapien. venenatis tellus in metus. Eros in cursus turpis Tellus pellentesque eu tincidunt tortor massa tincidunt dui. Aliquam nulla facilisi cras aliquam nulla facilisi cras fermentum. fermentum odio eu feugiat pretium. Sit amet Bibendum est ultricies integer quis auctor elit justo donec enim diam vulputate. Eleifend sed vulputate. Libero justo laoreet sit amet quam adipiscing vitae proin sagittis. Convallis cursus sit amet dictum sit. Maecenas tellus id interdum velit. Fermentum dui accumsan lacus vel facilisis volutpat. Lectus faucibus in ornare quam viverra orci sagittis. quam id leo in vitae turpis massa sed Volutpat odio facilisis mauris sit amet massa elementum. Dui sapien eget mi proin. vitae. Condimentum vitae sapien pellentesque Non consectetur a erat nam at lectus. Id habitant morbi tristique senectus et netus. volutpat lacus laoreet non. Aliquam faucibus Felis imperdiet proin fermentum leo vel orci purus in massa. Congue mauris rhoncus porta non. Semper risus in hendrerit gravida aenean vel elit scelerisque mauris. Nisl rutrum quisque. Pulvinar elementum integer suscipit adipiscing bibendum est. Morbi enim neque volutpat ac tincidunt vitae. tincidunt augue interdum velit euismod in Porttitor lacus luctus accumsan tortor posuere pellentesque. Scelerisque mauris pellentesque ac ut consequat. Elementum sagittis vitae et pulvinar pellentesque. Et leo duis ut diam leo duis ut diam. Nam at lectus urna duis quam nulla porttitor massa id. Venenatis convallis convallis tellus id. Nisi lacus sed lectus magna fringilla urna porttitor rhoncus viverra tellus in hac habitasse. Libero id dolor purus. Scelerisque felis imperdiet proin faucibus nisl tincidunt eget nullam non. fermentum leo vel. Scelerisque eu ultrices Potenti nullam ac tortor vitae purus faucibus. vitae auctor eu augue ut lectus arcu. Mi eget Iaculis nunc sed augue lacus viverra vitae mauris pharetra et ultrices. Felis imperdiet congue eu. Cursus mattis molestie a iaculis at. proin fermentum leo. Nulla at volutpat diam Ullamcorper velit sed ullamcorper morbi ut venenatis tellus in metus vulputate. Massa tincidunt ornare massa eget egestas. Vel orci tincidunt nunc pulvinar sapien et. Turpis porta non pulvinar neque laoreet suspendisse. massa tincidunt dui ut. In mollis nunc sed id semper. Ipsum nunc aliquet bibendum enim Aenean sed adipiscing diam donec adipiscing facilisis gravida. tristique risus. Aliquet lectus proin nibh nisl condimentum id venenatis. Id semper risus in Sit amet est placerat in egestas erat imperdiet hendrerit gravida rutrum quisque. Arcu sed euismod. Neque viverra justo nec ultrices. dictum varius duis at consectetur lorem Elementum facilisis leo vel fringilla est donec. Senectus et netus et malesuada fames ullamcorper. Nam aliquam sem et tortor ac turpis. Odio morbi quis commodo odio. consequat id porta nibh. In hendrerit gravida Aenean sed adipiscing diam donec adipiscing rutrum quisque non tellus. Bibendum enim tristique risus nec feugiat. Mauris pharetra et facilisis gravida neque convallis. Pharetra vel ultrices neque ornare aenean euismod. turpis nunc eget lorem dolor sed viverra. Aliquet nec ullamcorper sit amet. Purus Mauris pharetra et ultrices neque ornare. gravida quis blandit turpis cursus. Aliquet Ultrices sagittis orci a scelerisque purus']\n"
     ]
    }
   ],
   "source": [
    "text_to_csv('..\\\\output_texts\\\\Test', '..\\\\for_analysis\\\\Test' )"
   ]
  },
  {
   "cell_type": "code",
   "execution_count": null,
   "id": "b7c22a42",
   "metadata": {},
   "outputs": [],
   "source": []
  },
  {
   "cell_type": "code",
   "execution_count": null,
   "id": "3a706ecb",
   "metadata": {},
   "outputs": [],
   "source": []
  },
  {
   "cell_type": "code",
   "execution_count": null,
   "id": "765cd02d",
   "metadata": {},
   "outputs": [],
   "source": [
    "\n"
   ]
  },
  {
   "cell_type": "code",
   "execution_count": 77,
   "id": "024f21f4",
   "metadata": {},
   "outputs": [],
   "source": [
    "#adjusted to split the missing files on the identified abstract session codes at the start of each abstract\n",
    "\n",
    "def split_text(input, output1, output2, regex):\n",
    "    totals = []\n",
    "    for filename in os.listdir(input):\n",
    "        with open(input + \"\\\\\" + filename, \"r\", encoding='utf-8') as f:\n",
    "            name = filename.replace(r'.txt', \"\")\n",
    "            for line in f:\n",
    "                matches = re.split(r'([PL|S|C|E]\\d+.\\d+[A-Z] )', line)\n",
    "                length_matches = len(matches)\n",
    "                del matches[0]\n",
    "                with open(output1 + \"\\\\\" + name + \".txt\", \"w\", encoding='utf-8') as fp:\n",
    "                    for match in matches:\n",
    "                        row_contents = matches[0] + \" \" + matches[1]\n",
    "                        del matches [0]\n",
    "                        del matches [0]\n",
    "                        fp.write(\"%s\\n\" % row_contents)\n",
    "                totals_row = [name, length_matches]\n",
    "                totals.append(totals_row)\n",
    "    with open(output2 + \"\\\\\" + \"totals.csv\", \"w\", encoding='utf-8') as out_total:\n",
    "        writer = csv.writer(out_total)\n",
    "        for row in totals:\n",
    "            writer.writerow(row)"
   ]
  },
  {
   "cell_type": "markdown",
   "id": "floppy-gambling",
   "metadata": {},
   "source": [
    "## Test the splitting function\n",
    "\n",
    "Let's apply these splitting functions to the Test folder. To start, we check the contents of the input folder, define the regular expression, run the function with the relevant arguments, and check the output folder. \n",
    "\n",
    "For this test, the regular expression is simple the letter 'e'. "
   ]
  },
  {
   "cell_type": "code",
   "execution_count": 27,
   "id": "ceramic-hampton",
   "metadata": {},
   "outputs": [
    {
     "data": {
      "text/plain": [
       "['2017 posters.txt',\n",
       " '2018 EMPAG.txt',\n",
       " '2018 posters.txt',\n",
       " '2019 posters2.txt',\n",
       " '2020 eposters.txt',\n",
       " '2020 interactive eposter.txt',\n",
       " '2021 eposters.txt']"
      ]
     },
     "execution_count": 27,
     "metadata": {},
     "output_type": "execute_result"
    }
   ],
   "source": [
    "os.listdir(\"..\\\\output_texts\\\\missing\")  "
   ]
  },
  {
   "cell_type": "code",
   "execution_count": null,
   "id": "c31363eb",
   "metadata": {},
   "outputs": [],
   "source": [
    "def match_strings_in_text(input, output):\n",
    "    list_of_results = []\n",
    "    # Open the file in read only mode\n",
    "    for filename in os.listdir(input):\n",
    "        name = filename.replace(r'.txt', \"\")\n",
    "        line_number = 0\n",
    "        with open(input + \"\\\\\" + filename, \"r\", encoding='ISO-8859-1') as read_obj:\n",
    "            for line in read_obj:\n",
    "                line_number += 1\n",
    "                # For each line, check if line contains any string from the list of strings\n",
    "                for string_to_search in list_of_strings:\n",
    "                    if string_to_search in line:\n",
    "                    # If any string is found in line, then append that line along with line number in list\n",
    "                        list_of_results.append((name, string_to_search, line_number, line.rstrip()))\n",
    "    no_dups_results = list(set(list_of_results))\n",
    "    with open(output + \"\\\\select.csv\", \"w\", encoding='ISO-8859-1') as outfile:\n",
    "        write = csv.writer(outfile)\n",
    "        write.writerows(no_dups_results)\n",
    "\n"
   ]
  },
  {
   "cell_type": "code",
   "execution_count": null,
   "id": "solar-ribbon",
   "metadata": {},
   "outputs": [],
   "source": [
    "regex_test = re.compile(r\"(e.*?)\")\n",
    "\n",
    "\n",
    "split_text (\"..\\output_texts\\Test\", \"..\\\\for_analysis\\\\Test\", \"..\\\\counts\\\\Test\", regex_test)\n"
   ]
  },
  {
   "cell_type": "code",
   "execution_count": null,
   "id": "economic-refund",
   "metadata": {},
   "outputs": [],
   "source": [
    "print(os.listdir(\"..\\\\for_analysis\\\\Test\"))\n",
    "print(os.listdir(\"..\\\\counts\\\\Test\"))"
   ]
  },
  {
   "cell_type": "markdown",
   "id": "careful-newton",
   "metadata": {},
   "source": [
    "All seems well, but you should probably inspect the actual files to be sure things look the way you expect. \n",
    "\n",
    "## Run the splitting function on the target files\n",
    "\n",
    "This time, the regular expression is more complicated and is meant to capture the way that a limited number of capitol letters followed by one or more digits mark the start of each abstract. "
   ]
  },
  {
   "cell_type": "code",
   "execution_count": null,
   "id": "arranged-november",
   "metadata": {},
   "outputs": [],
   "source": [
    "os.listdir(\"..\\\\output_texts\\\\ESHG\")  "
   ]
  },
  {
   "cell_type": "code",
   "execution_count": null,
   "id": "australian-class",
   "metadata": {},
   "outputs": [],
   "source": [
    "regex_ESHG = re.compile(r\"([PL|S|C|E]\\d+)\")\n",
    "\n",
    "split_text (\"..\\output_texts\\ESHG\", \"..\\\\for_analysis\\\\ESHG\", \"..\\\\counts\\\\ESHG\", regex_ESHG)"
   ]
  },
  {
   "cell_type": "code",
   "execution_count": null,
   "id": "apart-melbourne",
   "metadata": {},
   "outputs": [],
   "source": [
    "print(os.listdir(\"..\\\\for_analysis\\\\ESHG\"))\n",
    "print(os.listdir(\"..\\\\counts\\\\ESHG\"))"
   ]
  },
  {
   "cell_type": "markdown",
   "id": "difficult-demonstration",
   "metadata": {},
   "source": [
    "# Check and return only select abstracts\n",
    "\n",
    "## Define the checking function\n",
    "\n",
    "Now, each abstract should be a row of its own within each .txt file. But not all of abstracts will be relevant to the research question, so we need to remove the irrelevant rows and keep the relevant ones. \n",
    "\n",
    "The first step to doing that is to define a function that takes an input folder, a list of keywords, and an output folder as arguments. The function opens the files in the input folder, searches  through each row in the current file for matches to the list of keywords, and writes the name of the file plus the contents of the row that contains a keyword match to a list. Finally, the function eliminates duplicates in that list and writes it to a .csv file is the output folder. \n",
    "\n",
    "For this research question, the keywords of interest should catch 'autistic', 'autism', 'asperger's' and 'aspergers' regardless of whether they start with an upper or lowercase letter, plus 'ASD'. \n",
    "\n",
    "Note: this function is not applied to the Test files because the function is not so very slow now (.txt files are much faster to work with than .pdf) and because the test and target files are now so very different. "
   ]
  },
  {
   "cell_type": "code",
   "execution_count": null,
   "id": "instant-server",
   "metadata": {},
   "outputs": [],
   "source": [
    "\n"
   ]
  },
  {
   "cell_type": "code",
   "execution_count": null,
   "id": "supposed-wrapping",
   "metadata": {},
   "outputs": [],
   "source": [
    " match_strings_in_text('..\\\\for_analysis\\\\ESHG', \"..\\\\counts\\\\ESHG\", ['autis', 'Autis', 'ASD', 'Asperger', 'asperger',])"
   ]
  },
  {
   "cell_type": "markdown",
   "id": "smoking-productivity",
   "metadata": {},
   "source": [
    "Always sensible to double check the output. "
   ]
  },
  {
   "cell_type": "code",
   "execution_count": null,
   "id": "orange-publicity",
   "metadata": {},
   "outputs": [],
   "source": [
    "print(os.listdir(\"..\\\\counts\\\\ESHG\"))"
   ]
  }
 ],
 "metadata": {
  "kernelspec": {
   "display_name": "Python 3 (ipykernel)",
   "language": "python",
   "name": "python3"
  },
  "language_info": {
   "codemirror_mode": {
    "name": "ipython",
    "version": 3
   },
   "file_extension": ".py",
   "mimetype": "text/x-python",
   "name": "python",
   "nbconvert_exporter": "python",
   "pygments_lexer": "ipython3",
   "version": "3.11.1"
  },
  "toc": {
   "base_numbering": 1,
   "nav_menu": {},
   "number_sections": true,
   "sideBar": true,
   "skip_h1_title": false,
   "title_cell": "Table of Contents",
   "title_sidebar": "Contents",
   "toc_cell": false,
   "toc_position": {},
   "toc_section_display": true,
   "toc_window_display": false
  }
 },
 "nbformat": 4,
 "nbformat_minor": 5
}
