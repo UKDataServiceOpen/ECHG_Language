{
 "cells": [
  {
   "cell_type": "markdown",
   "id": "d71e8f5f",
   "metadata": {},
   "source": [
    "# Get ready\n",
    "\n",
    "First, download, import, prep packages and such. \n",
    "\n",
    "Then, check the file location and import the .csv files. Remove any with empty text fields. \n",
    "\n",
    "Save a data frame with all the texts and another with only those texts that mention the keywords of interest. "
   ]
  },
  {
   "cell_type": "code",
   "execution_count": 1,
   "id": "26078126",
   "metadata": {},
   "outputs": [],
   "source": [
    "%%capture\n",
    "\n",
    "# installing necessary pdf conversion packages via pip\n",
    "# the '%%capture' at the top of this cell suppresses the output (which is normally quite long and annoying looking). \n",
    "# You can remove or comment it out if you prefer to see the output. \n",
    "!pip install nltk\n",
    "!pip install spacy -q\n",
    "!python -m spacy download en_core_web_lg -q\n"
   ]
  },
  {
   "cell_type": "code",
   "execution_count": 2,
   "id": "271c801d",
   "metadata": {},
   "outputs": [
    {
     "name": "stderr",
     "output_type": "stream",
     "text": [
      "[nltk_data] Downloading package punkt to\n",
      "[nltk_data]     C:\\Users\\mzyssjkc\\AppData\\Roaming\\nltk_data...\n",
      "[nltk_data]   Package punkt is already up-to-date!\n",
      "[nltk_data] Downloading package stopwords to\n",
      "[nltk_data]     C:\\Users\\mzyssjkc\\AppData\\Roaming\\nltk_data...\n",
      "[nltk_data]   Package stopwords is already up-to-date!\n",
      "[nltk_data] Downloading package averaged_perceptron_tagger to\n",
      "[nltk_data]     C:\\Users\\mzyssjkc\\AppData\\Roaming\\nltk_data...\n",
      "[nltk_data]   Package averaged_perceptron_tagger is already up-to-\n",
      "[nltk_data]       date!\n",
      "[nltk_data] Downloading package stopwords to\n",
      "[nltk_data]     C:\\Users\\mzyssjkc\\AppData\\Roaming\\nltk_data...\n",
      "[nltk_data]   Package stopwords is already up-to-date!\n",
      "[nltk_data] Downloading package punkt to\n",
      "[nltk_data]     C:\\Users\\mzyssjkc\\AppData\\Roaming\\nltk_data...\n",
      "[nltk_data]   Package punkt is already up-to-date!\n",
      "[nltk_data] Downloading package wordnet to\n",
      "[nltk_data]     C:\\Users\\mzyssjkc\\AppData\\Roaming\\nltk_data...\n",
      "[nltk_data]   Package wordnet is already up-to-date!\n",
      "[nltk_data] Downloading package webtext to\n",
      "[nltk_data]     C:\\Users\\mzyssjkc\\AppData\\Roaming\\nltk_data...\n",
      "[nltk_data]   Package webtext is already up-to-date!\n"
     ]
    }
   ],
   "source": [
    "import os                         # os is a module for navigating your machine (e.g., file directories).\n",
    "\n",
    "import nltk                       # nltk stands for natural language tool kit and is useful for text-mining. \n",
    "from nltk import word_tokenize    # and some of its key functions\n",
    "from nltk import sent_tokenize  \n",
    "tokenizer = nltk.tokenize.punkt.PunktSentenceTokenizer()\n",
    "from nltk.tokenize import sent_tokenize\n",
    "nltk.download('punkt')\n",
    "nltk.download('stopwords')\n",
    "from nltk.corpus import stopwords\n",
    "stop_words = set(stopwords.words('english'))\n",
    "from nltk.corpus import wordnet                    # Finally, things we need for lemmatising!\n",
    "from nltk.stem import WordNetLemmatizer\n",
    "lemmatizer = WordNetLemmatizer() \n",
    "from nltk.stem.porter import PorterStemmer\n",
    "porter = PorterStemmer()\n",
    "nltk.download('averaged_perceptron_tagger')        # Like a POS-tagger...\n",
    "nltk.download('stopwords')\n",
    "nltk.download('punkt')\n",
    "nltk.download('wordnet')\n",
    "nltk.download('webtext')\n",
    "from nltk.corpus import webtext\n",
    "\n",
    "import pandas as pd\n",
    "pd.set_option('display.max_colwidth', 200)\n",
    "import numpy as np\n",
    "import statistics\n",
    "import datetime\n",
    "date = datetime.date.today()\n",
    "\n",
    "import codecs\n",
    "import csv                        # csv is for importing and working with csv files\n",
    "\n",
    "from collections import Counter\n",
    "\n",
    "import statistics\n",
    "import re                         # things we need for RegEx corrections\n",
    "import matplotlib.pyplot as plt\n",
    "import string \n",
    "import spacy \n",
    "from spacy.matcher import Matcher \n",
    "from spacy.tokens import Span \n",
    "from spacy import displacy \n",
    "nlp = spacy.load('en_core_web_lg')\n",
    "nlp.max_length = 1500000 #or any large value, as long as you don't run out of RAM\n",
    "\n",
    "import math \n",
    "\n",
    "English_punctuation = \"-!\\\"#$%&()'*-–+,./:;<=>?@[\\]^_`{|}~''“”\"      # Things for removing punctuation, stopwords and empty strings\n",
    "table_punctuation = str.maketrans('','', English_punctuation)"
   ]
  },
  {
   "cell_type": "code",
   "execution_count": 3,
   "id": "f5f4a961",
   "metadata": {},
   "outputs": [
    {
     "name": "stdout",
     "output_type": "stream",
     "text": [
      "['ESHG2001abstractICHG.csv', 'ESHG2002Abstracts.csv', 'ESHG2003Abstracts.csv', 'ESHG2005Abstracts.csv', 'ESHG2006Abstracts.csv', 'ESHG2007Abstracts.csv', 'ESHG2008Abstracts.csv', 'ESHG2009Abstracts.csv', 'ESHG2010Abstracts.csv', 'ESHG2011Abstracts.csv', 'ESHG2012Abstracts.csv', 'ESHG2013Abstracts.csv', 'ESHG2014Abstracts.csv', 'ESHG2015Abstracts.csv', 'ESHG2016Abstracts.csv', 'ESHG2016Abstractscleaned.csv', 'ESHG2017 electronic posters.csv', 'ESHG2017 oral presentation.csv', 'ESHG2018 electronic posters.csv', 'ESHG2018 oral presentation.csv', 'ESHG2019 electronic posters.csv', 'ESHG2019 oral presentation.csv', 'ESHG2020 electronic posters.csv', 'ESHG2020 oral presentation.csv', 'ESHG2021 electronic posters.csv', 'ESHG2021 oral presentation.csv']\n"
     ]
    }
   ],
   "source": [
    "print(os.listdir(\"..\\\\results\")  )\n",
    "\n",
    "files = []\n",
    "def import_results(input):\n",
    "    for f in os.listdir(input):\n",
    "        f = pd.read_csv(input + '\\\\'+ f,encoding='latin1')\n",
    "        files.append(f)\n",
    "    output = pd.concat(files)\n",
    "    return output"
   ]
  },
  {
   "cell_type": "code",
   "execution_count": 4,
   "id": "75b74ce9",
   "metadata": {},
   "outputs": [
    {
     "data": {
      "text/plain": [
       "34589"
      ]
     },
     "execution_count": 4,
     "metadata": {},
     "output_type": "execute_result"
    }
   ],
   "source": [
    "all_results = import_results(\"..\\\\results\")\n",
    "len(all_results)"
   ]
  },
  {
   "cell_type": "code",
   "execution_count": 5,
   "id": "6c7a5f10",
   "metadata": {},
   "outputs": [
    {
     "data": {
      "text/plain": [
       "33775"
      ]
     },
     "execution_count": 5,
     "metadata": {},
     "output_type": "execute_result"
    }
   ],
   "source": [
    "no_null_texts = all_results[~all_results['Text'].isnull()]\n",
    "len(no_null_texts)"
   ]
  },
  {
   "cell_type": "code",
   "execution_count": 6,
   "id": "c0c8e304",
   "metadata": {},
   "outputs": [
    {
     "data": {
      "text/plain": [
       "974"
      ]
     },
     "execution_count": 6,
     "metadata": {},
     "output_type": "execute_result"
    }
   ],
   "source": [
    "matched_texts = no_null_texts[no_null_texts['Text'].str.contains('autis|Autis|ASD|Asperger|asperger')]\n",
    "len(matched_texts)"
   ]
  },
  {
   "cell_type": "markdown",
   "id": "f5d89f25",
   "metadata": {},
   "source": [
    "# Sent tokenisation"
   ]
  },
  {
   "cell_type": "code",
   "execution_count": 7,
   "id": "17421e4d",
   "metadata": {},
   "outputs": [
    {
     "name": "stderr",
     "output_type": "stream",
     "text": [
      "C:\\Users\\mzyssjkc\\AppData\\Local\\Temp\\ipykernel_17140\\740089231.py:2: SettingWithCopyWarning: \n",
      "A value is trying to be set on a copy of a slice from a DataFrame.\n",
      "Try using .loc[row_indexer,col_indexer] = value instead\n",
      "\n",
      "See the caveats in the documentation: https://pandas.pydata.org/pandas-docs/stable/user_guide/indexing.html#returning-a-view-versus-a-copy\n",
      "  matched_texts['Sentence'] = sentences                                         # copy that list back into df as a new column\n"
     ]
    }
   ],
   "source": [
    "sentences  = [sent_tokenize(abstract) for abstract in matched_texts['Text'] ] # make tokenized sentences list\n",
    "matched_texts['Sentence'] = sentences                                         # copy that list back into df as a new column\n",
    "matched_texts = matched_texts.explode('Sentence')                             # explode to create 1 row per sentence token\n"
   ]
  },
  {
   "cell_type": "code",
   "execution_count": 8,
   "id": "3795c76e",
   "metadata": {},
   "outputs": [
    {
     "data": {
      "text/plain": [
       "2211"
      ]
     },
     "execution_count": 8,
     "metadata": {},
     "output_type": "execute_result"
    }
   ],
   "source": [
    "matched_sents = matched_texts[matched_texts['Sentence'].str.contains('autis|Autis|ASD|Asperger|asperger')]\n",
    "                                                                            # keep only those rows that contain the keywords\n",
    "matched_sents = matched_sents.drop_duplicates()                             # drop any duplicates\n",
    "len(matched_sents)                                                          # check length of remaining data frame"
   ]
  },
  {
   "cell_type": "code",
   "execution_count": null,
   "id": "ffe48a3c",
   "metadata": {},
   "outputs": [],
   "source": [
    "# REDUNDANT\n",
    "\n",
    "def prep_sent_for_pattern_match(input):                                       # define a new function\n",
    "    spacy_objects = []                                                        # creates an empty list\n",
    "    for sentence in input:                                                    # then takes string objects from the input \n",
    "        print(sentence)\n",
    "        sentence = nlp(sentence)                                              # converts them to SpaCy objects \n",
    "        spacy_objects.append(sentence)                                        # appends them to the empty list\n",
    "    return spacy_objects                                                  # and returns the list\n"
   ]
  },
  {
   "cell_type": "code",
   "execution_count": null,
   "id": "cc97fdee",
   "metadata": {},
   "outputs": [],
   "source": [
    "# REDUNDANT\n",
    "matched_sents['spacy_objects'] = prep_sent_for_pattern_match(matched_sents['Sentence'])  #create new column with spacy objects"
   ]
  },
  {
   "cell_type": "markdown",
   "id": "49f0de07",
   "metadata": {},
   "source": [
    "## Person-first pattern"
   ]
  },
  {
   "cell_type": "code",
   "execution_count": 9,
   "id": "64d739a6",
   "metadata": {},
   "outputs": [],
   "source": [
    "pattern_2 = [{\"POS\": \"NOUN\"},\n",
    "             {'LOWER': 'with'},\n",
    "             {'DEP':'amod', 'OP':\"?\"},\n",
    "             {'DEP':'amod', 'OP':\"?\"},\n",
    "             {'DEP':'amod', 'OP':\"?\"},\n",
    "             {\"TEXT\": {\"REGEX\": \"^[Aa]utism$\"}}]\n",
    "\n",
    "pattern_3 = [{\"POS\": \"NOUN\"},\n",
    "             {'LOWER': 'with'},\n",
    "             {'DEP':'amod', 'OP':\"?\"},\n",
    "             {'DEP':'amod', 'OP':\"?\"},\n",
    "             {'DEP':'amod', 'OP':\"?\"},\n",
    "             {\"TEXT\": {\"REGEX\": \"^[Aa]sperger$\"}}]\n",
    "\n",
    "pattern_4 = [{\"POS\": \"NOUN\"},\n",
    "             {'LOWER': 'with'},\n",
    "             {'DEP':'amod', 'OP':\"?\"},\n",
    "             {'DEP':'amod', 'OP':\"?\"},\n",
    "             {'DEP':'amod', 'OP':\"?\"},\n",
    "             {\"TEXT\": {\"REGEX\": \"^ASD$\"}}]\n",
    "\n",
    "# Matcher class object \n",
    "matcher = Matcher(nlp.vocab) \n",
    "matcher.add(\"matching_1\", [pattern_2, pattern_3, pattern_4]) "
   ]
  },
  {
   "cell_type": "code",
   "execution_count": 10,
   "id": "87d072ec",
   "metadata": {},
   "outputs": [],
   "source": [
    "def find_pattern1_match(input):\n",
    "    thingy = nlp(input)\n",
    "    match = matcher(thingy)\n",
    "    if match == []:\n",
    "        out_value = ''\n",
    "    else:\n",
    "        hold_multi_spans = []\n",
    "        for match_id, start, end in match:\n",
    "                string_id = nlp.vocab.strings[match_id]  # Get string representation\n",
    "                span = thingy[start:end]  # The matched span\n",
    "                hold_multi_spans.append(span)\n",
    "        out_value = hold_multi_spans\n",
    "    return out_value\n",
    "\n"
   ]
  },
  {
   "cell_type": "code",
   "execution_count": 11,
   "id": "2ffd7373",
   "metadata": {},
   "outputs": [],
   "source": [
    "matched_sents['Person-first'] = matched_sents.apply(lambda row: find_pattern1_match(row.Sentence), axis = 1)\n"
   ]
  },
  {
   "cell_type": "code",
   "execution_count": null,
   "id": "94989ef3",
   "metadata": {},
   "outputs": [],
   "source": []
  },
  {
   "cell_type": "code",
   "execution_count": null,
   "id": "325e18cd",
   "metadata": {},
   "outputs": [],
   "source": []
  },
  {
   "cell_type": "code",
   "execution_count": null,
   "id": "aa2c9802",
   "metadata": {},
   "outputs": [],
   "source": []
  },
  {
   "cell_type": "code",
   "execution_count": null,
   "id": "aeddb757",
   "metadata": {},
   "outputs": [],
   "source": []
  },
  {
   "cell_type": "code",
   "execution_count": null,
   "id": "cb5a47d0",
   "metadata": {},
   "outputs": [],
   "source": [
    "# REDUNDANT? \n",
    "person_first_list = []\n",
    "\n",
    "for thingy in matched_sents['spacy_objects']:\n",
    "    match = matcher(thingy)\n",
    "    if match != []:\n",
    "        for match_id, start, end in match:\n",
    "            string_id = nlp.vocab.strings[match_id]  # Get string representation\n",
    "            span = thingy[start:end]  # The matched span\n",
    "            person_first_list.append(span.text)\n",
    "    \n",
    "print(person_first_list)        \n",
    "    \n",
    "    \n",
    "    #there are a few sentences with more than one match - need to save the matches in a column and explode again? "
   ]
  },
  {
   "cell_type": "markdown",
   "id": "936cc982",
   "metadata": {},
   "source": [
    "## Identity first pattern"
   ]
  },
  {
   "cell_type": "code",
   "execution_count": 12,
   "id": "dc18f3c5",
   "metadata": {},
   "outputs": [],
   "source": [
    "pattern_a = [{\"TEXT\": {\"REGEX\": \"^[Aa]utistic\"}},\n",
    "             {'DEP':'amod', 'OP':\"?\"},\n",
    "             {'DEP':'amod', 'OP':\"?\"},\n",
    "             {'DEP':'amod', 'OP':\"?\"},\n",
    "             {\"POS\": \"NOUN\"}]\n",
    "\n",
    "pattern_b = [{\"TEXT\": {\"REGEX\": \"^[Aa]sperger\"}},\n",
    "             {'DEP':'amod', 'OP':\"?\"},\n",
    "             {'DEP':'amod', 'OP':\"?\"},\n",
    "             {'DEP':'amod', 'OP':\"?\"},\n",
    "             {\"POS\": \"NOUN\"}]\n",
    "\n",
    "pattern_c = [{\"TEXT\": {\"REGEX\": \"^ASD\"}},\n",
    "             {'DEP':'amod', 'OP':\"?\"},\n",
    "             {'DEP':'amod', 'OP':\"?\"},\n",
    "             {'DEP':'amod', 'OP':\"?\"},\n",
    "             {\"POS\": \"NOUN\"}]\n",
    "\n",
    "# Matcher class object \n",
    "matcher = Matcher(nlp.vocab) \n",
    "matcher.add(\"matching_2\", [pattern_a, pattern_b, pattern_c]) \n"
   ]
  },
  {
   "cell_type": "code",
   "execution_count": 13,
   "id": "7f00defd",
   "metadata": {},
   "outputs": [],
   "source": [
    "matched_sents['Identity-first'] = matched_sents.apply(lambda row: find_pattern1_match(row.Sentence), axis = 1)"
   ]
  },
  {
   "cell_type": "code",
   "execution_count": 14,
   "id": "b519e497",
   "metadata": {},
   "outputs": [
    {
     "data": {
      "text/plain": [
       "2211"
      ]
     },
     "execution_count": 14,
     "metadata": {},
     "output_type": "execute_result"
    }
   ],
   "source": [
    "len(matched_sents)"
   ]
  },
  {
   "cell_type": "code",
   "execution_count": 15,
   "id": "58536fd7",
   "metadata": {},
   "outputs": [
    {
     "data": {
      "text/plain": [
       "2213"
      ]
     },
     "execution_count": 15,
     "metadata": {},
     "output_type": "execute_result"
    }
   ],
   "source": [
    "matched_sents = matched_sents.explode('Person-first')                             # explode to create 1 row per sentence token\n",
    "len(matched_sents)"
   ]
  },
  {
   "cell_type": "code",
   "execution_count": 16,
   "id": "80451426",
   "metadata": {},
   "outputs": [
    {
     "data": {
      "text/plain": [
       "2252"
      ]
     },
     "execution_count": 16,
     "metadata": {},
     "output_type": "execute_result"
    }
   ],
   "source": [
    "matched_sents = matched_sents.explode('Identity-first')                             # explode to create 1 row per sentence token\n",
    "len(matched_sents)"
   ]
  },
  {
   "cell_type": "code",
   "execution_count": 17,
   "id": "b2d91446",
   "metadata": {},
   "outputs": [
    {
     "data": {
      "text/plain": [
       "781"
      ]
     },
     "execution_count": 17,
     "metadata": {},
     "output_type": "execute_result"
    }
   ],
   "source": [
    "final = matched_sents[(matched_sents['Person-first'] != '') | (matched_sents['Identity-first'] != '')]\n",
    "len(final)"
   ]
  },
  {
   "cell_type": "code",
   "execution_count": 18,
   "id": "cfcca95c",
   "metadata": {},
   "outputs": [
    {
     "data": {
      "text/html": [
       "<div>\n",
       "<style scoped>\n",
       "    .dataframe tbody tr th:only-of-type {\n",
       "        vertical-align: middle;\n",
       "    }\n",
       "\n",
       "    .dataframe tbody tr th {\n",
       "        vertical-align: top;\n",
       "    }\n",
       "\n",
       "    .dataframe thead th {\n",
       "        text-align: right;\n",
       "    }\n",
       "</style>\n",
       "<table border=\"1\" class=\"dataframe\">\n",
       "  <thead>\n",
       "    <tr style=\"text-align: right;\">\n",
       "      <th></th>\n",
       "      <th>Title</th>\n",
       "      <th>Session_Code</th>\n",
       "      <th>Authors_and_Affiliations</th>\n",
       "      <th>Text</th>\n",
       "      <th>Year</th>\n",
       "      <th>Email</th>\n",
       "      <th>Author</th>\n",
       "      <th>Affiliations</th>\n",
       "      <th>Sentence</th>\n",
       "      <th>Person-first</th>\n",
       "      <th>Identity-first</th>\n",
       "    </tr>\n",
       "  </thead>\n",
       "  <tbody>\n",
       "    <tr>\n",
       "      <th>150</th>\n",
       "      <td>Location of the first predisposing gene locus for Asperger syndrome on chromosome 1q21 22</td>\n",
       "      <td>C102.</td>\n",
       "      <td>E. Jarvela1  T. Ylisaukko oja2  T. Nieminen3  E. Kempas1  M. Auranen1  L. Peltonen1 1National Public Health Institute  Helsinki  Finland  2National Public Health Insitute  Helsinki  Finland  3Uni...</td>\n",
       "      <td>Asperger syndrome (AS) was first described in 1944 by a Viennese physi cian Hans Asperger who reported a group of boys with autistic psychopa thy  whose clinical features resembled autism with som...</td>\n",
       "      <td>2001</td>\n",
       "      <td>irma.jarvela@hus.fi</td>\n",
       "      <td>NaN</td>\n",
       "      <td>NaN</td>\n",
       "      <td>Asperger syndrome (AS) was first described in 1944 by a Viennese physi cian Hans Asperger who reported a group of boys with autistic psychopa thy  whose clinical features resembled autism with som...</td>\n",
       "      <td></td>\n",
       "      <td>(Asperger, syndrome)</td>\n",
       "    </tr>\n",
       "    <tr>\n",
       "      <th>150</th>\n",
       "      <td>Location of the first predisposing gene locus for Asperger syndrome on chromosome 1q21 22</td>\n",
       "      <td>C102.</td>\n",
       "      <td>E. Jarvela1  T. Ylisaukko oja2  T. Nieminen3  E. Kempas1  M. Auranen1  L. Peltonen1 1National Public Health Institute  Helsinki  Finland  2National Public Health Insitute  Helsinki  Finland  3Uni...</td>\n",
       "      <td>Asperger syndrome (AS) was first described in 1944 by a Viennese physi cian Hans Asperger who reported a group of boys with autistic psychopa thy  whose clinical features resembled autism with som...</td>\n",
       "      <td>2001</td>\n",
       "      <td>irma.jarvela@hus.fi</td>\n",
       "      <td>NaN</td>\n",
       "      <td>NaN</td>\n",
       "      <td>Asperger syndrome (AS) was first described in 1944 by a Viennese physi cian Hans Asperger who reported a group of boys with autistic psychopa thy  whose clinical features resembled autism with som...</td>\n",
       "      <td></td>\n",
       "      <td>(autistic, psychopa)</td>\n",
       "    </tr>\n",
       "    <tr>\n",
       "      <th>443</th>\n",
       "      <td>Preliminary Findings In The Diagnostic Evaluation Of A Sample Of 103 Individuals With Pervasive DevelopmentDisorders</td>\n",
       "      <td>P0341.</td>\n",
       "      <td>E. Steiner   M. M. Guerreiro  A. P. Marques de Faria Unicamp  Campinas  B</td>\n",
       "      <td>Pervasive development disorders (PDD) are a heterogeneous group ofneurobehavioral disorders of infancy. In order to identify etiologic factors ina sample of individuals with PDD  a total of 103 su...</td>\n",
       "      <td>2001</td>\n",
       "      <td>dgmfcm@unicamp.br</td>\n",
       "      <td>NaN</td>\n",
       "      <td>NaN</td>\n",
       "      <td>In order to identify etiologic factors ina sample of individuals with PDD  a total of 103 subjects (84 males and 19females) referred for autistic behavior were submitted to a protocol includ ing c...</td>\n",
       "      <td></td>\n",
       "      <td>(autistic, behavior)</td>\n",
       "    </tr>\n",
       "    <tr>\n",
       "      <th>473</th>\n",
       "      <td>Detection of subtelomeric rearrangements by FISH in patients with idiopathic mental retardation or autism.</td>\n",
       "      <td>P0372.</td>\n",
       "      <td>Ostergaard   J. M. Hahnemann  H. Hjalgrim  K. Nielsen  H. M. Nielsen  K. Brondum NielsenJohn F. Kennedy Institute  Glostrup  D</td>\n",
       "      <td>The subtelomeric regions are often involved in chromosomal rearrange 172 Posters: Clinical Genetics and Dysmorphologyments. They are gene rich and therefore rearrangements in these regions are mor...</td>\n",
       "      <td>2001</td>\n",
       "      <td>els@kennedy.dk</td>\n",
       "      <td>NaN</td>\n",
       "      <td>NaN</td>\n",
       "      <td>Two groups of patients  all with normal standard chromosome analysis were investigated  One group consisted of 14 patients with autism  andwith at least one other relative affected with autism.</td>\n",
       "      <td>(patients, with, autism)</td>\n",
       "      <td></td>\n",
       "    </tr>\n",
       "    <tr>\n",
       "      <th>538</th>\n",
       "      <td>Clinical cytogenetic and molecular analysis of two families with FRAXE mutation  implications for genetic coun selling and prenatal diagnosis</td>\n",
       "      <td>P0442.</td>\n",
       "      <td>I. Tejada1  P. Botella2  M. A. L pez Ar ztegui3  F. Mozo de Rosales4  M. L pez V alverde4  M. L. Onaindia1  M. Molina1 1Genetic Unit  Basurto Hospital  Bilbao  Spain  2Dept. of Paediatrics  Txago...</td>\n",
       "      <td>FRAXE full mutations are rare and appear to be associated with mild men tal retardation and with a fragile site in Xq28. This is due to an abnormalexpanded GCC repeat  adjacent to a methylated CpG...</td>\n",
       "      <td>2001</td>\n",
       "      <td>itejada@hbas.osakidetza.net</td>\n",
       "      <td>NaN</td>\n",
       "      <td>NaN</td>\n",
       "      <td>One of them has an autistic disorder with severe MR an a dysmor phic face similar to FXS.</td>\n",
       "      <td></td>\n",
       "      <td>(autistic, disorder)</td>\n",
       "    </tr>\n",
       "    <tr>\n",
       "      <th>...</th>\n",
       "      <td>...</td>\n",
       "      <td>...</td>\n",
       "      <td>...</td>\n",
       "      <td>...</td>\n",
       "      <td>...</td>\n",
       "      <td>...</td>\n",
       "      <td>...</td>\n",
       "      <td>...</td>\n",
       "      <td>...</td>\n",
       "      <td>...</td>\n",
       "      <td>...</td>\n",
       "    </tr>\n",
       "    <tr>\n",
       "      <th>672</th>\n",
       "      <td>A Detection of a rare ADNP variant causing Helsmoortel van der Aa syndrome: A Case Report Boban Dobrevski 1, Aleksandar Petlichkovski1, Meri Kirijas1, Gorjan Milanovski1, Todor Arsov1, Teodora Brn...</td>\n",
       "      <td>P11.059</td>\n",
       "      <td>NaN</td>\n",
       "      <td>Cyril and Methodius University in Skopje, Faculty of Medicine Skopje, Institute of Immunobiology and Human Genetics, Skopje, Macedonia, The Former Yugoslav Republic of,2Ss. Cyril and Methodius Un...</td>\n",
       "      <td>2021</td>\n",
       "      <td>NaN</td>\n",
       "      <td>B. Dobrevski: None. A. Petlichkovski: None. M. Kirijas: None.</td>\n",
       "      <td>G. Milanovski: None. T. Arsov: None. T. Brnjarchevska</td>\n",
       "      <td>The broad and variable spectrum of clinical manifestations includesglobal developmental delay, autistic features and neuropsychiatric or behavioral issues, seizures and distinct dysmorphic facial ...</td>\n",
       "      <td></td>\n",
       "      <td>(autistic, features)</td>\n",
       "    </tr>\n",
       "    <tr>\n",
       "      <th>678</th>\n",
       "      <td>D Diagnosis and veri ï¬cation of the autosomal dominant form of Kabuki makeup syndrome in a child with congenital heart disease</td>\n",
       "      <td>P11.066</td>\n",
       "      <td>NaN</td>\n",
       "      <td>Clinical case Iryna Lastivka 1, Vita Antsupova2, Ljudmila Brisevac3, Larysa Sheiko3, Iana Ushko2, Volodymyr Davydiuk4Abstracts from the 54thEuropean Society of Human Genetics (ESHG) Conference 34...</td>\n",
       "      <td>2021</td>\n",
       "      <td>NaN</td>\n",
       "      <td>I. Lastivka: None. V. Antsupova: None. L. Brisevac: None. L.</td>\n",
       "      <td>Sheiko: None. I. Ushko: None. V. Davydiuk: None.</td>\n",
       "      <td>Introduction: Kabuki Makeup Syndrome (KMS) OMIM 147920 is a rare genetic disease characterized by phenotypic traits, mental retardation, and autistic symptoms.</td>\n",
       "      <td></td>\n",
       "      <td>(autistic, symptoms)</td>\n",
       "    </tr>\n",
       "    <tr>\n",
       "      <th>1026</th>\n",
       "      <td>D Mosaicism: challenges for next generation sequen cing analysis Louisa Sanchez 1, Evelyn Douglas1, David Lawrence2, Julien Soubrier1, Song Gao1, Lesley McGregor3, Christopher Barnett3, Karin Kass...</td>\n",
       "      <td>P16.017</td>\n",
       "      <td>NaN</td>\n",
       "      <td>It has been estimated that 0.5 8.3% of apparently de novo pathogenic variants in autosomal dominant disorders are in fact inherited from a parent with low level mosaicism for the variant (variant...</td>\n",
       "      <td>2021</td>\n",
       "      <td>NaN</td>\n",
       "      <td>NaN</td>\n",
       "      <td>NaN</td>\n",
       "      <td>It has also lead to the identi ï¬cation of a heterozygous HECW2 variant in a patient with intellectual disability and severe autistic features.</td>\n",
       "      <td></td>\n",
       "      <td>(autistic, features)</td>\n",
       "    </tr>\n",
       "    <tr>\n",
       "      <th>3</th>\n",
       "      <td>A cross disorder dosage sensitivity map of the human genome Ryan Lewis Collins 1, Joseph T</td>\n",
       "      <td>PL2.3</td>\n",
       "      <td>NaN</td>\n",
       "      <td>Glessner2, Eleonora Porcu3, Lisa Marie Niestroj4, Jacob Ulirsch5, Georgios Kellaris6, Daniel P. Howrigan5, Selin Everett1, Kiana Mohajeri1, Xander Nuttle1, Chelsea Lowther1, Jack Fu1, Philip M. B...</td>\n",
       "      <td>2021</td>\n",
       "      <td>NaN</td>\n",
       "      <td>R.L. Collins: None. J.T. Glessner: None. E. Porcu: None. L.</td>\n",
       "      <td>Niestroj: None. J. Ulirsch: None. G. Kellaris: None. D.P.</td>\n",
       "      <td>These dosage sensitivity scores classi ï¬ed disease genes across molecular mechanisms, prioritized pathogenic de novo rCNVs in children with autism, and revealed features that distinguished haplo...</td>\n",
       "      <td>(children, with, autism)</td>\n",
       "      <td></td>\n",
       "    </tr>\n",
       "    <tr>\n",
       "      <th>91</th>\n",
       "      <td>A combined omic analysis revealed autism linked NLGN3 as a new candidate gene associated to GnRH neuron development and disease Roberto Oleari1, Antonella Lettieri1, Stefano Manzini1, Alyssa J</td>\n",
       "      <td>C05.3</td>\n",
       "      <td>NaN</td>\n",
       "      <td>J. Paganoni1, Paolo Grazioli2, Marco Busnelli1, Helen L. Storr3, Valentina Massa2, Sasha R. Howard4,Anna Cariboni1 1Department of Pharmacological and Biomolecular Sciences, Milan, Italy,2Departme...</td>\n",
       "      <td>2021</td>\n",
       "      <td>NaN</td>\n",
       "      <td>R. Oleari: None. A. Lettieri: None. S. Manzini: None. A.J.J.</td>\n",
       "      <td>Paganoni: None. P. Grazioli: None. M. Busnelli: None. H.L. Storr:</td>\n",
       "      <td>As a proof of principle, we identi ï¬ed a pathogenic variant in the autism linked Neuroligin 3 (NLGN3 ) gene in a patient with severe delayed puberty and autistic traits.</td>\n",
       "      <td></td>\n",
       "      <td>(autistic, traits)</td>\n",
       "    </tr>\n",
       "  </tbody>\n",
       "</table>\n",
       "<p>781 rows × 11 columns</p>\n",
       "</div>"
      ],
      "text/plain": [
       "                                                                                                                                                                                                        Title  \\\n",
       "150                                                                                                                Location of the first predisposing gene locus for Asperger syndrome on chromosome 1q21 22    \n",
       "150                                                                                                                Location of the first predisposing gene locus for Asperger syndrome on chromosome 1q21 22    \n",
       "443                                                                                      Preliminary Findings In The Diagnostic Evaluation Of A Sample Of 103 Individuals With Pervasive DevelopmentDisorders   \n",
       "473                                                                                                Detection of subtelomeric rearrangements by FISH in patients with idiopathic mental retardation or autism.   \n",
       "538                                                             Clinical cytogenetic and molecular analysis of two families with FRAXE mutation  implications for genetic coun selling and prenatal diagnosis   \n",
       "...                                                                                                                                                                                                       ...   \n",
       "672   A Detection of a rare ADNP variant causing Helsmoortel van der Aa syndrome: A Case Report Boban Dobrevski 1, Aleksandar Petlichkovski1, Meri Kirijas1, Gorjan Milanovski1, Todor Arsov1, Teodora Brn...   \n",
       "678                                                                          D Diagnosis and veri ï¬cation of the autosomal dominant form of Kabuki makeup syndrome in a child with congenital heart disease   \n",
       "1026  D Mosaicism: challenges for next generation sequen cing analysis Louisa Sanchez 1, Evelyn Douglas1, David Lawrence2, Julien Soubrier1, Song Gao1, Lesley McGregor3, Christopher Barnett3, Karin Kass...   \n",
       "3                                                                                                                  A cross disorder dosage sensitivity map of the human genome Ryan Lewis Collins 1, Joseph T   \n",
       "91           A combined omic analysis revealed autism linked NLGN3 as a new candidate gene associated to GnRH neuron development and disease Roberto Oleari1, Antonella Lettieri1, Stefano Manzini1, Alyssa J   \n",
       "\n",
       "     Session_Code  \\\n",
       "150         C102.   \n",
       "150         C102.   \n",
       "443        P0341.   \n",
       "473        P0372.   \n",
       "538        P0442.   \n",
       "...           ...   \n",
       "672       P11.059   \n",
       "678       P11.066   \n",
       "1026      P16.017   \n",
       "3           PL2.3   \n",
       "91          C05.3   \n",
       "\n",
       "                                                                                                                                                                                     Authors_and_Affiliations  \\\n",
       "150    E. Jarvela1  T. Ylisaukko oja2  T. Nieminen3  E. Kempas1  M. Auranen1  L. Peltonen1 1National Public Health Institute  Helsinki  Finland  2National Public Health Insitute  Helsinki  Finland  3Uni...   \n",
       "150    E. Jarvela1  T. Ylisaukko oja2  T. Nieminen3  E. Kempas1  M. Auranen1  L. Peltonen1 1National Public Health Institute  Helsinki  Finland  2National Public Health Insitute  Helsinki  Finland  3Uni...   \n",
       "443                                                                                                                                 E. Steiner   M. M. Guerreiro  A. P. Marques de Faria Unicamp  Campinas  B   \n",
       "473                                                                            Ostergaard   J. M. Hahnemann  H. Hjalgrim  K. Nielsen  H. M. Nielsen  K. Brondum NielsenJohn F. Kennedy Institute  Glostrup  D   \n",
       "538    I. Tejada1  P. Botella2  M. A. L pez Ar ztegui3  F. Mozo de Rosales4  M. L pez V alverde4  M. L. Onaindia1  M. Molina1 1Genetic Unit  Basurto Hospital  Bilbao  Spain  2Dept. of Paediatrics  Txago...   \n",
       "...                                                                                                                                                                                                       ...   \n",
       "672                                                                                                                                                                                                       NaN   \n",
       "678                                                                                                                                                                                                       NaN   \n",
       "1026                                                                                                                                                                                                      NaN   \n",
       "3                                                                                                                                                                                                         NaN   \n",
       "91                                                                                                                                                                                                        NaN   \n",
       "\n",
       "                                                                                                                                                                                                         Text  \\\n",
       "150   Asperger syndrome (AS) was first described in 1944 by a Viennese physi cian Hans Asperger who reported a group of boys with autistic psychopa thy  whose clinical features resembled autism with som...   \n",
       "150   Asperger syndrome (AS) was first described in 1944 by a Viennese physi cian Hans Asperger who reported a group of boys with autistic psychopa thy  whose clinical features resembled autism with som...   \n",
       "443   Pervasive development disorders (PDD) are a heterogeneous group ofneurobehavioral disorders of infancy. In order to identify etiologic factors ina sample of individuals with PDD  a total of 103 su...   \n",
       "473   The subtelomeric regions are often involved in chromosomal rearrange 172 Posters: Clinical Genetics and Dysmorphologyments. They are gene rich and therefore rearrangements in these regions are mor...   \n",
       "538   FRAXE full mutations are rare and appear to be associated with mild men tal retardation and with a fragile site in Xq28. This is due to an abnormalexpanded GCC repeat  adjacent to a methylated CpG...   \n",
       "...                                                                                                                                                                                                       ...   \n",
       "672    Cyril and Methodius University in Skopje, Faculty of Medicine Skopje, Institute of Immunobiology and Human Genetics, Skopje, Macedonia, The Former Yugoslav Republic of,2Ss. Cyril and Methodius Un...   \n",
       "678    Clinical case Iryna Lastivka 1, Vita Antsupova2, Ljudmila Brisevac3, Larysa Sheiko3, Iana Ushko2, Volodymyr Davydiuk4Abstracts from the 54thEuropean Society of Human Genetics (ESHG) Conference 34...   \n",
       "1026   It has been estimated that 0.5 8.3% of apparently de novo pathogenic variants in autosomal dominant disorders are in fact inherited from a parent with low level mosaicism for the variant (variant...   \n",
       "3      Glessner2, Eleonora Porcu3, Lisa Marie Niestroj4, Jacob Ulirsch5, Georgios Kellaris6, Daniel P. Howrigan5, Selin Everett1, Kiana Mohajeri1, Xander Nuttle1, Chelsea Lowther1, Jack Fu1, Philip M. B...   \n",
       "91     J. Paganoni1, Paolo Grazioli2, Marco Busnelli1, Helen L. Storr3, Valentina Massa2, Sasha R. Howard4,Anna Cariboni1 1Department of Pharmacological and Biomolecular Sciences, Milan, Italy,2Departme...   \n",
       "\n",
       "      Year                        Email  \\\n",
       "150   2001          irma.jarvela@hus.fi   \n",
       "150   2001          irma.jarvela@hus.fi   \n",
       "443   2001            dgmfcm@unicamp.br   \n",
       "473   2001               els@kennedy.dk   \n",
       "538   2001  itejada@hbas.osakidetza.net   \n",
       "...    ...                          ...   \n",
       "672   2021                          NaN   \n",
       "678   2021                          NaN   \n",
       "1026  2021                          NaN   \n",
       "3     2021                          NaN   \n",
       "91    2021                          NaN   \n",
       "\n",
       "                                                             Author  \\\n",
       "150                                                             NaN   \n",
       "150                                                             NaN   \n",
       "443                                                             NaN   \n",
       "473                                                             NaN   \n",
       "538                                                             NaN   \n",
       "...                                                             ...   \n",
       "672   B. Dobrevski: None. A. Petlichkovski: None. M. Kirijas: None.   \n",
       "678    I. Lastivka: None. V. Antsupova: None. L. Brisevac: None. L.   \n",
       "1026                                                            NaN   \n",
       "3       R.L. Collins: None. J.T. Glessner: None. E. Porcu: None. L.   \n",
       "91     R. Oleari: None. A. Lettieri: None. S. Manzini: None. A.J.J.   \n",
       "\n",
       "                                                           Affiliations  \\\n",
       "150                                                                 NaN   \n",
       "150                                                                 NaN   \n",
       "443                                                                 NaN   \n",
       "473                                                                 NaN   \n",
       "538                                                                 NaN   \n",
       "...                                                                 ...   \n",
       "672               G. Milanovski: None. T. Arsov: None. T. Brnjarchevska   \n",
       "678                    Sheiko: None. I. Ushko: None. V. Davydiuk: None.   \n",
       "1026                                                                NaN   \n",
       "3             Niestroj: None. J. Ulirsch: None. G. Kellaris: None. D.P.   \n",
       "91    Paganoni: None. P. Grazioli: None. M. Busnelli: None. H.L. Storr:   \n",
       "\n",
       "                                                                                                                                                                                                     Sentence  \\\n",
       "150   Asperger syndrome (AS) was first described in 1944 by a Viennese physi cian Hans Asperger who reported a group of boys with autistic psychopa thy  whose clinical features resembled autism with som...   \n",
       "150   Asperger syndrome (AS) was first described in 1944 by a Viennese physi cian Hans Asperger who reported a group of boys with autistic psychopa thy  whose clinical features resembled autism with som...   \n",
       "443   In order to identify etiologic factors ina sample of individuals with PDD  a total of 103 subjects (84 males and 19females) referred for autistic behavior were submitted to a protocol includ ing c...   \n",
       "473         Two groups of patients  all with normal standard chromosome analysis were investigated  One group consisted of 14 patients with autism  andwith at least one other relative affected with autism.   \n",
       "538                                                                                                                 One of them has an autistic disorder with severe MR an a dysmor phic face similar to FXS.   \n",
       "...                                                                                                                                                                                                       ...   \n",
       "672   The broad and variable spectrum of clinical manifestations includesglobal developmental delay, autistic features and neuropsychiatric or behavioral issues, seizures and distinct dysmorphic facial ...   \n",
       "678                                           Introduction: Kabuki Makeup Syndrome (KMS) OMIM 147920 is a rare genetic disease characterized by phenotypic traits, mental retardation, and autistic symptoms.   \n",
       "1026                                                         It has also lead to the identi ï¬cation of a heterozygous HECW2 variant in a patient with intellectual disability and severe autistic features.   \n",
       "3     These dosage sensitivity scores classi ï¬ed disease genes across molecular mechanisms, prioritized pathogenic de novo rCNVs in children with autism, and revealed features that distinguished haplo...   \n",
       "91                                As a proof of principle, we identi ï¬ed a pathogenic variant in the autism linked Neuroligin 3 (NLGN3 ) gene in a patient with severe delayed puberty and autistic traits.   \n",
       "\n",
       "                  Person-first        Identity-first  \n",
       "150                             (Asperger, syndrome)  \n",
       "150                             (autistic, psychopa)  \n",
       "443                             (autistic, behavior)  \n",
       "473   (patients, with, autism)                        \n",
       "538                             (autistic, disorder)  \n",
       "...                        ...                   ...  \n",
       "672                             (autistic, features)  \n",
       "678                             (autistic, symptoms)  \n",
       "1026                            (autistic, features)  \n",
       "3     (children, with, autism)                        \n",
       "91                                (autistic, traits)  \n",
       "\n",
       "[781 rows x 11 columns]"
      ]
     },
     "execution_count": 18,
     "metadata": {},
     "output_type": "execute_result"
    }
   ],
   "source": [
    "final"
   ]
  },
  {
   "cell_type": "code",
   "execution_count": null,
   "id": "20ac2138",
   "metadata": {},
   "outputs": [],
   "source": [
    "final.to_csv('folder/subfolder/out.csv') "
   ]
  },
  {
   "cell_type": "code",
   "execution_count": null,
   "id": "73bc9c96",
   "metadata": {},
   "outputs": [],
   "source": []
  },
  {
   "cell_type": "markdown",
   "id": "a65e03f1",
   "metadata": {},
   "source": [
    "## Word counts by part of speech\n"
   ]
  },
  {
   "cell_type": "code",
   "execution_count": null,
   "id": "b1452278",
   "metadata": {},
   "outputs": [],
   "source": [
    "POS_p_i = []\n",
    "\n",
    "for token in p_i_doc:\n",
    "    this_token = [token.text, token.lemma_, token.pos_, token.tag_]\n",
    "    if any (s in token.text for s in ['autistic', 'Autistic', 'autism', 'Autism', 'ASD', 'asd', 'Asperger', 'asperger']):\n",
    "        POS_p_i.append(this_token)"
   ]
  },
  {
   "cell_type": "code",
   "execution_count": null,
   "id": "175766b4",
   "metadata": {},
   "outputs": [],
   "source": [
    "with open('..\\\\counts\\\\ESHG\\\\POS.csv', \"w\", encoding='utf8') as outfile:\n",
    "        write = csv.writer(outfile)\n",
    "        for item in POS_p_i:\n",
    "            write.writerow([item])"
   ]
  },
  {
   "cell_type": "code",
   "execution_count": null,
   "id": "918896cc",
   "metadata": {},
   "outputs": [],
   "source": []
  },
  {
   "cell_type": "code",
   "execution_count": null,
   "id": "879661b7",
   "metadata": {},
   "outputs": [],
   "source": [
    "p_f_lower = [word.lower() for word in person_first]     # make those tokens lowercase\n",
    "p_f_no_punct = [w.translate(table_punctuation) for w in p_f_lower] # remove the punctuation\n",
    "p_f_no_space = (list(filter(lambda x: x, p_f_no_punct)))           # remove any extra whitespace"
   ]
  },
  {
   "cell_type": "code",
   "execution_count": null,
   "id": "f4b3b45b",
   "metadata": {},
   "outputs": [],
   "source": [
    "#for saving output\n",
    "os.makedirs('folder/subfolder', exist_ok=True)  \n",
    "df.to_csv('folder/subfolder/out.csv') "
   ]
  }
 ],
 "metadata": {
  "kernelspec": {
   "display_name": "Python 3 (ipykernel)",
   "language": "python",
   "name": "python3"
  },
  "language_info": {
   "codemirror_mode": {
    "name": "ipython",
    "version": 3
   },
   "file_extension": ".py",
   "mimetype": "text/x-python",
   "name": "python",
   "nbconvert_exporter": "python",
   "pygments_lexer": "ipython3",
   "version": "3.11.1"
  }
 },
 "nbformat": 4,
 "nbformat_minor": 5
}
